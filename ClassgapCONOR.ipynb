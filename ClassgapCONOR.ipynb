{
  "nbformat": 4,
  "nbformat_minor": 0,
  "metadata": {
    "colab": {
      "provenance": [],
      "collapsed_sections": [
        "RYDnMxCTTBXZ",
        "OCKg2hgpTdu8",
        "uvYhYysF8SZR",
        "s8wmpmOOT6Cm",
        "T7t9W_8xUKrL",
        "-QtWF7yPdO8d",
        "H2T0nmt1dvu_",
        "1V7fIcpBS5Xm"
      ]
    },
    "kernelspec": {
      "name": "python3",
      "display_name": "Python 3"
    },
    "language_info": {
      "name": "python"
    }
  },
  "cells": [
    {
      "cell_type": "markdown",
      "metadata": {
        "id": "RYDnMxCTTBXZ"
      },
      "source": [
        "# lesson 1 (variable types , print)"
      ]
    },
    {
      "cell_type": "code",
      "metadata": {
        "colab": {
          "base_uri": "https://localhost:8080/"
        },
        "id": "qOyzkWpCwC3I",
        "outputId": "5048c9cf-b2bd-4bf6-afb7-5b472f758fe6"
      },
      "source": [
        "print(\"Hello Conor\")"
      ],
      "execution_count": null,
      "outputs": [
        {
          "output_type": "stream",
          "text": [
            "Hello Conor\n"
          ],
          "name": "stdout"
        }
      ]
    },
    {
      "cell_type": "code",
      "metadata": {
        "id": "pRYkftiEqN4X"
      },
      "source": [
        "def CONOR_function(variable):\n",
        "  result=variable+5\n",
        "  print(result)"
      ],
      "execution_count": null,
      "outputs": []
    },
    {
      "cell_type": "code",
      "metadata": {
        "colab": {
          "base_uri": "https://localhost:8080/"
        },
        "id": "Zb-PwDz4qWzR",
        "outputId": "e2bd18c6-b86c-43a1-f7e2-dd8b49e0a783"
      },
      "source": [
        "CONOR_function(5)"
      ],
      "execution_count": null,
      "outputs": [
        {
          "output_type": "stream",
          "text": [
            "10\n"
          ],
          "name": "stdout"
        }
      ]
    },
    {
      "cell_type": "code",
      "metadata": {
        "id": "bb7ouKdYwl_q"
      },
      "source": [
        "#print , if,else ,def\n",
        "x=5 #integer\n",
        "y=3.14 #float\n",
        "z=\"hello\" #string"
      ],
      "execution_count": null,
      "outputs": []
    },
    {
      "cell_type": "code",
      "metadata": {
        "id": "vQYaLd_eyrjS"
      },
      "source": [
        "a,b,c = 2,3,4\n",
        "result=a+b"
      ],
      "execution_count": null,
      "outputs": []
    },
    {
      "cell_type": "code",
      "metadata": {
        "colab": {
          "base_uri": "https://localhost:8080/"
        },
        "id": "OouUqzoawmDz",
        "outputId": "3b839bfe-839f-4ee7-c597-1b377df117ed"
      },
      "source": [
        "print(x)\n",
        "print(y)\n",
        "print(z)"
      ],
      "execution_count": null,
      "outputs": [
        {
          "output_type": "stream",
          "text": [
            "5\n",
            "3.14\n",
            "hello\n"
          ],
          "name": "stdout"
        }
      ]
    },
    {
      "cell_type": "code",
      "metadata": {
        "id": "Ooxae59dwmGb"
      },
      "source": [
        "x,y,z=5,3.14,\"hello\""
      ],
      "execution_count": null,
      "outputs": []
    },
    {
      "cell_type": "code",
      "metadata": {
        "colab": {
          "base_uri": "https://localhost:8080/"
        },
        "id": "lodHmSA-xA0z",
        "outputId": "bbf5354d-9fcb-401e-fc9c-fac714e383e6"
      },
      "source": [
        "print(x)\n",
        "print(y)\n",
        "print(z)"
      ],
      "execution_count": null,
      "outputs": [
        {
          "output_type": "stream",
          "text": [
            "5\n",
            "3.14\n",
            "hello\n"
          ],
          "name": "stdout"
        }
      ]
    },
    {
      "cell_type": "code",
      "metadata": {
        "colab": {
          "base_uri": "https://localhost:8080/",
          "height": 176
        },
        "id": "5tZLvREYxA3D",
        "outputId": "65e0755b-31db-40aa-c44c-0a93825fd387"
      },
      "source": [
        "print(x+z)\n",
        "#Why is this wrong?"
      ],
      "execution_count": null,
      "outputs": [
        {
          "output_type": "error",
          "ename": "TypeError",
          "evalue": "ignored",
          "traceback": [
            "\u001b[0;31m---------------------------------------------------------------------------\u001b[0m",
            "\u001b[0;31mTypeError\u001b[0m                                 Traceback (most recent call last)",
            "\u001b[0;32m<ipython-input-59-a0822dd0e3b7>\u001b[0m in \u001b[0;36m<module>\u001b[0;34m()\u001b[0m\n\u001b[0;32m----> 1\u001b[0;31m \u001b[0mprint\u001b[0m\u001b[0;34m(\u001b[0m\u001b[0mx\u001b[0m\u001b[0;34m+\u001b[0m\u001b[0mz\u001b[0m\u001b[0;34m)\u001b[0m\u001b[0;34m\u001b[0m\u001b[0;34m\u001b[0m\u001b[0m\n\u001b[0m\u001b[1;32m      2\u001b[0m \u001b[0;31m#Why is this wrong?\u001b[0m\u001b[0;34m\u001b[0m\u001b[0;34m\u001b[0m\u001b[0;34m\u001b[0m\u001b[0m\n",
            "\u001b[0;31mTypeError\u001b[0m: unsupported operand type(s) for +: 'int' and 'str'"
          ]
        }
      ]
    },
    {
      "cell_type": "code",
      "metadata": {
        "colab": {
          "base_uri": "https://localhost:8080/"
        },
        "id": "ZYLFCHr1xNOU",
        "outputId": "ebbce7b0-db38-4780-cf79-1c90b2fec67c"
      },
      "source": [
        "print(x+y)"
      ],
      "execution_count": null,
      "outputs": [
        {
          "output_type": "stream",
          "text": [
            "8.14\n"
          ],
          "name": "stdout"
        }
      ]
    },
    {
      "cell_type": "code",
      "metadata": {
        "colab": {
          "base_uri": "https://localhost:8080/"
        },
        "id": "H0fuaR2vwzKL",
        "outputId": "fa1e2c6e-8a37-473a-87bc-2afbf22b4eaf"
      },
      "source": [
        "x1=\"Conor\"\n",
        "x2=23\n",
        "print(\"My name is \",x1)\n",
        "print(\"My age is \",x2)"
      ],
      "execution_count": null,
      "outputs": [
        {
          "output_type": "stream",
          "text": [
            "My name is  Conor\n",
            "My age is  23\n"
          ],
          "name": "stdout"
        }
      ]
    },
    {
      "cell_type": "code",
      "metadata": {
        "colab": {
          "base_uri": "https://localhost:8080/"
        },
        "id": "pPt-yZyVyCAp",
        "outputId": "a9a8dd55-c6d2-48d1-f137-5ce0bb96abf9"
      },
      "source": [
        "x1=\"Conor\"\n",
        "x2=\"Giorgos\"\n",
        "x3=5\n",
        "x4=7\n",
        "print(x4 + x3)"
      ],
      "execution_count": null,
      "outputs": [
        {
          "output_type": "stream",
          "text": [
            "12\n"
          ],
          "name": "stdout"
        }
      ]
    },
    {
      "cell_type": "code",
      "metadata": {
        "id": "k9AIUbI_xQIX",
        "colab": {
          "base_uri": "https://localhost:8080/"
        },
        "outputId": "51fe8ab6-bdbe-4814-8a31-0d4029ede549"
      },
      "source": [
        "word1=\"My name is\"\n",
        "word2=\"Giorgos\"\n",
        "number1=12\n",
        "number2=13\n",
        "print(number1+number2)\n",
        "print(number1,number2)\n"
      ],
      "execution_count": null,
      "outputs": [
        {
          "output_type": "stream",
          "text": [
            "25\n",
            "12 13\n"
          ],
          "name": "stdout"
        }
      ]
    },
    {
      "cell_type": "code",
      "metadata": {
        "id": "gBa9I79QxVBS",
        "colab": {
          "base_uri": "https://localhost:8080/"
        },
        "outputId": "d1c3d0e5-f6ce-4c5a-fd01-d53069ff948c"
      },
      "source": [
        "x=\"Hello\"\n",
        "y=\"There\"\n",
        "print(x+\" \"+y)\n",
        "print(x+\"\\t\"+y)\n",
        "print(x+\"/t\"+y)#!"
      ],
      "execution_count": null,
      "outputs": [
        {
          "output_type": "stream",
          "text": [
            "Hello There\n",
            "Hello\tThere\n",
            "Hello/tThere\n"
          ],
          "name": "stdout"
        }
      ]
    },
    {
      "cell_type": "code",
      "metadata": {
        "colab": {
          "base_uri": "https://localhost:8080/"
        },
        "id": "q0NxVkVExrz4",
        "outputId": "882fe095-4035-4797-e83e-ac9a77f87570"
      },
      "source": [
        "x=\"Variable Value = \"\n",
        "y=5\n",
        "print(x,y)"
      ],
      "execution_count": null,
      "outputs": [
        {
          "output_type": "stream",
          "text": [
            "Variable Value =  5\n"
          ],
          "name": "stdout"
        }
      ]
    },
    {
      "cell_type": "code",
      "source": [],
      "metadata": {
        "id": "zwiiipgDb0vL"
      },
      "execution_count": null,
      "outputs": []
    },
    {
      "cell_type": "code",
      "source": [],
      "metadata": {
        "id": "K76pMB6Ab0zA"
      },
      "execution_count": null,
      "outputs": []
    },
    {
      "cell_type": "markdown",
      "metadata": {
        "id": "OCKg2hgpTdu8"
      },
      "source": [
        "# lesson 2 (operations with numbers and strings , intro to lists)"
      ]
    },
    {
      "cell_type": "code",
      "metadata": {
        "id": "S7Oyo-fByPwm",
        "colab": {
          "base_uri": "https://localhost:8080/"
        },
        "outputId": "72113c77-4bc5-4a5e-9b7b-387e719c3353"
      },
      "source": [
        "a,b=5,3.14\n",
        "result= a+b\n",
        "print(type(result))\n",
        "\n",
        "print('a + b =', a + b)\n",
        "print('a - b =', a - b)\n",
        "print('a / b =', a / b)\n",
        "print('a * b =', a * b)\n",
        "print('a ** b =', a ** b) #power"
      ],
      "execution_count": null,
      "outputs": [
        {
          "output_type": "stream",
          "text": [
            "<class 'float'>\n",
            "a + b = 8.14\n",
            "a - b = 1.8599999999999999\n",
            "a / b = 1.592356687898089\n",
            "a * b = 15.700000000000001\n",
            "a ** b = 156.59064522818883\n"
          ],
          "name": "stdout"
        }
      ]
    },
    {
      "cell_type": "code",
      "metadata": {
        "id": "gUColOjRyPzD",
        "colab": {
          "base_uri": "https://localhost:8080/"
        },
        "outputId": "ba32af03-9047-4345-9561-513f00348652"
      },
      "source": [
        "import math\n",
        "a=3.1487\n",
        "print(math.cos(a))"
      ],
      "execution_count": null,
      "outputs": [
        {
          "output_type": "stream",
          "text": [
            "-0.9999747429198234\n"
          ],
          "name": "stdout"
        }
      ]
    },
    {
      "cell_type": "code",
      "metadata": {
        "id": "I3Hdo1jvyP1X",
        "colab": {
          "base_uri": "https://localhost:8080/"
        },
        "outputId": "b8579f2e-0270-40fc-d979-e371600675f7"
      },
      "source": [
        "print(math.cos(3.14))#we can do it inside print"
      ],
      "execution_count": null,
      "outputs": [
        {
          "output_type": "stream",
          "text": [
            "-0.9999987317275395\n"
          ],
          "name": "stdout"
        }
      ]
    },
    {
      "cell_type": "code",
      "metadata": {
        "id": "bfyJVElhyP3w",
        "colab": {
          "base_uri": "https://localhost:8080/"
        },
        "outputId": "afaadc0c-b83f-450f-870e-85bf6efe823e"
      },
      "source": [
        "s = 'SoMe WoRdS'\n",
        "sen = \" This Is my WORDS\"\n",
        "print(\"lowercase: \", s.lower())\n",
        "print('uppercase: ', s.upper())\n",
        "print('replace S-->$:', s.replace('S', ' '))\n",
        "print('replace S-->$:', s.replace('s', '$'))#!!"
      ],
      "execution_count": null,
      "outputs": [
        {
          "output_type": "stream",
          "text": [
            "lowercase:  some words\n",
            "uppercase:  SOME WORDS\n",
            "replace S-->$:  oMe WoRd \n",
            "replace S-->$: SoMe WoRdS\n"
          ],
          "name": "stdout"
        }
      ]
    },
    {
      "cell_type": "code",
      "metadata": {
        "colab": {
          "base_uri": "https://localhost:8080/"
        },
        "id": "hiIt6Plv3TeH",
        "outputId": "bd290aea-57c2-49ab-8e17-192da6dd1e83"
      },
      "source": [
        "print(s.lower())\n"
      ],
      "execution_count": null,
      "outputs": [
        {
          "output_type": "stream",
          "text": [
            "some words\n"
          ],
          "name": "stdout"
        }
      ]
    },
    {
      "cell_type": "code",
      "metadata": {
        "colab": {
          "base_uri": "https://localhost:8080/"
        },
        "id": "fMKSOEhbz8pt",
        "outputId": "72e35b6e-5ed6-4b09-db09-72c082f7d513"
      },
      "source": [
        "#lists\n",
        "x=[1,2,3,4]\n",
        "x.append(5)\n",
        "print(x)\n",
        "print(len(x))"
      ],
      "execution_count": null,
      "outputs": [
        {
          "output_type": "stream",
          "text": [
            "[1, 2, 3, 4, 5]\n",
            "5\n"
          ],
          "name": "stdout"
        }
      ]
    },
    {
      "cell_type": "code",
      "metadata": {
        "colab": {
          "base_uri": "https://localhost:8080/"
        },
        "id": "7v29RzMK0u4j",
        "outputId": "ae22dfc1-d595-44b4-bdce-d01262ff02a9"
      },
      "source": [
        "z=[1,2,\"mango\",3]\n",
        "print(z)\n",
        "#works but avoid it !"
      ],
      "execution_count": null,
      "outputs": [
        {
          "output_type": "stream",
          "text": [
            "[1, 2, 'mango', 3]\n"
          ],
          "name": "stdout"
        }
      ]
    },
    {
      "cell_type": "code",
      "metadata": {
        "colab": {
          "base_uri": "https://localhost:8080/"
        },
        "id": "q8gbML6g0u7F",
        "outputId": "95058647-44c8-4384-8d94-290956056ebb"
      },
      "source": [
        "x=[0,1,2,3,4,5,6,7,8,9]\n",
        "print(x[0])\n",
        "#starts from zero , very important"
      ],
      "execution_count": null,
      "outputs": [
        {
          "output_type": "stream",
          "text": [
            "0\n"
          ],
          "name": "stdout"
        }
      ]
    },
    {
      "cell_type": "code",
      "metadata": {
        "colab": {
          "base_uri": "https://localhost:8080/"
        },
        "id": "ZLq_Xd_j1VOy",
        "outputId": "2b82d891-cd4e-43f5-c314-886fb9e059d6"
      },
      "source": [
        "print(x[5])\n",
        "print(x[5:])#last 5 -> 6th to 10th\n",
        "print(x[:5])#first 5 ->0 to 5th\n",
        "print(x[2:7])#3th to 7th\n",
        "print(x[-5])\n",
        "print(x[:-2])"
      ],
      "execution_count": null,
      "outputs": [
        {
          "output_type": "stream",
          "text": [
            "5\n",
            "[5, 6, 7, 8, 9]\n",
            "[0, 1, 2, 3, 4]\n",
            "[2, 3, 4, 5, 6]\n",
            "5\n",
            "[0, 1, 2, 3, 4, 5, 6, 7]\n"
          ],
          "name": "stdout"
        }
      ]
    },
    {
      "cell_type": "code",
      "metadata": {
        "colab": {
          "base_uri": "https://localhost:8080/"
        },
        "id": "OXXjI5qU1VRO",
        "outputId": "afdbd332-2bb2-4e48-83d1-c65aca823f1d"
      },
      "source": [
        "#step\n",
        "print(x[::1])\n",
        "print(x[::2])\n",
        "print(x[::3])\n"
      ],
      "execution_count": null,
      "outputs": [
        {
          "output_type": "stream",
          "text": [
            "[0, 1, 2, 3, 4, 5, 6, 7, 8, 9]\n",
            "[0, 2, 4, 6, 8]\n",
            "[0, 3, 6, 9]\n"
          ],
          "name": "stdout"
        }
      ]
    },
    {
      "cell_type": "code",
      "metadata": {
        "colab": {
          "base_uri": "https://localhost:8080/"
        },
        "id": "oQU5vzgk0ev_",
        "outputId": "c4c2362a-0aea-47e5-b2e7-757af9feef11"
      },
      "source": [
        "y=[\"apple\",\"orange\",\"mango\"]\n",
        "print(y)"
      ],
      "execution_count": null,
      "outputs": [
        {
          "output_type": "stream",
          "text": [
            "[2, 'orange', 'mango']\n"
          ],
          "name": "stdout"
        }
      ]
    },
    {
      "cell_type": "markdown",
      "metadata": {
        "id": "uvYhYysF8SZR"
      },
      "source": [
        "# lesson 3 (input, casting, value assignments)"
      ]
    },
    {
      "cell_type": "code",
      "metadata": {
        "id": "VRDKlvN2T_5h"
      },
      "source": [
        "#revision\n",
        "#print one variable of each type we learned so far\n",
        "#find cosine of 2 numbers and divide the sum by a third number\n",
        "#write a few words and make them Uppercase letters hint:upper()\n",
        "#l = [0,1,2,3,4,5] print 3-5 elements of the list with step 1 and 2\n",
        "#replace the  second element with another value\n",
        "#append the list by one element\n",
        "#print the length of the list"
      ],
      "execution_count": null,
      "outputs": []
    },
    {
      "cell_type": "code",
      "metadata": {
        "colab": {
          "base_uri": "https://localhost:8080/"
        },
        "id": "6JZOZBYY0hGL",
        "outputId": "fa43bdb5-b21f-43e3-a5e4-237592111c10"
      },
      "source": [
        "import math\n",
        "print(math.cos(5))\n",
        "x=math.cos(5)+math.cos(10)\n",
        "print(x)"
      ],
      "execution_count": null,
      "outputs": [
        {
          "output_type": "stream",
          "text": [
            "0.28366218546322625\n",
            "-0.5554093436132261\n"
          ],
          "name": "stdout"
        }
      ]
    },
    {
      "cell_type": "code",
      "metadata": {
        "colab": {
          "base_uri": "https://localhost:8080/"
        },
        "id": "751JmiZc1mu_",
        "outputId": "d9fa5fde-3c3b-496c-9933-aa4a0b0fa1ed"
      },
      "source": [
        "string = \"float\"\n",
        "print(string.upper())"
      ],
      "execution_count": null,
      "outputs": [
        {
          "output_type": "stream",
          "text": [
            "FLOAT\n"
          ],
          "name": "stdout"
        }
      ]
    },
    {
      "cell_type": "code",
      "metadata": {
        "colab": {
          "base_uri": "https://localhost:8080/"
        },
        "id": "fgEl-hhp1-Ak",
        "outputId": "0b5ae02c-a43e-4a4b-d4a5-7e2b6c424211"
      },
      "source": [
        "x=[0,1,2,3,4,5,6,7,8,9,10]\n",
        "x[6]=100\n",
        "print(x)"
      ],
      "execution_count": null,
      "outputs": [
        {
          "output_type": "stream",
          "text": [
            "[0, 1, 2, 3, 4, 5, 100, 7, 8, 9, 10]\n"
          ],
          "name": "stdout"
        }
      ]
    },
    {
      "cell_type": "code",
      "metadata": {
        "id": "-k4mxSon96X6",
        "colab": {
          "base_uri": "https://localhost:8080/"
        },
        "outputId": "2b117b93-c53b-4648-a81b-4da4f4bf5a82"
      },
      "source": [
        "x=5\n",
        "y=x\n",
        "print(y)"
      ],
      "execution_count": null,
      "outputs": [
        {
          "output_type": "stream",
          "text": [
            "5\n"
          ],
          "name": "stdout"
        }
      ]
    },
    {
      "cell_type": "code",
      "metadata": {
        "id": "S3itiWSK99DL",
        "colab": {
          "base_uri": "https://localhost:8080/"
        },
        "outputId": "631f6eea-c4a0-49ac-c93b-50c2e6cd9ee9"
      },
      "source": [
        "x=   5\n",
        "x=x+1\n",
        "print(x)"
      ],
      "execution_count": null,
      "outputs": [
        {
          "output_type": "stream",
          "text": [
            "6\n"
          ],
          "name": "stdout"
        }
      ]
    },
    {
      "cell_type": "code",
      "metadata": {
        "id": "eP3hLAa--Dp8",
        "colab": {
          "base_uri": "https://localhost:8080/"
        },
        "outputId": "2614da13-4590-4c46-db68-ab362850324c"
      },
      "source": [
        "x=5\n",
        "x+=1\n",
        "print(x)"
      ],
      "execution_count": null,
      "outputs": [
        {
          "output_type": "stream",
          "text": [
            "6\n"
          ],
          "name": "stdout"
        }
      ]
    },
    {
      "cell_type": "code",
      "metadata": {
        "id": "iBGZZHdX-JhB",
        "colab": {
          "base_uri": "https://localhost:8080/"
        },
        "outputId": "f3162cd8-7f59-4dbd-ada2-572eabc017c2"
      },
      "source": [
        "x=5\n",
        "x-=1\n",
        "print(x)"
      ],
      "execution_count": null,
      "outputs": [
        {
          "output_type": "stream",
          "text": [
            "4\n"
          ],
          "name": "stdout"
        }
      ]
    },
    {
      "cell_type": "code",
      "metadata": {
        "id": "8ciezayR6jUx"
      },
      "source": [
        "x=5\n",
        "y=10"
      ],
      "execution_count": null,
      "outputs": []
    },
    {
      "cell_type": "code",
      "metadata": {
        "id": "tS2HrL16-OQH",
        "colab": {
          "base_uri": "https://localhost:8080/"
        },
        "outputId": "c580d823-fd0e-43bb-8981-72f95023da8f"
      },
      "source": [
        "y=y-x\n",
        "#y is changed !\n",
        "print(\"Y = \",y)\n",
        "print(\"X = \",x)"
      ],
      "execution_count": null,
      "outputs": [
        {
          "output_type": "stream",
          "text": [
            "Y =  5\n",
            "X =  5\n"
          ],
          "name": "stdout"
        }
      ]
    },
    {
      "cell_type": "code",
      "metadata": {
        "id": "oxG0yzYN6S3n"
      },
      "source": [
        "y=y+52"
      ],
      "execution_count": null,
      "outputs": []
    },
    {
      "cell_type": "code",
      "metadata": {
        "colab": {
          "base_uri": "https://localhost:8080/"
        },
        "id": "DioaHGb89lw-",
        "outputId": "4788f3e1-b732-43c8-927e-c1d0541e2710"
      },
      "source": [
        "x=5\n",
        "y=6.7\n",
        "z=\"giorgos\"\n",
        "print(type(x),type(y),type(z))"
      ],
      "execution_count": null,
      "outputs": [
        {
          "output_type": "stream",
          "text": [
            "<class 'int'> <class 'float'> <class 'str'>\n"
          ],
          "name": "stdout"
        }
      ]
    },
    {
      "cell_type": "code",
      "metadata": {
        "colab": {
          "base_uri": "https://localhost:8080/",
          "height": 201
        },
        "id": "vXKFdaJi7NUp",
        "outputId": "4721c767-cb5e-4fc7-fb14-4e428bd4f904"
      },
      "source": [
        "y=5.6\n",
        "x= int(y)\n",
        "print(\"hello the number is \" + x)\n"
      ],
      "execution_count": null,
      "outputs": [
        {
          "output_type": "error",
          "ename": "TypeError",
          "evalue": "ignored",
          "traceback": [
            "\u001b[0;31m---------------------------------------------------------------------------\u001b[0m",
            "\u001b[0;31mTypeError\u001b[0m                                 Traceback (most recent call last)",
            "\u001b[0;32m<ipython-input-75-9cdd95b63210>\u001b[0m in \u001b[0;36m<module>\u001b[0;34m()\u001b[0m\n\u001b[1;32m      1\u001b[0m \u001b[0my\u001b[0m\u001b[0;34m=\u001b[0m\u001b[0;36m5.6\u001b[0m\u001b[0;34m\u001b[0m\u001b[0;34m\u001b[0m\u001b[0m\n\u001b[1;32m      2\u001b[0m \u001b[0mx\u001b[0m\u001b[0;34m=\u001b[0m \u001b[0mint\u001b[0m\u001b[0;34m(\u001b[0m\u001b[0my\u001b[0m\u001b[0;34m)\u001b[0m\u001b[0;34m\u001b[0m\u001b[0;34m\u001b[0m\u001b[0m\n\u001b[0;32m----> 3\u001b[0;31m \u001b[0mprint\u001b[0m\u001b[0;34m(\u001b[0m\u001b[0;34m\"hello the number is \"\u001b[0m \u001b[0;34m+\u001b[0m \u001b[0mx\u001b[0m\u001b[0;34m)\u001b[0m\u001b[0;34m\u001b[0m\u001b[0;34m\u001b[0m\u001b[0m\n\u001b[0m",
            "\u001b[0;31mTypeError\u001b[0m: can only concatenate str (not \"int\") to str"
          ]
        }
      ]
    },
    {
      "cell_type": "code",
      "metadata": {
        "id": "xRINtuHJ91L9"
      },
      "source": [
        "y=5.6\n",
        "x=int(y)\n",
        "print(x,type(x))\n",
        "z=str(y)\n",
        "print(y,type(z))\n",
        "k=float(y)\n",
        "print(y,type(k))"
      ],
      "execution_count": null,
      "outputs": []
    },
    {
      "cell_type": "code",
      "metadata": {
        "colab": {
          "base_uri": "https://localhost:8080/"
        },
        "id": "MAJ7vl6O8UWT",
        "outputId": "8a95fcfb-9598-4e46-92d0-9f34bbc18ea2"
      },
      "source": [
        "x = input()\n",
        "print(\"your name is \" + x)\n",
        "print(type(x))"
      ],
      "execution_count": null,
      "outputs": [
        {
          "output_type": "stream",
          "text": [
            "giorgos\n",
            "your name is giorgos\n",
            "<class 'str'>\n"
          ],
          "name": "stdout"
        }
      ]
    },
    {
      "cell_type": "code",
      "metadata": {
        "id": "iBDd_zUp83Id",
        "colab": {
          "base_uri": "https://localhost:8080/"
        },
        "outputId": "75c49e9f-1e41-49ce-c3cb-1e161bd293c1"
      },
      "source": [
        "x = int(input())\n",
        "print(type(x))\n",
        "print(x+5)"
      ],
      "execution_count": null,
      "outputs": [
        {
          "output_type": "stream",
          "text": [
            "5\n",
            "<class 'int'>\n",
            "10\n"
          ],
          "name": "stdout"
        }
      ]
    },
    {
      "cell_type": "code",
      "metadata": {
        "id": "W4V_M9sG0N1j"
      },
      "source": [
        "#revision\n",
        "#add 2 numbers given by the user"
      ],
      "execution_count": null,
      "outputs": []
    },
    {
      "cell_type": "code",
      "metadata": {
        "colab": {
          "base_uri": "https://localhost:8080/"
        },
        "id": "Av4d-Dsp3kC0",
        "outputId": "b00f7045-7ab5-434b-abb1-fdb844dacbef"
      },
      "source": [
        "x = input(\"input smthing here : \")"
      ],
      "execution_count": null,
      "outputs": [
        {
          "output_type": "stream",
          "text": [
            "input smthing here : 54\n"
          ],
          "name": "stdout"
        }
      ]
    },
    {
      "cell_type": "code",
      "metadata": {
        "colab": {
          "base_uri": "https://localhost:8080/"
        },
        "id": "7jG5fDRx3lKo",
        "outputId": "2037c340-640a-435e-8912-4095e1160e3d"
      },
      "source": [
        "x = int(x)\n",
        "print(type(x))\n",
        "print(x+10)"
      ],
      "execution_count": null,
      "outputs": [
        {
          "output_type": "stream",
          "text": [
            "<class 'int'>\n",
            "55\n"
          ],
          "name": "stdout"
        }
      ]
    },
    {
      "cell_type": "code",
      "metadata": {
        "colab": {
          "base_uri": "https://localhost:8080/"
        },
        "id": "aIg4Bkz43lND",
        "outputId": "0b7a562b-f3fe-4876-d8d8-535c8b0beb7b"
      },
      "source": [
        "#x = int(input())\n",
        "x = input()\n",
        "x = int(x)\n",
        "y = input()\n",
        "y = int(y)\n",
        "#y = int(input())"
      ],
      "execution_count": null,
      "outputs": [
        {
          "output_type": "stream",
          "text": [
            "65\n",
            "12\n"
          ],
          "name": "stdout"
        }
      ]
    },
    {
      "cell_type": "code",
      "metadata": {
        "colab": {
          "base_uri": "https://localhost:8080/"
        },
        "id": "1LEhM6Yx3lT2",
        "outputId": "4903ad54-7a32-4b10-9838-c5d95129511d"
      },
      "source": [
        "x = input()\n",
        "x=int(x)\n",
        "y = input()\n",
        "y=int(y)\n",
        "z = x + y\n",
        "print(z)"
      ],
      "execution_count": null,
      "outputs": [
        {
          "output_type": "stream",
          "text": [
            "10\n",
            "11\n",
            "21\n"
          ],
          "name": "stdout"
        }
      ]
    },
    {
      "cell_type": "code",
      "metadata": {
        "colab": {
          "base_uri": "https://localhost:8080/"
        },
        "id": "avRRJaYp0jxN",
        "outputId": "cd441a20-4243-4c35-fc9f-b218c6a09f1b"
      },
      "source": [
        "x = int(input())\n",
        "y = int(input())\n",
        "z = x + y\n",
        "print(z)"
      ],
      "execution_count": null,
      "outputs": [
        {
          "output_type": "stream",
          "text": [
            "32\n",
            "23\n",
            "55\n"
          ],
          "name": "stdout"
        }
      ]
    },
    {
      "cell_type": "markdown",
      "metadata": {
        "id": "s8wmpmOOT6Cm"
      },
      "source": [
        "#  (for loop)"
      ]
    },
    {
      "cell_type": "code",
      "source": [
        "count=0\n",
        "for a in range(0,50000,1):\n",
        "  for b in range(0,50000,1):\n",
        "    #print(a,b)\n",
        "    count +=1\n",
        "\n",
        "\n",
        "print(count)\n",
        "\n",
        "#print(\"Ι counted \",count,\"numbers\")"
      ],
      "metadata": {
        "id": "tIyNfY06WevG"
      },
      "execution_count": null,
      "outputs": []
    },
    {
      "cell_type": "code",
      "metadata": {
        "id": "hHZFjexwmycV",
        "colab": {
          "base_uri": "https://localhost:8080/"
        },
        "outputId": "a2dfef76-7a97-43e6-975d-bc339f87ca13"
      },
      "source": [
        "for i in range(0,3):\n",
        "  print(\"Hello\")\n",
        "\n"
      ],
      "execution_count": null,
      "outputs": [
        {
          "output_type": "stream",
          "text": [
            "Hello\n",
            "loop ended\n",
            "Hello\n",
            "loop ended\n",
            "Hello\n",
            "loop ended\n"
          ],
          "name": "stdout"
        }
      ]
    },
    {
      "cell_type": "code",
      "metadata": {
        "id": "ctENwqb5nLqx",
        "colab": {
          "base_uri": "https://localhost:8080/"
        },
        "outputId": "7ad22913-2888-4469-8658-79e40f552e90"
      },
      "source": [
        "for x in range(10,20):\n",
        "  print(\"The number is \",x)\n"
      ],
      "execution_count": null,
      "outputs": [
        {
          "output_type": "stream",
          "text": [
            "The number is  10\n",
            "The number is  11\n",
            "The number is  12\n",
            "The number is  13\n",
            "The number is  14\n",
            "The number is  15\n",
            "The number is  16\n",
            "The number is  17\n",
            "The number is  18\n",
            "The number is  19\n"
          ],
          "name": "stdout"
        }
      ]
    },
    {
      "cell_type": "code",
      "metadata": {
        "id": "a5hlQoYunLtP",
        "colab": {
          "base_uri": "https://localhost:8080/"
        },
        "outputId": "f132b3b0-bb09-412d-ae62-f91a74885e7d"
      },
      "source": [
        "for x in range(0,3):\n",
        "  print(\"The number is\",x)\n",
        "  print(\"The number plus 100 is\",x+100)\n",
        "  print(\"The number minus 100 is\",x-100,\"\\n\")\n"
      ],
      "execution_count": null,
      "outputs": [
        {
          "output_type": "stream",
          "text": [
            "The number is 0\n",
            "The number plus 100 is 100\n",
            "The number minus 100 is -100 \n",
            "\n",
            "The number is 1\n",
            "The number plus 100 is 101\n",
            "The number minus 100 is -99 \n",
            "\n",
            "The number is 2\n",
            "The number plus 100 is 102\n",
            "The number minus 100 is -98 \n",
            "\n"
          ],
          "name": "stdout"
        }
      ]
    },
    {
      "cell_type": "code",
      "metadata": {
        "colab": {
          "base_uri": "https://localhost:8080/"
        },
        "id": "1R41Ds8Xrwcy",
        "outputId": "af548aa0-4cad-4a47-9cbc-635658029c64"
      },
      "source": [
        "print(\"hello how \\tare you\")\n",
        "print(\"hello how are you\\n\")\n",
        "print(\"helloeeee\")"
      ],
      "execution_count": null,
      "outputs": [
        {
          "output_type": "stream",
          "text": [
            "hello how \tare you\n",
            "hello how are you\n",
            "\n",
            "helloeeee\n"
          ],
          "name": "stdout"
        }
      ]
    },
    {
      "cell_type": "code",
      "metadata": {
        "id": "CPEmgw1cvUVn",
        "colab": {
          "base_uri": "https://localhost:8080/"
        },
        "outputId": "ebddb142-447a-43ea-cd13-1f08d4879c73"
      },
      "source": [
        "count1   =  0\n",
        "for i in range(0,10):\n",
        "  count1=count1+15\n",
        "  print(count1)\n",
        "#print(\"\\n\")\n",
        "#print(count)"
      ],
      "execution_count": null,
      "outputs": [
        {
          "output_type": "stream",
          "text": [
            "15\n",
            "30\n",
            "45\n",
            "60\n",
            "75\n",
            "90\n",
            "105\n",
            "120\n",
            "135\n",
            "150\n"
          ],
          "name": "stdout"
        }
      ]
    },
    {
      "cell_type": "code",
      "metadata": {
        "id": "mduGg0zvucr4"
      },
      "source": [
        "x=input()\n",
        "print(\"your name is = \",x)\n",
        "x=input()\n",
        "print(\"your name is = \",x)\n",
        "x=input()\n",
        "print(\"your name is = \",x)\n",
        "x=input()\n",
        "print(\"your name is = \",x)"
      ],
      "execution_count": null,
      "outputs": []
    },
    {
      "cell_type": "code",
      "metadata": {
        "id": "u0DtnYoF5OYu"
      },
      "source": [
        "#revision from here"
      ],
      "execution_count": null,
      "outputs": []
    },
    {
      "cell_type": "code",
      "metadata": {
        "colab": {
          "base_uri": "https://localhost:8080/"
        },
        "id": "ve4lKzHbEAV5",
        "outputId": "a37b4462-6aa2-4a63-89ce-d2f159f081c9"
      },
      "source": [
        "for i in range(0,2):\n",
        "  x=int(input())\n",
        "  print(5 + x)"
      ],
      "execution_count": null,
      "outputs": [
        {
          "output_type": "stream",
          "text": [
            "345\n",
            "350\n",
            "100\n",
            "105\n"
          ],
          "name": "stdout"
        }
      ]
    },
    {
      "cell_type": "code",
      "metadata": {
        "colab": {
          "base_uri": "https://localhost:8080/"
        },
        "id": "3snrb8yU794H",
        "outputId": "1f319cfb-9b11-43ef-e573-e6a22fe5920b"
      },
      "source": [
        "print(\"Conor\\t\\tIreland\")\n",
        "print(\"Giorgos\\t\\tGreece\")\n"
      ],
      "execution_count": null,
      "outputs": [
        {
          "output_type": "stream",
          "text": [
            "Conor\t\tIreland\n",
            "Giorgos\t\tGreece\n"
          ],
          "name": "stdout"
        }
      ]
    },
    {
      "cell_type": "code",
      "metadata": {
        "id": "sUpAgCdJEOLM",
        "colab": {
          "base_uri": "https://localhost:8080/"
        },
        "outputId": "253d9f56-f235-4954-d143-1d53f0e378a9"
      },
      "source": [
        "list1=[10,11,12,13,14,15,16]\n",
        "list1.append(123456)\n",
        "print(list1)"
      ],
      "execution_count": null,
      "outputs": [
        {
          "output_type": "stream",
          "text": [
            "[10, 11, 12, 13, 14, 15, 16, 123456]\n"
          ],
          "name": "stdout"
        }
      ]
    },
    {
      "cell_type": "code",
      "metadata": {
        "id": "SerW4wHP3XJa",
        "colab": {
          "base_uri": "https://localhost:8080/"
        },
        "outputId": "8287e812-e912-4125-9681-b4b3051b5f25"
      },
      "source": [
        "l=[10,11,12,137,14,15,162,17]\n",
        "print(l[0:5:3])"
      ],
      "execution_count": null,
      "outputs": [
        {
          "output_type": "stream",
          "text": [
            "[10, 137]\n"
          ],
          "name": "stdout"
        }
      ]
    },
    {
      "cell_type": "code",
      "metadata": {
        "id": "72v_ZOeu3kKM",
        "colab": {
          "base_uri": "https://localhost:8080/"
        },
        "outputId": "817cfead-a9bd-4283-cd48-e6bf9c7a7f18"
      },
      "source": [
        "mylist=[10,11,12,137,14,15,162,17]\n",
        "for i in range(0,len(mylist)):\n",
        "  print(i,mylist[i])"
      ],
      "execution_count": null,
      "outputs": [
        {
          "output_type": "stream",
          "text": [
            "0 10\n",
            "1 11\n",
            "2 12\n",
            "3 137\n",
            "4 14\n",
            "5 15\n",
            "6 162\n",
            "7 17\n"
          ],
          "name": "stdout"
        }
      ]
    },
    {
      "cell_type": "code",
      "metadata": {
        "colab": {
          "base_uri": "https://localhost:8080/"
        },
        "id": "1Lcb_kTZ_qWk",
        "outputId": "02b4b593-074d-4bf8-8ac5-452410b71785"
      },
      "source": [
        "x=len(mylist)\n",
        "print(x)"
      ],
      "execution_count": null,
      "outputs": [
        {
          "output_type": "stream",
          "text": [
            "8\n"
          ],
          "name": "stdout"
        }
      ]
    },
    {
      "cell_type": "code",
      "metadata": {
        "id": "85hCNGgB3r2_",
        "colab": {
          "base_uri": "https://localhost:8080/"
        },
        "outputId": "fddefb85-3af0-4ea0-a469-04ef8cadcbfb"
      },
      "source": [
        "mylist=[10,11,12,137,14,15,162,17]\n",
        "x=len(mylist)\n",
        "for i in range(0,x):\n",
        "  print(mylist[i])"
      ],
      "execution_count": null,
      "outputs": [
        {
          "output_type": "stream",
          "text": [
            "10\n",
            "11\n",
            "12\n",
            "137\n",
            "14\n",
            "15\n",
            "162\n",
            "17\n"
          ],
          "name": "stdout"
        }
      ]
    },
    {
      "cell_type": "code",
      "metadata": {
        "colab": {
          "base_uri": "https://localhost:8080/"
        },
        "id": "5L5ZGKJh4UYR",
        "outputId": "060859e5-e145-4d27-afb3-ef2085347647"
      },
      "source": [
        "list2=[]\n",
        "for i in range(0,1012):\n",
        "  list2.append(i)\n",
        "print(list2)"
      ],
      "execution_count": null,
      "outputs": [
        {
          "output_type": "stream",
          "text": [
            "[0, 1, 2, 3, 4, 5, 6, 7, 8, 9, 10, 11, 12, 13, 14, 15, 16, 17, 18, 19, 20, 21, 22, 23, 24, 25, 26, 27, 28, 29, 30, 31, 32, 33, 34, 35, 36, 37, 38, 39, 40, 41, 42, 43, 44, 45, 46, 47, 48, 49, 50, 51, 52, 53, 54, 55, 56, 57, 58, 59, 60, 61, 62, 63, 64, 65, 66, 67, 68, 69, 70, 71, 72, 73, 74, 75, 76, 77, 78, 79, 80, 81, 82, 83, 84, 85, 86, 87, 88, 89, 90, 91, 92, 93, 94, 95, 96, 97, 98, 99, 100, 101, 102, 103, 104, 105, 106, 107, 108, 109, 110, 111, 112, 113, 114, 115, 116, 117, 118, 119, 120, 121, 122, 123, 124, 125, 126, 127, 128, 129, 130, 131, 132, 133, 134, 135, 136, 137, 138, 139, 140, 141, 142, 143, 144, 145, 146, 147, 148, 149, 150, 151, 152, 153, 154, 155, 156, 157, 158, 159, 160, 161, 162, 163, 164, 165, 166, 167, 168, 169, 170, 171, 172, 173, 174, 175, 176, 177, 178, 179, 180, 181, 182, 183, 184, 185, 186, 187, 188, 189, 190, 191, 192, 193, 194, 195, 196, 197, 198, 199, 200, 201, 202, 203, 204, 205, 206, 207, 208, 209, 210, 211, 212, 213, 214, 215, 216, 217, 218, 219, 220, 221, 222, 223, 224, 225, 226, 227, 228, 229, 230, 231, 232, 233, 234, 235, 236, 237, 238, 239, 240, 241, 242, 243, 244, 245, 246, 247, 248, 249, 250, 251, 252, 253, 254, 255, 256, 257, 258, 259, 260, 261, 262, 263, 264, 265, 266, 267, 268, 269, 270, 271, 272, 273, 274, 275, 276, 277, 278, 279, 280, 281, 282, 283, 284, 285, 286, 287, 288, 289, 290, 291, 292, 293, 294, 295, 296, 297, 298, 299, 300, 301, 302, 303, 304, 305, 306, 307, 308, 309, 310, 311, 312, 313, 314, 315, 316, 317, 318, 319, 320, 321, 322, 323, 324, 325, 326, 327, 328, 329, 330, 331, 332, 333, 334, 335, 336, 337, 338, 339, 340, 341, 342, 343, 344, 345, 346, 347, 348, 349, 350, 351, 352, 353, 354, 355, 356, 357, 358, 359, 360, 361, 362, 363, 364, 365, 366, 367, 368, 369, 370, 371, 372, 373, 374, 375, 376, 377, 378, 379, 380, 381, 382, 383, 384, 385, 386, 387, 388, 389, 390, 391, 392, 393, 394, 395, 396, 397, 398, 399, 400, 401, 402, 403, 404, 405, 406, 407, 408, 409, 410, 411, 412, 413, 414, 415, 416, 417, 418, 419, 420, 421, 422, 423, 424, 425, 426, 427, 428, 429, 430, 431, 432, 433, 434, 435, 436, 437, 438, 439, 440, 441, 442, 443, 444, 445, 446, 447, 448, 449, 450, 451, 452, 453, 454, 455, 456, 457, 458, 459, 460, 461, 462, 463, 464, 465, 466, 467, 468, 469, 470, 471, 472, 473, 474, 475, 476, 477, 478, 479, 480, 481, 482, 483, 484, 485, 486, 487, 488, 489, 490, 491, 492, 493, 494, 495, 496, 497, 498, 499, 500, 501, 502, 503, 504, 505, 506, 507, 508, 509, 510, 511, 512, 513, 514, 515, 516, 517, 518, 519, 520, 521, 522, 523, 524, 525, 526, 527, 528, 529, 530, 531, 532, 533, 534, 535, 536, 537, 538, 539, 540, 541, 542, 543, 544, 545, 546, 547, 548, 549, 550, 551, 552, 553, 554, 555, 556, 557, 558, 559, 560, 561, 562, 563, 564, 565, 566, 567, 568, 569, 570, 571, 572, 573, 574, 575, 576, 577, 578, 579, 580, 581, 582, 583, 584, 585, 586, 587, 588, 589, 590, 591, 592, 593, 594, 595, 596, 597, 598, 599, 600, 601, 602, 603, 604, 605, 606, 607, 608, 609, 610, 611, 612, 613, 614, 615, 616, 617, 618, 619, 620, 621, 622, 623, 624, 625, 626, 627, 628, 629, 630, 631, 632, 633, 634, 635, 636, 637, 638, 639, 640, 641, 642, 643, 644, 645, 646, 647, 648, 649, 650, 651, 652, 653, 654, 655, 656, 657, 658, 659, 660, 661, 662, 663, 664, 665, 666, 667, 668, 669, 670, 671, 672, 673, 674, 675, 676, 677, 678, 679, 680, 681, 682, 683, 684, 685, 686, 687, 688, 689, 690, 691, 692, 693, 694, 695, 696, 697, 698, 699, 700, 701, 702, 703, 704, 705, 706, 707, 708, 709, 710, 711, 712, 713, 714, 715, 716, 717, 718, 719, 720, 721, 722, 723, 724, 725, 726, 727, 728, 729, 730, 731, 732, 733, 734, 735, 736, 737, 738, 739, 740, 741, 742, 743, 744, 745, 746, 747, 748, 749, 750, 751, 752, 753, 754, 755, 756, 757, 758, 759, 760, 761, 762, 763, 764, 765, 766, 767, 768, 769, 770, 771, 772, 773, 774, 775, 776, 777, 778, 779, 780, 781, 782, 783, 784, 785, 786, 787, 788, 789, 790, 791, 792, 793, 794, 795, 796, 797, 798, 799, 800, 801, 802, 803, 804, 805, 806, 807, 808, 809, 810, 811, 812, 813, 814, 815, 816, 817, 818, 819, 820, 821, 822, 823, 824, 825, 826, 827, 828, 829, 830, 831, 832, 833, 834, 835, 836, 837, 838, 839, 840, 841, 842, 843, 844, 845, 846, 847, 848, 849, 850, 851, 852, 853, 854, 855, 856, 857, 858, 859, 860, 861, 862, 863, 864, 865, 866, 867, 868, 869, 870, 871, 872, 873, 874, 875, 876, 877, 878, 879, 880, 881, 882, 883, 884, 885, 886, 887, 888, 889, 890, 891, 892, 893, 894, 895, 896, 897, 898, 899, 900, 901, 902, 903, 904, 905, 906, 907, 908, 909, 910, 911, 912, 913, 914, 915, 916, 917, 918, 919, 920, 921, 922, 923, 924, 925, 926, 927, 928, 929, 930, 931, 932, 933, 934, 935, 936, 937, 938, 939, 940, 941, 942, 943, 944, 945, 946, 947, 948, 949, 950, 951, 952, 953, 954, 955, 956, 957, 958, 959, 960, 961, 962, 963, 964, 965, 966, 967, 968, 969, 970, 971, 972, 973, 974, 975, 976, 977, 978, 979, 980, 981, 982, 983, 984, 985, 986, 987, 988, 989, 990, 991, 992, 993, 994, 995, 996, 997, 998, 999, 1000, 1001, 1002, 1003, 1004, 1005, 1006, 1007, 1008, 1009, 1010, 1011]\n"
          ],
          "name": "stdout"
        }
      ]
    },
    {
      "cell_type": "code",
      "metadata": {
        "id": "p4tXDbpV6qYN"
      },
      "source": [
        "#the user gives 3 numbers , and we print their values + 100\n",
        "#remake it using lists"
      ],
      "execution_count": null,
      "outputs": []
    },
    {
      "cell_type": "code",
      "metadata": {
        "id": "H89cmgDjDdAd"
      },
      "source": [
        "x=input()\n",
        "print(type(x))\n",
        "y=int(x)\n",
        "print(type(y))\n",
        "print(type(x))"
      ],
      "execution_count": null,
      "outputs": []
    },
    {
      "cell_type": "code",
      "metadata": {
        "colab": {
          "base_uri": "https://localhost:8080/"
        },
        "id": "-Zj5yvzVpPep",
        "outputId": "3d86800c-1fb8-4e8e-ea3d-deef377f13a5"
      },
      "source": [
        "for i in range(0,3):\n",
        "  y = int(input())\n",
        "  print(\"result is \",y+100)"
      ],
      "execution_count": null,
      "outputs": [
        {
          "output_type": "stream",
          "text": [
            "1\n",
            "result is  101\n",
            "2\n",
            "result is  102\n",
            "3\n",
            "result is  103\n"
          ],
          "name": "stdout"
        }
      ]
    },
    {
      "cell_type": "code",
      "metadata": {
        "id": "8orfmRUYnL3v",
        "colab": {
          "base_uri": "https://localhost:8080/"
        },
        "outputId": "e993bc24-8304-4df4-a89e-acdf2424ffc4"
      },
      "source": [
        "x=[]\n",
        "for i in range (0,3):\n",
        "  y = input()\n",
        "  x.append(y+\"AAAAAAAAAA\")\n",
        "print(x)"
      ],
      "execution_count": null,
      "outputs": [
        {
          "output_type": "stream",
          "text": [
            "giorgos\n",
            "conor\n",
            "maria\n",
            "['giorgosAAAAAAAAAA', 'conorAAAAAAAAAA', 'mariaAAAAAAAAAA']\n"
          ],
          "name": "stdout"
        }
      ]
    },
    {
      "cell_type": "code",
      "metadata": {
        "colab": {
          "base_uri": "https://localhost:8080/"
        },
        "id": "LrB5WdSuGKTH",
        "outputId": "07f81f09-cf64-4bab-b318-25555920ac03"
      },
      "source": [
        "for i in range (0,3):\n",
        "  x=[]\n",
        "  y = int(input())\n",
        "  x.append(y+100)\n",
        "print(x)"
      ],
      "execution_count": null,
      "outputs": [
        {
          "output_type": "stream",
          "text": [
            "1\n",
            "2\n",
            "3\n",
            "[103]\n"
          ],
          "name": "stdout"
        }
      ]
    },
    {
      "cell_type": "code",
      "metadata": {
        "colab": {
          "base_uri": "https://localhost:8080/"
        },
        "id": "Pip5_lMzHHV1",
        "outputId": "0049b455-3994-4283-8045-37afb1d6a8c5"
      },
      "source": [
        "for i in range(0,3):\n",
        "  print(i)\n",
        "print(\"\\n\")\n",
        "x=1\n",
        "y=x+2\n",
        "z=3+y\n",
        "print(z)\n",
        "print(\"\\n\")\n",
        "for j in range(0,3):\n",
        "  print(j)"
      ],
      "execution_count": null,
      "outputs": [
        {
          "output_type": "stream",
          "text": [
            "0\n",
            "1\n",
            "2\n",
            "\n",
            "\n",
            "6\n",
            "\n",
            "\n",
            "0\n",
            "1\n",
            "2\n"
          ],
          "name": "stdout"
        }
      ]
    },
    {
      "cell_type": "code",
      "metadata": {
        "colab": {
          "base_uri": "https://localhost:8080/"
        },
        "id": "FFbITkwy6-Lo",
        "outputId": "60022ecf-7ff9-4359-b465-692b5bf6eab1"
      },
      "source": [
        "#revision\n",
        "mylist=[]\n",
        "for i in range(0,10):\n",
        "  mylist.append(i*100)\n",
        "  print(mylist,len(mylist))\n",
        "\n",
        "print(mylist[2:8:1])\n",
        "print(mylist[2:8:2])"
      ],
      "execution_count": null,
      "outputs": [
        {
          "output_type": "stream",
          "text": [
            "[0] 1\n",
            "[0, 100] 2\n",
            "[0, 100, 200] 3\n",
            "[0, 100, 200, 300] 4\n",
            "[0, 100, 200, 300, 400] 5\n",
            "[0, 100, 200, 300, 400, 500] 6\n",
            "[0, 100, 200, 300, 400, 500, 600] 7\n",
            "[0, 100, 200, 300, 400, 500, 600, 700] 8\n",
            "[0, 100, 200, 300, 400, 500, 600, 700, 800] 9\n",
            "[0, 100, 200, 300, 400, 500, 600, 700, 800, 900] 10\n",
            "[200, 300, 400, 500, 600, 700]\n",
            "[200, 400, 600]\n"
          ],
          "name": "stdout"
        }
      ]
    },
    {
      "cell_type": "code",
      "metadata": {
        "colab": {
          "base_uri": "https://localhost:8080/"
        },
        "id": "NFb_q2Ae4hZP",
        "outputId": "1287e5b9-363e-4c57-923b-edd8e70ac7b5"
      },
      "source": [
        "for i in range(0,3):\n",
        "  x1=[]\n",
        "  y1 = int(input())\n",
        "  x1.append(y1)\n",
        "print(x1,\"\\n\")\n",
        "\n",
        "x2=[]\n",
        "for i in range(0,3):\n",
        "  y2 = int(input())\n",
        "  x2.append(y2)\n",
        "print(x2)"
      ],
      "execution_count": null,
      "outputs": [
        {
          "output_type": "stream",
          "text": [
            "100\n",
            "200\n",
            "300\n",
            "[300] \n",
            "\n",
            "100\n",
            "200\n",
            "300\n",
            "[100, 200, 300]\n"
          ],
          "name": "stdout"
        }
      ]
    },
    {
      "cell_type": "code",
      "metadata": {
        "colab": {
          "base_uri": "https://localhost:8080/"
        },
        "id": "MY1f54Xi5cjD",
        "outputId": "3f01db6b-be48-4786-9bcb-e30b3ed59ce3"
      },
      "source": [
        "x2=[]\n",
        "for i in range (0,3):\n",
        "  x1=[]\n",
        "  y1 = int(input())\n",
        "  y2=y1\n",
        "  x1.append(y1+100)\n",
        "  x2.append(y2+100)\n",
        "\n",
        "print(\"\\n\\n\")\n",
        "print(x1,\"\\n\")\n",
        "print(x2)"
      ],
      "execution_count": null,
      "outputs": [
        {
          "output_type": "stream",
          "text": [
            "3\n",
            "4\n",
            "5\n",
            "\n",
            "\n",
            "\n",
            "[105] \n",
            "\n",
            "[103, 104, 105]\n"
          ],
          "name": "stdout"
        }
      ]
    },
    {
      "cell_type": "code",
      "metadata": {
        "id": "Kl7eNTshnLv-",
        "colab": {
          "base_uri": "https://localhost:8080/"
        },
        "outputId": "5eb3948f-3a8a-449f-f927-4f2575d41bb1"
      },
      "source": [
        "count=0;\n",
        "for i in range(0,6):\n",
        "  for j in range(0,3):\n",
        "    print(count)\n",
        "    count=count+1\n",
        "    print(count,\"\\n\")"
      ],
      "execution_count": null,
      "outputs": [
        {
          "output_type": "stream",
          "text": [
            "0\n",
            "1 \n",
            "\n",
            "1\n",
            "2 \n",
            "\n",
            "2\n",
            "3 \n",
            "\n",
            "3\n",
            "4 \n",
            "\n",
            "4\n",
            "5 \n",
            "\n",
            "5\n",
            "6 \n",
            "\n",
            "6\n",
            "7 \n",
            "\n",
            "7\n",
            "8 \n",
            "\n",
            "8\n",
            "9 \n",
            "\n",
            "9\n",
            "10 \n",
            "\n",
            "10\n",
            "11 \n",
            "\n",
            "11\n",
            "12 \n",
            "\n",
            "12\n",
            "13 \n",
            "\n",
            "13\n",
            "14 \n",
            "\n",
            "14\n",
            "15 \n",
            "\n",
            "15\n",
            "16 \n",
            "\n",
            "16\n",
            "17 \n",
            "\n",
            "17\n",
            "18 \n",
            "\n"
          ],
          "name": "stdout"
        }
      ]
    },
    {
      "cell_type": "code",
      "metadata": {
        "colab": {
          "base_uri": "https://localhost:8080/"
        },
        "id": "lNEqW1-jB047",
        "outputId": "74bd32da-2608-4a9c-f145-da0bfbf1791f"
      },
      "source": [
        "countloops=0;\n",
        "x=0;\n",
        "for i in range(0,3):\n",
        "  x=x+5\n",
        "  for j in range(0,3):\n",
        "    x=x+3\n",
        "    for k in range(0,3):\n",
        "      x=x+7\n",
        "      for l in range(0,3):\n",
        "        countloops=countloops+1\n",
        "        print(i,j,k,l,\"x=\",x,\"countloops=\",countloops)\n",
        "\n",
        "print(countloops)\n",
        "print(x)"
      ],
      "execution_count": null,
      "outputs": [
        {
          "output_type": "stream",
          "text": [
            "0 0 0 0 x= 15 countloops= 1\n",
            "0 0 0 1 x= 15 countloops= 2\n",
            "0 0 0 2 x= 15 countloops= 3\n",
            "0 0 1 0 x= 22 countloops= 4\n",
            "0 0 1 1 x= 22 countloops= 5\n",
            "0 0 1 2 x= 22 countloops= 6\n",
            "0 0 2 0 x= 29 countloops= 7\n",
            "0 0 2 1 x= 29 countloops= 8\n",
            "0 0 2 2 x= 29 countloops= 9\n",
            "0 1 0 0 x= 39 countloops= 10\n",
            "0 1 0 1 x= 39 countloops= 11\n",
            "0 1 0 2 x= 39 countloops= 12\n",
            "0 1 1 0 x= 46 countloops= 13\n",
            "0 1 1 1 x= 46 countloops= 14\n",
            "0 1 1 2 x= 46 countloops= 15\n",
            "0 1 2 0 x= 53 countloops= 16\n",
            "0 1 2 1 x= 53 countloops= 17\n",
            "0 1 2 2 x= 53 countloops= 18\n",
            "0 2 0 0 x= 63 countloops= 19\n",
            "0 2 0 1 x= 63 countloops= 20\n",
            "0 2 0 2 x= 63 countloops= 21\n",
            "0 2 1 0 x= 70 countloops= 22\n",
            "0 2 1 1 x= 70 countloops= 23\n",
            "0 2 1 2 x= 70 countloops= 24\n",
            "0 2 2 0 x= 77 countloops= 25\n",
            "0 2 2 1 x= 77 countloops= 26\n",
            "0 2 2 2 x= 77 countloops= 27\n",
            "1 0 0 0 x= 92 countloops= 28\n",
            "1 0 0 1 x= 92 countloops= 29\n",
            "1 0 0 2 x= 92 countloops= 30\n",
            "1 0 1 0 x= 99 countloops= 31\n",
            "1 0 1 1 x= 99 countloops= 32\n",
            "1 0 1 2 x= 99 countloops= 33\n",
            "1 0 2 0 x= 106 countloops= 34\n",
            "1 0 2 1 x= 106 countloops= 35\n",
            "1 0 2 2 x= 106 countloops= 36\n",
            "1 1 0 0 x= 116 countloops= 37\n",
            "1 1 0 1 x= 116 countloops= 38\n",
            "1 1 0 2 x= 116 countloops= 39\n",
            "1 1 1 0 x= 123 countloops= 40\n",
            "1 1 1 1 x= 123 countloops= 41\n",
            "1 1 1 2 x= 123 countloops= 42\n",
            "1 1 2 0 x= 130 countloops= 43\n",
            "1 1 2 1 x= 130 countloops= 44\n",
            "1 1 2 2 x= 130 countloops= 45\n",
            "1 2 0 0 x= 140 countloops= 46\n",
            "1 2 0 1 x= 140 countloops= 47\n",
            "1 2 0 2 x= 140 countloops= 48\n",
            "1 2 1 0 x= 147 countloops= 49\n",
            "1 2 1 1 x= 147 countloops= 50\n",
            "1 2 1 2 x= 147 countloops= 51\n",
            "1 2 2 0 x= 154 countloops= 52\n",
            "1 2 2 1 x= 154 countloops= 53\n",
            "1 2 2 2 x= 154 countloops= 54\n",
            "2 0 0 0 x= 169 countloops= 55\n",
            "2 0 0 1 x= 169 countloops= 56\n",
            "2 0 0 2 x= 169 countloops= 57\n",
            "2 0 1 0 x= 176 countloops= 58\n",
            "2 0 1 1 x= 176 countloops= 59\n",
            "2 0 1 2 x= 176 countloops= 60\n",
            "2 0 2 0 x= 183 countloops= 61\n",
            "2 0 2 1 x= 183 countloops= 62\n",
            "2 0 2 2 x= 183 countloops= 63\n",
            "2 1 0 0 x= 193 countloops= 64\n",
            "2 1 0 1 x= 193 countloops= 65\n",
            "2 1 0 2 x= 193 countloops= 66\n",
            "2 1 1 0 x= 200 countloops= 67\n",
            "2 1 1 1 x= 200 countloops= 68\n",
            "2 1 1 2 x= 200 countloops= 69\n",
            "2 1 2 0 x= 207 countloops= 70\n",
            "2 1 2 1 x= 207 countloops= 71\n",
            "2 1 2 2 x= 207 countloops= 72\n",
            "2 2 0 0 x= 217 countloops= 73\n",
            "2 2 0 1 x= 217 countloops= 74\n",
            "2 2 0 2 x= 217 countloops= 75\n",
            "2 2 1 0 x= 224 countloops= 76\n",
            "2 2 1 1 x= 224 countloops= 77\n",
            "2 2 1 2 x= 224 countloops= 78\n",
            "2 2 2 0 x= 231 countloops= 79\n",
            "2 2 2 1 x= 231 countloops= 80\n",
            "2 2 2 2 x= 231 countloops= 81\n",
            "81\n",
            "231\n"
          ],
          "name": "stdout"
        }
      ]
    },
    {
      "cell_type": "code",
      "metadata": {
        "colab": {
          "base_uri": "https://localhost:8080/"
        },
        "id": "pWmaZc2UG-o8",
        "outputId": "3b655830-70f9-4ca5-d1fc-1b63633de581"
      },
      "source": [
        "for i in range(0,6):\n",
        "  for j in range(0,3):\n",
        "    print(i,j)"
      ],
      "execution_count": null,
      "outputs": [
        {
          "output_type": "stream",
          "text": [
            "0 0\n",
            "0 1\n",
            "0 2\n",
            "1 0\n",
            "1 1\n",
            "1 2\n",
            "2 0\n",
            "2 1\n",
            "2 2\n",
            "3 0\n",
            "3 1\n",
            "3 2\n",
            "4 0\n",
            "4 1\n",
            "4 2\n",
            "5 0\n",
            "5 1\n",
            "5 2\n"
          ],
          "name": "stdout"
        }
      ]
    },
    {
      "cell_type": "code",
      "metadata": {
        "colab": {
          "base_uri": "https://localhost:8080/"
        },
        "id": "rpTaAmum4x-G",
        "outputId": "4409b3d8-c6b4-460a-931e-1fe9c32f72c5"
      },
      "source": [
        "for i in range(0,4):\n",
        "  print(i)\n",
        "  i=i+5\n",
        "  print(i,\"\\n\")"
      ],
      "execution_count": null,
      "outputs": [
        {
          "output_type": "stream",
          "text": [
            "0\n",
            "5 \n",
            "\n",
            "1\n",
            "6 \n",
            "\n",
            "2\n",
            "7 \n",
            "\n",
            "3\n",
            "8 \n",
            "\n"
          ],
          "name": "stdout"
        }
      ]
    },
    {
      "cell_type": "code",
      "metadata": {
        "colab": {
          "base_uri": "https://localhost:8080/"
        },
        "id": "pR8osZmwPkmO",
        "outputId": "ff393269-b4b5-4c6f-8439-6aa2d53480b5"
      },
      "source": [
        "#revision\n",
        "var=2\n",
        "countloops=0\n",
        "for i in range(0,6):\n",
        "  var=var*var\n",
        "  for j in range(0,3):\n",
        "    countloops=countloops+1\n",
        "    print(\"i=\",i,\"\\t\",\"j=\",j,\"\\t\",\"var=\",var,\"\\t\",\"countloops=\",countloops)"
      ],
      "execution_count": null,
      "outputs": [
        {
          "output_type": "stream",
          "text": [
            "i= 0 \t j= 0 \t var= 4 \t countloops= 1\n",
            "i= 0 \t j= 1 \t var= 4 \t countloops= 2\n",
            "i= 0 \t j= 2 \t var= 4 \t countloops= 3\n",
            "i= 1 \t j= 0 \t var= 16 \t countloops= 4\n",
            "i= 1 \t j= 1 \t var= 16 \t countloops= 5\n",
            "i= 1 \t j= 2 \t var= 16 \t countloops= 6\n",
            "i= 2 \t j= 0 \t var= 256 \t countloops= 7\n",
            "i= 2 \t j= 1 \t var= 256 \t countloops= 8\n",
            "i= 2 \t j= 2 \t var= 256 \t countloops= 9\n",
            "i= 3 \t j= 0 \t var= 65536 \t countloops= 10\n",
            "i= 3 \t j= 1 \t var= 65536 \t countloops= 11\n",
            "i= 3 \t j= 2 \t var= 65536 \t countloops= 12\n",
            "i= 4 \t j= 0 \t var= 4294967296 \t countloops= 13\n",
            "i= 4 \t j= 1 \t var= 4294967296 \t countloops= 14\n",
            "i= 4 \t j= 2 \t var= 4294967296 \t countloops= 15\n",
            "i= 5 \t j= 0 \t var= 18446744073709551616 \t countloops= 16\n",
            "i= 5 \t j= 1 \t var= 18446744073709551616 \t countloops= 17\n",
            "i= 5 \t j= 2 \t var= 18446744073709551616 \t countloops= 18\n"
          ],
          "name": "stdout"
        }
      ]
    },
    {
      "cell_type": "code",
      "metadata": {
        "colab": {
          "base_uri": "https://localhost:8080/"
        },
        "id": "rpdm_rIpPHoj",
        "outputId": "13472445-a465-44e8-e5e5-11604278e180"
      },
      "source": [
        "print(\"Conor\",end='')\n",
        "print(\"giorgos\\n\")\n",
        "\n",
        "\n",
        "for i in range(0,10):\n",
        "  for j in range(0,20):\n",
        "    print(\"+\",end='')\n",
        "  print()\n",
        "\n",
        "\n",
        "#change those numbers to see the different arrays"
      ],
      "execution_count": null,
      "outputs": [
        {
          "output_type": "stream",
          "text": [
            "Conorgiorgos\n",
            "\n",
            "++++++++++++++++++++\n",
            "++++++++++++++++++++\n",
            "++++++++++++++++++++\n",
            "++++++++++++++++++++\n",
            "++++++++++++++++++++\n",
            "++++++++++++++++++++\n",
            "++++++++++++++++++++\n",
            "++++++++++++++++++++\n",
            "++++++++++++++++++++\n",
            "++++++++++++++++++++\n"
          ],
          "name": "stdout"
        }
      ]
    },
    {
      "cell_type": "code",
      "metadata": {
        "colab": {
          "base_uri": "https://localhost:8080/"
        },
        "id": "-sS5gCNQQxTZ",
        "outputId": "4afba899-fccd-4503-e54e-1b1518905d11"
      },
      "source": [
        "for i in range(0,10):\n",
        "  for j in range(0,i):\n",
        "    print(\"*\",end='')\n",
        "  print()"
      ],
      "execution_count": null,
      "outputs": [
        {
          "output_type": "stream",
          "text": [
            "\n",
            "*\n",
            "**\n",
            "***\n",
            "****\n",
            "*****\n",
            "******\n",
            "*******\n",
            "********\n",
            "*********\n"
          ],
          "name": "stdout"
        }
      ]
    },
    {
      "cell_type": "code",
      "metadata": {
        "colab": {
          "base_uri": "https://localhost:8080/"
        },
        "id": "X33U0K62Ol0g",
        "outputId": "d1fd7746-20d0-446e-e6ea-3508223b655a"
      },
      "source": [
        "#mylist=[]\n",
        "for i in range(0,3):\n",
        "  mylist=[]\n",
        "  for j in range(0,6):\n",
        "    mylist.append(j)\n",
        "  print(mylist)"
      ],
      "execution_count": null,
      "outputs": [
        {
          "output_type": "stream",
          "text": [
            "[0, 1, 2, 3, 4, 5]\n",
            "[0, 1, 2, 3, 4, 5]\n",
            "[0, 1, 2, 3, 4, 5]\n"
          ],
          "name": "stdout"
        }
      ]
    },
    {
      "cell_type": "code",
      "metadata": {
        "colab": {
          "base_uri": "https://localhost:8080/"
        },
        "id": "RrdBtrlUQkjy",
        "outputId": "c8e641b8-519f-4f99-d50b-4656d317537a"
      },
      "source": [
        "#mylist=[]\n",
        "for i in range(0,3):\n",
        "  mylist=[]\n",
        "  for j in range(0,6):\n",
        "    mylist.append(j)\n",
        "print(mylist)"
      ],
      "execution_count": null,
      "outputs": [
        {
          "output_type": "stream",
          "text": [
            "[0, 1, 2, 3, 4, 5]\n"
          ],
          "name": "stdout"
        }
      ]
    },
    {
      "cell_type": "code",
      "metadata": {
        "colab": {
          "base_uri": "https://localhost:8080/"
        },
        "id": "uM589KA2Ingn",
        "outputId": "709eb3ca-fd64-413d-eb1b-e3036df931f5"
      },
      "source": [
        "mylist=[]\n",
        "for i in range(0,3):\n",
        "  #mylist=[]\n",
        "  for j in range(0,6):\n",
        "    mylist.append(j)\n",
        "  print(mylist)"
      ],
      "execution_count": null,
      "outputs": [
        {
          "output_type": "stream",
          "text": [
            "[0, 1, 2, 3, 4, 5]\n",
            "[0, 1, 2, 3, 4, 5, 0, 1, 2, 3, 4, 5]\n",
            "[0, 1, 2, 3, 4, 5, 0, 1, 2, 3, 4, 5, 0, 1, 2, 3, 4, 5]\n"
          ],
          "name": "stdout"
        }
      ]
    },
    {
      "cell_type": "code",
      "metadata": {
        "colab": {
          "base_uri": "https://localhost:8080/"
        },
        "id": "OyoKCySbQOb7",
        "outputId": "51e42639-b863-4596-907d-40bf65ca32c3"
      },
      "source": [
        "listoflists=[]\n",
        "for i in range(0,3):\n",
        "  mylist=[]\n",
        "  for j in range(0,6):\n",
        "    mylist.append(j)\n",
        "  listoflists.append(mylist)\n",
        "\n",
        "print(listoflists)"
      ],
      "execution_count": null,
      "outputs": [
        {
          "output_type": "stream",
          "text": [
            "[[0, 1, 2, 3, 4, 5], [0, 1, 2, 3, 4, 5], [0, 1, 2, 3, 4, 5]]\n"
          ],
          "name": "stdout"
        }
      ]
    },
    {
      "cell_type": "code",
      "metadata": {
        "id": "gvweGdqE3c9z",
        "colab": {
          "base_uri": "https://localhost:8080/"
        },
        "outputId": "72ff8c88-5e0f-4fa8-c627-83193eb6421f"
      },
      "source": [
        "mylist=[\"a\",\"b\",\"c\"]\n",
        "for i in mylist:\n",
        "  print(i)"
      ],
      "execution_count": null,
      "outputs": [
        {
          "output_type": "stream",
          "text": [
            "a\n",
            "b\n",
            "c\n"
          ],
          "name": "stdout"
        }
      ]
    },
    {
      "cell_type": "code",
      "metadata": {
        "colab": {
          "base_uri": "https://localhost:8080/"
        },
        "id": "5mJklFNAQy_V",
        "outputId": "0b5ae218-4a56-498f-c979-c22578179d65"
      },
      "source": [
        "mylist=[10,11,12,13,14,15]\n",
        "for elem in mylist:\n",
        "  print(elem)"
      ],
      "execution_count": null,
      "outputs": [
        {
          "output_type": "stream",
          "text": [
            "10\n",
            "11\n",
            "12\n",
            "13\n",
            "14\n",
            "15\n"
          ],
          "name": "stdout"
        }
      ]
    },
    {
      "cell_type": "code",
      "metadata": {
        "id": "qT5Z_wBqOGkS",
        "colab": {
          "base_uri": "https://localhost:8080/"
        },
        "outputId": "25167346-1d6b-4870-e967-c5c9c8274cc4"
      },
      "source": [
        "string=\"giorgos\"\n",
        "for letter in string:\n",
        "  print(letter)\n",
        "print(\"\\n\")\n",
        "for i in range(0,7):\n",
        "  print(string[i])"
      ],
      "execution_count": null,
      "outputs": [
        {
          "output_type": "stream",
          "text": [
            "g\n",
            "i\n",
            "o\n",
            "r\n",
            "g\n",
            "o\n",
            "s\n",
            "\n",
            "\n",
            "g\n",
            "i\n",
            "o\n",
            "r\n",
            "g\n",
            "o\n",
            "s\n"
          ],
          "name": "stdout"
        }
      ]
    },
    {
      "cell_type": "code",
      "metadata": {
        "id": "JBPY3IkDnLyk",
        "colab": {
          "base_uri": "https://localhost:8080/"
        },
        "outputId": "a0ddb2e8-96f4-4ee5-d306-32db1ed4dd27"
      },
      "source": [
        "g=15\n",
        "while g > 10 :\n",
        "  g=g-1\n",
        "  print(g)\n",
        "\n",
        "print(\"Giorgos\")"
      ],
      "execution_count": null,
      "outputs": [
        {
          "output_type": "stream",
          "text": [
            "14\n",
            "13\n",
            "12\n",
            "11\n",
            "10\n",
            "Giorgos\n"
          ],
          "name": "stdout"
        }
      ]
    },
    {
      "cell_type": "code",
      "metadata": {
        "id": "Hf8cXFsZQRl2",
        "colab": {
          "base_uri": "https://localhost:8080/"
        },
        "outputId": "72210bc7-e7ef-43eb-d5a3-8a4dee997fde"
      },
      "source": [
        "for i in range(1,10):\n",
        "  for j in range(0,i):\n",
        "    print(\"*\",end='')\n",
        "  print()\n",
        "for i in range(1,10):\n",
        "  for j in range(0,i):\n",
        "    print(\"*\",end='')\n",
        "  print()\n",
        "for i in range(0,5):\n",
        "  for j in range(0,5):\n",
        "    print(\"*\",end='')\n",
        "  print()\n",
        "for i in range(0,2):\n",
        "  for j in range(0,15):\n",
        "    print(\"*\",end='')\n",
        "  print()\n",
        "\n",
        "#exersise print half a tree using *\n",
        "#triangle , triangle, rectangle"
      ],
      "execution_count": null,
      "outputs": [
        {
          "output_type": "stream",
          "text": [
            "*\n",
            "**\n",
            "***\n",
            "****\n",
            "*****\n",
            "******\n",
            "*******\n",
            "********\n",
            "*********\n",
            "*\n",
            "**\n",
            "***\n",
            "****\n",
            "*****\n",
            "******\n",
            "*******\n",
            "********\n",
            "*********\n",
            "*****\n",
            "*****\n",
            "*****\n",
            "*****\n",
            "*****\n",
            "***************\n",
            "***************\n"
          ],
          "name": "stdout"
        }
      ]
    },
    {
      "cell_type": "code",
      "metadata": {
        "colab": {
          "base_uri": "https://localhost:8080/"
        },
        "id": "zqzgNnwILeW6",
        "outputId": "0d7b89d4-c4c0-4bba-eafe-0592a8bc03f3"
      },
      "source": [
        "print(\"GIORGOS\",end='')\n",
        "print(\"\\n\")\n",
        "print(\"CONOR\")\n",
        "print()\n",
        "print(\"Maria\")"
      ],
      "execution_count": null,
      "outputs": [
        {
          "output_type": "stream",
          "text": [
            "GIORGOS\n",
            "\n",
            "CONOR\n",
            "\n",
            "Maria\n"
          ],
          "name": "stdout"
        }
      ]
    },
    {
      "cell_type": "code",
      "metadata": {
        "colab": {
          "base_uri": "https://localhost:8080/"
        },
        "id": "AfCc4oQlT1-9",
        "outputId": "b03fcf51-36d2-4d83-a0ed-09b1431c8dac"
      },
      "source": [
        "print(\"GIORGOS\",end='')\n",
        "print()\n",
        "print(\"CONOR\")\n",
        "print()\n",
        "print(\"Maria\")"
      ],
      "execution_count": null,
      "outputs": [
        {
          "output_type": "stream",
          "text": [
            "GIORGOS\n",
            "CONOR\n",
            "\n",
            "Maria\n"
          ],
          "name": "stdout"
        }
      ]
    },
    {
      "cell_type": "markdown",
      "metadata": {
        "id": "AufE0AZBZ68_"
      },
      "source": [
        "revision"
      ]
    },
    {
      "cell_type": "code",
      "metadata": {
        "id": "0AMv8LiFKyAL",
        "colab": {
          "base_uri": "https://localhost:8080/"
        },
        "outputId": "91e0e492-3c4a-4b08-a5c8-eb90aa07bad9"
      },
      "source": [
        "mylist=[0,1,2,3,4,5]\n",
        "mystring=\"Greece\"\n",
        "for elem in mylist:\n",
        "  print(elem,mystring)\n",
        "  #print(elem+mystring)\n",
        "  print(str(elem)+\"\\t\"+mystring)\n",
        "print(\"\\n\") #remember when the loop ends\n",
        "for letter in mystring:\n",
        "  print(letter)\n",
        "print(\"\\n\")\n",
        "for elem in mylist:\n",
        "  for letter in mystring:\n",
        "    print(elem,letter)\n",
        "print(\"\\n\")\n",
        "for i in range(0,6):\n",
        "  print(mystring[i])"
      ],
      "execution_count": null,
      "outputs": [
        {
          "output_type": "stream",
          "text": [
            "0 Greece\n",
            "0\tGreece\n",
            "1 Greece\n",
            "1\tGreece\n",
            "2 Greece\n",
            "2\tGreece\n",
            "3 Greece\n",
            "3\tGreece\n",
            "4 Greece\n",
            "4\tGreece\n",
            "5 Greece\n",
            "5\tGreece\n",
            "\n",
            "\n",
            "G\n",
            "r\n",
            "e\n",
            "e\n",
            "c\n",
            "e\n",
            "\n",
            "\n",
            "0 G\n",
            "0 r\n",
            "0 e\n",
            "0 e\n",
            "0 c\n",
            "0 e\n",
            "1 G\n",
            "1 r\n",
            "1 e\n",
            "1 e\n",
            "1 c\n",
            "1 e\n",
            "2 G\n",
            "2 r\n",
            "2 e\n",
            "2 e\n",
            "2 c\n",
            "2 e\n",
            "3 G\n",
            "3 r\n",
            "3 e\n",
            "3 e\n",
            "3 c\n",
            "3 e\n",
            "4 G\n",
            "4 r\n",
            "4 e\n",
            "4 e\n",
            "4 c\n",
            "4 e\n",
            "5 G\n",
            "5 r\n",
            "5 e\n",
            "5 e\n",
            "5 c\n",
            "5 e\n",
            "\n",
            "\n",
            "G\n",
            "r\n",
            "e\n",
            "e\n",
            "c\n",
            "e\n"
          ],
          "name": "stdout"
        }
      ]
    },
    {
      "cell_type": "code",
      "metadata": {
        "id": "AOTJc9NpLvqX"
      },
      "source": [
        "#exersise print half a tree using *\n",
        "#triangle , triangle, rectangle"
      ],
      "execution_count": null,
      "outputs": []
    },
    {
      "cell_type": "code",
      "metadata": {
        "colab": {
          "base_uri": "https://localhost:8080/"
        },
        "id": "9xIGAuVXL4eN",
        "outputId": "c341799f-7679-430b-de48-e725556aadaf"
      },
      "source": [
        "#we can skip this and go to if else\n",
        "for i in range(0,3):\n",
        "  mylist=[]\n",
        "  for j in range(0,6):\n",
        "    mylist.append(j)\n",
        "print(mylist)\n",
        "print(\"-------------------------------------------------------\")\n",
        "mylist2=[]\n",
        "for i in range(0,3):\n",
        "  for j in range(0,6):\n",
        "    mylist2.append(j)\n",
        "print(mylist2)"
      ],
      "execution_count": null,
      "outputs": [
        {
          "output_type": "stream",
          "text": [
            "[0, 1, 2, 3, 4, 5]\n",
            "-------------------------------------------------------\n",
            "[0, 1, 2, 3, 4, 5, 0, 1, 2, 3, 4, 5, 0, 1, 2, 3, 4, 5]\n"
          ],
          "name": "stdout"
        }
      ]
    },
    {
      "cell_type": "code",
      "metadata": {
        "colab": {
          "base_uri": "https://localhost:8080/"
        },
        "id": "Y9RAxnxpPbNn",
        "outputId": "94838fb1-87ba-4341-88a4-6b688bb82479"
      },
      "source": [
        "x=100\n",
        "while x > 10 :\n",
        "  print(x)\n",
        "  x=x/1.5\n"
      ],
      "execution_count": null,
      "outputs": [
        {
          "output_type": "stream",
          "text": [
            "100\n",
            "66.66666666666667\n",
            "44.44444444444445\n",
            "29.629629629629633\n",
            "19.75308641975309\n",
            "13.168724279835393\n"
          ],
          "name": "stdout"
        }
      ]
    },
    {
      "cell_type": "code",
      "metadata": {
        "colab": {
          "base_uri": "https://localhost:8080/"
        },
        "id": "yZUNg219PFwn",
        "outputId": "6c0dee4f-531f-4575-d64b-d2dfd9a3edbf"
      },
      "source": [
        "l=[]\n",
        "list0=[0,1,2]\n",
        "list1=[3,4,5]\n",
        "list2=[6,7,8]\n",
        "l.append(list0)\n",
        "l.append(list1)\n",
        "l.append(list2)\n",
        "print(l)\n",
        "print(l[1][2])\n",
        "#we will see more with numpy"
      ],
      "execution_count": null,
      "outputs": [
        {
          "output_type": "stream",
          "text": [
            "[[0, 1, 2], [3, 4, 5], [6, 7, 8]]\n",
            "5\n"
          ],
          "name": "stdout"
        }
      ]
    },
    {
      "cell_type": "markdown",
      "metadata": {
        "id": "T7t9W_8xUKrL"
      },
      "source": [
        "#  (boolean , if else)"
      ]
    },
    {
      "cell_type": "code",
      "metadata": {
        "id": "a3u1MDl0mZFR"
      },
      "source": [
        "x = True\n",
        "y = False"
      ],
      "execution_count": null,
      "outputs": []
    },
    {
      "cell_type": "code",
      "metadata": {
        "id": "YilF9F0wT_0K"
      },
      "source": [
        "x = True\n",
        "y= TRUE\n",
        "z=true\n",
        "print(x)\n",
        "print(y)"
      ],
      "execution_count": null,
      "outputs": []
    },
    {
      "cell_type": "code",
      "metadata": {
        "colab": {
          "base_uri": "https://localhost:8080/"
        },
        "id": "WVISTe0ZTIJN",
        "outputId": "9f93170e-4832-436a-aade-156ab6ff0070"
      },
      "source": [
        "x=0\n",
        "y=0\n",
        "if x==y:\n",
        "  print(\"equals\")\n",
        "if x>=y:\n",
        "   print(\"greater than or equals\")\n",
        "if x<=y:\n",
        "   print(\"less than or equals\")\n",
        "if x>y:\n",
        "   print(\"greater than\")\n",
        "if x<y:\n",
        "   print(\"less than\")\n",
        "if x!=y:                #!!\n",
        "   print(\"different than\")"
      ],
      "execution_count": null,
      "outputs": [
        {
          "output_type": "stream",
          "text": [
            "equals\n",
            "greater than or equals\n",
            "less than or equals\n"
          ],
          "name": "stdout"
        }
      ]
    },
    {
      "cell_type": "code",
      "metadata": {
        "id": "VppCVwGPUOVE",
        "colab": {
          "base_uri": "https://localhost:8080/"
        },
        "outputId": "cb398e17-4056-4c53-ebee-5da23038a6a7"
      },
      "source": [
        "x=-5\n",
        "if x <0 :\n",
        "  print(\"it is < 0\")\n",
        "if x>0 :\n",
        "  print(\"it is > 0\")"
      ],
      "execution_count": null,
      "outputs": [
        {
          "output_type": "stream",
          "text": [
            "it is < 0\n"
          ],
          "name": "stdout"
        }
      ]
    },
    {
      "cell_type": "code",
      "metadata": {
        "id": "Dk-zbAmWOKTJ"
      },
      "source": [
        "x=4\n",
        "if x <0 :\n",
        "  print(\"it is < 0\")\n",
        "if x>10 :\n",
        "  print(\"it is > 0\")"
      ],
      "execution_count": null,
      "outputs": []
    },
    {
      "cell_type": "code",
      "metadata": {
        "colab": {
          "base_uri": "https://localhost:8080/"
        },
        "id": "BlCdW_44NROG",
        "outputId": "9e3daa05-b341-4784-804d-963ae740c3ed"
      },
      "source": [
        "x=4\n",
        "if x<0 :\n",
        "  print(\"it is < 0\")\n",
        "else :\n",
        "  print(\"it is >= 0\")"
      ],
      "execution_count": null,
      "outputs": [
        {
          "output_type": "stream",
          "text": [
            "it is >= 0\n"
          ],
          "name": "stdout"
        }
      ]
    },
    {
      "cell_type": "code",
      "metadata": {
        "colab": {
          "base_uri": "https://localhost:8080/"
        },
        "id": "We5pHPLEmZZL",
        "outputId": "941e63e3-bebe-47d8-ad53-9e8b89dcf5a6"
      },
      "source": [
        "x=4\n",
        "if x<0 :\n",
        "  print(\"it is < 0\")\n",
        "if x>=0:\n",
        "  print(\"it is >= 0\")"
      ],
      "execution_count": null,
      "outputs": [
        {
          "output_type": "stream",
          "text": [
            "it is >= 0\n"
          ],
          "name": "stdout"
        }
      ]
    },
    {
      "cell_type": "code",
      "metadata": {
        "colab": {
          "base_uri": "https://localhost:8080/"
        },
        "id": "uW_5GGJJSxiD",
        "outputId": "fa98e844-dc47-472e-a5e5-5c332fecb34c"
      },
      "source": [
        "x=25\n",
        "if x >0 :\n",
        "  print(\"it is > 0\")\n",
        "if x>10:\n",
        "  print(\"it is > 10\")\n",
        "if x>20:\n",
        "  print(\"it is > 20\")\n",
        "if x>30:\n",
        "  print(\"it is > 30\")\n",
        "if x>40:\n",
        "  print(\"it is > 40\")"
      ],
      "execution_count": null,
      "outputs": [
        {
          "output_type": "stream",
          "text": [
            "it is > 0\n",
            "it is > 10\n",
            "it is > 20\n"
          ],
          "name": "stdout"
        }
      ]
    },
    {
      "cell_type": "code",
      "metadata": {
        "colab": {
          "base_uri": "https://localhost:8080/"
        },
        "id": "X3XT3Gm1ScdP",
        "outputId": "5a5c252a-a776-4754-8f69-230b5807f006"
      },
      "source": [
        "x=25\n",
        "if x >0 :\n",
        "  print(\"it is > 0\")\n",
        "elif x>10:\n",
        "  print(\"it is > 10\")\n",
        "elif x>20:\n",
        "  print(\"it is > 20\")\n",
        "elif x>30:\n",
        "  print(\"it is > 30\")\n",
        "elif x>40:\n",
        "  print(\"it is > 40\")"
      ],
      "execution_count": null,
      "outputs": [
        {
          "output_type": "stream",
          "text": [
            "it is > 0\n"
          ],
          "name": "stdout"
        }
      ]
    },
    {
      "cell_type": "code",
      "metadata": {
        "id": "UbmkoWy6Bew-",
        "colab": {
          "base_uri": "https://localhost:8080/"
        },
        "outputId": "6b132781-38da-4cc4-ec73-bd2be09e02c2"
      },
      "source": [
        "x=5\n",
        "if x < 0 :\n",
        "  print(\"it is < 0\")\n",
        "elif x<0 and x<10 :\n",
        "  print(\"it is > 0 and < 10\")\n",
        "else :\n",
        "  print(\"it is  < 10\")"
      ],
      "execution_count": null,
      "outputs": [
        {
          "output_type": "stream",
          "text": [
            "it is  < 10\n"
          ],
          "name": "stdout"
        }
      ]
    },
    {
      "cell_type": "code",
      "metadata": {
        "colab": {
          "base_uri": "https://localhost:8080/"
        },
        "id": "ZViYfERJS-9o",
        "outputId": "742b3684-6d9a-4674-b83e-79e64540796f"
      },
      "source": [
        "x=5\n",
        "if x <0 :\n",
        "  print(\"it is < 0\")\n",
        "elif x<0 or x<10 :\n",
        "  print(\"it is > 0 and < 10\")\n",
        "else :\n",
        "  print(\"it is  < 10\")"
      ],
      "execution_count": null,
      "outputs": [
        {
          "output_type": "stream",
          "text": [
            "it is > 0 and < 10\n"
          ],
          "name": "stdout"
        }
      ]
    },
    {
      "cell_type": "code",
      "metadata": {
        "id": "iqogAq2VUOXs",
        "colab": {
          "base_uri": "https://localhost:8080/",
          "height": 131
        },
        "outputId": "f03c605b-af86-48e6-9844-18d6de29ba1b"
      },
      "source": [
        "x=5\n",
        "if x=0 or x=5:\n",
        "  print(\"first option\")\n",
        "elif x=10 and x =15: #!!\n",
        "  print(\"second option\")\n",
        "else:\n",
        "  print(\"third option\")"
      ],
      "execution_count": null,
      "outputs": [
        {
          "output_type": "error",
          "ename": "SyntaxError",
          "evalue": "ignored",
          "traceback": [
            "\u001b[0;36m  File \u001b[0;32m\"<ipython-input-30-66cdb335feb9>\"\u001b[0;36m, line \u001b[0;32m2\u001b[0m\n\u001b[0;31m    if x=0 or x=5:\u001b[0m\n\u001b[0m        ^\u001b[0m\n\u001b[0;31mSyntaxError\u001b[0m\u001b[0;31m:\u001b[0m invalid syntax\n"
          ]
        }
      ]
    },
    {
      "cell_type": "code",
      "metadata": {
        "colab": {
          "base_uri": "https://localhost:8080/"
        },
        "id": "JwrqLIvNopRO",
        "outputId": "0a125659-3460-43be-c48a-1db1e4504276"
      },
      "source": [
        "x=5\n",
        "if x==0 or x==5:\n",
        "  print(\"first option\")\n",
        "elif x==10 and x ==15: #!!\n",
        "  print(\"second option\")\n",
        "else:\n",
        "  print(\"third option\")"
      ],
      "execution_count": null,
      "outputs": [
        {
          "output_type": "stream",
          "text": [
            "first option\n"
          ],
          "name": "stdout"
        }
      ]
    },
    {
      "cell_type": "code",
      "metadata": {
        "id": "iUpXD_RDUOak"
      },
      "source": [
        "#exercise build a calculator , ask user for operator and numbers\n",
        "#revise if elif else , and then work on the calculator"
      ],
      "execution_count": null,
      "outputs": []
    },
    {
      "cell_type": "code",
      "metadata": {
        "colab": {
          "base_uri": "https://localhost:8080/"
        },
        "id": "R5DNNcHNcp2Z",
        "outputId": "ab8b2ec0-5c6c-457c-8a03-b2f4527352d3"
      },
      "source": [
        "#revision find absolute value\n",
        "x=int(input())\n",
        "if x>0:\n",
        "  print(\"abs = \",x)\n",
        "elif x==0:\n",
        "  print(\"abs = \",0)\n",
        "else:\n",
        "  print(\"abs = \",-x)"
      ],
      "execution_count": null,
      "outputs": [
        {
          "output_type": "stream",
          "text": [
            "0\n",
            "abs =  0\n"
          ],
          "name": "stdout"
        }
      ]
    },
    {
      "cell_type": "code",
      "metadata": {
        "colab": {
          "base_uri": "https://localhost:8080/"
        },
        "id": "Vrn6TVCMPUP-",
        "outputId": "8a73d681-7654-4bdd-e4f0-54625345f394"
      },
      "source": [
        "x= True\n",
        "count=0\n",
        "while(x==True):\n",
        "  print(\"hello\")\n",
        "  count+=1\n",
        "  if count == 5 :\n",
        "    x=False\n",
        ""
      ],
      "execution_count": null,
      "outputs": [
        {
          "output_type": "stream",
          "text": [
            "hello\n",
            "hello\n",
            "hello\n",
            "hello\n",
            "hello\n"
          ],
          "name": "stdout"
        }
      ]
    },
    {
      "cell_type": "code",
      "metadata": {
        "colab": {
          "base_uri": "https://localhost:8080/"
        },
        "id": "NwCDNfgJSarr",
        "outputId": "a4b07917-0190-4f02-a0ec-391a53a91df9"
      },
      "source": [
        "for i in range(0,5):\n",
        "  print(\"hello\")\n"
      ],
      "execution_count": null,
      "outputs": [
        {
          "output_type": "stream",
          "text": [
            "hello\n",
            "hello\n",
            "hello\n",
            "hello\n",
            "hello\n"
          ],
          "name": "stdout"
        }
      ]
    },
    {
      "cell_type": "code",
      "metadata": {
        "id": "vouBfwiReEDL",
        "colab": {
          "base_uri": "https://localhost:8080/"
        },
        "outputId": "0db6a856-1877-4d0a-cf80-fcf453a12b51"
      },
      "source": [
        "#!!\n",
        "x=5\n",
        "if x==0 or x==5:\n",
        "  print(\"first option\")\n",
        "elif x==10 and x ==15:\n",
        "  print(\"second option\")\n",
        "else:\n",
        "  print(\"third option\")"
      ],
      "execution_count": null,
      "outputs": [
        {
          "output_type": "stream",
          "text": [
            "first option\n"
          ],
          "name": "stdout"
        }
      ]
    },
    {
      "cell_type": "code",
      "metadata": {
        "colab": {
          "base_uri": "https://localhost:8080/"
        },
        "id": "PzE88BjHMSMt",
        "outputId": "77be158f-985f-4c1c-9962-b32030079472"
      },
      "source": [
        "x = input(\"Which symbol do you want to use ? \")\n",
        "if x==\"o\":\n",
        "  for i in range(1,10):\n",
        "    for j in range(0,i):\n",
        "      print(\"o\",end='')\n",
        "    print()\n",
        "elif x==\"x\":\n",
        "  for i in range(1,10):\n",
        "    for j in range(0,i):\n",
        "      print(\"x\",end='')\n",
        "    print()\n",
        "elif x==\"+\":\n",
        "  for i in range(1,10):\n",
        "    for j in range(0,i):\n",
        "      print(\"+\",end='')\n",
        "    print()\n",
        "elif x==\"-\":\n",
        "  for i in range(1,10):\n",
        "    for j in range(0,i):\n",
        "      print(\"-\",end='')\n",
        "    print()\n",
        "elif x==\"*\":\n",
        "  for i in range(1,10):\n",
        "    for j in range(0,i):\n",
        "      print(\"*\",end='')\n",
        "    print()\n",
        "elif x==\"$\":\n",
        "  for i in range(1,10):\n",
        "    for j in range(0,i):\n",
        "      print(\"$\",end='')\n",
        "    print()\n",
        "#is this the best way to do this?\n",
        "#no we cant predict all the symbols\n"
      ],
      "execution_count": null,
      "outputs": [
        {
          "output_type": "stream",
          "text": [
            "Which symbol do you want to use ? A\n"
          ],
          "name": "stdout"
        }
      ]
    },
    {
      "cell_type": "code",
      "metadata": {
        "colab": {
          "base_uri": "https://localhost:8080/"
        },
        "id": "D2jkNhkGLmM_",
        "outputId": "a20540e5-a547-413c-f9f2-401e00073f5b"
      },
      "source": [
        "x = input(\"Which symbol do you want to use ? \")\n",
        "for i in range(1,10):\n",
        "  for j in range(0,i):\n",
        "    print(x,end='')\n",
        "  print()"
      ],
      "execution_count": null,
      "outputs": [
        {
          "output_type": "stream",
          "text": [
            "Which symbol do you want to use ? A\n",
            "A\n",
            "AA\n",
            "AAA\n",
            "AAAA\n",
            "AAAAA\n",
            "AAAAAA\n",
            "AAAAAAA\n",
            "AAAAAAAA\n",
            "AAAAAAAAA\n"
          ],
          "name": "stdout"
        }
      ]
    },
    {
      "cell_type": "code",
      "metadata": {
        "colab": {
          "base_uri": "https://localhost:8080/"
        },
        "id": "EZRoGmsINvoX",
        "outputId": "2e36b47d-dd09-407b-e91b-c4ad2e2c29fb"
      },
      "source": [
        "import random\n",
        "x = random.randint(0,20)\n",
        "y=random.randint(0,20)\n",
        "print(x,y)\n"
      ],
      "execution_count": null,
      "outputs": [
        {
          "output_type": "stream",
          "text": [
            "9 16\n"
          ],
          "name": "stdout"
        }
      ]
    },
    {
      "cell_type": "code",
      "metadata": {
        "colab": {
          "base_uri": "https://localhost:8080/"
        },
        "id": "SWfnhGDGYNs6",
        "outputId": "00417493-4da6-4f54-c145-e306eee7f6f1"
      },
      "source": [
        "import random as r\n",
        "x = r.randint(0,20)\n",
        "y=r.randint(0,20)\n",
        "print(x,y)"
      ],
      "execution_count": null,
      "outputs": [
        {
          "output_type": "stream",
          "text": [
            "11 12\n"
          ],
          "name": "stdout"
        }
      ]
    },
    {
      "cell_type": "code",
      "metadata": {
        "colab": {
          "base_uri": "https://localhost:8080/"
        },
        "id": "NLfJ3Y0LYrF1",
        "outputId": "32861eef-2585-4d94-8165-c7d0d1ad0130"
      },
      "source": [
        "import random\n",
        "mylist=[]\n",
        "for i in range(0,25):\n",
        "  mylist.append(random.randint(0,100))\n",
        "print(mylist)"
      ],
      "execution_count": null,
      "outputs": [
        {
          "output_type": "stream",
          "text": [
            "[18, 50, 14, 36, 5, 45, 33, 40, 3, 9, 30, 26, 19, 20, 8, 8, 42, 15, 14, 1, 33, 6, 0, 14, 4]\n"
          ],
          "name": "stdout"
        }
      ]
    },
    {
      "cell_type": "code",
      "metadata": {
        "colab": {
          "base_uri": "https://localhost:8080/"
        },
        "id": "MW2Sc06PZlaT",
        "outputId": "6161692e-04c1-4eef-b959-a7764222cf96"
      },
      "source": [
        "mylist=[0,2,3,4,4,5]\n",
        "for i in range(0,len(mylist)):\n",
        "  print(mylist[i])\n",
        "print(\"-----------------\")\n",
        "for elem in mylist:\n",
        "  print(elem)"
      ],
      "execution_count": null,
      "outputs": [
        {
          "output_type": "stream",
          "text": [
            "0\n",
            "2\n",
            "3\n",
            "4\n",
            "4\n",
            "5\n",
            "-----------------\n",
            "0\n",
            "2\n",
            "3\n",
            "4\n",
            "4\n",
            "5\n"
          ],
          "name": "stdout"
        }
      ]
    },
    {
      "cell_type": "code",
      "metadata": {
        "colab": {
          "base_uri": "https://localhost:8080/"
        },
        "id": "PQWuQkkbNBM9",
        "outputId": "c37f5795-8754-48ff-b21c-59d9cdeb2048"
      },
      "source": [
        "import random\n",
        "mylist=[]\n",
        "for i in range(0,25):\n",
        "  mylist.append(random.randint(0,100))\n",
        "print(mylist)\n",
        "lesslist=[]\n",
        "morelist=[]\n",
        "for elem in mylist:\n",
        "  if elem<=50:\n",
        "    lesslist.append(elem)\n",
        "  else:\n",
        "    morelist.append(elem)\n",
        "print(lesslist)\n",
        "print(morelist)"
      ],
      "execution_count": null,
      "outputs": [
        {
          "output_type": "stream",
          "text": [
            "[23, 76, 96, 79, 77, 70, 26, 19, 58, 8, 12, 27, 27, 29, 100, 89, 19, 4, 51, 24, 34, 86, 43, 27, 44]\n",
            "[23, 26, 19, 8, 12, 27, 27, 29, 19, 4, 24, 34, 43, 27, 44]\n",
            "[76, 96, 79, 77, 70, 58, 100, 89, 51, 86]\n"
          ],
          "name": "stdout"
        }
      ]
    },
    {
      "cell_type": "code",
      "metadata": {
        "colab": {
          "base_uri": "https://localhost:8080/"
        },
        "id": "kXeTdxBbRGpa",
        "outputId": "52b6a174-40de-4d0b-c3e2-1e490fb7b29e"
      },
      "source": [
        "#operators /,%,//,**\n",
        "x=30\n",
        "y=20\n",
        "print(x/y)#float division\n",
        "print(x//y)#integer division\n",
        "print(x%y)#module\n",
        "print(x**y)#power\n",
        "#3**4=3*3*3*3\n",
        "#15=3*4+3"
      ],
      "execution_count": null,
      "outputs": [
        {
          "output_type": "stream",
          "text": [
            "1.5\n",
            "1\n",
            "10\n",
            "348678440100000000000000000000\n"
          ],
          "name": "stdout"
        }
      ]
    },
    {
      "cell_type": "markdown",
      "metadata": {
        "id": "YuF1qKfuIXst"
      },
      "source": [
        "**Revision**\n",
        "\n"
      ]
    },
    {
      "cell_type": "code",
      "metadata": {
        "id": "y-blc6FsaoS5",
        "colab": {
          "base_uri": "https://localhost:8080/"
        },
        "outputId": "573b3cbe-8e9e-4228-d48e-33590db71dd4"
      },
      "source": [
        "#revision\n",
        "import random as r\n",
        "print(r.randint(0,20))\n",
        "mylist=[]\n",
        "for i in range(0,10):\n",
        "  mylist.append(r.randint(0,20))\n",
        "print(mylist)"
      ],
      "execution_count": null,
      "outputs": [
        {
          "output_type": "stream",
          "text": [
            "20\n",
            "[6, 4, 13, 16, 9, 17, 0, 6, 0, 15]\n"
          ],
          "name": "stdout"
        }
      ]
    },
    {
      "cell_type": "code",
      "metadata": {
        "colab": {
          "base_uri": "https://localhost:8080/"
        },
        "id": "SUzltkg9RHWs",
        "outputId": "d4790e4e-85e2-4ce8-88bd-463200215760"
      },
      "source": [
        "FirstList=[]\n",
        "SecondList=[]\n",
        "for i in range(0,50):\n",
        "  x=r.randint(0,100)\n",
        "  if x<=50 or x>=150 :\n",
        "    FirstList.append(x)\n",
        "  else:\n",
        "    SecondList.append(x)\n",
        "print(FirstList)\n",
        "print(SecondList)\n"
      ],
      "execution_count": null,
      "outputs": [
        {
          "output_type": "stream",
          "text": [
            "[1, 0, 44, 43, 50, 5, 8, 33, 22, 11, 27, 18, 41, 36, 21, 22, 8, 1, 35, 37, 31, 42, 19, 43, 50]\n",
            "[63, 73, 64, 51, 68, 98, 70, 84, 69, 81, 96, 73, 81, 80, 89, 83, 72, 68, 68, 74, 53, 51, 91, 68, 79]\n"
          ],
          "name": "stdout"
        }
      ]
    },
    {
      "cell_type": "code",
      "metadata": {
        "colab": {
          "base_uri": "https://localhost:8080/"
        },
        "id": "TE-ZQ3mzRrwS",
        "outputId": "87adc18f-0df2-4373-c866-2e075c7f1960"
      },
      "source": [
        "FirstList=[]\n",
        "SecondList=[]\n",
        "for i in range(0,50):\n",
        "  x=r.randint(0,100)\n",
        "  if x<=50 and x>=150:    #!!! 5<=x<=10 -> 5<=x and x<=10\n",
        "    FirstList.append(x)\n",
        "  else:\n",
        "    SecondList.append(x)\n",
        "print(FirstList)\n",
        "print(SecondList)"
      ],
      "execution_count": null,
      "outputs": [
        {
          "output_type": "stream",
          "text": [
            "[]\n",
            "[100, 14, 53, 42, 7, 5, 35, 35, 69, 35, 17, 70, 12, 88, 3, 19, 94, 85, 13, 24, 34, 80, 75, 10, 87, 28, 56, 75, 84, 73, 79, 12, 59, 10, 52, 72, 30, 58, 79, 87, 24, 26, 62, 20, 62, 94, 8, 45, 62, 43]\n"
          ],
          "name": "stdout"
        }
      ]
    },
    {
      "cell_type": "code",
      "metadata": {
        "colab": {
          "base_uri": "https://localhost:8080/"
        },
        "id": "m4owWKnAJD4a",
        "outputId": "5b725615-8d0e-4ad2-8602-753bec291192"
      },
      "source": [
        "smallList=[]#smalllist small_list SmallList Small_List\n",
        "bigList=[]\n",
        "for i in range(0,10):\n",
        "  x=r.randint(0,20)\n",
        "  if x<=10:\n",
        "    smallList.append(x)\n",
        "  else :\n",
        "    bigList.append(x)\n",
        "print(smallList)\n",
        "print(bigList)\n",
        "comb=smallList+bigList\n",
        "print(comb)\n",
        "print(\"gior\"+\"gos\")\n",
        "smallist\n",
        "smalist"
      ],
      "execution_count": null,
      "outputs": [
        {
          "output_type": "stream",
          "text": [
            "[0, 9, 9, 1, 4]\n",
            "[14, 19, 19, 15, 12]\n",
            "[0, 9, 9, 1, 4, 14, 19, 19, 15, 12]\n",
            "giorgos\n"
          ],
          "name": "stdout"
        }
      ]
    },
    {
      "cell_type": "code",
      "metadata": {
        "colab": {
          "base_uri": "https://localhost:8080/"
        },
        "id": "f41xXbrVJ5Yo",
        "outputId": "3cf3810d-34b2-4259-bc75-717c7197627f"
      },
      "source": [
        "elemcomb=[]\n",
        "#if i want to do it elementwise?\n",
        "diff=len(bigList)-len(smallList)\n",
        "if diff>=0:\n",
        "  for i in range(0,len(smallList)) :\n",
        "    elemcomb.append(smallList[i]+bigList[i])\n",
        "  for i in range(len(smallList),len(bigList)):\n",
        "    elemcomb.append(bigList[i])\n",
        "else:\n",
        "  for i in range(0,len(bigList)) :\n",
        "    elemcomb.append(bigList[i]+smallList[i])\n",
        "  for i in range(len(bigList),len(smallList)):\n",
        "    elemcomb.append(smallList[i])\n",
        "print(elemcomb)"
      ],
      "execution_count": null,
      "outputs": [
        {
          "output_type": "stream",
          "text": [
            "[22, 13, 19, 13, 19, 16, 13]\n"
          ],
          "name": "stdout"
        }
      ]
    },
    {
      "cell_type": "code",
      "metadata": {
        "colab": {
          "base_uri": "https://localhost:8080/"
        },
        "id": "_1eOLtppKt2A",
        "outputId": "a78e9d4d-6b26-406c-d42d-f53c09154fae"
      },
      "source": [
        "x=10\n",
        "y=3\n",
        "#10=3*3+1\n",
        "print(\"float division=\",x/y)\n",
        "print(\"integer division product=\",x//y)\n",
        "print(\"module=\",x%y)\n",
        "print(x,\"=\",x//y,\"*\",y,\"+\",x%y)\n",
        "print(\"\\n-------------\\n\")\n",
        "#10**3=10*10*10\n",
        "print(\"power=\",x**y)"
      ],
      "execution_count": null,
      "outputs": [
        {
          "output_type": "stream",
          "text": [
            "float division= 3.3333333333333335\n",
            "integer division product= 3\n",
            "module= 1\n",
            "10 = 3 * 3 + 1\n",
            "\n",
            "-------------\n",
            "\n",
            "power= 1000\n"
          ],
          "name": "stdout"
        }
      ]
    },
    {
      "cell_type": "code",
      "metadata": {
        "colab": {
          "base_uri": "https://localhost:8080/"
        },
        "id": "MexyFVjbP4Q-",
        "outputId": "ec9f9fd4-2d61-4ca2-ba0f-ddb7b0345501"
      },
      "source": [
        "x=int(input())\n",
        "a=x//10\n",
        "b=x%10\n",
        "print(a)\n",
        "print(b)"
      ],
      "execution_count": null,
      "outputs": [
        {
          "output_type": "stream",
          "text": [
            "16\n",
            "1\n",
            "6\n"
          ],
          "name": "stdout"
        }
      ]
    },
    {
      "cell_type": "code",
      "metadata": {
        "colab": {
          "base_uri": "https://localhost:8080/"
        },
        "id": "gedEcTkGJNyo",
        "outputId": "367911c2-299b-4553-cf81-8d6d9494704f"
      },
      "source": [
        "print(abs(-5))"
      ],
      "execution_count": null,
      "outputs": [
        {
          "output_type": "stream",
          "text": [
            "5\n"
          ],
          "name": "stdout"
        }
      ]
    },
    {
      "cell_type": "code",
      "metadata": {
        "colab": {
          "base_uri": "https://localhost:8080/"
        },
        "id": "-1U_JuxSPLA_",
        "outputId": "36e3810a-54f8-4dc1-fc95-414d6a90e11b"
      },
      "source": [
        "x=55.587654\n",
        "print(round(x,0))\n",
        "print(round(x,1))\n",
        "print(round(x,2))\n",
        "print(round(x,-1))\n",
        "print(round(x,-2))\n",
        "\n",
        "#search google if you dont remember"
      ],
      "execution_count": null,
      "outputs": [
        {
          "output_type": "stream",
          "text": [
            "56.0\n",
            "55.6\n",
            "55.59\n",
            "60.0\n",
            "100.0\n"
          ],
          "name": "stdout"
        }
      ]
    },
    {
      "cell_type": "code",
      "metadata": {
        "colab": {
          "base_uri": "https://localhost:8080/"
        },
        "id": "XqMIdrI3L2D_",
        "outputId": "578a75e8-8c53-40e2-d327-b27536b2bfbf"
      },
      "source": [
        "import math\n",
        "print(math.sqrt(10))\n",
        "#exercise : find sqrt of a number after checking if >=0\n",
        "\n",
        "x=-10\n",
        "if x>=0:\n",
        "  math.sqrt(x)\n",
        "else :\n",
        "  print(\"do nothing\")"
      ],
      "execution_count": null,
      "outputs": [
        {
          "output_type": "stream",
          "text": [
            "3.1622776601683795\n",
            "do nothing\n"
          ],
          "name": "stdout"
        }
      ]
    },
    {
      "cell_type": "markdown",
      "metadata": {
        "id": "-QtWF7yPdO8d"
      },
      "source": [
        "# Calculator"
      ]
    },
    {
      "cell_type": "code",
      "metadata": {
        "id": "J0l-krWSd0mB"
      },
      "source": [
        "*\n",
        "3\n",
        "4\n",
        "#print(3*4)\n",
        "#+ - * /"
      ],
      "execution_count": null,
      "outputs": []
    },
    {
      "cell_type": "code",
      "metadata": {
        "id": "2Y5PcrUvQDCk"
      },
      "source": [
        "#step by step , construct the code mentally and then write\n",
        "#first the inputs\n",
        "#then the conditionals\n",
        "#what i do inside every conditional\n",
        "#have i considered all cases?"
      ],
      "execution_count": null,
      "outputs": []
    },
    {
      "cell_type": "code",
      "metadata": {
        "id": "X8E9nLfEo8dD",
        "colab": {
          "base_uri": "https://localhost:8080/"
        },
        "outputId": "3fda4017-6032-4aa2-d961-5d5973293899"
      },
      "source": [
        "op = input(\"Type operator\")#+ - * / // %\n",
        "x = int(input(\"Type first number\"))\n",
        "y = int(input(\"Type second number\"))\n",
        "if op==\"+\":\n",
        "  print(\"Result =\",x+y)\n",
        "elif op==\"-\":\n",
        "  print(\"Result =\",x-y)\n",
        "elif op==\"*\":\n",
        "  print(\"Result =\",x*y)\n",
        "elif op==\"/\":\n",
        "  print(\"Result =\",x/y)\n",
        "elif op==\"//\":\n",
        "  print(\"Result =\",x//y)\n",
        "elif op==\"%\":\n",
        "  print(\"Result =\",x%y)\n",
        "else :\n",
        "  print(\"i dont know what to do with it\")\n"
      ],
      "execution_count": null,
      "outputs": [
        {
          "output_type": "stream",
          "text": [
            "Type operator+\n",
            "Type first number3\n",
            "Type second number4\n",
            "Result = 7\n"
          ],
          "name": "stdout"
        }
      ]
    },
    {
      "cell_type": "code",
      "metadata": {
        "id": "BLC-eP02Qk-T",
        "colab": {
          "base_uri": "https://localhost:8080/"
        },
        "outputId": "c4531158-7b2d-4248-c387-7c051d8c02c6"
      },
      "source": [
        "for i in range(0,3):\n",
        "  op = input(\"Type operator\")\n",
        "  x = int(input(\"Type first number\"))\n",
        "  y= int(input(\"Type second number\"))\n",
        "  if op==\"+\":\n",
        "    print(\"Result =\",x+y)\n",
        "  elif op==\"-\":\n",
        "    print(\"Result =\",x-y)\n",
        "  elif op==\"*\":\n",
        "    print(\"Result =\",x*y)\n",
        "  elif op==\"/\":\n",
        "    print(\"Result =\",x/y)\n",
        "  elif op==\"%\":\n",
        "    print(\"Result =\",x%y)\n",
        "  elif op==\"//\":\n",
        "    print(\"Result =\",x//y)\n",
        "  elif op==\"**\":\n",
        "    print(\"Result =\",x**y)\n",
        "  else:\n",
        "    print(\"Something went wrong\")"
      ],
      "execution_count": null,
      "outputs": [
        {
          "output_type": "stream",
          "text": [
            "Type operator+\n",
            "Type first number3\n",
            "Type second number4\n",
            "Result = 7\n",
            "Type operator-\n",
            "Type first number4\n",
            "Type second number7\n",
            "Result = -3\n",
            "Type operator*\n",
            "Type first number3\n",
            "Type second number4\n",
            "Result = 12\n"
          ],
          "name": "stdout"
        }
      ]
    },
    {
      "cell_type": "code",
      "metadata": {
        "id": "f1fnTL5wBbgT",
        "colab": {
          "base_uri": "https://localhost:8080/"
        },
        "outputId": "83365ff2-3fe0-4ad3-a7e0-10640e73f8db"
      },
      "source": [
        "\"\"\"\n",
        "==\n",
        ">=\n",
        "<=\n",
        "!= is not, different than\n",
        "\"\"\"\n",
        "op = input(\"Type operator\")\n",
        "while( op!= \"STOP\"):\n",
        "\n",
        "  x = int(input(\"Type first number\"))\n",
        "  y= int(input(\"Type second number\"))\n",
        "  if op==\"+\":\n",
        "    print(\"Result =\",x+y)\n",
        "  elif op==\"-\":\n",
        "    print(\"Result =\",x-y)\n",
        "  elif op==\"*\":\n",
        "    print(\"Result =\",x*y)\n",
        "  elif op==\"/\":\n",
        "    print(\"Result =\",x/y)\n",
        "  elif op==\"%\":\n",
        "    print(\"Result =\",x%y)\n",
        "  elif op==\"//\":\n",
        "    print(\"Result =\",x//y)\n",
        "  elif op==\"**\":\n",
        "    print(\"Result =\",x**y)\n",
        "  else:\n",
        "    print(\"Something went wrong\")\n",
        "  op = input(\"Type operator\")"
      ],
      "execution_count": null,
      "outputs": [
        {
          "output_type": "stream",
          "text": [
            "Type operator+\n",
            "Type first number3\n",
            "Type second number4\n",
            "Result = 7\n",
            "Type operatorSTOP\n"
          ],
          "name": "stdout"
        }
      ]
    },
    {
      "cell_type": "code",
      "metadata": {
        "id": "n-1Kfj79CdU9",
        "colab": {
          "base_uri": "https://localhost:8080/"
        },
        "outputId": "76b003c6-3f9c-4d73-fe73-3503ad167840"
      },
      "source": [
        "op = input(\"Type operator\")\n",
        "while(op!=\"STOP\"):\n",
        "  xy = int(input(\"Type numbers together\")) #this not a good way because it works only with 1 digit\n",
        "  x=xy//10\n",
        "  y=xy%10\n",
        "  if op==\"+\":\n",
        "    print(\"Result =\",x+y)\n",
        "  elif op==\"-\":\n",
        "    print(\"Result =\",x-y)\n",
        "  elif op==\"*\":\n",
        "    print(\"Result =\",x*y)\n",
        "  elif op==\"/\":\n",
        "    print(\"Result =\",x/y)\n",
        "  elif op==\"%\":\n",
        "    print(\"Result =\",x%y)\n",
        "  elif op==\"//\":\n",
        "    print(\"Result =\",x//y)\n",
        "  elif op==\"**\":\n",
        "    print(\"Result =\",x**y)\n",
        "  else:\n",
        "    print(\"Something went wrong\")\n",
        "  op = input(\"Type operator\")"
      ],
      "execution_count": null,
      "outputs": [
        {
          "output_type": "stream",
          "text": [
            "Type operator+\n",
            "Type numbers together56\n",
            "Result = 11\n",
            "Type operatorSTOP\n"
          ],
          "name": "stdout"
        }
      ]
    },
    {
      "cell_type": "code",
      "metadata": {
        "id": "aQZ9gyK_OOM8"
      },
      "source": [
        "#for next time\n",
        "#ask for number , number of decimals and round up the number to that number of decimals\n",
        "#calculator for sqrt , abs , square= **2, cube=**3\n",
        "#add two lists , elementwise (theoritical solution , just the idea)\n"
      ],
      "execution_count": null,
      "outputs": []
    },
    {
      "cell_type": "markdown",
      "metadata": {
        "id": "H2T0nmt1dvu_"
      },
      "source": [
        "# exercises"
      ]
    },
    {
      "cell_type": "code",
      "metadata": {
        "id": "CoeXhWXPqWZp",
        "colab": {
          "base_uri": "https://localhost:8080/"
        },
        "outputId": "70fce753-29ec-438a-ae84-c89404c2da32"
      },
      "source": [
        "import math\n",
        "\n",
        "x=132.213\n",
        "print(round(x,0))\n",
        "print(round(x,1))\n",
        "print(round(x,2))\n",
        "print(round(x,-1))\n",
        "print(round(x,-2))"
      ],
      "execution_count": null,
      "outputs": [
        {
          "output_type": "stream",
          "text": [
            "132.0\n",
            "132.2\n",
            "132.21\n",
            "130.0\n",
            "100.0\n"
          ],
          "name": "stdout"
        }
      ]
    },
    {
      "cell_type": "code",
      "metadata": {
        "id": "7MaxhibwqebD",
        "colab": {
          "base_uri": "https://localhost:8080/"
        },
        "outputId": "bbf13fcd-14c1-44d9-e422-18db373718b1"
      },
      "source": [
        "\"\"\"\n",
        "==\n",
        ">=\n",
        "<=\n",
        "!= is not, different than\n",
        "\"\"\"\n",
        "x=int(input())\n",
        "a=x//100\n",
        "b=x%100\n",
        "c1=b//10\n",
        "c2=b%10\n",
        "#341//100 = 3*100+41\n",
        "print(\"first digit = \",a)\n",
        "print(\"second digit = \",c1)\n",
        "print(\"second digit = \",c2)"
      ],
      "execution_count": null,
      "outputs": [
        {
          "output_type": "stream",
          "text": [
            "341\n",
            "first digit =  3\n",
            "second digit =  4\n",
            "second digit =  1\n"
          ],
          "name": "stdout"
        }
      ]
    },
    {
      "cell_type": "code",
      "metadata": {
        "colab": {
          "base_uri": "https://localhost:8080/"
        },
        "id": "fCAmau2yh5Qf",
        "outputId": "00f10eb0-4b5f-4d2a-c8a0-abe10c1c508a"
      },
      "source": [
        "import random\n",
        "print(random.uniform(0,10))\n",
        "print(\"--------------\")\n",
        "print(random.randint(0,10))"
      ],
      "execution_count": null,
      "outputs": [
        {
          "output_type": "stream",
          "text": [
            "2.49\n",
            "--------------\n",
            "6\n"
          ],
          "name": "stdout"
        }
      ]
    },
    {
      "cell_type": "code",
      "metadata": {
        "colab": {
          "base_uri": "https://localhost:8080/"
        },
        "id": "sZT1JF_Rauz9",
        "outputId": "0aa65af1-4d02-4171-dc1a-f8722e6e46e0"
      },
      "source": [
        "x=random.randint(0,10)\n",
        "x=x*1.612345678\n",
        "print(x)"
      ],
      "execution_count": null,
      "outputs": [
        {
          "output_type": "stream",
          "text": [
            "12.898765424\n"
          ],
          "name": "stdout"
        }
      ]
    },
    {
      "cell_type": "code",
      "metadata": {
        "colab": {
          "base_uri": "https://localhost:8080/"
        },
        "id": "JXnAeQolbLz3",
        "outputId": "f6882e5b-3bc8-4a13-bb41-48af2d2b086c"
      },
      "source": [
        "print(int(100+12.5))\n",
        "print(\"hello my age is\",10)\n",
        "print(\"hello my age is\"+str(10))"
      ],
      "execution_count": null,
      "outputs": [
        {
          "output_type": "stream",
          "text": [
            "112\n",
            "hello my age is 10\n",
            "hello my age is10\n"
          ],
          "name": "stdout"
        }
      ]
    },
    {
      "cell_type": "code",
      "metadata": {
        "colab": {
          "base_uri": "https://localhost:8080/"
        },
        "id": "dpnoY8n3d4J2",
        "outputId": "80e1b291-5bfb-43e9-c2e6-1a9515b87f5d"
      },
      "source": [
        "#ask for number , number of decimals and round up the number to that number of decimals\n",
        "number=float(input(\"type number here \"))\n",
        "decimals=int(input(\"type number of decimals here \"))\n",
        "x= round(number,decimals)\n",
        "print(\"Rounded number : \",x)"
      ],
      "execution_count": null,
      "outputs": [
        {
          "output_type": "stream",
          "text": [
            "type number here 234567.345678\n",
            "type number of decimals here 4\n",
            "Rounded number :  234567.3457\n"
          ],
          "name": "stdout"
        }
      ]
    },
    {
      "cell_type": "code",
      "metadata": {
        "id": "DFbao8KOeahL",
        "colab": {
          "base_uri": "https://localhost:8080/"
        },
        "outputId": "130c17be-197a-4f1a-ba01-ced5849b55e4"
      },
      "source": [
        "#calculator for sqrt , abs , square= **2, cube=**3\n",
        "import math\n",
        "op = input(\"Type operation(sqrt,abs,square,cube)\")\n",
        "while(op!=\"STOP\"):\n",
        "  x = int(input(\"Type number \"))\n",
        "  if op==\"sqrt\":\n",
        "    print(\"Result = \",math.sqrt(x))\n",
        "  elif op==\"abs\":\n",
        "    print(\"Result = \",abs(x))\n",
        "  elif op==\"square\":\n",
        "    print(\"Result = \",x**2)\n",
        "  elif op==\"cube\":\n",
        "    print(\"Result = \",x**3)\n",
        "  else:\n",
        "    print(\"Something went wrong\")\n",
        "  op = input(\"Type operator \")"
      ],
      "execution_count": null,
      "outputs": [
        {
          "output_type": "stream",
          "text": [
            "Type operation(sqrt,abs,square,cube)sqrt\n",
            "Type number 9\n",
            "Result =  3.0\n",
            "Type operator STOP\n"
          ],
          "name": "stdout"
        }
      ]
    },
    {
      "cell_type": "code",
      "metadata": {
        "colab": {
          "base_uri": "https://localhost:8080/"
        },
        "id": "MLEVN7XZfakq",
        "outputId": "2e45fc19-d47e-4d39-e8ea-ac55b5b2231f"
      },
      "source": [
        "#add two lists , elementwise (theoritical solution , just the idea)\n",
        "#firt with same len list\n",
        "import random\n",
        "list1=[]\n",
        "list2=[]\n",
        "#for elem in list1:\n",
        "for i in range(0,10):\n",
        "  list1.append(random.randint(0,10))\n",
        "  list2.append(random.randint(0,10))\n",
        "print(\"list1 is : \",list1 )\n",
        "print(\"len of list1 is : \",len(list1))\n",
        "print(\"list2 is : \",list2)\n",
        "print(\"len of list2 is : \",len(list2))\n",
        "elemcomb=[]\n",
        "for i in range(0,len(list2)) :\n",
        "  elemcomb.append(list2[i]+list1[i])\n",
        "print(elemcomb)\n",
        "print(\"len of final list is : \",len(elemcomb))"
      ],
      "execution_count": null,
      "outputs": [
        {
          "output_type": "stream",
          "text": [
            "list1 is :  [7, 0, 10, 7, 2, 8, 4, 3, 3, 9]\n",
            "len of list1 is :  10\n",
            "list2 is :  [6, 7, 9, 0, 5, 3, 4, 8, 1, 4]\n",
            "len of list2 is :  10\n",
            "[13, 7, 19, 7, 7, 11, 8, 11, 4, 13]\n",
            "len of final list is :  10\n"
          ],
          "name": "stdout"
        }
      ]
    },
    {
      "cell_type": "code",
      "metadata": {
        "colab": {
          "base_uri": "https://localhost:8080/"
        },
        "id": "zdlgvf35gABF",
        "outputId": "8f589613-392b-41b1-c418-48bb612d5ca3"
      },
      "source": [
        "#lists with different lenghts\n",
        "import random\n",
        "list1=[]\n",
        "list2=[]\n",
        "for i in range(0,random.randint(10,20)):\n",
        "  list1.append(random.randint(0,10))\n",
        "for i in range(0,random.randint(10,20)):\n",
        "  list2.append(random.randint(0,10))\n",
        "print(\"list1 is : \",list1 )\n",
        "print(\"len of list1 is : \",len(list1))\n",
        "print(\"list2 is : \",list2)\n",
        "print(\"len of list2 is : \",len(list2))\n",
        "elemcomb=[]\n",
        "diff=len(list1)-len(list2)\n",
        "if diff>=0:\n",
        "  for i in range(0,len(list2)) :\n",
        "    elemcomb.append(list2[i]+list1[i])\n",
        "  for i in range(len(list2),len(list1)):\n",
        "    elemcomb.append(list1[i])\n",
        "else:\n",
        "  for i in range(0,len(list1)) :\n",
        "    elemcomb.append(list1[i]+list2[i])\n",
        "  for i in range(len(list1),len(list2)):\n",
        "    elemcomb.append(list2[i])\n",
        "print(elemcomb)\n",
        "print(\"len of final list is : \",len(elemcomb))"
      ],
      "execution_count": null,
      "outputs": [
        {
          "output_type": "stream",
          "text": [
            "list1 is :  [2, 5, 5, 2, 4, 2, 2, 4, 4, 6, 8, 1]\n",
            "len of list1 is :  12\n",
            "list2 is :  [1, 3, 0, 8, 0, 10, 7, 5, 7, 6, 8, 7, 9, 2, 3, 1, 7, 5, 6, 6]\n",
            "len of list2 is :  20\n",
            "[3, 8, 5, 10, 4, 12, 9, 9, 11, 12, 16, 8, 9, 2, 3, 1, 7, 5, 6, 6]\n",
            "len of final list is :  20\n"
          ],
          "name": "stdout"
        }
      ]
    },
    {
      "cell_type": "markdown",
      "metadata": {
        "id": "HY--42VdTzoe"
      },
      "source": [
        "# functions"
      ]
    },
    {
      "cell_type": "code",
      "metadata": {
        "colab": {
          "base_uri": "https://localhost:8080/"
        },
        "id": "Je6IfV-lmbG5",
        "outputId": "5573e995-4b7e-4cfe-9ead-401ee58e6db1"
      },
      "source": [
        "#>= <= == !=\n",
        "x=True\n",
        "y=True\n",
        "\n",
        "if x==True:\n",
        "  print(\"x equals True\")\n",
        "if (y==True and  x==False ) or (x!=True and  y==False ) :\n",
        "  print(\"y equals True\")\n",
        "else :\n",
        "  print(\"neither x nor y equals True\")\n",
        "\n"
      ],
      "execution_count": null,
      "outputs": [
        {
          "output_type": "stream",
          "text": [
            "x equals True\n",
            "y equals True\n"
          ],
          "name": "stdout"
        }
      ]
    },
    {
      "cell_type": "code",
      "metadata": {
        "id": "_jxi6y5Ip9Yq"
      },
      "source": [
        "import random\n",
        "for j in range(0,100):\n",
        "  mylist=[]\n",
        "  for i in range(0,100):\n",
        "    mylist.append(random.randint(0,100))\n",
        "  print(mylist)"
      ],
      "execution_count": null,
      "outputs": []
    },
    {
      "cell_type": "code",
      "metadata": {
        "colab": {
          "base_uri": "https://localhost:8080/"
        },
        "id": "ccbY7QbRrcVc",
        "outputId": "13b401e1-a2a2-4476-9f1d-ee28f800e938"
      },
      "source": [
        "list1=[1,2,3,4,5,6,7,8,5,2,3,4,62,1,2]\n",
        "print(list1[1:7:2])"
      ],
      "execution_count": null,
      "outputs": [
        {
          "output_type": "stream",
          "text": [
            "[2, 4, 6]\n"
          ],
          "name": "stdout"
        }
      ]
    },
    {
      "cell_type": "code",
      "metadata": {
        "colab": {
          "base_uri": "https://localhost:8080/"
        },
        "id": "xFgsJ8gyt-dd",
        "outputId": "46fee0d8-aaf5-4c87-b707-e65941134f0c"
      },
      "source": [
        "print(\"Conor\",end=' ')\n",
        "print(\"Giorgos\")"
      ],
      "execution_count": null,
      "outputs": [
        {
          "output_type": "stream",
          "text": [
            "Conor Giorgos\n"
          ],
          "name": "stdout"
        }
      ]
    },
    {
      "cell_type": "code",
      "metadata": {
        "id": "tn5gAniftcw1"
      },
      "source": [
        "x=100\n",
        "while x>5:\n",
        "  print(\"Conor\",end=' ')\n",
        "  x=random.randint(0,1000)\n",
        "  print(x)"
      ],
      "execution_count": null,
      "outputs": []
    },
    {
      "cell_type": "code",
      "metadata": {
        "id": "nG_50VKeQWDc"
      },
      "source": [
        "def addtion(x,y):\n",
        "  sum=x+y\n",
        "  return sum\n",
        "  #return x+y"
      ],
      "execution_count": null,
      "outputs": []
    },
    {
      "cell_type": "code",
      "metadata": {
        "colab": {
          "base_uri": "https://localhost:8080/"
        },
        "id": "BFXly4U3vhBa",
        "outputId": "fc682558-09f7-4a53-a74b-e01db58ebb09"
      },
      "source": [
        "print(addtion(3,2))\n"
      ],
      "execution_count": null,
      "outputs": [
        {
          "output_type": "stream",
          "text": [
            "5\n"
          ],
          "name": "stdout"
        }
      ]
    },
    {
      "cell_type": "code",
      "metadata": {
        "id": "nb8EbOT5kefp"
      },
      "source": [
        "def whatever(x,y,z):\n",
        "  name=x.upper()\n",
        "  age=int(y)\n",
        "  town=z.lower()\n",
        "  s = \"Person : \"+str(name) + \"\\t\\tAge : \"+str(age)+ \"\\t\\tTown : \"+str(town)\n",
        "  print(s)"
      ],
      "execution_count": null,
      "outputs": []
    },
    {
      "cell_type": "code",
      "metadata": {
        "id": "4XbCr_7umGZO",
        "colab": {
          "base_uri": "https://localhost:8080/"
        },
        "outputId": "568e0aad-44cd-4cf2-83ba-6a48223b6180"
      },
      "source": [
        "whatever(\"MaRiA\",53.13,\"ATHENS\")"
      ],
      "execution_count": null,
      "outputs": [
        {
          "output_type": "stream",
          "text": [
            "Person : MARIA\t\tAge : 53\t\tTown : athens\n"
          ],
          "name": "stdout"
        }
      ]
    },
    {
      "cell_type": "code",
      "metadata": {
        "id": "qKEGea03mi_e"
      },
      "source": [
        "def whatever2(x,y,z):\n",
        "  name=x.upper()\n",
        "  age=int(y)\n",
        "  town=z.lower()\n",
        "  return \"Person : \"+str(name) + \"\\t\\tAge : \"+str(age)+ \"\\t\\tTown : \"+str(town)"
      ],
      "execution_count": null,
      "outputs": []
    },
    {
      "cell_type": "code",
      "metadata": {
        "colab": {
          "base_uri": "https://localhost:8080/"
        },
        "id": "MwnG-USxmjGK",
        "outputId": "753ad62d-627f-44e0-ab15-cc9381e5ab50"
      },
      "source": [
        "G = whatever2(\"MaRiA\",53.13,\"ATHENS\")\n",
        "print(G)\n",
        "print(G+\" CONOR \")\n",
        "print(G[0:10])\n",
        "G2= whatever2(\"GASDjad\",3412.23,\"ATsadr1\")\n",
        "print(G2)"
      ],
      "execution_count": null,
      "outputs": [
        {
          "output_type": "stream",
          "text": [
            "Person : MARIA\t\tAge : 53\t\tTown : athens\n",
            "Person : MARIA\t\tAge : 53\t\tTown : athens CONOR \n",
            "Person : M\n",
            "Person : GASDJAD\t\tAge : 3412\t\tTown : atsadr1\n"
          ],
          "name": "stdout"
        }
      ]
    },
    {
      "cell_type": "code",
      "metadata": {
        "colab": {
          "base_uri": "https://localhost:8080/"
        },
        "id": "reogMeW-zE42",
        "outputId": "ca9fc23f-c9a2-445b-d147-a136d1863ada"
      },
      "source": [
        "mystring=\"GIORGOS\"\n",
        "print(mystring[1:8])"
      ],
      "execution_count": null,
      "outputs": [
        {
          "output_type": "stream",
          "text": [
            "IORGOS\n"
          ],
          "name": "stdout"
        }
      ]
    },
    {
      "cell_type": "code",
      "metadata": {
        "id": "X6njNwxvpVzZ",
        "colab": {
          "base_uri": "https://localhost:8080/"
        },
        "outputId": "0b605fdc-9fbf-4c45-bef3-a89c60b5aa56"
      },
      "source": [
        "def addletters(x):\n",
        "  s = str(x)+\"AAAAAAAAAAAA\"\n",
        "  return s\n",
        "print(addletters(\"EEEE\"))"
      ],
      "execution_count": null,
      "outputs": [
        {
          "output_type": "stream",
          "text": [
            "EEEEAAAAAAAAAAAA\n"
          ],
          "name": "stdout"
        }
      ]
    },
    {
      "cell_type": "code",
      "metadata": {
        "id": "dSVywDrypedU"
      },
      "source": [
        "def printnewword(word):\n",
        "  variable=addletters(word)\n",
        "  print(variable)\n",
        "  #function inside function"
      ],
      "execution_count": null,
      "outputs": []
    },
    {
      "cell_type": "code",
      "metadata": {
        "colab": {
          "base_uri": "https://localhost:8080/"
        },
        "id": "wsblcbX_pV2T",
        "outputId": "294aba28-ec86-477f-9f0c-1c42077c9187"
      },
      "source": [
        "printnewword(\"hello\")"
      ],
      "execution_count": null,
      "outputs": [
        {
          "output_type": "stream",
          "text": [
            "helloAAAAAAAAAAAA\n"
          ],
          "name": "stdout"
        }
      ]
    },
    {
      "cell_type": "code",
      "metadata": {
        "id": "wb453bcxZtXN"
      },
      "source": [
        "def calc():\n",
        "  op = input(\"Type operator\")\n",
        "  while(op!=\"STOP\"):\n",
        "    x = int(input(\"Type first number\"))\n",
        "    y= int(input(\"Type second number\"))\n",
        "    if op==\"+\":\n",
        "      print(\"Result =\",x+y)\n",
        "    elif op==\"-\":\n",
        "      print(\"Result =\",x-y)\n",
        "    elif op==\"*\":\n",
        "      print(\"Result =\",x*y)\n",
        "    elif op==\"/\":\n",
        "      print(\"Result =\",x/y)\n",
        "    elif op==\"%\":\n",
        "      print(\"Result =\",x%y)\n",
        "    elif op==\"//\":\n",
        "      print(\"Result =\",x//y)\n",
        "    elif op==\"**\":\n",
        "      print(\"Result =\",x**y)\n",
        "    else:\n",
        "      print(\"Something went wrong\")\n",
        "    op = input(\"Type operator\")"
      ],
      "execution_count": null,
      "outputs": []
    },
    {
      "cell_type": "code",
      "metadata": {
        "id": "hot327i0kcev"
      },
      "source": [
        "calc()\n",
        "calc()\n",
        "calc()\n",
        "calc()"
      ],
      "execution_count": null,
      "outputs": []
    },
    {
      "cell_type": "code",
      "metadata": {
        "id": "gWd_iP49jtu3"
      },
      "source": [
        "#revision"
      ],
      "execution_count": null,
      "outputs": []
    },
    {
      "cell_type": "code",
      "metadata": {
        "colab": {
          "base_uri": "https://localhost:8080/"
        },
        "id": "9FsPm57ZjxMM",
        "outputId": "800115eb-b872-46c5-b323-bfdd63f084df"
      },
      "source": [
        "import random , math\n",
        "mylist = []\n",
        "for i in range(0,random.randint(1,100)):\n",
        "  mylist.append(round(math.sqrt(random.randint(0,50)),2))\n",
        "le=len(mylist)\n",
        "print(\"lenght of the list = \",le)\n",
        "print(mylist)"
      ],
      "execution_count": null,
      "outputs": [
        {
          "output_type": "stream",
          "text": [
            "lentght of the list =  40\n",
            "[5.1, 6.24, 4.12, 4.58, 6.08, 4.8, 0.0, 5.57, 5.66, 4.12, 4.8, 3.0, 4.58, 4.36, 3.61, 1.0, 2.45, 5.1, 6.93, 5.39, 2.45, 4.9, 0.0, 2.83, 4.36, 7.07, 4.58, 1.41, 1.0, 4.12, 4.69, 5.83, 4.24, 6.0, 5.57, 5.2, 2.83, 5.66, 6.08, 5.29]\n"
          ],
          "name": "stdout"
        }
      ]
    },
    {
      "cell_type": "code",
      "metadata": {
        "colab": {
          "base_uri": "https://localhost:8080/"
        },
        "id": "TPGuW_-XbWOX",
        "outputId": "2daa57f1-d9b3-4983-fb13-1977319ef14f"
      },
      "source": [
        "print(16/5)\n",
        "print(16//5)\n",
        "print(16%5)\n",
        "#16=3*5+1"
      ],
      "execution_count": null,
      "outputs": [
        {
          "output_type": "stream",
          "text": [
            "3.2\n",
            "3\n",
            "1\n"
          ],
          "name": "stdout"
        }
      ]
    },
    {
      "cell_type": "code",
      "metadata": {
        "colab": {
          "base_uri": "https://localhost:8080/"
        },
        "id": "lXTkVTbykapg",
        "outputId": "5c2f2cd4-25b9-438c-b61c-baba47886fa0"
      },
      "source": [
        "print(mylist[0:le])\n",
        "print(mylist[0:le//2])# try with float division\n",
        "print(mylist[0:le:2])\n",
        "print(mylist[0:le:3])\n",
        "print(mylist[0:le//2:2])\n",
        "print(mylist[0:le//3:3])"
      ],
      "execution_count": null,
      "outputs": [
        {
          "output_type": "stream",
          "text": [
            "[5.1, 6.24, 4.12, 4.58, 6.08, 4.8, 0.0, 5.57, 5.66, 4.12, 4.8, 3.0, 4.58, 4.36, 3.61, 1.0, 2.45, 5.1, 6.93, 5.39, 2.45, 4.9, 0.0, 2.83, 4.36, 7.07, 4.58, 1.41, 1.0, 4.12, 4.69, 5.83, 4.24, 6.0, 5.57, 5.2, 2.83, 5.66, 6.08, 5.29]\n",
            "[5.1, 6.24, 4.12, 4.58, 6.08, 4.8, 0.0, 5.57, 5.66, 4.12, 4.8, 3.0, 4.58, 4.36, 3.61, 1.0, 2.45, 5.1, 6.93, 5.39]\n",
            "[5.1, 4.12, 6.08, 0.0, 5.66, 4.8, 4.58, 3.61, 2.45, 6.93, 2.45, 0.0, 4.36, 4.58, 1.0, 4.69, 4.24, 5.57, 2.83, 6.08]\n",
            "[5.1, 4.58, 0.0, 4.12, 4.58, 1.0, 6.93, 4.9, 4.36, 1.41, 4.69, 6.0, 2.83, 5.29]\n",
            "[5.1, 4.12, 6.08, 0.0, 5.66, 4.8, 4.58, 3.61, 2.45, 6.93]\n",
            "[5.1, 4.58, 0.0, 4.12, 4.58]\n"
          ],
          "name": "stdout"
        }
      ]
    },
    {
      "cell_type": "code",
      "metadata": {
        "id": "WlEKiQ9djm7l"
      },
      "source": [
        "#start from here , explain how to build the following shells not just run them"
      ],
      "execution_count": null,
      "outputs": []
    },
    {
      "cell_type": "code",
      "metadata": {
        "id": "8_HyLihpjHG6"
      },
      "source": [
        "def add(x,y):\n",
        "  return x+y\n",
        "def sub(x,y):\n",
        "  return x-y\n",
        "def mul(x,y):\n",
        "  return x*y\n",
        "def div(x,y):\n",
        "  return x/y\n",
        "def pow(x,y):\n",
        "  return x**y\n",
        "def intdiv(x,y):\n",
        "  return x//y\n",
        "def mod(x,y):\n",
        "  return x%y\n",
        "def mathfunc(x,y):\n",
        "  return x*y+x+5+6*y"
      ],
      "execution_count": null,
      "outputs": []
    },
    {
      "cell_type": "code",
      "metadata": {
        "colab": {
          "base_uri": "https://localhost:8080/"
        },
        "id": "9vlQJ-zAenAP",
        "outputId": "71a11288-ceb3-4fd2-d112-ed3626970025"
      },
      "source": [
        "print(mathfunc(5,6))\n"
      ],
      "execution_count": null,
      "outputs": [
        {
          "output_type": "stream",
          "text": [
            "76\n"
          ],
          "name": "stdout"
        }
      ]
    },
    {
      "cell_type": "code",
      "metadata": {
        "id": "4rvnZx3ejHpQ",
        "colab": {
          "base_uri": "https://localhost:8080/",
          "height": 517
        },
        "outputId": "d1b66f09-6edf-46de-c061-22a67be7ae1f"
      },
      "source": [
        "op = input(\"Type operator\")\n",
        "while(op!=\"STOP\"):\n",
        "  x = int(input(\"Type first number \"))\n",
        "  y= int(input(\"Type second number \"))\n",
        "  if op==\"+\":\n",
        "    print(add(x,y))\n",
        "  elif op==\"-\":\n",
        "    print(sub(x,y))\n",
        "  elif op==\"*\":\n",
        "    print(mul(x,y))\n",
        "  elif op==\"/\":\n",
        "    print(div(x,y))\n",
        "  elif op==\"%\":\n",
        "    print(mod(x,y))\n",
        "  elif op==\"//\":\n",
        "    print(intdiv(x,y))\n",
        "  elif op==\"**\":\n",
        "    print(pow(x,y))\n",
        "  else:\n",
        "    print(\"Something went wrong\")\n",
        "  op = input(\"Type operator\")"
      ],
      "execution_count": null,
      "outputs": [
        {
          "output_type": "error",
          "ename": "KeyboardInterrupt",
          "evalue": "ignored",
          "traceback": [
            "\u001b[0;31m---------------------------------------------------------------------------\u001b[0m",
            "\u001b[0;31mKeyboardInterrupt\u001b[0m                         Traceback (most recent call last)",
            "\u001b[0;32m/usr/local/lib/python3.7/dist-packages/ipykernel/kernelbase.py\u001b[0m in \u001b[0;36m_input_request\u001b[0;34m(self, prompt, ident, parent, password)\u001b[0m\n\u001b[1;32m    728\u001b[0m             \u001b[0;32mtry\u001b[0m\u001b[0;34m:\u001b[0m\u001b[0;34m\u001b[0m\u001b[0;34m\u001b[0m\u001b[0m\n\u001b[0;32m--> 729\u001b[0;31m                 \u001b[0mident\u001b[0m\u001b[0;34m,\u001b[0m \u001b[0mreply\u001b[0m \u001b[0;34m=\u001b[0m \u001b[0mself\u001b[0m\u001b[0;34m.\u001b[0m\u001b[0msession\u001b[0m\u001b[0;34m.\u001b[0m\u001b[0mrecv\u001b[0m\u001b[0;34m(\u001b[0m\u001b[0mself\u001b[0m\u001b[0;34m.\u001b[0m\u001b[0mstdin_socket\u001b[0m\u001b[0;34m,\u001b[0m \u001b[0;36m0\u001b[0m\u001b[0;34m)\u001b[0m\u001b[0;34m\u001b[0m\u001b[0;34m\u001b[0m\u001b[0m\n\u001b[0m\u001b[1;32m    730\u001b[0m             \u001b[0;32mexcept\u001b[0m \u001b[0mException\u001b[0m\u001b[0;34m:\u001b[0m\u001b[0;34m\u001b[0m\u001b[0;34m\u001b[0m\u001b[0m\n",
            "\u001b[0;32m/usr/local/lib/python3.7/dist-packages/jupyter_client/session.py\u001b[0m in \u001b[0;36mrecv\u001b[0;34m(self, socket, mode, content, copy)\u001b[0m\n\u001b[1;32m    802\u001b[0m         \u001b[0;32mtry\u001b[0m\u001b[0;34m:\u001b[0m\u001b[0;34m\u001b[0m\u001b[0;34m\u001b[0m\u001b[0m\n\u001b[0;32m--> 803\u001b[0;31m             \u001b[0mmsg_list\u001b[0m \u001b[0;34m=\u001b[0m \u001b[0msocket\u001b[0m\u001b[0;34m.\u001b[0m\u001b[0mrecv_multipart\u001b[0m\u001b[0;34m(\u001b[0m\u001b[0mmode\u001b[0m\u001b[0;34m,\u001b[0m \u001b[0mcopy\u001b[0m\u001b[0;34m=\u001b[0m\u001b[0mcopy\u001b[0m\u001b[0;34m)\u001b[0m\u001b[0;34m\u001b[0m\u001b[0;34m\u001b[0m\u001b[0m\n\u001b[0m\u001b[1;32m    804\u001b[0m         \u001b[0;32mexcept\u001b[0m \u001b[0mzmq\u001b[0m\u001b[0;34m.\u001b[0m\u001b[0mZMQError\u001b[0m \u001b[0;32mas\u001b[0m \u001b[0me\u001b[0m\u001b[0;34m:\u001b[0m\u001b[0;34m\u001b[0m\u001b[0;34m\u001b[0m\u001b[0m\n",
            "\u001b[0;32m/usr/local/lib/python3.7/dist-packages/zmq/sugar/socket.py\u001b[0m in \u001b[0;36mrecv_multipart\u001b[0;34m(self, flags, copy, track)\u001b[0m\n\u001b[1;32m    582\u001b[0m         \"\"\"\n\u001b[0;32m--> 583\u001b[0;31m         \u001b[0mparts\u001b[0m \u001b[0;34m=\u001b[0m \u001b[0;34m[\u001b[0m\u001b[0mself\u001b[0m\u001b[0;34m.\u001b[0m\u001b[0mrecv\u001b[0m\u001b[0;34m(\u001b[0m\u001b[0mflags\u001b[0m\u001b[0;34m,\u001b[0m \u001b[0mcopy\u001b[0m\u001b[0;34m=\u001b[0m\u001b[0mcopy\u001b[0m\u001b[0;34m,\u001b[0m \u001b[0mtrack\u001b[0m\u001b[0;34m=\u001b[0m\u001b[0mtrack\u001b[0m\u001b[0;34m)\u001b[0m\u001b[0;34m]\u001b[0m\u001b[0;34m\u001b[0m\u001b[0;34m\u001b[0m\u001b[0m\n\u001b[0m\u001b[1;32m    584\u001b[0m         \u001b[0;31m# have first part already, only loop while more to receive\u001b[0m\u001b[0;34m\u001b[0m\u001b[0;34m\u001b[0m\u001b[0;34m\u001b[0m\u001b[0m\n",
            "\u001b[0;32mzmq/backend/cython/socket.pyx\u001b[0m in \u001b[0;36mzmq.backend.cython.socket.Socket.recv\u001b[0;34m()\u001b[0m\n",
            "\u001b[0;32mzmq/backend/cython/socket.pyx\u001b[0m in \u001b[0;36mzmq.backend.cython.socket.Socket.recv\u001b[0;34m()\u001b[0m\n",
            "\u001b[0;32mzmq/backend/cython/socket.pyx\u001b[0m in \u001b[0;36mzmq.backend.cython.socket._recv_copy\u001b[0;34m()\u001b[0m\n",
            "\u001b[0;32m/usr/local/lib/python3.7/dist-packages/zmq/backend/cython/checkrc.pxd\u001b[0m in \u001b[0;36mzmq.backend.cython.checkrc._check_rc\u001b[0;34m()\u001b[0m\n",
            "\u001b[0;31mKeyboardInterrupt\u001b[0m: ",
            "\nDuring handling of the above exception, another exception occurred:\n",
            "\u001b[0;31mKeyboardInterrupt\u001b[0m                         Traceback (most recent call last)",
            "\u001b[0;32m<ipython-input-28-e1041221bd06>\u001b[0m in \u001b[0;36m<module>\u001b[0;34m()\u001b[0m\n\u001b[0;32m----> 1\u001b[0;31m \u001b[0mop\u001b[0m \u001b[0;34m=\u001b[0m \u001b[0minput\u001b[0m\u001b[0;34m(\u001b[0m\u001b[0;34m\"Type operator\"\u001b[0m\u001b[0;34m)\u001b[0m\u001b[0;34m\u001b[0m\u001b[0;34m\u001b[0m\u001b[0m\n\u001b[0m\u001b[1;32m      2\u001b[0m \u001b[0;32mwhile\u001b[0m\u001b[0;34m(\u001b[0m\u001b[0mop\u001b[0m\u001b[0;34m!=\u001b[0m\u001b[0;34m\"STOP\"\u001b[0m\u001b[0;34m)\u001b[0m\u001b[0;34m:\u001b[0m\u001b[0;34m\u001b[0m\u001b[0;34m\u001b[0m\u001b[0m\n\u001b[1;32m      3\u001b[0m   \u001b[0mx\u001b[0m \u001b[0;34m=\u001b[0m \u001b[0mint\u001b[0m\u001b[0;34m(\u001b[0m\u001b[0minput\u001b[0m\u001b[0;34m(\u001b[0m\u001b[0;34m\"Type first number \"\u001b[0m\u001b[0;34m)\u001b[0m\u001b[0;34m)\u001b[0m\u001b[0;34m\u001b[0m\u001b[0;34m\u001b[0m\u001b[0m\n\u001b[1;32m      4\u001b[0m   \u001b[0my\u001b[0m\u001b[0;34m=\u001b[0m \u001b[0mint\u001b[0m\u001b[0;34m(\u001b[0m\u001b[0minput\u001b[0m\u001b[0;34m(\u001b[0m\u001b[0;34m\"Type second number \"\u001b[0m\u001b[0;34m)\u001b[0m\u001b[0;34m)\u001b[0m\u001b[0;34m\u001b[0m\u001b[0;34m\u001b[0m\u001b[0m\n\u001b[1;32m      5\u001b[0m   \u001b[0;32mif\u001b[0m \u001b[0mop\u001b[0m\u001b[0;34m==\u001b[0m\u001b[0;34m\"+\"\u001b[0m\u001b[0;34m:\u001b[0m\u001b[0;34m\u001b[0m\u001b[0;34m\u001b[0m\u001b[0m\n",
            "\u001b[0;32m/usr/local/lib/python3.7/dist-packages/ipykernel/kernelbase.py\u001b[0m in \u001b[0;36mraw_input\u001b[0;34m(self, prompt)\u001b[0m\n\u001b[1;32m    702\u001b[0m             \u001b[0mself\u001b[0m\u001b[0;34m.\u001b[0m\u001b[0m_parent_ident\u001b[0m\u001b[0;34m,\u001b[0m\u001b[0;34m\u001b[0m\u001b[0;34m\u001b[0m\u001b[0m\n\u001b[1;32m    703\u001b[0m             \u001b[0mself\u001b[0m\u001b[0;34m.\u001b[0m\u001b[0m_parent_header\u001b[0m\u001b[0;34m,\u001b[0m\u001b[0;34m\u001b[0m\u001b[0;34m\u001b[0m\u001b[0m\n\u001b[0;32m--> 704\u001b[0;31m             \u001b[0mpassword\u001b[0m\u001b[0;34m=\u001b[0m\u001b[0;32mFalse\u001b[0m\u001b[0;34m,\u001b[0m\u001b[0;34m\u001b[0m\u001b[0;34m\u001b[0m\u001b[0m\n\u001b[0m\u001b[1;32m    705\u001b[0m         )\n\u001b[1;32m    706\u001b[0m \u001b[0;34m\u001b[0m\u001b[0m\n",
            "\u001b[0;32m/usr/local/lib/python3.7/dist-packages/ipykernel/kernelbase.py\u001b[0m in \u001b[0;36m_input_request\u001b[0;34m(self, prompt, ident, parent, password)\u001b[0m\n\u001b[1;32m    732\u001b[0m             \u001b[0;32mexcept\u001b[0m \u001b[0mKeyboardInterrupt\u001b[0m\u001b[0;34m:\u001b[0m\u001b[0;34m\u001b[0m\u001b[0;34m\u001b[0m\u001b[0m\n\u001b[1;32m    733\u001b[0m                 \u001b[0;31m# re-raise KeyboardInterrupt, to truncate traceback\u001b[0m\u001b[0;34m\u001b[0m\u001b[0;34m\u001b[0m\u001b[0;34m\u001b[0m\u001b[0m\n\u001b[0;32m--> 734\u001b[0;31m                 \u001b[0;32mraise\u001b[0m \u001b[0mKeyboardInterrupt\u001b[0m\u001b[0;34m\u001b[0m\u001b[0;34m\u001b[0m\u001b[0m\n\u001b[0m\u001b[1;32m    735\u001b[0m             \u001b[0;32melse\u001b[0m\u001b[0;34m:\u001b[0m\u001b[0;34m\u001b[0m\u001b[0;34m\u001b[0m\u001b[0m\n\u001b[1;32m    736\u001b[0m                 \u001b[0;32mbreak\u001b[0m\u001b[0;34m\u001b[0m\u001b[0;34m\u001b[0m\u001b[0m\n",
            "\u001b[0;31mKeyboardInterrupt\u001b[0m: "
          ]
        }
      ]
    },
    {
      "cell_type": "code",
      "metadata": {
        "id": "47T_lTcOjHuE"
      },
      "source": [
        "def calc(x,y,op):\n",
        "  if op==\"+\":\n",
        "    print(add(x,y))\n",
        "  elif op==\"-\":\n",
        "    print(sub(x,y))\n",
        "  elif op==\"*\":\n",
        "    print(mul(x,y))\n",
        "  elif op==\"/\":\n",
        "    print(div(x,y))\n",
        "  elif op==\"%\":\n",
        "    print(mod(x,y))\n",
        "  elif op==\"//\":\n",
        "    print(intdiv(x,y))\n",
        "  elif op==\"**\":\n",
        "    print(pow(x,y))\n",
        "  else:\n",
        "    print(\"Something went wrong\")\n"
      ],
      "execution_count": null,
      "outputs": []
    },
    {
      "cell_type": "code",
      "metadata": {
        "colab": {
          "base_uri": "https://localhost:8080/"
        },
        "id": "i8s_-___kvNr",
        "outputId": "48e33dc3-0f30-4d44-e7f5-3450417f1069"
      },
      "source": [
        "#calc(4,5,+) #!!!\n",
        "calc(4,5,\"+\")\n",
        "calc(4,6,\"-\")"
      ],
      "execution_count": null,
      "outputs": [
        {
          "output_type": "stream",
          "text": [
            "9\n",
            "-2\n"
          ],
          "name": "stdout"
        }
      ]
    },
    {
      "cell_type": "code",
      "metadata": {
        "colab": {
          "base_uri": "https://localhost:8080/",
          "height": 210
        },
        "id": "LNH2ScfQf0nO",
        "outputId": "b8ab8125-f5a2-40db-cd73-b855cc712445"
      },
      "source": [
        "def func1(x,y,z):\n",
        "  print(x+y+z)\n",
        "def func1(x,y):\n",
        "  print(x-y)\n",
        "\n",
        "func1(3,4,5)\n"
      ],
      "execution_count": null,
      "outputs": [
        {
          "output_type": "error",
          "ename": "TypeError",
          "evalue": "ignored",
          "traceback": [
            "\u001b[0;31m---------------------------------------------------------------------------\u001b[0m",
            "\u001b[0;31mTypeError\u001b[0m                                 Traceback (most recent call last)",
            "\u001b[0;32m<ipython-input-33-323f205cab65>\u001b[0m in \u001b[0;36m<module>\u001b[0;34m()\u001b[0m\n\u001b[1;32m      4\u001b[0m   \u001b[0mprint\u001b[0m\u001b[0;34m(\u001b[0m\u001b[0mx\u001b[0m\u001b[0;34m-\u001b[0m\u001b[0my\u001b[0m\u001b[0;34m)\u001b[0m\u001b[0;34m\u001b[0m\u001b[0;34m\u001b[0m\u001b[0m\n\u001b[1;32m      5\u001b[0m \u001b[0;34m\u001b[0m\u001b[0m\n\u001b[0;32m----> 6\u001b[0;31m \u001b[0mfunc1\u001b[0m\u001b[0;34m(\u001b[0m\u001b[0;36m3\u001b[0m\u001b[0;34m,\u001b[0m\u001b[0;36m4\u001b[0m\u001b[0;34m,\u001b[0m\u001b[0;36m5\u001b[0m\u001b[0;34m)\u001b[0m\u001b[0;34m\u001b[0m\u001b[0;34m\u001b[0m\u001b[0m\n\u001b[0m\u001b[1;32m      7\u001b[0m \u001b[0mfunc1\u001b[0m\u001b[0;34m(\u001b[0m\u001b[0;36m3\u001b[0m\u001b[0;34m,\u001b[0m\u001b[0;36m4\u001b[0m\u001b[0;34m)\u001b[0m\u001b[0;34m\u001b[0m\u001b[0;34m\u001b[0m\u001b[0m\n",
            "\u001b[0;31mTypeError\u001b[0m: func1() takes 2 positional arguments but 3 were given"
          ]
        }
      ]
    },
    {
      "cell_type": "code",
      "metadata": {
        "colab": {
          "base_uri": "https://localhost:8080/"
        },
        "id": "_TjI0li8h9su",
        "outputId": "700cbb06-5eaa-4282-c48c-9c1b223d5eaa"
      },
      "source": [
        "for i in range(1,3):\n",
        "  for j in range(1,3):\n",
        "    for k in range(1,3):\n",
        "      print(i,j,k)\n",
        "\n",
        "      #30**3"
      ],
      "execution_count": null,
      "outputs": [
        {
          "output_type": "stream",
          "text": [
            "1 1 1\n",
            "1 1 2\n",
            "1 2 1\n",
            "1 2 2\n",
            "2 1 1\n",
            "2 1 2\n",
            "2 2 1\n",
            "2 2 2\n"
          ],
          "name": "stdout"
        }
      ]
    },
    {
      "cell_type": "code",
      "metadata": {
        "colab": {
          "base_uri": "https://localhost:8080/"
        },
        "id": "dxCbwh1ok8hO",
        "outputId": "3ab4f96d-6e4b-4e4e-96e5-f5ec9a7d564b"
      },
      "source": [
        "oplist=[\"+\",\"-\",\"*\",\"/\",\"//\",\"%\",\"**\"]\n",
        "for i in range(1,3):\n",
        "  for j in range(1,3):\n",
        "    for op in oplist:\n",
        "      calc(i,j,op)"
      ],
      "execution_count": null,
      "outputs": [
        {
          "output_type": "stream",
          "text": [
            "2\n",
            "0\n",
            "1\n",
            "1.0\n",
            "1\n",
            "0\n",
            "1\n",
            "3\n",
            "-1\n",
            "2\n",
            "0.5\n",
            "0\n",
            "1\n",
            "1\n",
            "3\n",
            "1\n",
            "2\n",
            "2.0\n",
            "2\n",
            "0\n",
            "2\n",
            "4\n",
            "0\n",
            "4\n",
            "1.0\n",
            "1\n",
            "0\n",
            "4\n"
          ],
          "name": "stdout"
        }
      ]
    },
    {
      "cell_type": "code",
      "metadata": {
        "id": "haiIVNTclrvK"
      },
      "source": [
        "def modifiedcalc(x,y,op):\n",
        "  if op==\"+\":\n",
        "    print(add(x,y),end='\\t')\n",
        "  elif op==\"-\":\n",
        "    print(sub(x,y),end='\\t')\n",
        "  elif op==\"*\":\n",
        "    print(mul(x,y),end='\\t')\n",
        "  elif op==\"/\":\n",
        "    print(div(x,y),end='\\t')\n",
        "  elif op==\"%\":\n",
        "    print(mod(x,y),end='\\t')\n",
        "  elif op==\"//\":\n",
        "    print(intdiv(x,y),end='\\t')\n",
        "  elif op==\"**\":\n",
        "    print(pow(x,y),end='\\t')\n",
        "  else:\n",
        "    print(\"Something went wrong\",end=' ')"
      ],
      "execution_count": null,
      "outputs": []
    },
    {
      "cell_type": "code",
      "metadata": {
        "colab": {
          "base_uri": "https://localhost:8080/"
        },
        "id": "BlDHEOyUjpcL",
        "outputId": "656b11e4-d920-469a-d6e4-2e0c5452bb6c"
      },
      "source": [
        "print(\"giorgos\",end='\\t')\n",
        "print()\n",
        "print(\"conor\")"
      ],
      "execution_count": null,
      "outputs": [
        {
          "output_type": "stream",
          "text": [
            "giorgos\t\n",
            "conor\n"
          ],
          "name": "stdout"
        }
      ]
    },
    {
      "cell_type": "code",
      "metadata": {
        "colab": {
          "base_uri": "https://localhost:8080/"
        },
        "id": "C2SlYFsHl2Dk",
        "outputId": "cb49f3be-98ce-4ad2-90cf-4717deb67aa0"
      },
      "source": [
        "oplist=[\"+\",\"-\",\"*\",\"/\",\"//\",\"%\",\"**\"]\n",
        "for i in range(1,3):\n",
        "  for j in range(1,3):\n",
        "    print(i,j,end=\"\\t\")\n",
        "    for op in oplist:\n",
        "      modifiedcalc(i,j,op)\n",
        "    print()"
      ],
      "execution_count": null,
      "outputs": [
        {
          "output_type": "stream",
          "text": [
            "1 1\t2\t0\t1\t1.0\t1\t0\t1\t\n",
            "1 2\t3\t-1\t2\t0.5\t0\t1\t1\t\n",
            "2 1\t3\t1\t2\t2.0\t2\t0\t2\t\n",
            "2 2\t4\t0\t4\t1.0\t1\t0\t4\t\n"
          ],
          "name": "stdout"
        }
      ]
    },
    {
      "cell_type": "code",
      "metadata": {
        "id": "KAq1MVvtmX26"
      },
      "source": [
        "def basicmath(xrange,yrange):\n",
        "  oplist=[\"+\",\"-\",\"*\",\"/\",\"//\",\"%\",\"**\"]\n",
        "  for i in range(1,xrange):\n",
        "    for j in range(1,yrange):\n",
        "      print(i,j,end=\" \")\n",
        "      for op in oplist:\n",
        "        modifiedcalc(i,j,op)\n",
        "      print()"
      ],
      "execution_count": null,
      "outputs": []
    },
    {
      "cell_type": "code",
      "metadata": {
        "colab": {
          "base_uri": "https://localhost:8080/"
        },
        "id": "QA_Z5C5xmnS2",
        "outputId": "29f138fc-1c32-4202-cabe-cfda672f2754"
      },
      "source": [
        "basicmath(5,5)"
      ],
      "execution_count": null,
      "outputs": [
        {
          "output_type": "stream",
          "text": [
            "1 1 2\t0\t1\t1.0\t1\t0\t1\t\n",
            "1 2 3\t-1\t2\t0.5\t0\t1\t1\t\n",
            "1 3 4\t-2\t3\t0.3333333333333333\t0\t1\t1\t\n",
            "1 4 5\t-3\t4\t0.25\t0\t1\t1\t\n",
            "2 1 3\t1\t2\t2.0\t2\t0\t2\t\n",
            "2 2 4\t0\t4\t1.0\t1\t0\t4\t\n",
            "2 3 5\t-1\t6\t0.6666666666666666\t0\t2\t8\t\n",
            "2 4 6\t-2\t8\t0.5\t0\t2\t16\t\n",
            "3 1 4\t2\t3\t3.0\t3\t0\t3\t\n",
            "3 2 5\t1\t6\t1.5\t1\t1\t9\t\n",
            "3 3 6\t0\t9\t1.0\t1\t0\t27\t\n",
            "3 4 7\t-1\t12\t0.75\t0\t3\t81\t\n",
            "4 1 5\t3\t4\t4.0\t4\t0\t4\t\n",
            "4 2 6\t2\t8\t2.0\t2\t0\t16\t\n",
            "4 3 7\t1\t12\t1.3333333333333333\t1\t1\t64\t\n",
            "4 4 8\t0\t16\t1.0\t1\t0\t256\t\n"
          ],
          "name": "stdout"
        }
      ]
    },
    {
      "cell_type": "code",
      "metadata": {
        "id": "hn9P7_rtm9X4"
      },
      "source": [
        "#explain how easy it is to make new functions just by coping the previous code\n",
        "def roundcalc(x,y,op):\n",
        "  if op==\"+\":\n",
        "    print(round(add(x,y),2),end='\\t')\n",
        "  elif op==\"-\":\n",
        "    print(round(sub(x,y),2),end='\\t')\n",
        "  elif op==\"*\":\n",
        "    print(round(mul(x,y),2),end='\\t')\n",
        "  elif op==\"/\":\n",
        "    print(round(div(x,y),2),end='\\t')\n",
        "  elif op==\"%\":\n",
        "    print(round(mod(x,y),2),end='\\t')\n",
        "  elif op==\"//\":\n",
        "    print(round(intdiv(x,y),2),end='\\t')\n",
        "  elif op==\"**\":\n",
        "    print(round(pow(x,y),2),end='\\t')\n",
        "  else:\n",
        "    print(\"Something went wrong\",end=' ')"
      ],
      "execution_count": null,
      "outputs": []
    },
    {
      "cell_type": "code",
      "metadata": {
        "id": "arMJNNtvnWq7"
      },
      "source": [
        "def roundbasicmath(xrange,yrange):\n",
        "  oplist=[\"+\",\"-\",\"*\",\"/\",\"//\",\"%\",\"**\"]\n",
        "  for i in range(1,xrange):\n",
        "    for j in range(1,yrange):\n",
        "      print(i,j,end=\" \")\n",
        "      for op in oplist:\n",
        "        roundcalc(i,j,op)\n",
        "      print()"
      ],
      "execution_count": null,
      "outputs": []
    },
    {
      "cell_type": "code",
      "metadata": {
        "colab": {
          "base_uri": "https://localhost:8080/"
        },
        "id": "djR57_5EnkUc",
        "outputId": "44cb258a-70d6-48a1-fec3-df2b3650b400"
      },
      "source": [
        "roundbasicmath(5,5)"
      ],
      "execution_count": null,
      "outputs": [
        {
          "output_type": "stream",
          "text": [
            "1 1 2\t0\t1\t1.0\t1\t0\t1\t\n",
            "1 2 3\t-1\t2\t0.5\t0\t1\t1\t\n",
            "1 3 4\t-2\t3\t0.33\t0\t1\t1\t\n",
            "1 4 5\t-3\t4\t0.25\t0\t1\t1\t\n",
            "2 1 3\t1\t2\t2.0\t2\t0\t2\t\n",
            "2 2 4\t0\t4\t1.0\t1\t0\t4\t\n",
            "2 3 5\t-1\t6\t0.67\t0\t2\t8\t\n",
            "2 4 6\t-2\t8\t0.5\t0\t2\t16\t\n",
            "3 1 4\t2\t3\t3.0\t3\t0\t3\t\n",
            "3 2 5\t1\t6\t1.5\t1\t1\t9\t\n",
            "3 3 6\t0\t9\t1.0\t1\t0\t27\t\n",
            "3 4 7\t-1\t12\t0.75\t0\t3\t81\t\n",
            "4 1 5\t3\t4\t4.0\t4\t0\t4\t\n",
            "4 2 6\t2\t8\t2.0\t2\t0\t16\t\n",
            "4 3 7\t1\t12\t1.33\t1\t1\t64\t\n",
            "4 4 8\t0\t16\t1.0\t1\t0\t256\t\n"
          ],
          "name": "stdout"
        }
      ]
    },
    {
      "cell_type": "code",
      "metadata": {
        "id": "KQEFYXivn4FH"
      },
      "source": [
        "import random\n",
        "def randomlist(x):\n",
        "  mylist=[]\n",
        "  for i in range(0,x):\n",
        "    mylist.append(random.randint(1,20))\n",
        "  return mylist"
      ],
      "execution_count": null,
      "outputs": []
    },
    {
      "cell_type": "code",
      "metadata": {
        "colab": {
          "base_uri": "https://localhost:8080/"
        },
        "id": "rKYysJ3on4Hw",
        "outputId": "8f2eb3c9-b561-457a-ff54-f61bca77a840"
      },
      "source": [
        "print(randomlist(5))\n",
        "print(randomlist(10))"
      ],
      "execution_count": null,
      "outputs": [
        {
          "output_type": "stream",
          "text": [
            "[17, 3, 2, 3, 9]\n",
            "[20, 3, 13, 11, 3, 20, 17, 9, 17, 8]\n"
          ],
          "name": "stdout"
        }
      ]
    },
    {
      "cell_type": "code",
      "metadata": {
        "colab": {
          "base_uri": "https://localhost:8080/"
        },
        "id": "0m3Dd-Byn4cP",
        "outputId": "f2464b7b-3234-4379-9ecb-5af05fcdab8e"
      },
      "source": [
        "list1=randomlist(10)\n",
        "list2=randomlist(10)\n",
        "list3=[]\n",
        "for i in range(0,10):\n",
        "  list3.append(list1[i]+list2[i])\n",
        "print(list1,list2,list3)"
      ],
      "execution_count": null,
      "outputs": [
        {
          "output_type": "stream",
          "text": [
            "[17, 16, 18, 18, 20, 2, 16, 15, 1, 4] [17, 10, 19, 3, 13, 18, 5, 10, 15, 9] [34, 26, 37, 21, 33, 20, 21, 25, 16, 13]\n"
          ],
          "name": "stdout"
        }
      ]
    },
    {
      "cell_type": "code",
      "metadata": {
        "id": "VPqyJu2hnkXO"
      },
      "source": [
        "def addrandomlists(length):\n",
        "  list1=randomlist(length)\n",
        "  list2=randomlist(length)\n",
        "  list3=[]\n",
        "  for i in range(0,length):\n",
        "    list3.append(list1[i]+list2[i])\n",
        "  print(list1,\"\\t\",list2,\"\\t\",list3)"
      ],
      "execution_count": null,
      "outputs": []
    },
    {
      "cell_type": "code",
      "metadata": {
        "colab": {
          "base_uri": "https://localhost:8080/"
        },
        "id": "jFin_b9npLFy",
        "outputId": "2289e16c-80b5-4dc9-a174-6a677d01430d"
      },
      "source": [
        "for i in range(0,5):\n",
        "  addrandomlists(4)"
      ],
      "execution_count": null,
      "outputs": [
        {
          "output_type": "stream",
          "text": [
            "[14, 16, 15, 17] \t [3, 15, 14, 7] \t [17, 31, 29, 24]\n",
            "[12, 7, 17, 14] \t [17, 10, 10, 12] \t [29, 17, 27, 26]\n",
            "[13, 2, 20, 14] \t [5, 8, 9, 1] \t [18, 10, 29, 15]\n",
            "[9, 6, 4, 14] \t [17, 8, 19, 2] \t [26, 14, 23, 16]\n",
            "[6, 13, 3, 13] \t [16, 12, 20, 4] \t [22, 25, 23, 17]\n"
          ],
          "name": "stdout"
        }
      ]
    },
    {
      "cell_type": "code",
      "metadata": {
        "id": "4rKlnt1kpl_p"
      },
      "source": [
        "def manyreturns(x):\n",
        "  if x<10:\n",
        "    return \"a\"\n",
        "  elif x>=10 and x<20:\n",
        "    return \"b\"\n",
        "  elif x>=20 and x<30:\n",
        "    return \"c\"\n",
        "  else :\n",
        "    return \"d\""
      ],
      "execution_count": null,
      "outputs": []
    },
    {
      "cell_type": "code",
      "metadata": {
        "colab": {
          "base_uri": "https://localhost:8080/"
        },
        "id": "fb6KQN9up5yQ",
        "outputId": "c2383c6f-7351-4ea5-c54d-684540277008"
      },
      "source": [
        "print(manyreturns(3))\n",
        "print(manyreturns(13))\n",
        "print(manyreturns(23))\n",
        "print(manyreturns(33))"
      ],
      "execution_count": null,
      "outputs": [
        {
          "output_type": "stream",
          "text": [
            "a\n",
            "b\n",
            "c\n",
            "d\n"
          ],
          "name": "stdout"
        }
      ]
    },
    {
      "cell_type": "markdown",
      "metadata": {
        "id": "_4ZowTH45EGm"
      },
      "source": [
        "# work with files"
      ]
    },
    {
      "cell_type": "code",
      "metadata": {
        "id": "XUjN41gw6imc",
        "colab": {
          "base_uri": "https://localhost:8080/",
          "height": 35
        },
        "outputId": "94d89f6d-b634-4bb3-a54c-00811efc50bd"
      },
      "source": [
        "#\"x\" - Create - will create a file, returns an error if the file exist\n",
        "#\"a\" - Append - will create a file if the specified file does not exist\n",
        "#\"w\" - Write - will create a file if the specified file does not exist\n",
        "\n",
        "f = open(\"myfile.txt\", \"w\")\n",
        "f.write(\"something new\") #the preexisting content is lost now\n",
        "f.close()\n",
        "\"\"\"\n",
        "f = open(name here)\n",
        "f.write()\n",
        "f.close()\n",
        "\"\"\""
      ],
      "execution_count": null,
      "outputs": [
        {
          "output_type": "execute_result",
          "data": {
            "application/vnd.google.colaboratory.intrinsic+json": {
              "type": "string"
            },
            "text/plain": [
              "'\\nf = open(name here)\\nf.write()\\nf.close()\\n'"
            ]
          },
          "metadata": {
            "tags": []
          },
          "execution_count": 90
        }
      ]
    },
    {
      "cell_type": "code",
      "metadata": {
        "id": "Hj4YDUR76SjM",
        "colab": {
          "base_uri": "https://localhost:8080/"
        },
        "outputId": "94cece9a-2961-44b4-a7ec-20750beaeb07"
      },
      "source": [
        "f = open(\"myfile.txt\", \"r\")\n",
        "print(f.read())\n",
        "f.close()"
      ],
      "execution_count": null,
      "outputs": [
        {
          "output_type": "stream",
          "text": [
            "something new\n"
          ],
          "name": "stdout"
        }
      ]
    },
    {
      "cell_type": "code",
      "metadata": {
        "id": "K3l4_NBOhFjr"
      },
      "source": [
        "import random\n",
        "f=open(\"myfile2.txt\",\"w\")\n",
        "for i in range(1,10000): #check how much time each zero added adds\n",
        "  f.write(str(i*random.uniform(0,1))+\"\\t\")\n",
        "  if i%10 == 0 : #this can be done with a counter\n",
        "    f.write(\"\\n\")\n"
      ],
      "execution_count": null,
      "outputs": []
    },
    {
      "cell_type": "code",
      "metadata": {
        "colab": {
          "base_uri": "https://localhost:8080/",
          "height": 175
        },
        "id": "XV1H-zb6hk7J",
        "outputId": "2d7c72b1-3ded-458c-e30f-a1a08acbcc5e"
      },
      "source": [
        "f=open(\"myfile2.txt\")\n",
        "f.read()"
      ],
      "execution_count": null,
      "outputs": [
        {
          "output_type": "execute_result",
          "data": {
            "application/vnd.google.colaboratory.intrinsic+json": {
              "type": "string"
            },
            "text/plain": [
              "'0.5150461977517846\\t1.8603461577362912\\t0.6560401964812186\\t1.4180129208030747\\t1.2816782614211275\\t4.938443064745469\\t5.66345762673408\\t0.15894028677698024\\t2.9354613316361675\\t7.323153614251456\\t\\n0.6004603887976369\\t1.1745222923723793\\t5.52863778429038\\t11.384901308042227\\t11.757209625196351\\t3.0352706034579437\\t15.13879332458778\\t5.152444054277409\\t14.040949061179012\\t6.839815865893842\\t\\n8.616858963345605\\t18.489193583878002\\t14.557033579329829\\t0.47511209659475817\\t22.20698413049738\\t2.162037400018903\\t14.173084203858867\\t3.9133371011466225\\t8.99439223927142\\t10.905908257655263\\t\\n5.5155316060123205\\t28.529009796983892\\t31.978903989055684\\t12.881940665464256\\t21.85440958787594\\t5.044161851182842\\t6.675581318756089\\t22.76793948555978\\t8.95821219906056\\t15.910098662439868\\t\\n19.406049294973677\\t16.013406266741104\\t13.956567943568796\\t15.16374987154333\\t39.574523572039276\\t29.336723905062605\\t37.504553888543576\\t3.1499165003176763\\t37.47226800450872\\t48.3423947189001\\t\\n6.1770055108128465\\t13.51261838029532\\t16.15416501745731\\t8.00887065084299\\t44.011857582554065\\t13.261283548346055\\t33.29306298999115\\t45.95920737868432\\t28.353785542233553\\t10.421702428787068\\t\\n31.437958553497722\\t60.70984115403381\\t59.41707385345688\\t59.47474434008556\\t38.16738378654687\\t11.99375375805085\\t54.88227444504614\\t15.70517633925741\\t52.49299893426235\\t3.746115563726086\\t\\n51.860020457331125\\t27.367185172747813\\t57.082210414130095\\t19.3670249232314\\t11.410478872083655\\t36.50093863340439\\t26.539412088280557\\t10.585363342837228\\t20.689471061981095\\t75.85326413629802\\t\\n34.89896278937944\\t42.61595189143938\\t47.20634357149953\\t83.0745504766279\\t53.9731740996929\\t84.9461057890427\\t69.12506312195008\\t69.35937665008528\\t7.4695476038049575\\t84.61783363323163\\t\\n50.70462517331801\\t21.657234722347976\\t64.8784379786427\\t76.10409971310034\\t70.86587912099651\\t91.11875867394014\\t15.348307132272666\\t43.246448046467826\\t59.493691080977854\\t55.604131539237486\\t\\n60.42053620206628\\t22.39555929801613\\t60.39830651257067\\t98.31831350403793\\t87.56109940651521\\t100.58013674324381\\t81.08559510054019\\t13.344991274888107\\t61.84075026143448\\t44.231030201945096\\t\\n87.41475541841302\\t33.76916452110909\\t76.0017716613072\\t54.08887572726628\\t55.026061213978515\\t114.02870401865397\\t60.427664102218166\\t40.549559082458124\\t53.30308416522353\\t98.7063059685719\\t\\n6.280564697646229\\t97.0407846117965\\t65.02675380947713\\t64.8030838136029\\t112.9785822493821\\t2.292211273647646\\t32.306641946820385\\t42.2191591150482\\t33.526486024017885\\t48.641952450563764\\t\\n53.76634964333693\\t78.49386246724126\\t70.32241168912888\\t13.617009985011112\\t118.11965636949213\\t121.52645868890777\\t9.416612294006915\\t69.22878624601302\\t106.11349735756873\\t8.546619223815053\\t\\n68.68497303127941\\t77.15696798836888\\t87.9705669922289\\t44.05590520134615\\t136.64690541417505\\t0.5742066762322013\\t102.87279897802759\\t130.39982903648914\\t122.12674387199755\\t70.15641440940432\\t\\n44.3766916256316\\t102.5969026505557\\t68.11402388521432\\t95.25267698660369\\t48.97276123991899\\t3.5578587999627573\\t147.05382824388988\\t63.33838910973946\\t120.72020217764178\\t101.98545344486647\\t\\n101.23571999281384\\t79.04908738620114\\t61.9645537262436\\t104.31507324473873\\t95.8629514423932\\t162.06944966343187\\t94.03239061453345\\t132.66424928840178\\t117.40108284663268\\t129.54248635450278\\t\\n166.33594989637848\\t68.6638993564424\\t110.46791098478553\\t147.343044163636\\t79.49344487658696\\t144.36243693374232\\t145.52711420440622\\t105.16549551763039\\t77.69262100384152\\t150.35582771353396\\t\\n153.64214906346928\\t134.92545379886903\\t12.676569502961096\\t169.40049410296373\\t131.92549808803858\\t15.737209085543762\\t20.87591931911405\\t120.88272747907536\\t187.54279589270485\\t138.09819881922965\\t\\n78.1621554451904\\t1.6544797890941894\\t120.30687969198019\\t86.04257762196133\\t130.61488490178846\\t182.9005777147894\\t158.44137023587533\\t112.03512507449689\\t164.15737161082637\\t108.71105561456918\\t\\n103.01878717171736\\t186.7562808322551\\t84.10482052660466\\t108.30302281765361\\t103.5223268992388\\t193.76873088551767\\t37.08714381531129\\t26.00616131761472\\t34.37096075369702\\t47.33912553302854\\t\\n180.9659092029693\\t6.689828105843478\\t21.659472054299137\\t84.37661422263136\\t5.0690101535620204\\t132.7401753651747\\t29.11896401144764\\t172.06746963078388\\t45.3051327620236\\t82.29831976910991\\t\\n191.70682626426705\\t26.389711023358867\\t166.4460171873986\\t163.45219311466732\\t140.52752103632258\\t74.82939118611465\\t149.51114648448\\t120.12054753880996\\t66.5224380971248\\t50.91572115310656\\t\\n206.96539849395495\\t209.95346846800683\\t29.88853289339631\\t79.74445649219062\\t11.454138771503558\\t6.594426544207838\\t56.34111202408184\\t140.15192894987788\\t110.22115541424668\\t114.69351492614621\\t\\n21.763821779862987\\t171.85286643427511\\t34.24271178254134\\t142.62496547332373\\t211.68674926513134\\t204.47719456165407\\t6.950142876128348\\t184.57883939126992\\t212.49080784280625\\t83.72107620027855\\t\\n86.18663271800703\\t206.07689400576825\\t29.698171985056725\\t143.37267425916627\\t141.60978247939596\\t75.74321843991638\\t207.6227181575836\\t211.9487539175628\\t134.89272933420986\\t154.64797757616452\\t\\n31.700890835866808\\t151.7426930876638\\t109.9299917646045\\t204.75794518232576\\t4.297592288806401\\t25.222458017506067\\t84.64599339591946\\t76.6794319611817\\t105.87570442564981\\t23.198180994334667\\t\\n67.32189588041298\\t125.60064181374825\\t59.93385124037747\\t227.1542619835384\\t251.04192146757902\\t83.52356084423016\\t118.57524330475842\\t144.1748886672078\\t259.49841760521116\\t270.0382291295719\\t\\n73.5436483423218\\t63.6949282317198\\t99.35904252604298\\t97.07421629944326\\t140.05509246721581\\t200.38091652700913\\t282.1154690455686\\t135.9468110927425\\t73.30588307638601\\t261.33399960526185\\t\\n108.78495524863862\\t164.70273476521294\\t120.16547912461127\\t175.79699877944682\\t166.67247725119637\\t158.2680793014952\\t35.041280023728305\\t211.55551250665744\\t194.3942125556059\\t44.40164341073014\\t\\n177.23823277897162\\t147.95016752343503\\t298.35131492256187\\t54.094255198242635\\t191.59112584922914\\t271.04986228161914\\t161.57822761296882\\t229.11470147167208\\t292.1230362969618\\t59.06640887049129\\t\\n233.96175973309025\\t205.22566978433017\\t104.02360815933255\\t166.375145471251\\t166.17387812458853\\t75.84543139160371\\t146.6231079434006\\t257.25509276680947\\t5.440419623456473\\t63.53243761145219\\t\\n109.92722821712596\\t135.06428082436338\\t216.71204444648006\\t52.80325766023465\\t241.34695175262672\\t164.5132685199392\\t48.38649013579427\\t204.22221818426527\\t310.20741301781555\\t76.30893661893744\\t\\n212.85599774072944\\t197.4312847261828\\t213.21651336462662\\t142.56633314040556\\t58.8542912970041\\t216.62298447710248\\t257.1059895425545\\t246.29558453000283\\t22.090326778250176\\t317.759180698077\\t\\n340.4821598720298\\t128.54665302054912\\t100.18652439191938\\t51.18889584690933\\t252.27753012225065\\t1.965677955109056\\t289.79725940206805\\t133.71168208906823\\t64.26018069912578\\t100.31387133326223\\t\\n14.679724546418372\\t192.8214178806675\\t342.73343134359214\\t178.61368962223094\\t77.27762845863788\\t340.36126203430143\\t249.78300920409185\\t96.25418773250375\\t334.77271757624925\\t133.67500610009733\\t\\n203.2936973476219\\t137.91725135171794\\t245.38236954688352\\t359.8724241582971\\t119.21328598131308\\t315.2514612667118\\t22.732803515152224\\t165.6742891726853\\t319.7511737588199\\t206.54366870745008\\t\\n29.176250933040553\\t334.44390884570254\\t58.55347905444619\\t228.0093120652184\\t300.51237055763715\\t321.87001934282614\\t346.0734375575934\\t56.359951121311944\\t138.8009739843976\\t189.22729728596966\\t\\n134.75179564469246\\t214.95010058776657\\t238.67086741659023\\t128.56673568785942\\t383.49890810157285\\t248.2833366030323\\t147.27903509135177\\t32.41581172049173\\t171.05457390829815\\t114.37227724177178\\t\\n246.29079490424394\\t372.35441611440007\\t56.448337722547635\\t39.05290344138409\\t336.21622408669305\\t58.89551586671674\\t294.16079922822956\\t132.2339984722482\\t66.21312311663786\\t290.5328308051861\\t\\n330.16941750938776\\t171.87012829670095\\t245.2861850554822\\t45.58331762764104\\t159.84130425739932\\t97.56845109931368\\t286.2610620652172\\t25.13812293345837\\t7.653627536849332\\t114.71783986889811\\t\\n106.79455947866278\\t235.15505474330158\\t178.02569145650142\\t6.793691911130612\\t79.36672507657636\\t13.411867732369913\\t46.57947440507304\\t118.06172432801611\\t378.6172703737295\\t275.275481286847\\t\\n355.1946141092357\\t380.5957800743164\\t239.58074284984787\\t169.81959460514054\\t53.40657410021143\\t233.48631329778564\\t46.52880393066763\\t30.306547183895226\\t60.7558710290742\\t73.56241101185303\\t\\n165.8285683999356\\t342.2910124704964\\t316.8580420203598\\t122.85790053144216\\t267.1611739227804\\t376.7617639361365\\t60.75851390063711\\t271.5844798101848\\t309.47997609476425\\t90.77032601635048\\t\\n424.4569410891165\\t431.3417759571894\\t349.1371859998267\\t424.5723348738217\\t292.49478643266025\\t308.986254908494\\t48.43664051952097\\t247.9249153290206\\t176.17203279196195\\t76.13023309374904\\t\\n435.7587259402638\\t325.33128022956953\\t380.6665288462797\\t273.4148805951063\\t14.968120489963306\\t419.4986389231337\\t45.85749572349741\\t196.5128838892661\\t20.272533382478535\\t401.7438916674271\\t\\n455.4491500881677\\t160.7442856472731\\t309.50750972269384\\t43.872706727293064\\t122.67872167797839\\t412.36702374717385\\t1.8716929358139196\\t292.68859232778976\\t289.62578221052615\\t195.33807789341185\\t\\n50.191088090664365\\t52.234906406623\\t401.09875121371664\\t183.71697181035228\\t409.62758047347455\\t12.787123607708017\\t228.9324438837553\\t1.3339601874032532\\t190.59774496814035\\t262.1658617470495\\t\\n93.35024191357891\\t162.19368025580607\\t220.5810386410479\\t362.2021965121843\\t76.14288443826725\\t204.19106167815093\\t281.85747703402956\\t413.5153005977408\\t473.8335001934335\\t150.22688161526577\\t\\n372.1589677044124\\t363.6140685930262\\t47.60770197862824\\t262.93760765798095\\t325.53028415756364\\t35.873169388121475\\t441.02153315890234\\t94.00897889892705\\t446.6314833830948\\t106.33219174257957\\t\\n319.7218677627893\\t231.2709952119038\\t365.27335396180723\\t91.20816918831544\\t112.03913788405274\\t265.2582132657842\\t225.00692896885047\\t128.90349877374354\\t457.1639136306306\\t486.13952239449424\\t\\n355.5041974273041\\t302.3398268177559\\t248.73581741556833\\t358.90675757034944\\t43.77066567318566\\t163.56827665362152\\t266.57052295344045\\t3.0860076423308334\\t352.4891594698725\\t201.83925849336921\\t\\n415.8949532888111\\t249.1489934610721\\t126.71042701197138\\t228.5127727057508\\t151.4891287299788\\t283.3585111029503\\t118.27206718459422\\t391.6218930737811\\t335.0988027719528\\t342.9089162856158\\t\\n161.82104317059338\\t312.73626396395866\\t35.72039980788483\\t335.9829140603607\\t169.53913703491824\\t328.8332416110137\\t251.77656916189036\\t401.46927301542206\\t426.8931448286424\\t526.1129782438123\\t\\n532.594322713723\\t11.862591275884224\\t70.66654192660187\\t490.68561606703054\\t270.2741291637439\\t493.1743216018879\\t386.40595868489737\\t421.9892918346087\\t173.3995187325774\\t98.73582316636956\\t\\n218.2744568029408\\t119.43409595489116\\t160.2479847529901\\t528.7520404093394\\t326.0646136054496\\t264.85404034940564\\t127.93282592548876\\t67.33919521501775\\t322.95672794313765\\t4.069132522684242\\t\\n89.10592732278947\\t549.9454121296275\\t431.4281737019249\\t549.3391747873674\\t128.52463003447676\\t20.32741850552563\\t229.64921173611432\\t140.2199562057064\\t292.1945390291298\\t202.4373994997716\\t\\n501.58463151459677\\t57.982886890772015\\t246.613756626409\\t133.74887847053554\\t124.9695929455515\\t479.4904828391351\\t516.0310462807919\\t22.621033509913772\\t467.89623826652564\\t188.48438257296715\\t\\n514.9589974217862\\t144.6239984994464\\t382.1140387255629\\t59.999207367606544\\t511.06231568845686\\t239.6672903271127\\t47.921866234184336\\t268.0724679825197\\t149.47444400719763\\t313.3871894019643\\t\\n331.33183188074423\\t11.778985823117344\\t153.76707939074612\\t136.81213122247226\\t36.393400565379615\\t389.57726902346604\\t555.5750517285444\\t283.6047359765213\\t252.06133832706618\\t558.9468960269589\\t\\n488.96063751616526\\t224.64856256605378\\t240.1060239712612\\t241.7488385529603\\t24.147386206904756\\t206.51747218170897\\t123.13174426902096\\t57.783020532070594\\t391.1038247707287\\t59.74615504145624\\t\\n328.18327678451215\\t317.03883108584495\\t435.7825141252943\\t90.14320290897851\\t103.63233479481576\\t188.61486128173576\\t257.3934942697095\\t223.0072881213419\\t90.21435389082176\\t156.1169327887514\\t\\n578.8663276560982\\t529.6892628182768\\t184.1068948887529\\t623.4336338642332\\t55.47231686847704\\t126.19178871426894\\t626.643793552306\\t454.30751320560216\\t39.690558281710025\\t117.80804717203314\\t\\n521.5481305137309\\t472.9262371009813\\t547.9827303812903\\t363.84670711573415\\t628.2117061591188\\t203.8878442840791\\t459.36249634006674\\t572.0915128820329\\t25.47130782341304\\t508.49189551722014\\t\\n327.54542952514583\\t169.27754275204842\\t279.1542231097347\\t99.86554271292795\\t444.03066219145677\\t502.8715677663595\\t228.98944073831584\\t249.34133983111929\\t280.35920037707393\\t21.00261684140019\\t\\n561.1363081550643\\t94.30553855161475\\t193.2507345864435\\t346.27837690671714\\t442.36889878981253\\t15.577771181518855\\t290.0652100883503\\t266.32326372822484\\t182.67756312524588\\t540.3445805283391\\t\\n286.23041510273225\\t522.7618810985789\\t567.3283060670725\\t378.4534789602499\\t298.71064661652036\\t640.2044827635037\\t245.18585181614853\\t590.0116795263414\\t36.62836739111813\\t134.9884091822645\\t\\n346.4095263517331\\t85.29886705282522\\t353.06118365317093\\t496.21557926552066\\t301.2390134315329\\t80.8875551364099\\t448.42714255336296\\t104.88070718033097\\t643.6094340656748\\t17.87406212556369\\t\\n634.4592423990839\\t162.70652382823613\\t473.28429579314314\\t379.71287015509483\\t519.2892089666293\\t432.8068410296735\\t411.60748212599793\\t129.9976782802633\\t210.26625244195137\\t61.29572982838168\\t\\n172.5276825870652\\t677.396853202723\\t529.3785788009682\\t182.27089451676912\\t56.418378448625866\\t90.41463155561976\\t110.42949998149035\\t386.7564412619539\\t327.2446406172963\\t123.22567646840228\\t\\n92.19680962973968\\t470.65244027046487\\t571.8535248923585\\t7.113748122005219\\t260.37945151204855\\t322.6255182660458\\t524.8001142323733\\t466.5225862310144\\t23.33285908852006\\t151.2889570060452\\t\\n333.8367178402542\\t238.1964645979076\\t549.525851033896\\t112.83665445724426\\t559.4759465431086\\t85.90925427454931\\t17.914922329697664\\t267.5852269113158\\t156.80200748946137\\t684.8235318858265\\t\\n30.567838930574364\\t304.12780645291764\\t642.2243156917355\\t476.18349893229737\\t346.5558310873221\\t63.90173361371845\\t683.0873367235993\\t239.83053846825322\\t88.84726142862316\\t464.3527238872104\\t\\n589.1718068458499\\t403.89640532014687\\t157.50378581341408\\t105.63596857946536\\t649.1678075922824\\t557.3611386343891\\t463.37977179531316\\t501.10898156607425\\t77.97581707173113\\t155.33412374788344\\t\\n505.3295425120667\\t223.35832892076374\\t528.3674419942365\\t604.7181462909001\\t458.63453447556793\\t446.42956153716636\\t160.67875420708333\\t524.0273477695999\\t181.28931790169486\\t466.2521031592972\\t\\n100.38416926892145\\t413.04604245560586\\t411.80186734307887\\t1.3847327669386995\\t542.1732873449591\\t173.4286106998474\\t196.7799285767566\\t400.7395509222764\\t145.81513069774067\\t443.50929919081955\\t\\n453.8437544611383\\t2.609799783254436\\t611.1077457594441\\t131.88809307933747\\t553.6404729419016\\t659.5723919536108\\t157.176202676263\\t384.04828886557954\\t191.23139158660157\\t411.2543257472123\\t\\n725.41749978846\\t378.6537742105363\\t96.63507941617513\\t427.97228690950243\\t516.3301009222488\\t599.8442256883462\\t469.5876198461383\\t686.5045700751022\\t458.7815485723602\\t361.55123963951115\\t\\n410.36210434262813\\t404.4068140475034\\t473.3208225549801\\t67.06746593240234\\t484.86177788578675\\t84.9893173048143\\t687.8026707294196\\t476.0302898621115\\t759.0623745793456\\t731.2913884753785\\t\\n276.06969822822845\\t265.940110388081\\t443.6923688402881\\t46.285905187819935\\t499.8593899187994\\t359.68832277243905\\t262.1961910144585\\t193.80078235964473\\t557.254153445378\\t337.55425025124504\\t\\n524.8728195722458\\t226.40584016107996\\t563.4294611145683\\t189.3625505218162\\t141.88503649609822\\t239.38029892908278\\t378.6556640398107\\t95.12357438976854\\t361.55951137315776\\t381.19396068323596\\t\\n164.74176907222963\\t782.7287120790212\\t615.6262258916297\\t174.7093386212236\\t415.04785935862986\\t733.8977921614573\\t704.7798135678711\\t89.03650831763447\\t120.43624873698955\\t204.11572009205747\\t\\n453.24694992374555\\t519.6718378196814\\t780.3311946149408\\t388.61924593987914\\t374.2662438147085\\t445.3412134576694\\t682.9676164946025\\t96.50338728812282\\t205.59187196513918\\t199.16967903906624\\t\\n238.53037303892933\\t629.1439920367106\\t758.4494356123986\\t449.44529854233787\\t704.7425187579629\\t272.4347586295367\\t794.8713206125985\\t515.5958327647822\\t498.2181333802377\\t320.37769316379683\\t\\n380.94245115088677\\t700.3595024263435\\t369.9960651292126\\t352.5192961494142\\t718.0302820427189\\t279.4717299146145\\t493.5683263194372\\t184.07445929046037\\t282.98205352693674\\t532.9929102840418\\t\\n838.227347531234\\t503.309486093811\\t103.11569254660486\\t323.44437066379567\\t719.6944664127626\\t720.922801984924\\t94.4461713130101\\t221.4442999875359\\t472.1995440701189\\t702.5137927230445\\t\\n354.3155119912238\\t377.2657230202636\\t222.98355091721223\\t35.73596503875266\\t312.6036933685518\\t769.566574906031\\t746.8142563990666\\t305.21298378334706\\t640.5537154359313\\t19.10974842514743\\t\\n108.275324757916\\t731.8845912825665\\t324.20530428087704\\t499.44942757180263\\t660.9788046418743\\t437.06775544326786\\t315.17246373795\\t828.6809633808243\\t494.9172514332029\\t63.08094164181626\\t\\n547.5130897611018\\t136.0447094233943\\t592.5014113055473\\t325.27490650161053\\t486.63789509720027\\t210.53588666752404\\t659.7943387278157\\t381.46986709757033\\t32.12882351421435\\t154.34784081622\\t\\n683.5732214565024\\t357.68769934675026\\t219.49464550827068\\t153.70924298277342\\t870.0788972059881\\t569.6921478823108\\t365.9143733932525\\t831.4517568631089\\t449.80148822464236\\t756.0873786419528\\t\\n611.8662684867547\\t151.49246685831886\\t99.99975426783683\\t577.8157861135614\\t613.6921144327259\\t268.96354955955746\\t363.50535018017314\\t561.6220663437039\\t218.90644708219585\\t205.44027690837453\\t\\n636.3894879726681\\t886.7794990504834\\t715.9826844519499\\t51.00801644421655\\t392.3845714944505\\t666.7724598640017\\t660.0380447137072\\t529.3229174245762\\t833.1114252121417\\t724.984144097897\\t\\n228.87328381265107\\t113.56883366175333\\t763.4350041355663\\t478.68965690847546\\t454.49363908397527\\t569.9499118311683\\t556.3184534315352\\t721.197325712383\\t125.2124232672991\\t596.090986492048\\t\\n798.1340422206526\\t12.784287679979778\\t155.18340013650433\\t228.1889661657517\\t584.2751482994678\\t516.6303767256638\\t147.11980299908777\\t351.9039376459399\\t292.232472009559\\t938.6374532030648\\t\\n663.1490955425636\\t865.6052208364462\\t65.78002989016304\\t273.65746645522165\\t177.37645003564828\\t497.66373262030214\\t108.06690314173069\\t57.11182397351436\\t221.8418090211568\\t721.6165784461444\\t\\n890.6291797719049\\t90.30349354602009\\t879.1907539879425\\t708.0713669941322\\t632.9945824908245\\t182.33760267742585\\t207.63045832956647\\t506.47843925035477\\t260.49747261248865\\t782.496674227659\\t\\n890.5833001311282\\t435.89250128462544\\t416.5976678536043\\t804.9962889260274\\t885.3968586881551\\t506.82664016637597\\t457.9901341530724\\t178.2542852584424\\t489.4743625652374\\t39.73052421037162\\t\\n139.00201135882375\\t231.62919356545828\\t755.4395478198347\\t836.2760197184131\\t653.8189224159943\\t155.49077240098313\\t935.3592857004452\\t482.2697022609308\\t397.79278985248453\\t818.7937154359419\\t\\n366.6149673929187\\t729.6311729623519\\t912.3775857778562\\t882.8076473959792\\t980.5225405596047\\t525.9382717798674\\t249.6390821030727\\t496.3221211808942\\t626.0622990048192\\t705.2495916267007\\t\\n329.35342558430057\\t732.891219304942\\t287.73194227068575\\t507.5958266603437\\t12.432001238935241\\t177.316123719561\\t839.5051894833856\\t304.1252385410357\\t150.89320949516372\\t343.62271443715565\\t\\n266.56451025173766\\t123.90623468753145\\t67.42069657143328\\t796.1328829595967\\t184.89030830008434\\t436.0851421270756\\t229.1123225789332\\t848.3850468172733\\t864.8047922013036\\t768.5182412187846\\t\\n208.88501313738215\\t63.649717091017344\\t494.64555038010616\\t662.7269091237647\\t911.0566710312346\\t75.82465689098429\\t795.4124341201563\\t126.57153772193199\\t737.3435765438335\\t551.919604610564\\t\\n373.5896246112416\\t239.8510771667977\\t310.92004940463175\\t282.44386463655576\\t559.4876582135604\\t461.6459114725411\\t206.9191377515959\\t311.5016903251521\\t125.94668944107181\\t66.42274523236937\\t\\n491.93936727995083\\t518.1488063733019\\t260.0654223109651\\t944.4606769659349\\t679.3028659044169\\t957.7377371461547\\t976.8045203358936\\t955.412145298664\\t916.2864715480606\\t796.5110320386107\\t\\n115.42095464401551\\t928.5485950633574\\t190.4328590244476\\t998.8411599996214\\t324.2205760130721\\t153.7448708839758\\t953.139521244138\\t307.61336206706574\\t149.43597833802727\\t33.37232450600572\\t\\n729.4125068322483\\t245.1077250548423\\t451.9086172523496\\t1027.9751951589915\\t607.0513206595155\\t174.91164898573902\\t561.4122098349751\\t879.464574810274\\t152.3990422888175\\t810.8669913598388\\t\\n226.93101770748567\\t615.3290778770925\\t248.6480728518834\\t694.7434912687335\\t880.5464726123893\\t435.90900000133576\\t1024.0624420522827\\t308.98700579177455\\t822.0529664983444\\t931.6698394905101\\t\\n558.3480477555411\\t565.5720933014239\\t500.4332787929202\\t541.6772786575154\\t67.0495032114096\\t813.6997963596459\\t216.8480558826478\\t1059.0547995667207\\t955.2377400320712\\t754.7195598763235\\t\\n166.83968442124052\\t775.4199497901358\\t813.2651548018814\\t738.396976006015\\t119.33697852583319\\t1014.0042081405995\\t836.4166280646868\\t279.11249815284316\\t512.071365937482\\t1015.3100566211245\\t\\n1051.4168607968659\\t238.29885611883637\\t68.428941226532\\t841.7605243741755\\t987.9969234289\\t75.61058439490758\\t569.6445128302926\\t73.10348889476425\\t655.8492215178701\\t513.8352820962797\\t\\n205.83979054750958\\t611.978775121978\\t827.9301117800873\\t616.9744085568251\\t570.3015623575873\\t539.7398340128857\\t224.43995083224885\\t943.7128604942233\\t610.5821403693806\\t339.8521331892495\\t\\n205.4203430896308\\t576.0939820034579\\t228.27770354221698\\t432.2776290963673\\t1102.5695981410229\\t112.44674886060545\\t1042.5112901270568\\t264.27505983905405\\t1110.5609752554547\\t1118.3318002444273\\t\\n492.6633937603311\\t1108.5589342198805\\t949.9214442569956\\t364.5771345950678\\t12.174266104200193\\t946.7741477465764\\t371.53053126342223\\t1068.997006083715\\t118.49296511714714\\t194.8468277675315\\t\\n331.07761810223013\\t476.1727539240879\\t915.1994938049778\\t915.073677311548\\t197.1854437077339\\t557.8890474935581\\t614.8862984037049\\t853.7978068731225\\t1084.3605038200722\\t352.55797292284274\\t\\n1101.7791444275292\\t923.3504810596772\\t177.20336186326907\\t752.5531160875992\\t408.5446870869262\\t996.108434511006\\t966.5893525107289\\t654.2582868637782\\t512.1487933396584\\t868.8865647646677\\t\\n791.3751998521565\\t16.893621901727002\\t22.4045161729852\\t835.1343436421498\\t653.9564807814345\\t247.46474842668218\\t370.65891728932826\\t521.3580059531964\\t859.3989129747024\\t68.12683712989596\\t\\n627.31463934709\\t518.794635471798\\t457.2116367466458\\t982.8040731488666\\t564.2714337789427\\t830.2778076511589\\t790.1213557395705\\t258.94398285620423\\t734.5350344807742\\t974.113869136606\\t\\n752.172931240871\\t628.8923291471033\\t110.06851335276917\\t85.35593847797612\\t1131.5603543592456\\t895.3547870534378\\t738.0173422380689\\t541.973261576979\\t1109.4350341709167\\t35.938583134527704\\t\\n606.9908028617361\\t173.58577112354567\\t839.8535919520752\\t640.1199344544746\\t5.469318085055174\\t978.7886332902759\\t502.12540606285273\\t578.4219483812644\\t316.8736626551381\\t118.8077939243442\\t\\n1095.6911056344165\\t1018.0172877197832\\t769.2521057030491\\t190.6953727786414\\t701.1069550237812\\t628.9681619531153\\t509.9248051039049\\t482.33613587625587\\t691.8909912652354\\t966.418289553718\\t\\n698.177823853326\\t152.50575633320923\\t180.20516379563048\\t495.3771630024977\\t617.6814329887393\\t1137.9356567901639\\t1133.5710696745641\\t930.7388277407003\\t1021.4175917028333\\t238.35091001951466\\t\\n150.22472929942796\\t919.2852677519865\\t480.76837183121967\\t862.358934195584\\t263.3032378446629\\t19.285312811590906\\t207.93939624867997\\t1187.8456284852218\\t1145.3633843901002\\t580.6353270823441\\t\\n811.8575177619585\\t65.50344704542489\\t965.207385994808\\t561.3865026057588\\t353.5987716476855\\t402.7673207033739\\t764.8512621762947\\t893.961545084558\\t771.586098034504\\t843.7141217550983\\t\\n867.5318039081885\\t1108.4941656471226\\t438.0700831222369\\t895.0959427693743\\t882.0545532997648\\t581.6543637004193\\t282.1997102277151\\t307.92305471266843\\t1042.1400629627542\\t272.2893018673564\\t\\n18.094398967206285\\t945.4466570198376\\t199.7174819482771\\t530.5090089581859\\t1093.840477079368\\t889.5860811568785\\t1243.7230620600847\\t938.1657316875272\\t821.1506197615043\\t374.6452880785252\\t\\n178.6604534528561\\t44.487497835813016\\t568.8871735117255\\t1049.927294816973\\t160.29213838842978\\t295.95191342170597\\t232.58775590469824\\t632.9627407838944\\t409.6037197733756\\t892.3452159850505\\t\\n942.8950603582495\\t646.7443213887079\\t571.3994248927974\\t813.6808754979941\\t411.75513919225784\\t913.7800649562075\\t180.31628149939178\\t150.37471908511705\\t644.6974923987739\\t511.0460532338994\\t\\n864.6224221189607\\t906.2033026197461\\t434.4878010644306\\t294.5214383804149\\t626.8380493696463\\t707.2533301643113\\t977.4193692186782\\t61.86176515127948\\t333.9794116458402\\t1111.55290034716\\t\\n1123.567775279596\\t763.4326732139083\\t511.63947873439713\\t1161.3166729024813\\t41.307307100323776\\t522.1563657936772\\t1119.4250210126165\\t486.02253577458026\\t237.1926631464322\\t628.6684400539699\\t\\n880.7005593388\\t534.7036882225001\\t904.9463731684243\\t860.6752550677469\\t652.9383562670939\\t1096.7439311557096\\t1193.0286013084324\\t1233.4744538525915\\t1182.063719786286\\t538.9651213474912\\t\\n38.273992872385875\\t1122.9281276072343\\t525.3290738779097\\t902.7164700390891\\t505.5795691427409\\t1179.4250614772013\\t1178.99484736083\\t580.184974298092\\t991.5472211673188\\t424.48723715768983\\t\\n655.2415902138215\\t695.4796521256249\\t260.7533700782544\\t1290.2364583315423\\t641.4670354454297\\t1004.7390184467464\\t661.198423901436\\t425.82017213913394\\t478.93174421097933\\t946.6304606094568\\t\\n745.9831845777422\\t1072.5122416535257\\t1222.5051523323775\\t680.7458794431797\\t162.47210588441484\\t1315.200996842941\\t1215.773043381263\\t993.8976109060987\\t514.0255506804807\\t568.5500804529297\\t\\n1004.4927306907638\\t507.65204571887733\\t900.5792967171362\\t826.6416823704575\\t293.36539267533834\\t886.4518824867639\\t275.712654370001\\t1181.3038756121214\\t545.885726444452\\t438.3909204079241\\t\\n1023.2781892912776\\t149.2130957559773\\t419.7862890243968\\t494.20312984521297\\t621.3445442235001\\t546.0656703897088\\t150.84173724160576\\t472.0210896810513\\t263.16277100115366\\t1207.8537144198087\\t\\n1264.2930185634289\\t1008.4254979023627\\t144.02917356302268\\t1351.2590548344535\\t519.3236353767583\\t607.5736572867837\\t945.133312997981\\t424.03639680744254\\t1202.9697501327805\\t273.0612050749143\\t\\n342.18316078535116\\t289.440778313496\\t140.0629113885262\\t656.1387024152017\\t725.1357155033679\\t241.9367851132307\\t100.47355942628873\\t1324.917729815152\\t958.0919501919309\\t1045.0153120278383\\t\\n447.4755190798922\\t1189.338016943889\\t720.5357379291424\\t43.583551914292656\\t1187.3696271467402\\t81.59378812964474\\t74.40682147920141\\t674.2000371770937\\t563.654543443619\\t1164.7097352633107\\t\\n78.90607695872613\\t989.5638732230456\\t703.9836212442694\\t399.15221186255985\\t655.212644450978\\t1010.8355571963527\\t433.5249016472493\\t632.9597924010103\\t967.148108161372\\t123.2560591818043\\t\\n752.5935485354498\\t244.93842414654065\\t320.8408736450964\\t416.03246483105846\\t282.10842916490685\\t636.6831692807064\\t318.40075364612585\\t1076.8856722350283\\t1168.1467176414073\\t1080.4835984332824\\t\\n780.4748187448778\\t131.02443598750122\\t1085.7444099391446\\t379.28267204606107\\t1159.4895674126494\\t31.618945719625536\\t1269.8733158004575\\t41.23985344000482\\t1073.7262807163645\\t354.530090534711\\t\\n736.9845660811353\\t1199.2725163260982\\t959.9943626495399\\t419.2678558376889\\t496.1240771189834\\t326.53792297561694\\t1186.2675112259228\\t1334.373849678312\\t788.8622313380614\\t461.53795227065996\\t\\n914.0692984447983\\t293.10808922427617\\t945.9903343006465\\t1314.6976224196053\\t251.52116805594142\\t108.89713453537458\\t969.1207535171385\\t1393.0939544252058\\t1080.533082652218\\t40.78188063864282\\t\\n10.826474401526783\\t1178.935304896658\\t557.5042167354234\\t633.3659774919561\\t1022.3440969956505\\t450.11492017849\\t994.1311337176561\\t1086.1471526107841\\t615.5597859566022\\t1108.720783142438\\t\\n469.81705774844784\\t1160.2594034148492\\t1304.0164591603107\\t832.0876391863112\\t622.0336204868548\\t1362.5301164146804\\t619.6622430957589\\t486.2377326607288\\t403.5964552722644\\t533.4048938292923\\t\\n1416.0554695970059\\t964.1192523759989\\t1186.257256339024\\t457.24932243391123\\t564.812307218509\\t1142.8969403412582\\t939.8229096737966\\t691.6681107289223\\t979.1698009691477\\t1419.6236728546462\\t\\n284.1176467641279\\t616.137443639427\\t346.00880361928824\\t177.2806686641253\\t797.8191038228002\\t1372.5938812770141\\t257.50854906954817\\t394.7066081554113\\t1080.9919716795023\\t330.99406124580463\\t\\n159.31750273514172\\t656.540313929716\\t522.386243599088\\t1145.4452372028181\\t926.1533731580943\\t170.41850346749237\\t203.7756891181165\\t150.68697977482668\\t494.1207255785793\\t417.8814771497532\\t\\n678.1318173921187\\t376.1660853398678\\t568.0150871431912\\t806.6966402002981\\t187.76508728252205\\t827.1198273253585\\t558.6587706459073\\t53.11281981922725\\t799.6990997607671\\t1097.8741841349831\\t\\n259.7847279170264\\t728.1831300431021\\t565.5692072959858\\t746.6930755211623\\t312.5361280208775\\t593.1755988589174\\t713.938587008658\\t290.34567516577084\\t1496.8548485217093\\t1118.8875840451763\\t\\n1484.7406982076104\\t1342.2038534673777\\t1025.5174397001467\\t208.2866305597394\\t51.18164176632173\\t934.367327143481\\t148.80605786498788\\t1053.2105487953017\\t248.4142358899203\\t592.1019582764197\\t\\n685.1117060085743\\t812.8155772655367\\t431.8364734952105\\t532.3783057886634\\t1401.7974356981929\\t536.0608686972305\\t643.4426254165854\\t496.6128842084201\\t652.7402238735787\\t1421.6252059772382\\t\\n723.2247662869452\\t238.08289089447365\\t590.8620092399107\\t911.1277562427605\\t498.5880495460717\\t1268.9373232626676\\t754.4699150690271\\t93.61790283223955\\t285.40739418842713\\t646.7587495904424\\t\\n367.1203709313513\\t738.6269850374777\\t48.386582973406725\\t1478.5721042733257\\t949.6796483438038\\t61.31541170458053\\t403.3953894884353\\t809.3102575302445\\t1497.3580616601796\\t1311.2985840543774\\t\\n149.55180994401223\\t882.6647384321288\\t471.1707784355397\\t859.0661691943845\\t1342.3976360331114\\t1457.8707561695849\\t269.78006725249827\\t137.74813116079594\\t649.351351757497\\t964.4355418303777\\t\\n663.6656800490874\\t655.3716455755257\\t103.30286539526877\\t1390.0114970497903\\t94.66496545590259\\t107.55538049459324\\t750.2072740973509\\t970.3015446252107\\t360.20315506440346\\t477.8798620721125\\t\\n42.79322327441316\\t99.72527446582133\\t517.1364600976991\\t1255.5331545660129\\t15.953483681470178\\t1359.517840878768\\t682.9809566496119\\t1224.4402758719962\\t1257.151381063278\\t1031.7767147535212\\t\\n496.21370583285363\\t98.64579315488844\\t1517.5131965619923\\t895.6165365599784\\t6.680568361037631\\t850.0773185726813\\t1247.7460383344592\\t431.409471121925\\t1390.7004572152298\\t1505.9839889408834\\t\\n1497.7471846289654\\t346.9212526001001\\t170.19505883435707\\t1460.251541590307\\t958.7202171671037\\t347.3560796391854\\t1006.831960360363\\t1380.8622121893836\\t6.563336145042474\\t22.649337083844898\\t\\n307.91797683330196\\t1123.948704699046\\t1370.5066486787446\\t1552.7247838141727\\t1276.3657969264352\\t903.4058847980912\\t730.0475843740136\\t1391.6172969388003\\t1542.3386485224453\\t612.771281762482\\t\\n543.1820087293266\\t9.363633610019685\\t1006.3621573155574\\t96.86550541992528\\t165.9836816734999\\t782.5845449300584\\t80.76629773402074\\t166.3374034608605\\t256.88760597893526\\t192.40195957470974\\t\\n962.5867749800344\\t597.7533626172047\\t529.9965156612961\\t1580.8747800388946\\t41.042155702428495\\t918.4909412842034\\t809.2000291740296\\t1138.9724344426063\\t1183.3862522290945\\t503.71587435828076\\t\\n183.85151077347479\\t1371.7586250956115\\t1418.3534307673192\\t494.5467412038021\\t1528.7788892281358\\t1334.9173690378725\\t257.49115892004755\\t1360.8004126826297\\t687.5777241611786\\t199.4729986860943\\t\\n1537.3692113562104\\t805.5675874243361\\t214.8440937564948\\t167.7304044638484\\t183.98570495064536\\t945.9705414536575\\t1288.3806552034398\\t662.5148440777751\\t878.7953852770997\\t1435.5432205516036\\t\\n1217.129515829065\\t1052.864619536458\\t372.3482529658486\\t423.6036996219735\\t15.029146574042967\\t323.24582425679256\\t879.2625683981067\\t486.7038413004073\\t42.33153894298407\\t1429.7387329958785\\t\\n50.030521855784436\\t655.6235083316965\\t544.9817474590373\\t1146.6668744582762\\t15.536048401812094\\t681.1557126090107\\t784.3457052681001\\t1304.5826329601734\\t847.0299156115261\\t1014.4316955312302\\t\\n492.136890591573\\t1243.311051437832\\t820.305063732951\\t585.2824167949366\\t628.7224833034707\\t900.2987105129232\\t1161.0468637390284\\t20.19835061378055\\t116.2807918728129\\t1330.397707764884\\t\\n1429.3054967203313\\t459.5949028155741\\t563.3694712089437\\t246.85670119842217\\t1338.031598177935\\t608.429856603381\\t1512.7690046506666\\t1038.8055549725507\\t777.0062996827547\\t957.6935632784874\\t\\n456.5166569294973\\t1368.2578306958546\\t1311.0006828556304\\t1164.8943733444064\\t1115.278481786721\\t389.27432700330854\\t48.10784493871137\\t353.6846880865304\\t357.2876701150507\\t984.5339091201498\\t\\n1009.5091967614849\\t732.2157992770992\\t1404.615538402137\\t1054.8847741774737\\t849.5792576768746\\t302.9805209455603\\t273.8559151329227\\t115.45909907877645\\t1040.3051022706436\\t1535.0384587357141\\t\\n1154.3125812958033\\t543.5320074353062\\t307.57145856409\\t1285.5701115607187\\t273.3383413190876\\t46.08215943998313\\t113.75555446109725\\t406.4165444949594\\t85.67867360135983\\t75.83092125893997\\t\\n1216.37506171227\\t489.00765327575414\\t1387.9421717330383\\t807.020624366029\\t660.0493829227116\\t987.1772613230363\\t1222.8392225669218\\t1354.3241983550324\\t1532.1721623953451\\t1349.6492143505022\\t\\n31.17873337879814\\t48.08179083231282\\t1485.1194242842575\\t992.3359660349123\\t395.0874250056795\\t836.2039530053095\\t1103.108684295408\\t579.1042605648913\\t1044.5635709901674\\t1532.5517864608223\\t\\n748.398603941054\\t199.20020008183036\\t1536.075298199945\\t1566.736741151623\\t123.77170331013362\\t1425.2182485766814\\t626.8109666845484\\t1256.4931711691593\\t1107.389381941928\\t901.2660699335944\\t\\n1130.9997091373987\\t310.72594390521846\\t390.3023107719182\\t1448.9966767550654\\t1429.4649192795514\\t433.1799203110903\\t455.38510574720016\\t537.4323269178133\\t260.4649225074732\\t1277.5003448881096\\t\\n309.139745779741\\t1484.2571278344722\\t1747.183439990666\\t866.4609518258105\\t986.2182581726021\\t332.6329527533652\\t1269.4338938119602\\t450.04227765830035\\t1060.3094862847859\\t228.083035159738\\t\\n696.2883139037328\\t835.2118031516277\\t1525.3913724172776\\t220.83743349533773\\t580.7375194866514\\t615.693192415238\\t360.5766181400089\\t210.53383088907\\t1324.727746262217\\t628.610363422752\\t\\n1670.493370015023\\t1734.7567075080747\\t1210.0516126313184\\t156.2268836433494\\t1717.935050417026\\t434.09246250190546\\t1743.1109454680548\\t726.0842189733152\\t878.4249636842064\\t813.8693226144628\\t\\n45.54552114121711\\t1068.046248448484\\t1520.4855527703894\\t1214.274351862727\\t1140.9574557065168\\t1752.556092065472\\t1350.3355956719863\\t239.97063585623857\\t1407.8793133802142\\t175.31269559705873\\t\\n497.69114547213957\\t390.60777369621474\\t656.3846930510057\\t801.152742669162\\t928.1985831648201\\t1030.6664837695494\\t1411.610740845615\\t178.8599908331168\\t64.47089826976402\\t946.0049386579308\\t\\n1211.057976966812\\t406.95728057132885\\t1096.0218237074043\\t1579.8372670049837\\t16.977639928415122\\t1411.6657312069865\\t352.1751255701137\\t1132.0730352171752\\t187.4703773408946\\t68.57750932042303\\t\\n963.7776901486768\\t30.2367900862261\\t98.97041823270384\\t1070.6221299927556\\t835.1654709185414\\t418.08259025768956\\t1365.3642298455454\\t557.1470493109757\\t618.0122780670112\\t929.3960238411636\\t\\n88.11931875009634\\t391.85616381708564\\t769.8663398132272\\t21.678478767112757\\t1347.3563364606207\\t150.49370903634463\\t481.59654109110045\\t1093.8436352559863\\t1521.879924901656\\t501.7251476594741\\t\\n1125.1813904141197\\t1120.6063889811246\\t1768.297091542598\\t1565.2078108859869\\t802.7585131244828\\t1356.739891757308\\t378.50462770260026\\t108.90804707496473\\t1504.6079576193854\\t1180.9675848400661\\t\\n1207.7984062421633\\t79.18350187543108\\t228.97356045242577\\t552.6452491216609\\t536.983074807711\\t1123.9430627283677\\t464.33357360111285\\t1532.0908199413802\\t755.0139023978348\\t1232.9432757813458\\t\\n453.0445595200398\\t1598.3877363642248\\t1491.2100685845044\\t632.0146288877322\\t1214.9135831193578\\t1801.1543480137652\\t157.3649649530371\\t1279.9025797226757\\t181.81134078109122\\t1135.315603569715\\t\\n1379.3087091112307\\t62.90949625249775\\t809.806716394666\\t55.871114497618585\\t1453.5767011571393\\t1466.70474156445\\t1721.0184975574566\\t1236.6808198219098\\t443.972238799507\\t896.2463628549252\\t\\n950.9378869699435\\t854.1509458441933\\t895.8732652148572\\t784.1081475736208\\t1511.4758285644823\\t1072.0030531348305\\t477.61816272163253\\t145.41463109156658\\t803.3618324127008\\t787.0212911166564\\t\\n1168.6030149965668\\t214.01395208179466\\t683.783333648694\\t864.8305594950596\\t1200.905977626741\\t205.29662490060613\\t460.7509755181435\\t168.80602189348963\\t1389.7902194013698\\t1359.0662044434532\\t\\n1096.5374631430443\\t1015.9978515159099\\t1423.4298781098119\\t380.9797946545714\\t1555.73259471363\\t310.35048769437213\\t1003.6373523122897\\t1875.2927443658373\\t1032.1356876110917\\t589.3210046326475\\t\\n560.1850198372524\\t1491.4162634201757\\t607.6689635620635\\t1115.402902075562\\t762.9261380391773\\t1435.4610570457207\\t781.4934664416711\\t1781.1712751021378\\t1626.4541366830547\\t1327.4173902466162\\t\\n773.8743840735041\\t1357.131223775035\\t1340.268803300945\\t572.9512926891098\\t1660.8656543375223\\t586.7145168401622\\t1165.5259803815156\\t1653.5075922744047\\t1284.7382240744432\\t1107.9329258797898\\t\\n648.5848045956348\\t1046.039063734768\\t1901.6163803365935\\t1213.4283954069144\\t1627.940615539097\\t1015.3992581764052\\t1924.342854435961\\t1039.5245489874799\\t427.8190398829847\\t633.9818650706504\\t\\n595.3331648743182\\t762.7885807829205\\t861.1267412260166\\t913.4196659606188\\t928.052540503349\\t29.025258837145202\\t1408.7159432830117\\t101.9703527054446\\t233.6540931927683\\t851.1871171099713\\t\\n550.0090140400349\\t567.5592886046859\\t625.0413046973991\\t1631.338150906181\\t540.2427445653759\\t663.0975878859621\\t603.1879854450792\\t91.07598161404572\\t1284.0065356063847\\t987.409151079151\\t\\n323.58384790663314\\t1274.672285222607\\t1823.9473317323273\\t1669.3461664747954\\t1345.006443884922\\t786.0772639720589\\t1048.9619863355142\\t1854.1993490135594\\t467.7905832447785\\t131.76823210476263\\t\\n1821.312126147484\\t1938.1380764751857\\t1031.793542042028\\t390.8018957663502\\t92.08506910693795\\t292.0167732793353\\t1718.5367986377923\\t1695.2062270400204\\t812.9367570147328\\t1739.4933031691162\\t\\n510.8383156783655\\t755.9673028926335\\t757.5317785597585\\t1811.8996104655141\\t729.3642798985818\\t1362.8536818960229\\t1284.0374103205268\\t375.60125435269975\\t396.3859493393412\\t1676.2189132364235\\t\\n1104.424948716932\\t1390.6803575253841\\t1289.9969161687548\\t54.64764369094941\\t1379.9434295177869\\t1926.7448502217064\\t138.63103099066666\\t1522.7499934857924\\t1925.7689492386573\\t306.1805240215286\\t\\n634.7595506804192\\t1093.0899059998294\\t1813.2957517231614\\t1552.9123641659749\\t417.08748449396705\\t750.5053019460228\\t266.1514266572606\\t1951.2069805704757\\t1710.6265594911486\\t1974.572018737694\\t\\n1686.0341332553967\\t378.0162943638218\\t1766.3754244533213\\t705.5086437796801\\t1922.041726734999\\t1752.5108442879168\\t527.3713125332924\\t206.29168822464112\\t1834.0480572712456\\t294.27714620361706\\t\\n95.48299436463523\\t972.8327344495524\\t1014.4432913592132\\t342.42057741027105\\t1836.7387457775726\\t71.14554952807546\\t1019.635166739717\\t1937.9562253197123\\t198.55654977282956\\t666.6770092586902\\t\\n1670.3835397325263\\t943.9048949952329\\t1230.4584860021193\\t1739.3099451588698\\t270.18045468368757\\t167.75335656236655\\t475.5984673689504\\t1125.984372034314\\t1823.9477547603444\\t538.901850334665\\t\\n1668.8122007527115\\t119.61425366799455\\t1098.6738026595447\\t1031.358177031303\\t727.0418491820031\\t2018.0126094956381\\t2018.605372547113\\t1096.4918318460138\\t777.1064483128737\\t1726.7780945902198\\t\\n955.1507236592856\\t1168.7247745772022\\t1374.9576365787739\\t1185.8966162276581\\t526.0073028658962\\t818.6932168548832\\t106.89752505068225\\t1453.024681004466\\t55.37008823714509\\t1975.8750382976827\\t\\n1441.753173692719\\t1937.9958520054647\\t1577.8083973007342\\t463.7730223995731\\t382.4013119869164\\t1752.1809462374622\\t1943.3945837062072\\t1848.485443489517\\t1562.8061148661698\\t1063.6005164350986\\t\\n625.9191865181213\\t296.94083166219286\\t1641.2573264088155\\t380.30830470895626\\t780.9489690415611\\t1611.16699273177\\t888.0785456545694\\t1354.248569928265\\t699.3183364347691\\t956.5490271258828\\t\\n1742.3841099715507\\t1.8339730445705253\\t394.9073186504381\\t517.0711091901126\\t168.5876984910854\\t751.1642660020075\\t1278.5149379604102\\t791.9042819323427\\t210.79162105088363\\t463.72964162068894\\t\\n1171.5597422222431\\t2034.220611129938\\t964.6753059364155\\t1968.466862748206\\t982.0710313144527\\t1095.1285159768333\\t1875.7191058375358\\t494.98710677148586\\t538.6093441405894\\t1614.738999011543\\t\\n675.9705744453897\\t1358.4912964215769\\t991.6950935209511\\t850.0224611985018\\t1118.4625923045733\\t10.856089615286798\\t9.335914136384421\\t308.53320226690386\\t2047.4680654648646\\t257.66983157945083\\t\\n1871.2586197753621\\t170.4075041454074\\t1212.1752784098796\\t129.52382365700583\\t398.6071658919271\\t130.69489821903278\\t1556.836728077239\\t849.4903037221079\\t1815.004433004255\\t602.8559459084036\\t\\n1721.385962409087\\t1844.9366879633208\\t2094.7694423431044\\t316.1733334068316\\t1693.7802572817534\\t1544.721623040106\\t1630.9135648326783\\t1815.772162758915\\t1624.127698059374\\t490.15334299467725\\t\\n733.9390254841493\\t1741.4449524589622\\t1673.7602858082505\\t716.9476075583947\\t1562.5279781603845\\t1180.0131131361416\\t1349.308985304523\\t581.0936466198789\\t21.09815730903949\\t1526.3915074509887\\t\\n1090.9307940493056\\t329.86152914074944\\t44.60876235179619\\t1025.8524636020115\\t969.8554872509071\\t1622.2471793707814\\t1417.5549317841635\\t846.3884766189309\\t429.187388904507\\t395.8659563001514\\t\\n769.8985932072383\\t1232.3577655317558\\t1059.5278380660548\\t759.9124448206309\\t1743.6688205146238\\t1909.6251408358776\\t335.6638507107811\\t216.754190212422\\t1763.2524702247058\\t718.4290600238388\\t\\n506.573065543807\\t1481.550561401408\\t1840.2718112195482\\t427.4781301259104\\t273.8093328578813\\t793.9401350145272\\t1006.0070328242125\\t12.633634221480275\\t631.8553092207669\\t1362.9144732389545\\t\\n1178.8245523828955\\t396.63319044659823\\t796.6710447837909\\t1383.0897580113965\\t1159.2005580096209\\t2085.929212511306\\t512.3592550483052\\t1522.2519204636592\\t1094.8761547353192\\t1568.7231572508172\\t\\n15.54862646492767\\t411.69187964246396\\t996.0526396684418\\t651.7153738909878\\t843.1912746287911\\t2156.037695896998\\t720.505546610465\\t2046.3840741913098\\t1635.3251565319133\\t894.242187533671\\t\\n270.0604824391773\\t727.861540318058\\t234.24322102592052\\t1948.7413117128933\\t957.2071921599163\\t1728.5487309454359\\t1527.0240333466334\\t1507.9955600954668\\t239.90353078916476\\t1813.2300438638915\\t\\n1610.1272395447638\\t1346.0105012137517\\t68.15684957702487\\t1245.6525265510702\\t634.717675512063\\t689.3974633797317\\t346.17562845209414\\t214.8166455075786\\t728.0994161385116\\t259.4287627918428\\t\\n527.374358674954\\t1195.1734581571945\\t2102.006942032126\\t182.5045159696356\\t1915.9193273770009\\t2063.678051157836\\t660.6175315251099\\t2075.8300625720985\\t52.206040872513114\\t2154.092818450618\\t\\n108.55264347255377\\t518.703720973308\\t872.2924460761969\\t2152.2764330684363\\t1309.1568500658727\\t774.0685714728141\\t560.2905403815425\\t1915.1917894572084\\t32.997186495360005\\t414.0487933783935\\t\\n288.1131865057845\\t1838.4807599493472\\t2002.3053675325734\\t714.5462942512693\\t1213.6880517267368\\t136.2862594214678\\t1964.9684390608259\\t159.6672032592552\\t308.0710374965001\\t1300.441398353958\\t\\n1236.3119986258303\\t85.248757534343\\t842.7016629518646\\t1812.6118014179106\\t1189.7515107220595\\t290.70987632951187\\t394.1546755606164\\t141.71773411074074\\t14.79565820189409\\t1012.1962726273158\\t\\n633.3214100808401\\t618.1072924421976\\t1034.6565255682092\\t13.400663389695339\\t1613.8546679902875\\t2134.9171332169817\\t1601.6684255124899\\t822.9439932854078\\t165.01958626924488\\t1869.809365879909\\t\\n287.31605294559364\\t1949.0121130929124\\t1374.426821527927\\t2120.675359788413\\t1241.5509312252068\\t1957.5965501472556\\t2243.1285203335765\\t1430.7037752185677\\t1895.0431767750736\\t848.7856111137072\\t\\n255.1796062272227\\t294.9463659449391\\t780.6004961692635\\t706.750651143371\\t1787.3119061375892\\t764.861921718462\\t2153.058271433872\\t1787.0806663682035\\t1152.8848618768448\\t267.59491662499323\\t\\n917.0899996283081\\t880.4328829351347\\t1569.4121823392738\\t1511.8699988820367\\t1874.9185804342733\\t1214.2958879497464\\t41.20590098845663\\t1201.2409127691974\\t375.4241998765046\\t534.1212422169242\\t\\n1953.6415854060388\\t571.3182200511368\\t1070.5527510770157\\t2158.793925718693\\t442.06109813164323\\t332.6065475705578\\t1286.1308685478373\\t2158.2280436086558\\t897.2055685373211\\t1789.791536492089\\t\\n1215.4898990755878\\t756.2110683015381\\t36.04463322471127\\t1245.0285774559238\\t851.6592877814323\\t1315.5511007722723\\t306.9448252121015\\t1502.7134041457464\\t286.56243492558815\\t2089.4074331559455\\t\\n869.9131461123568\\t1472.2639067871821\\t2163.3581882630906\\t1265.3707673251695\\t1007.2383351443623\\t247.6989533013816\\t1757.9500235723274\\t710.5988240438185\\t2091.627110519122\\t279.2611335599807\\t\\n2016.7553498288373\\t239.82376939236548\\t2236.2199541314517\\t189.55331546278984\\t1010.6143125745427\\t2236.06905153239\\t1389.1283267995843\\t1842.4701899373304\\t934.2277027920571\\t687.1606121287676\\t\\n428.2611339835944\\t599.421412715863\\t650.3952626875241\\t536.062550081966\\t797.1656929710504\\t1915.8325311237377\\t2252.7506594170713\\t2204.839304786026\\t1452.0914959977192\\t1333.5097837433173\\t\\n168.9912771384856\\t1064.3167189958515\\t892.9267900732232\\t956.0329412387949\\t233.44232753993393\\t1625.4685124350883\\t1038.5843968391762\\t2240.4304528950724\\t1322.3134932530859\\t1550.184368383488\\t\\n1795.0929212526794\\t110.51757054003588\\t1747.1010926096696\\t122.74374117215163\\t994.7984999379415\\t320.4961750470345\\t1708.6069693390607\\t1933.7005591516954\\t2340.7219229767925\\t1778.172144488307\\t\\n1202.2178369651367\\t1627.7235156351057\\t846.9721906414543\\t1892.163375997744\\t1169.10678245376\\t1957.488023792607\\t2339.706530362904\\t344.735401134296\\t846.615511399574\\t1247.5902684334533\\t\\n1135.990255812245\\t2347.5408552008257\\t2156.1001693005733\\t1741.1932274975372\\t1165.8455564770381\\t414.7324176500546\\t2235.791751004628\\t1301.2007571394759\\t177.63839674522345\\t4.867475083302435\\t\\n1214.9560192341992\\t1283.12829851648\\t1279.5293577025634\\t1583.2531988627304\\t2008.2819831985194\\t1781.1245078588713\\t1295.559974059418\\t1615.2722805382484\\t2023.2430223294912\\t19.552779675813387\\t\\n546.2117566428254\\t1563.9338793690545\\t1492.9468639438176\\t1005.0685077629767\\t492.86082158649833\\t1845.1172728302543\\t168.75896103349086\\t1524.921978553675\\t578.4609782755231\\t190.6967433368556\\t\\n2051.8275677122897\\t1741.5899010903477\\t964.5073903239827\\t16.497294071534\\t1131.6011653818503\\t1957.7780776225823\\t1190.9755811988887\\t1056.2444538930024\\t1210.9004589181752\\t975.9676177140083\\t\\n2048.2208793885115\\t1501.5676214424707\\t81.55326205169115\\t1349.183856222862\\t2208.4641606002438\\t1197.0054838584533\\t1788.5249493026622\\t1083.8919447051915\\t1435.1278735977435\\t1361.627083642453\\t\\n661.1713053233337\\t792.7933220618802\\t156.68282658717158\\t556.7818756447051\\t318.7816520419355\\t2125.3790664990993\\t411.7062610534297\\t1530.8666783361778\\t1393.9530971217196\\t102.18957338517856\\t\\n2044.3928252977942\\t1240.0746425855357\\t1543.5796284277712\\t460.12760076979964\\t1229.0916224092448\\t576.5389216184169\\t363.63897625827553\\t1616.7312560854978\\t2018.8216443456404\\t152.74871201477146\\t\\n976.198678526822\\t1470.9319893988056\\t1670.9588888659157\\t645.3427181733476\\t449.22666631002363\\t702.6482363328562\\t1716.6959414230391\\t1605.0393134046813\\t2170.3176609833995\\t311.11473702604945\\t\\n92.38124476966485\\t372.0279872753537\\t1705.428920602299\\t2117.3424557654685\\t1305.7867216064772\\t1362.7550976989626\\t2426.5708460554706\\t762.4068870773377\\t259.5918631314636\\t1390.9817952898827\\t\\n2099.722653974657\\t316.94912441705617\\t1524.8992539346164\\t1357.3328555591415\\t1220.337478811331\\t2189.476595552395\\t1356.5224151825232\\t2043.4559471824984\\t142.42947683257776\\t966.2523956751363\\t\\n491.7596332189977\\t2055.527184827424\\t2460.905143405153\\t444.54837760233363\\t1344.901133748429\\t1293.194620696269\\t878.8588946845803\\t2058.7163482039846\\t1297.8064820983575\\t362.98035995834033\\t\\n989.4970834121829\\t441.70247089141867\\t1822.0643708256614\\t932.6058023761855\\t1680.782904735823\\t2434.546915481547\\t2075.1057321380986\\t2384.4172808437597\\t2395.910652266553\\t174.19757998951007\\t\\n2200.072635244717\\t2342.870054665992\\t224.92924328992885\\t2409.452640469369\\t2106.4943850215595\\t1121.0167060355882\\t1323.5967146288244\\t2.052077186234512\\t1402.5294544898131\\t192.52257913754366\\t\\n927.8105801830944\\t2266.731137112625\\t1057.9671160787307\\t2119.5521066348992\\t34.79288956737767\\t387.85421634760786\\t658.742226026811\\t611.7613830885414\\t1930.1459160147115\\t519.1347684341293\\t\\n979.9895933359203\\t2268.6007269328247\\t1819.8129974684368\\t1428.448706581159\\t682.4800717583196\\t1597.6732048688484\\t1131.8823117914937\\t1656.766579399456\\t837.3653302330549\\t1933.0461397368642\\t\\n1529.3198878113203\\t133.80207029458907\\t1152.6980884631143\\t676.6166707514976\\t1161.6080049207917\\t22.758206971229136\\t2111.0506951253897\\t714.4619430620088\\t1268.4169000153536\\t2294.3392967086015\\t\\n603.5344815277789\\t2394.28452825213\\t2481.856238883095\\t709.3828563004658\\t1546.0439965121004\\t1441.6652444260053\\t1464.1589351428236\\t1823.6274105719012\\t431.40371213560746\\t1571.2256835049493\\t\\n2246.3114973939764\\t1183.2228224409034\\t1617.6074831891892\\t1000.2288955491302\\t1296.8576897203402\\t1163.702369518625\\t673.2360587322041\\t2534.535496150591\\t2012.6693735104907\\t937.0018282460446\\t\\n2423.815285502545\\t877.189445233972\\t2111.2257658848425\\t870.0111274384554\\t1763.4699520613806\\t2246.3890538020555\\t1340.452410662967\\t1863.3024337098805\\t1892.2953776761292\\t2270.97831323533\\t\\n371.82369033012543\\t434.0301300757787\\t1265.4971896708537\\t1573.9886530519525\\t1296.2550538789556\\t242.73168928572483\\t960.8494459740734\\t2288.880994107997\\t1833.6864083380492\\t2239.5852143667576\\t\\n391.54398588287756\\t1317.6406478088384\\t967.150281891802\\t469.28264845242444\\t862.5164075453292\\t2206.8560638510844\\t2402.6702224840296\\t1376.5914429661425\\t269.40408279735584\\t1383.4977707761875\\t\\n805.6153501992077\\t811.128510590474\\t52.755123277007684\\t1767.2952388161304\\t1844.9158539056323\\t864.8496261536683\\t140.28225856154103\\t211.18546396711227\\t744.3928084066334\\t1252.7883299113753\\t\\n154.87599813206435\\t1971.2792649565413\\t1260.0141321166168\\t2049.624737638474\\t1439.5468814388794\\t1925.635127313976\\t627.6814812475197\\t439.00180821440915\\t186.01812620501497\\t2523.8881913077307\\t\\n1526.6863852892757\\t818.4963974683217\\t1120.7697636820503\\t1335.0048834037132\\t1531.0509604292297\\t1967.8099520502396\\t1000.278828923198\\t1776.7685983892554\\t1647.093111121424\\t737.4340574497089\\t\\n1585.456933429647\\t2410.57352435338\\t104.56677071157429\\t178.81809488260873\\t25.750588000653327\\t2056.895963041048\\t2521.6175793487073\\t1712.00661889956\\t1524.410506854747\\t1555.9252384498436\\t\\n1615.731127360789\\t632.6417039645022\\t570.3788786780942\\t2481.1709784684685\\t2286.0429542184893\\t2325.6978234227013\\t2120.9432425864147\\t794.8470330089898\\t2072.575128207515\\t1999.4982482404769\\t\\n1638.7943627749255\\t534.4325427375849\\t2186.2302664171275\\t2186.3412205090613\\t2611.310004877211\\t2133.284615655469\\t798.6413371512517\\t2537.285747926872\\t1977.268505526389\\t813.9832130043942\\t\\n1688.930302467234\\t1380.1705791140787\\t2008.0746404231727\\t1353.3921970850533\\t891.9638662908674\\t1971.0696428239858\\t872.9240487477543\\t1833.1455730860541\\t349.463976295634\\t2275.2253612330774\\t\\n1844.346988730209\\t453.82359770237775\\t2052.8419287837114\\t446.4632521887843\\t2581.2014235757115\\t222.59880588503577\\t1223.3552566363749\\t2380.9905241629895\\t1817.9432728891852\\t399.9905570375698\\t\\n1487.4325466928497\\t506.08782848954417\\t1404.668862172932\\t752.0623130550973\\t981.0862509209082\\t2131.716683008559\\t11.492840407349068\\t1182.3688880569707\\t1478.8176942554192\\t70.80646220359223\\t\\n1671.9654214730147\\t769.7503339376669\\t1614.320014972002\\t170.81942841661478\\t620.8522990645514\\t347.0841637576313\\t1970.967028493463\\t1699.123992756237\\t1871.0542707277002\\t1163.1561972367222\\t\\n1331.2689706892622\\t2364.288445143546\\t1215.6434334402422\\t1436.4806979459288\\t468.1502902415841\\t2583.110249093893\\t1856.6309563702994\\t106.84805303270518\\t1751.219310914944\\t917.6692342952427\\t\\n1194.6734565916975\\t699.9940098005309\\t1342.6147141972237\\t1886.3893547648006\\t343.71761048675785\\t1477.731988491693\\t211.0184144378354\\t569.4034739388857\\t1064.2248557755865\\t770.5355414366267\\t\\n339.38856542092213\\t2317.6417603752957\\t88.08524804168756\\t76.53861133890416\\t895.3251139977216\\t2664.2419574197784\\t870.5443198267533\\t1044.8532290524595\\t653.2127657617599\\t1263.3667377735283\\t\\n361.36025338290665\\t764.6089884256569\\t2298.002226258482\\t135.04311464590137\\t551.1864573733075\\t2689.3741725011514\\t594.6853814701287\\t814.9195839732107\\t1594.5650058025733\\t376.1876629876102\\t\\n435.8609244744969\\t1526.558482961058\\t63.299095573930785\\t333.89897379419955\\t697.3205291050183\\t6.398913717001866\\t2274.8744994207023\\t1309.6630997477291\\t66.81718386819448\\t1137.4143973040907\\t\\n266.3747772327728\\t2319.1691392883754\\t1311.7081189802452\\t1535.5803019115008\\t1990.3212773702785\\t2670.3147988751684\\t1603.3498896976798\\t1778.048663762358\\t837.8960185664089\\t1998.9634571537401\\t\\n343.5568010629001\\t772.6632491137486\\t2244.235063382365\\t631.8748603812879\\t1726.8608633687923\\t268.0075822476446\\t1225.211556163492\\t354.27462229040117\\t2379.209044867691\\t2373.387301025781\\t\\n727.2465896920144\\t790.4159718614517\\t2024.838738036247\\t1979.265790957293\\t1469.166109315759\\t608.2226957437842\\t719.1759724522811\\t469.1099673232934\\t2368.794669561815\\t2643.396724097267\\t\\n943.7189141747692\\t1377.8078822819\\t2067.8654252273377\\t1535.9686103822683\\t2102.8180636624243\\t633.9366842369634\\t431.02284698341043\\t527.0774495739477\\t2714.1965154871596\\t1784.4986914050032\\t\\n838.6035377022048\\t2321.180559034659\\t1486.1645980212058\\t1293.0506227581495\\t1077.1280331222893\\t891.7116447927444\\t1869.8333458856239\\t1101.0944123138368\\t2352.7572586767037\\t1457.6363764105301\\t\\n1021.4953068592592\\t507.3191799525384\\t92.19737225175507\\t1925.280062255207\\t2659.812924537845\\t2738.404417042238\\t2752.351943452798\\t544.2478164462972\\t1299.8376897031233\\t2463.981852609604\\t\\n144.51648331565082\\t1648.0298229410803\\t1131.3523977358427\\t1951.7031778081468\\t1826.3587347963073\\t731.6893257697548\\t2291.2820231450223\\t1449.9634729056218\\t678.2138605035743\\t265.0127072679732\\t\\n137.80366272107065\\t2759.3506191824217\\t203.4354096133165\\t1609.1094644074744\\t165.31992108471132\\t444.2474998040144\\t1873.8857425757817\\t1094.7610559164393\\t1445.9898532004179\\t1279.5535048581148\\t\\n469.95318502472213\\t1362.1792479252167\\t548.1300148452048\\t1092.1667375098764\\t1275.821923212721\\t1241.2098575946209\\t596.4783165968961\\t1785.9197641944236\\t2343.357512519811\\t2099.2034172538174\\t\\n257.2878590352833\\t1803.9672503745594\\t1110.9374352477507\\t9.367179904401212\\t1535.396902604703\\t1478.7106194118383\\t2540.984483369034\\t1552.5948771188544\\t1473.7782828744585\\t80.09333772101954\\t\\n1453.2492696356715\\t469.5354772409159\\t2447.4393546408946\\t504.03942518227035\\t1818.4980101775654\\t1016.8164974110613\\t663.7217788833402\\t2140.059581057592\\t1659.557219734432\\t2400.440962726418\\t\\n1968.7238260856955\\t1207.9057310756812\\t1919.5898175350176\\t237.64765914976692\\t2023.8616822371182\\t1749.757777276021\\t1205.7106334010464\\t238.24794868510898\\t2660.642196990513\\t669.523867765016\\t\\n2273.7406438020566\\t732.4758381453044\\t586.361287229648\\t1999.6775539304037\\t2788.0078077356784\\t2586.4203888074057\\t2022.498311411658\\t1121.9768976916873\\t252.46066124377475\\t2504.1756785761568\\t\\n1664.0933836023785\\t78.33118549724419\\t2725.338419591449\\t1797.8747757592794\\t2182.1802435538275\\t987.4657452176973\\t565.2817406422693\\t2080.8720908045025\\t154.43722048247557\\t2201.3465775210484\\t\\n2334.368117918943\\t2130.959531775127\\t635.4375782179377\\t1828.5445354265948\\t2065.809535248551\\t77.8585363817066\\t904.1652236560833\\t2380.445926170473\\t1687.4816270326737\\t2673.1793044952574\\t\\n1690.9608307930998\\t1007.8969736093962\\t156.5920448596223\\t1737.2352876820628\\t1700.5978384884158\\t2583.3501876461655\\t2779.8811520730724\\t1568.7355178407558\\t729.1949523780565\\t1264.9339941042213\\t\\n2546.865929395314\\t2110.5216249622877\\t2379.013978630852\\t458.1380498533605\\t888.0438255693847\\t2724.7670233310764\\t1508.299106335527\\t2220.7054184703115\\t812.0534918374051\\t2695.535165352317\\t\\n1338.2544573967773\\t2740.30575133082\\t1971.1610804243119\\t1521.7335593480132\\t182.0608263175341\\t2209.47191179482\\t1029.203107686314\\t88.31218732224384\\t1127.1047417895147\\t2115.28915572445\\t\\n1689.480785054994\\t1866.3182313965835\\t1342.5020080578802\\t2234.0021968646774\\t2837.8065782993663\\t1152.515248806888\\t1659.112673101312\\t1665.6471460604328\\t342.2404529892879\\t251.1139838477055\\t\\n352.94997285511505\\t1927.0901794557885\\t331.34715216268\\t2203.355197899026\\t72.18868655847939\\t2685.95372642378\\t1936.46892919097\\t1855.8041328360891\\t686.1261255328584\\t1516.682990060491\\t\\n2736.169062615724\\t1502.4965226467386\\t1442.0172475331042\\t1058.4007665706135\\t2223.493711689601\\t209.8534683869545\\t1591.8131164216556\\t2658.9726517137287\\t2858.5531613221638\\t1430.690825883621\\t\\n2220.7309770477927\\t1457.6106458053885\\t2040.4237112376807\\t2411.731480223372\\t2549.6800229568844\\t2043.9130930168585\\t874.6117203117756\\t518.9861987204341\\t1592.5015480251275\\t1968.469654845752\\t\\n115.94767046211128\\t1985.7598268390325\\t1535.6503997116447\\t2800.7353236497547\\t1266.84113224949\\t1117.809167053206\\t2591.7188259326317\\t28.21174744018017\\t2318.1867334016524\\t2669.0892071068447\\t\\n637.4715773004198\\t290.57192654771603\\t898.7293284188119\\t48.07636011201207\\t1104.6455493375684\\t662.9339867382532\\t48.53296105180871\\t1285.758294609378\\t823.5968039730448\\t316.3861645292447\\t\\n696.1552629282766\\t2435.5848357404734\\t1801.358471730526\\t2661.1675368091546\\t2370.0999445693924\\t1291.9766568903688\\t146.1092318052982\\t350.72920712314306\\t1902.602509714479\\t1224.5257196528257\\t\\n1354.550419317506\\t120.36755629212776\\t193.7792249918425\\t1464.8967768553935\\t1837.5871698183785\\t2556.8678210181165\\t177.45029273756208\\t1760.9380414901188\\t2095.197008858665\\t1923.4736225945358\\t\\n2035.6754421856951\\t2613.855139821666\\t171.9087049256164\\t2195.2184313369175\\t1187.2349722739439\\t2033.9753459525984\\t466.4205852717897\\t1752.565937180943\\t725.8280475340937\\t850.1033563624151\\t\\n2229.975802653036\\t988.8192054742697\\t1561.142177919576\\t2105.1893800325893\\t2292.6356193318397\\t1635.8167087801332\\t2625.332609266609\\t2180.454667544465\\t1669.8457528251622\\t2511.977684098981\\t\\n2528.6614654863797\\t1541.9867708997142\\t914.073044548737\\t144.0618477017408\\t1839.0566751721037\\t1167.527585624895\\t641.6085204272257\\t2827.5495342029876\\t92.79936585649999\\t3000.7551309088954\\t\\n1498.9093795123451\\t1226.6668886954953\\t484.31174777936207\\t294.42886792013695\\t2920.656552451729\\t2450.2432466414616\\t1867.2153407299606\\t2601.87436877004\\t2145.6681830501475\\t2690.425089686795\\t\\n784.3111622495485\\t872.0725906300048\\t178.02059760878865\\t899.3968012351161\\t1803.6932716793021\\t1584.4650290355455\\t454.58594234367126\\t929.230806978699\\t88.60824448409588\\t2680.3844411703926\\t\\n360.9184306521351\\t196.57978848315122\\t1820.671571236841\\t1618.8434872504286\\t2257.625928533437\\t486.31838503754364\\t1496.6195164855983\\t244.2881739747431\\t665.6150697716428\\t2311.597114777874\\t\\n1699.5607274452616\\t2613.3255904282682\\t1963.1388658460653\\t1204.0547143640915\\t2884.022313918262\\t1562.3161047897606\\t1052.3359722766243\\t809.6641299222741\\t286.1946774733682\\t2394.8822542944445\\t\\n2845.558039499647\\t1044.7910938165567\\t955.8169804499934\\t130.46730353223816\\t1387.082036736299\\t1128.7975557789246\\t918.3980698452771\\t1396.0285245497817\\t1529.6311260947086\\t2818.6674924532717\\t\\n1405.687499284592\\t2863.1846387969226\\t2285.8645299853065\\t1025.6736306050589\\t141.97637219829255\\t1973.6056394770771\\t2299.8360436478197\\t2495.0299859667725\\t1707.3890595971002\\t2974.1986439666534\\t\\n1141.5907384933905\\t1532.9514496684546\\t1195.7030179626922\\t2140.276712099164\\t664.2851385115874\\t1757.9343937305723\\t2508.3176046339727\\t256.804031337953\\t167.12364059572315\\t2762.986191857221\\t\\n1153.5126588023072\\t444.0586341811247\\t505.2192854283316\\t2782.1199716744954\\t366.6929872971862\\t151.1935567853362\\t1005.2385984993387\\t1323.446126765637\\t2224.4963991718664\\t1020.0702632120249\\t\\n2574.116592265184\\t2248.9153652730033\\t2236.17052098243\\t1742.1913004625148\\t2401.797802786991\\t608.2949975409376\\t1469.0376417005045\\t2722.4751905407556\\t10.477828631874402\\t1854.204210759991\\t\\n2780.996424816429\\t192.9257024830652\\t2676.4000510483384\\t591.1209521822011\\t2947.6804004782534\\t1101.2918299687165\\t628.3956124316809\\t2915.936100105982\\t855.8403477520242\\t2341.55704554584\\t\\n557.7120791597396\\t330.18121617185244\\t1589.6535116793782\\t287.21992000025114\\t2716.4529941328237\\t394.2591776122908\\t371.75460534057873\\t1843.9881567837826\\t2772.1890910195675\\t2012.0113610373696\\t\\n1452.892983574269\\t1134.5484721103269\\t2939.2765957194047\\t1556.580084873947\\t1627.4439226768654\\t882.4443032726548\\t1026.7860927925758\\t295.2999746513951\\t2349.1866768184846\\t778.0099205010773\\t\\n952.6510833792613\\t1356.0500331313845\\t631.9098474663106\\t599.1669943594031\\t2959.4626685241715\\t2039.011659587904\\t1938.3378984339731\\t1909.976609170212\\t507.5606662911175\\t303.3993814883621\\t\\n2387.6949630179897\\t3065.7299764543286\\t2151.2006676519864\\t1882.3947050461372\\t2773.203016146504\\t100.92138403850694\\t408.7175272284461\\t2532.027796462573\\t2427.9711051895215\\t1569.236506133242\\t\\n3064.181627034812\\t1112.4928803425178\\t2172.1483908865334\\t1568.0139748177712\\t1157.6370958210612\\t483.44344753782707\\t803.8084489104247\\t1966.113865446586\\t287.2516620538206\\t700.5127289676223\\t\\n1008.9123098622453\\t1610.1273667958385\\t2456.9417325003124\\t2502.966624682104\\t1742.703629678192\\t2130.158607643504\\t2030.1600119798434\\t1779.326260533114\\t496.0271639175621\\t519.0510176906656\\t\\n1494.4213354550725\\t2167.1717888501953\\t2012.109053387927\\t2437.3163828517313\\t2082.2520324044476\\t2463.427548300058\\t505.9298859226529\\t2139.2511086836407\\t810.838138207887\\t2643.4841795598036\\t\\n3086.9550729233865\\t2383.781984001833\\t920.1379140574026\\t564.1005042520171\\t2806.414794915324\\t712.8996899236382\\t1791.8943903089948\\t1652.3575592829077\\t2272.0748338056937\\t2646.6022040550038\\t\\n305.78511625443195\\t2305.42604280346\\t1859.4341101843465\\t1474.350901246228\\t2698.015330703067\\t2956.566923577472\\t2456.003544129796\\t92.69194347300296\\t7.873270764341481\\t1681.9871102155432\\t\\n353.12863854767687\\t2950.712932458521\\t2688.3069904819768\\t3163.885961215482\\t2342.012019584938\\t2398.4648231007222\\t2986.5824444160266\\t272.7602433134525\\t1610.650117464801\\t3180.207805394399\\t\\n285.22843786400057\\t1143.8201189834326\\t2760.9238393258543\\t1767.6818031788903\\t2023.8106782593975\\t1451.0632308608058\\t1643.971030784898\\t872.4243258695976\\t873.2350891886615\\t2623.3683662360877\\t\\n1698.478761853743\\t2071.057797952216\\t1612.5701798402295\\t1708.0455031010026\\t2215.9300615230927\\t720.5831489390079\\t1782.6493478068617\\t442.52300378402714\\t2675.412848564148\\t927.0289263315427\\t\\n726.8230938421028\\t1031.5505974223154\\t3098.9087294646497\\t2157.130762325087\\t1647.0159483412226\\t2747.763582885144\\t2143.2853354262534\\t2389.967473302014\\t1807.088633954002\\t1542.6391992604306\\t\\n2353.7198328051086\\t37.46205517287256\\t695.2269320617535\\t2599.6606189743184\\t928.8124045400257\\t758.0297936205576\\t2015.44383348944\\t1577.8295372235682\\t3158.7981316431174\\t1884.1418146827798\\t\\n906.6228226294952\\t2090.6864449114155\\t897.4454058279802\\t1996.836980421599\\t2111.467427885946\\t3017.91311280182\\t662.6628264917697\\t2095.287278336812\\t962.3424768036255\\t3170.9915671947388\\t\\n94.94114064749955\\t2105.82095789374\\t2001.1384930532874\\t2822.030250144493\\t1068.842074895417\\t2074.9673407767464\\t1193.437070368706\\t2305.092643982652\\t1447.5435787750473\\t117.18980511496933\\t\\n2157.803225600299\\t1924.3241898284452\\t3119.254446577824\\t1933.955257328323\\t1477.538348631944\\t2200.063606016851\\t2729.463292420282\\t977.1437748898435\\t2834.8041505376386\\t1360.9515073219259\\t\\n3117.861402846731\\t781.1328541493875\\t123.55730549154703\\t3180.207132673875\\t2477.9019789426316\\t1384.5000938573396\\t669.1928071501833\\t2736.6977146563304\\t893.311634493741\\t2098.226603436072\\t\\n2547.2143839200025\\t135.53012040746074\\t3040.803597252052\\t3129.912608856578\\t2456.607336890368\\t1276.4443228184505\\t2226.6644343095636\\t1064.7104496069237\\t267.0039459301912\\t3017.449136493148\\t\\n3209.6151854368377\\t1427.6555536299738\\t2177.1861166219364\\t470.6070771362859\\t1534.1772291837196\\t1007.5821462562891\\t487.317754962947\\t3061.1156141662705\\t1214.7962459077294\\t2984.261565650746\\t\\n1438.590896459619\\t3038.224477909107\\t147.36105190071922\\t3146.066535938861\\t2438.5125290688934\\t3164.039105540152\\t2326.4810509351546\\t225.02277396494392\\t2370.2889212624673\\t1813.7190254896284\\t\\n2326.5138907382407\\t613.8489408500453\\t1547.3679321589586\\t807.7617443591199\\t1279.0894295209034\\t344.6297024273958\\t3092.6212852277213\\t1266.1095345771178\\t461.8783532862108\\t1694.510677364819\\t\\n1876.0892590217632\\t2712.726921732506\\t2143.6942355933224\\t3080.174621216551\\t2944.710872259705\\t2244.955817103652\\t3186.3270573921395\\t32.18939041910623\\t51.98585669143323\\t71.31975808509509\\t\\n1199.9955835129367\\t1537.7079953414545\\t246.27323885780902\\t397.13004919365574\\t26.883914516752025\\t2088.131305636279\\t781.9250561748395\\t2530.158354005766\\t3232.035582125164\\t2383.165486191202\\t\\n1205.770752685264\\t467.3170751241639\\t2843.7323776733124\\t1484.7971170483072\\t105.35761844564952\\t2799.9775576766947\\t1892.2548392608217\\t1011.430334774665\\t2630.0382129053114\\t1644.2415246636635\\t\\n2573.514924682107\\t1978.7326544638267\\t1010.0404562977208\\t2868.722437667489\\t998.6338341410512\\t694.0419196033642\\t233.45337383084458\\t73.76163705895726\\t2763.996976327527\\t1047.7285722186814\\t\\n436.75920800126363\\t2339.157219893471\\t442.8138623433276\\t2814.833722068498\\t2717.808871533177\\t1713.3519510614951\\t547.7111376935226\\t368.8543491287396\\t3277.0433673033926\\t1403.9527470123287\\t\\n1007.9935223432832\\t364.80741219677844\\t1382.5422627077792\\t1200.964143528035\\t1671.4496533236\\t1108.4299093921313\\t3263.0945343734115\\t2806.209455051498\\t1945.8477434181048\\t2382.541390750667\\t\\n1842.511674361296\\t758.4947607166376\\t1204.0299285930282\\t1220.0055972903178\\t2115.085965434916\\t2575.8124498129137\\t912.6651456244388\\t2211.7107426373423\\t2647.269780486976\\t149.18487151919817\\t\\n2161.0660276553417\\t888.0371625533403\\t1923.2599019203433\\t2324.3009089724715\\t3116.6077155747976\\t1789.1245573985957\\t2457.393814186219\\t1878.6304280289332\\t2992.523670782921\\t2336.387500270119\\t\\n349.4738886063598\\t3207.532689124786\\t3062.8639418854423\\t676.2115478300515\\t3292.5854954640154\\t1079.705768270872\\t1927.5819861739658\\t904.1458018705689\\t3121.3255057708416\\t1795.4689290405051\\t\\n3022.682685967279\\t1137.7695407642575\\t2988.850940188785\\t3224.224296370241\\t310.6946029431219\\t1799.520563381869\\t524.7046166920708\\t1044.980863459154\\t894.3833418040549\\t3256.301986432378\\t\\n2174.6386138273324\\t1184.4087451485723\\t2254.5174571605426\\t2892.348394021861\\t641.1946131932121\\t1867.0879569841939\\t931.8681483948243\\t1831.6386440573058\\t3163.645192465771\\t1666.5473881091716\\t\\n1546.7080046112108\\t948.0520203607441\\t2431.0706870527806\\t370.4862296928555\\t844.7876423361645\\t2548.21457720618\\t483.630556980972\\t2416.7162002083896\\t2378.749913881684\\t3125.7178723578745\\t\\n3153.6521294285167\\t1404.4494641870733\\t2481.036958618126\\t243.34563673723162\\t2681.02423612835\\t396.46443261082493\\t296.1931818649937\\t415.6728535743252\\t2174.7825575111497\\t2141.2530421651554\\t\\n2349.254735993717\\t1701.8621626623374\\t2991.0520791931003\\t634.3540537531298\\t2699.0835486283754\\t1166.8998418238764\\t1336.1157949949604\\t2834.9695412778074\\t432.92121764504554\\t1373.4612234902515\\t\\n3179.144441694488\\t1123.2424404610629\\t2966.9976347865645\\t1840.4016497179775\\t1600.313504935346\\t1523.1482583585794\\t289.58404807247456\\t3135.266791317527\\t54.009185771145866\\t2760.1250108894374\\t\\n1229.0095191097055\\t1594.3753458542678\\t2883.924278008133\\t765.752075364482\\t3161.964813050961\\t1062.293369961137\\t3485.291533932309\\t1313.4655493556106\\t544.2873694355941\\t2779.8567954584596\\t\\n2454.9245593727687\\t1773.5664511342022\\t3332.6332652669057\\t774.9103462236625\\t2286.61935248053\\t3319.9685678929513\\t785.604897557771\\t319.2346132581397\\t2258.533360550265\\t2780.4639938499613\\t\\n834.3039720074212\\t1457.444671371327\\t1986.6127202504128\\t1970.1806936004089\\t1579.7319417225742\\t2178.747392323665\\t102.54855071582757\\t1902.5839316335864\\t1091.4152132748316\\t323.16169604718374\\t\\n914.5343563349973\\t223.89310074082866\\t2867.822619298237\\t2223.800310203849\\t1603.121444018216\\t511.5105688221828\\t3249.020220278404\\t2603.714984326566\\t1150.9082248930292\\t3070.066122455525\\t\\n748.8520203171654\\t1097.6175769434751\\t981.7875643061936\\t583.9070929968851\\t1889.9328748703124\\t1647.802577656589\\t935.1582343673421\\t1343.6736148704292\\t821.656824200571\\t2204.020282372691\\t\\n1751.8031844098186\\t2481.3229904526706\\t1980.6462386894782\\t1008.0707019849665\\t1562.3869028215013\\t1239.496418719026\\t1985.807910840011\\t3214.7880502413154\\t2040.2742771853077\\t243.86979459694462\\t\\n2460.2858961997804\\t1489.6219789507486\\t2057.2156386542856\\t890.6828792544798\\t2127.4994916536502\\t3500.144524197908\\t2644.372041057789\\t366.3151282505145\\t1212.7757292368312\\t2333.6310038169304\\t\\n1517.45548814204\\t26.43615537520104\\t2503.6081466346895\\t2992.237485451192\\t1789.5395313401316\\t3466.3585865319315\\t1672.1864689985866\\t1095.528750876363\\t1963.8220728827282\\t746.4603736824242\\t\\n2335.9487109155316\\t3394.1392894099986\\t715.2501715514229\\t1393.8828387388457\\t1885.9339192467187\\t2608.7713450681867\\t1974.282804787015\\t2351.971714128068\\t3357.914747083076\\t1685.530490102994\\t\\n3234.1140044105987\\t2195.5521604569417\\t1970.598349670135\\t2006.5055409362599\\t804.9041031652359\\t1858.0551862594036\\t3479.4346850455177\\t2681.311562401761\\t1629.5627122125734\\t3256.03424952962\\t\\n320.02348466598136\\t2820.081468778063\\t3532.2935477591\\t709.8184881751995\\t1887.09244880301\\t1623.375235972056\\t3502.3756775540132\\t2426.315666827232\\t1793.5697174638074\\t1217.8902571441313\\t\\n3047.9983944764817\\t36.710725815552955\\t3579.2825305480196\\t3245.463885616524\\t1872.5365585944278\\t1652.3077598039945\\t2045.2981987034057\\t1248.7840114746134\\t3357.245909191111\\t831.5789356233366\\t\\n1927.6474669122595\\t1625.2779486347565\\t2880.367800733229\\t1326.0207015264596\\t1881.3946503607563\\t2051.2491023145585\\t1555.5349285718178\\t640.1049206274502\\t549.1027109720769\\t3278.873849584611\\t\\n231.1970192946604\\t1367.093603537337\\t3598.1921034183133\\t3522.8468406330717\\t1046.523638940398\\t3243.3489387300747\\t2352.160771644032\\t729.9569345222354\\t1773.7766083800957\\t1497.7634016079169\\t\\n1764.414602810219\\t3620.1375718075165\\t1813.6224015941489\\t1917.1649273316036\\t185.40394791181913\\t2683.8339982064695\\t1976.2577008110509\\t735.2032046178662\\t1932.5702470621407\\t2751.7898202908846\\t\\n1828.417905404553\\t2648.7996037777693\\t974.3277652558619\\t243.38018850551123\\t1458.3773980327182\\t2986.5054636841455\\t505.9892993243667\\t828.272768665179\\t2785.1324198827024\\t137.5663755496245\\t\\n1497.3659151212441\\t403.57078933661415\\t3604.0058777416393\\t365.90621606583466\\t1271.2530409047047\\t3082.781413335747\\t1581.2208346336124\\t1902.183821553654\\t771.1702841852973\\t2105.667343306363\\t\\n1939.129484815528\\t3057.5215284733636\\t1738.2870208840359\\t2127.8946289040778\\t1193.3998469596495\\t3600.372225078011\\t2830.9729091398463\\t605.7001685829929\\t3615.171252042162\\t2306.7060768042593\\t\\n2220.506996352832\\t2648.044621510644\\t2996.519947723628\\t1745.2354588271905\\t2745.553604873171\\t2739.704564406122\\t515.8992806966498\\t1521.6262563103305\\t2695.8714866699597\\t1711.641658774664\\t\\n1302.2018724471648\\t3588.617162472976\\t2509.1273407746276\\t2866.1355945821692\\t3166.7049916860174\\t381.9335700736558\\t3557.0179660228964\\t1336.7327244011205\\t2593.940843050259\\t1166.0313931834132\\t\\n370.70417495752724\\t2665.810839304539\\t3354.5510588555603\\t3303.9420538242225\\t1532.5098197194666\\t2336.7239652509475\\t1940.3238514826146\\t2816.159925473221\\t3189.0046490747372\\t1564.7354531492947\\t\\n1128.705721285604\\t565.0961120716095\\t414.4698246107279\\t2757.6067707585466\\t3334.1243212531094\\t400.7389075554382\\t237.2909924475418\\t600.0294569785746\\t745.4607484325328\\t3124.642648580621\\t\\n1301.2997355554933\\t2190.9282574928993\\t2924.054269259047\\t1514.4957648995062\\t2204.2207298866065\\t2270.2858415560127\\t2831.656753982215\\t3689.9798519180395\\t579.5137214648638\\t1299.1767704465803\\t\\n1259.7017451553634\\t1209.5336250829218\\t2196.605915102938\\t1422.4119130113243\\t2086.7497212005924\\t1109.0240473923238\\t507.8811459480576\\t1576.9115599846402\\t2312.0772287417176\\t1152.5245561117993\\t\\n1443.0610327801023\\t2968.2701030121257\\t919.9267131279686\\t3061.1277017688153\\t512.7475917567111\\t1050.5817908681215\\t954.991643876048\\t168.7157076671359\\t2689.380494506664\\t2833.8805512228887\\t\\n551.5011076207833\\t1401.3316146513162\\t1973.0393988145343\\t2488.7007672318255\\t893.3964226668797\\t1304.2711934419547\\t497.4035690607834\\t1243.0015184720785\\t3435.055584225466\\t2944.4210415324983\\t\\n1516.5657297086525\\t2565.327249496436\\t2969.6766293794194\\t1320.039303471608\\t2384.73366346631\\t750.7065519522998\\t2880.6246046245496\\t736.9024221419359\\t1886.8251550156322\\t3164.5135110613915\\t\\n128.29525584322295\\t615.8396666111646\\t3416.058775195653\\t1417.6815461893575\\t1004.6362309719121\\t2843.823744491323\\t247.36521908408528\\t997.0605441156933\\t2321.1901762296234\\t587.2979132911909\\t\\n3707.9953114279915\\t990.0103248231842\\t1627.6056122790985\\t1696.4970236119223\\t3027.890460150639\\t350.135323764517\\t452.1396552470456\\t101.9691008285898\\t3244.9022586122787\\t1761.346927834863\\t\\n351.42946534751616\\t3533.104425179789\\t551.9502709114685\\t3544.7697307896133\\t2668.2858990074583\\t141.71086918155626\\t3274.8795427040536\\t1449.536484066221\\t2230.851025527694\\t2735.2678475963116\\t\\n2673.5733487907282\\t206.94873337609823\\t238.863615563861\\t806.354718931554\\t1260.7125621363723\\t58.255286760203376\\t2777.3589787894257\\t360.472181906276\\t170.6230975030464\\t381.49796852318525\\t\\n1776.631166107858\\t103.63328533898031\\t116.79503108878531\\t2974.2263317160173\\t2075.349450333063\\t1389.9575345938524\\t354.40285772002653\\t2632.2407438631194\\t2200.052267403276\\t181.8835667850461\\t\\n1465.3021611690936\\t548.8351391750438\\t3074.7823820545605\\t521.937543723094\\t2855.428004806224\\t1706.0443631293201\\t916.9077975891864\\t1616.5417836361576\\t2183.7492861005667\\t2963.4752554876163\\t\\n2254.5392140938966\\t395.0660792674088\\t908.5434802323566\\t3569.8884728954913\\t1387.9869165730433\\t439.7625814924768\\t2699.592944779495\\t3552.3290406767724\\t2612.255550096613\\t3456.2090772844713\\t\\n2557.667294759941\\t3625.896477908399\\t308.91030616608714\\t2767.4305231568806\\t3571.1274870786\\t1134.3867814377982\\t2988.7393569187184\\t529.0144706606939\\t2022.5044625837515\\t2648.6257834722205\\t\\n364.13413541087175\\t376.7897258843494\\t1907.0335625146415\\t1799.2011768276327\\t138.73399046705202\\t80.24869895977062\\t2801.3009780061634\\t2586.6672430896024\\t3318.396431078483\\t986.3226332274513\\t\\n3826.000134719582\\t2353.9082149427936\\t2854.5273461932497\\t773.1574700469548\\t3535.5646206209335\\t433.4425972768399\\t938.1562779894911\\t2807.9568272121073\\t2760.121768768779\\t1828.3649740848477\\t\\n2953.8910481067232\\t2132.7813665156214\\t3638.7988877628222\\t791.4887779355298\\t691.87538420701\\t3017.062532590552\\t2825.96178990734\\t1173.363155192029\\t89.41442495746017\\t2878.552461137089\\t\\n3789.729843590551\\t2874.419045035165\\t1795.637926010622\\t1463.0810908824214\\t2883.8798649455734\\t87.80890376737872\\t504.1099142522161\\t3039.6513886408825\\t2639.9383684042464\\t1574.5824393550813\\t\\n823.4906888265596\\t1843.0686492824464\\t89.06075536021206\\t967.8976887605113\\t3028.74128508633\\t2691.117440808434\\t3502.190584498621\\t3494.1407410340807\\t868.5020764542967\\t3825.6907888739274\\t\\n3017.700196159882\\t579.4773311537732\\t3269.8366129324036\\t1160.1235228940388\\t1390.4619587213126\\t2935.191533065378\\t1697.475176061219\\t320.6121591269278\\t2854.450483142262\\t840.3826374049966\\t\\n1307.0527096337507\\t2290.871239155476\\t3578.438241172131\\t2335.153393854139\\t1353.6388620408725\\t3732.3887974015097\\t538.8232551616939\\t1035.7201033224198\\t1389.125386600302\\t1606.0322719485087\\t\\n1235.397334401137\\t2460.3974280158536\\t3770.898441627862\\t300.37739635526407\\t188.2948695418941\\t2115.429762153185\\t1872.4375466952588\\t2853.674302445786\\t3177.407160430132\\t1583.22906684131\\t\\n378.2253295712402\\t1763.7324858610714\\t291.9821623236066\\t1484.3338804539776\\t1365.7475272625807\\t1509.1728982381376\\t2718.3577358778643\\t2687.5432856318603\\t20.833096880014114\\t2767.36709658726\\t\\n1637.9366525601033\\t2316.979434021025\\t1546.0728808817405\\t1978.3591222350628\\t1520.7444307292162\\t1545.1639771737507\\t474.5629593619954\\t527.9559207441835\\t1732.6743801276607\\t2983.999126625663\\t\\n2766.2471549836587\\t807.3552772662483\\t2395.64048369268\\t70.62352858875062\\t2290.9352329157946\\t3797.537694178587\\t2738.207435239621\\t3710.2622993185973\\t464.39430468754665\\t747.383541695065\\t\\n3185.9250846129144\\t56.42361098694502\\t3833.7573601861886\\t2774.0808616224754\\t1827.7483093686214\\t3397.9038510823075\\t2755.6333625133702\\t2530.939716305578\\t1697.484888330037\\t3170.2616864477877\\t\\n2835.7377248016523\\t2459.9949233225634\\t2139.3599326907997\\t201.33158817079078\\t640.7533441336756\\t3788.082933429022\\t681.8602839759803\\t1793.5158048209996\\t1614.232598554622\\t3827.6410757649624\\t\\n1097.5011700648683\\t1002.1959118238416\\t3496.852164060572\\t1717.0642241001326\\t2746.9289890569157\\t1257.0919029920067\\t1577.8209313078376\\t1663.3958426406377\\t2642.0720874973626\\t844.9956686191955\\t\\n2608.355916631554\\t1803.4862538224654\\t2527.0769820874443\\t1604.825632233111\\t628.2875939817778\\t1271.0013520940795\\t1661.6268009632763\\t366.7520309863452\\t2519.3311074797957\\t2952.0089672460354\\t\\n253.07393278452253\\t3065.7558631327606\\t1630.797090953743\\t3001.0482044375817\\t2586.3536932930742\\t563.1287163698224\\t1008.3472264539063\\t3931.935307529231\\t1334.9000232633289\\t3701.1231933682457\\t\\n3489.2245229912655\\t1979.406312551296\\t1837.012169097855\\t1709.3006989962732\\t3270.7896238696335\\t969.5899323256106\\t1870.7608202028619\\t402.2841453458554\\t333.7297454953724\\t89.8554177712212\\t\\n792.9598679880854\\t3513.913264186922\\t3710.68548201627\\t2872.5433306812215\\t2992.0542088734164\\t1125.4812314333096\\t1635.2593651130526\\t3738.6146444099304\\t125.29258375988418\\t2390.8063839373144\\t\\n1493.9487885779577\\t1027.116223418366\\t3868.9165654635767\\t2995.9934310255076\\t643.3114339102387\\t726.5131677688684\\t2360.686548127282\\t3147.636904279162\\t909.3042637448679\\t3726.7900862379597\\t\\n757.8784696866799\\t3455.526021241928\\t2852.5623656030994\\t469.91210103540254\\t2397.143650725519\\t2832.8947824864117\\t2165.9370247711313\\t2249.0654973873347\\t4006.2402984330984\\t766.6363430536729\\t\\n978.0758656140365\\t980.1010549317539\\t3587.099724811379\\t2550.5988374121544\\t3169.24477157302\\t3159.5339673398603\\t2488.9432265689675\\t2045.2866642442998\\t1604.989000937598\\t3506.9862239598183\\t\\n2305.2495307207873\\t84.91773595611281\\t599.2561289538344\\t3140.691678043862\\t3323.5598891029717\\t1157.5182780312882\\t1818.5279779610823\\t1768.9963731355338\\t2973.9720977107363\\t2831.318968669576\\t\\n3645.2606180749176\\t2078.611194846272\\t996.6639310301493\\t2161.8134343042075\\t3286.6950320068827\\t3615.231339509081\\t311.07094313538573\\t1102.7782871358243\\t2914.8151209323532\\t2768.9570973523664\\t\\n1058.4494478569404\\t780.3562076520412\\t3059.7444448406295\\t768.558446438737\\t3950.5288800577155\\t1126.0048594301427\\t1641.0820597763\\t3556.7826355465786\\t3927.3382676234564\\t2457.719404549019\\t\\n1416.5438713384724\\t3000.1248063053554\\t3461.001700555996\\t457.2702724959844\\t10.82838547473802\\t2197.0701752973314\\t3779.9239123295015\\t1021.2123304740767\\t2772.2780980336615\\t1394.9730759136949\\t\\n2159.864354030166\\t3707.742618633844\\t2067.1523893121107\\t1303.4742893531293\\t2790.5869718223576\\t1454.0530039558619\\t1309.9642853049972\\t721.135735824927\\t3570.3581708425436\\t3836.7740041822326\\t\\n3933.5808463289072\\t2205.983022688842\\t2398.4025723219906\\t3835.612858502881\\t3253.696415661176\\t2383.3184842900173\\t3220.929494030914\\t3591.9964477562285\\t1763.4365956370777\\t2871.717245014392\\t\\n166.26407743540378\\t3835.5419274176847\\t2091.475214560622\\t3703.989394752511\\t3108.292605539118\\t2306.663713094195\\t4035.8239356801278\\t2648.7391171594077\\t1755.687328742081\\t3650.770491465238\\t\\n388.0256952066492\\t1984.679470638967\\t231.15081091662384\\t3887.0332475520463\\t2451.968901737976\\t1547.6661706875666\\t1250.8334123117913\\t1734.9228809639603\\t1961.1541562767052\\t2582.1936172864444\\t\\n710.4256014274583\\t68.18817090411304\\t1975.6746048757493\\t841.0914683280042\\t2256.0942763393145\\t1540.5332591271974\\t3411.2774605723757\\t3394.847094280701\\t1853.0561271670256\\t517.5499962905227\\t\\n409.66373940434266\\t2537.6788600323944\\t3088.2718228430826\\t2440.817057627181\\t511.32959170506814\\t1751.7381145207207\\t364.9178312981829\\t65.31662656045536\\t998.846469924501\\t2097.0105006793856\\t\\n464.75466254514714\\t624.7725599746942\\t2204.768630076494\\t157.98614487250623\\t1040.5116160468021\\t598.8472126164122\\t987.3666445657303\\t3048.0580234204017\\t745.1186622439606\\t1008.7851300846905\\t\\n900.3269236483203\\t1449.9368277691408\\t2467.4561439305576\\t2154.2225187297026\\t1207.4504648143638\\t1092.3285474687862\\t1402.8072451812538\\t4038.815511015823\\t1658.328036523861\\t1477.0010330087832\\t\\n1351.8778230755859\\t3297.535641374777\\t536.3037942394684\\t1316.7287480073905\\t1228.0545933096532\\t2522.4070114903498\\t2217.1749984486673\\t1227.1331997487039\\t3503.221671105806\\t1674.1207793520741\\t\\n3159.667069921889\\t2861.088207205321\\t418.4887834510989\\t1904.327044276379\\t2468.6327704372975\\t256.5959275084755\\t1190.7714012042175\\t3324.0569089537526\\t103.57481866667767\\t3711.1935542386545\\t\\n3367.2152017236963\\t4176.93584838764\\t78.85199745501323\\t365.65655434911173\\t1474.0935515339065\\t2801.299754033521\\t2380.0423700846477\\t112.6224148251127\\t3890.6484057537455\\t3025.6832650147558\\t\\n890.370789194145\\t3863.5922955977085\\t1745.146005994799\\t2134.0494257189284\\t2706.1908296896\\t2991.0439941343966\\t2737.5452156105566\\t524.2445269366059\\t2993.0026971468988\\t2825.2276763836467\\t\\n2694.594937115844\\t3621.363640316531\\t4004.854371238712\\t2844.56808245242\\t1289.6449893528065\\t3999.0017122357185\\t4078.6600804417403\\t3134.555723033931\\t111.01290217618676\\t2903.6908685551975\\t\\n1155.783250800188\\t1971.9920872334558\\t2641.7692598409494\\t2259.929289027335\\t3581.4093316391686\\t1272.4032446143717\\t3046.125560478815\\t1770.4775745256434\\t3445.3431766895796\\t2797.6310619877854\\t\\n3081.256970855028\\t3398.926494925681\\t267.6997197350576\\t2848.9371283129185\\t541.2743060382483\\t2407.6735956235107\\t3174.7284267896644\\t4000.0480270208645\\t3723.5645148751337\\t722.0487186532246\\t\\n1103.1162315129925\\t1456.7814408336053\\t1825.38299263089\\t2302.9515868759886\\t3727.3210873532453\\t2547.305085801797\\t127.08667547163503\\t2530.2837666000937\\t1456.8265629993048\\t1924.9505371715034\\t\\n4144.576721781727\\t513.0567185883939\\t125.10513364830246\\t4174.832489421245\\t2123.297468123172\\t633.6259251854425\\t3555.075651491857\\t2385.2628110490664\\t1875.1961492416601\\t729.4888092357286\\t\\n4027.3946604997554\\t2475.7227694215944\\t4160.883246843618\\t847.9437349006989\\t4233.06135937464\\t1561.050851333763\\t3343.1891223859056\\t1995.6517544984965\\t3166.4612951223485\\t4222.467809769707\\t\\n469.8730571673954\\t2958.029016874064\\t2598.067367958141\\t2607.742388822653\\t714.2300665899272\\t2609.042206850885\\t2225.8242210611\\t2308.379523942142\\t346.7123560814871\\t2171.0234373010735\\t\\n2661.7212152502293\\t3153.572279201471\\t3104.0979482616744\\t3432.4793891815666\\t1635.0064215781852\\t2027.0511245111259\\t1047.139627967298\\t2205.2759616451035\\t3607.067899612788\\t3433.2343464336454\\t\\n2587.601672498897\\t1619.7691339708617\\t2566.859747275333\\t2717.7943151817976\\t3164.7125277770924\\t3143.791123834972\\t2629.2938656616648\\t2144.632143630693\\t2780.6987787847506\\t3697.669913845557\\t\\n1110.069113490334\\t3789.972101747816\\t4088.9898571337944\\t4010.552557075582\\t1770.52969571021\\t3193.964017630929\\t2664.4924900797514\\t3489.1663742394253\\t109.61394746815395\\t958.567327290906\\t\\n2391.729377170102\\t1457.3086482323563\\t36.28646104230783\\t2421.744129804804\\t3997.3994322051976\\t60.3217450486013\\t1195.5887794280925\\t737.6486843965904\\t9.153696470682664\\t3520.0548777984623\\t\\n605.6094761003565\\t3971.870908285301\\t351.58704300857124\\t2897.865418443789\\t2388.8212040120666\\t788.8632268303995\\t4300.409601230996\\t1485.1276997117423\\t3026.024887534942\\t184.64757318361848\\t\\n2014.1669504594847\\t1117.262809260623\\t1026.8842972187447\\t1908.1670361457573\\t4258.775957046423\\t542.2027303328448\\t1853.1887220823062\\t2732.0104189769418\\t3202.1919325683716\\t41.25136861738889\\t\\n4102.223602015044\\t706.1180601437578\\t1506.0278548643312\\t2124.5681369676754\\t564.6966521643819\\t3472.5805939325346\\t672.5579983026104\\t2482.3973468391882\\t914.3124406917668\\t2871.1794793464182\\t\\n88.27888322608908\\t3366.2189973207774\\t158.23446525565703\\t1613.8024641833251\\t3884.774200611428\\t2844.2665101381044\\t454.61902985643405\\t1424.8648055497508\\t3521.081570358193\\t2240.5853037670613\\t\\n3816.8576958992185\\t194.84108326163377\\t2275.069311405531\\t3803.2524247435517\\t4002.670658421278\\t577.4674970643547\\t2817.192910296931\\t1883.0836016686803\\t3039.9982081326534\\t4316.811177613426\\t\\n2509.1065924765326\\t842.0169470581636\\t2221.5831278689457\\t749.4572685193328\\t2537.886078988239\\t1545.9234874877538\\t3439.0467033783316\\t4226.385244444097\\t769.7355903387478\\t1946.987040694067\\t\\n4022.0851736239674\\t1324.847262159232\\t3827.578311917317\\t2569.75666265564\\t3910.7624235475714\\t2777.008837498055\\t3083.247513537415\\t919.5243145523705\\t1336.8569603480676\\t1699.0206698611294\\t\\n3216.7873616967295\\t1793.562548891479\\t777.1490332481045\\t1144.4514580687655\\t1697.358451847156\\t736.6295359271198\\t917.8630124959807\\t3071.120752930152\\t4228.450184576705\\t4036.681778685693\\t\\n2350.4264870400134\\t3237.4073420774143\\t3606.810266654873\\t1026.839627292219\\t2163.2455202013807\\t92.84838758011885\\t1149.775917794589\\t1232.3168946050114\\t2447.4570621938965\\t2902.9436798710076\\t\\n2157.570890297401\\t2895.532380205477\\t418.1065794854047\\t1986.8830367291766\\t1648.2612850141395\\t1664.705543472125\\t311.4957333884929\\t1862.546797112124\\t3345.533249020751\\t1998.618435624968\\t\\n429.00179638584405\\t2085.387733571956\\t4108.844708421003\\t457.4339439664214\\t3291.2173618304423\\t2348.5843062831186\\t443.332484645508\\t3231.3994017620084\\t3666.8115496503565\\t3687.77866205628\\t\\n1700.7319572965653\\t1686.95399653443\\t2249.9930635363157\\t2298.9622924759974\\t4324.4766501204085\\t3460.5256241795832\\t3865.2497677693805\\t4252.5902904982195\\t333.99696579082973\\t1958.812690852119\\t\\n1008.583374720259\\t283.0886507930129\\t1036.3944092730644\\t387.9216859567363\\t1397.662387518867\\t1627.4379860949714\\t3203.247983885054\\t486.6720287948914\\t2526.321473351733\\t13.007218175984079\\t\\n3998.8143964627343\\t3164.5879381123823\\t2997.559241075712\\t2362.7695633893914\\t3217.3230961402596\\t3701.7476576763756\\t1541.9188564806461\\t3848.001418266094\\t48.43263235768646\\t1692.1394986875919\\t\\n602.2656447222922\\t4073.3238897846168\\t284.9784065312764\\t852.7169880015326\\t3373.7993853974826\\t34.26436421850432\\t325.493255111631\\t3476.0721731357694\\t3829.235142984777\\t1911.329427091494\\t\\n505.89402222542356\\t3838.0111541262845\\t485.18753043773586\\t3417.6877317457192\\t3172.8399103561524\\t3882.9995624295657\\t3077.7110467333177\\t360.3203636942672\\t4258.314489323395\\t1522.4291572528127\\t\\n3268.896335394925\\t4235.2934709602\\t3505.244301531451\\t4163.764016959064\\t2144.723013454458\\t1293.1755495236268\\t811.7162145150422\\t1967.5608106115528\\t3616.5931413511385\\t1267.0867796191585\\t\\n372.6301651845097\\t2466.8779690932233\\t1044.0109938387147\\t1865.3309299416997\\t1476.9471065964851\\t3785.7463912721228\\t3967.196629822294\\t1567.7783375495617\\t1007.3488251019271\\t494.5594513690366\\t\\n4293.296772638816\\t1637.3267255584003\\t1599.4800465422868\\t452.35095221968913\\t2495.850145209653\\t3577.2932709523593\\t122.25728633837335\\t901.58346162452\\t2195.1404317571423\\t3438.553896377211\\t\\n4439.827458834614\\t3136.171504895357\\t388.1760382839038\\t2090.454543195181\\t293.07795520513906\\t2159.793338206729\\t723.1664686759913\\t549.6505819663213\\t502.48872245434455\\t2011.027228718515\\t\\n4149.112242865921\\t1992.9493284519472\\t2156.336676858083\\t1098.2890658183655\\t4146.034206384178\\t4473.508324795273\\t4291.546673695727\\t2582.215138530807\\t2683.2240855036216\\t1897.238537377633\\t\\n2889.757910031864\\t3857.9048972886553\\t3821.5921232082237\\t3032.7087135204606\\t1048.2852638277973\\t2800.626985876255\\t3134.607828010702\\t3894.699112383915\\t2693.568492481247\\t2947.6242769240034\\t\\n3300.998568208446\\t4500.060664299639\\t1458.991408419765\\t1480.5679718824574\\t2201.4040623576825\\t673.8651544081888\\t1777.3799795178593\\t939.0958208800845\\t2794.4663017375997\\t127.02197527790288\\t\\n1279.4762295515816\\t4111.912367127699\\t2544.32251261146\\t2639.031878614032\\t2725.795925758016\\t1199.1005973522672\\t1354.271250447562\\t358.10363145775784\\t831.5579878371453\\t3460.3820514197255\\t\\n4300.072895044837\\t2362.218301000346\\t776.3429497673361\\t2478.2648242121095\\t758.2340598172972\\t1726.433561088043\\t1436.5735201286955\\t341.79845775537734\\t30.66478633301194\\t3784.83827129468\\t\\n1572.5301987818234\\t3051.9716929432298\\t1395.9272374401362\\t1559.5644263561053\\t3759.4358390809193\\t1761.5720564465623\\t77.66460296655184\\t4004.290545705208\\t1828.5073213646806\\t4472.867964447926\\t\\n2754.3854075304953\\t1090.3409231764463\\t767.2851978177495\\t384.9509417186184\\t3536.7816503839667\\t3012.3908523983073\\t1023.8831357842242\\t515.5890315982582\\t1299.7104367129841\\t301.68794783745653\\t\\n226.6166517312849\\t790.9612661790145\\t2132.520077876397\\t1411.5858789209713\\t891.1623682930832\\t3864.3164860349884\\t588.4933635342186\\t2168.626310187701\\t1806.0282031055622\\t4298.1349428950825\\t\\n3403.3157723550744\\t2300.583444218254\\t3290.359661702627\\t1719.0116201278593\\t4083.6510555081254\\t2843.8723458185746\\t835.1610519730458\\t3221.4725871304054\\t4049.8575022959913\\t2882.509688204073\\t\\n4220.891054512042\\t1026.4875617305865\\t3250.217325796317\\t1963.04499235263\\t2604.2649471567215\\t1799.8174631092472\\t2407.5173605396412\\t4545.947752481505\\t1300.689036001503\\t2157.584718668132\\t\\n2004.99343282799\\t1373.9229361843522\\t284.8891486112285\\t1916.8324259485466\\t4069.5669233951603\\t4333.993020349249\\t1296.298008066424\\t3603.1613309819136\\t1177.0762580849637\\t1540.4794143810848\\t\\n3938.6343464670367\\t653.8273870337674\\t2886.7884390773156\\t969.4245169442373\\t971.5063269049658\\t1720.9084839314676\\t2819.09359294921\\t851.0859703993556\\t519.975602531187\\t439.95041029438875\\t\\n1857.5842975802777\\t239.77630078824868\\t2639.6039524806815\\t4434.73551936054\\t3983.6090366524986\\t2738.09658641734\\t3091.436820622056\\t2481.460262127709\\t563.5242687159489\\t922.5754803208606\\t\\n4532.332363314864\\t4599.257011187051\\t2138.7397978461345\\t1978.0731653222779\\t2690.813654654601\\t3901.5410594726027\\t4262.075749813356\\t1603.41720338721\\t2808.48408564675\\t2193.6508196017026\\t\\n1804.1800449104046\\t2193.8423229837445\\t1283.970860841501\\t334.3205788679578\\t1361.3805838213088\\t4253.7283418262305\\t2578.5093020841314\\t4395.650017532857\\t3489.7850837322417\\t1236.3369701223646\\t\\n4573.777669056778\\t3791.751261125721\\t2009.0254735344522\\t3173.6967945212095\\t1921.4048977823227\\t1701.7640801675805\\t1230.0178761812952\\t4424.789896260833\\t3573.1816272042897\\t4606.495466970924\\t\\n3541.011898810936\\t496.43466366175954\\t4659.636473588674\\t3091.7438894867914\\t1269.9370777416643\\t2484.2104273302257\\t4115.0168056803595\\t778.2853661233319\\t4495.434512286297\\t3217.2872412250963\\t\\n779.0079674227002\\t1603.4869140812657\\t179.61911556338723\\t26.355607915833836\\t4019.182266569694\\t1358.1839573700988\\t2663.7534629109678\\t3918.8928704236396\\t1620.2670894344171\\t3716.7477853646355\\t\\n4227.743060386632\\t1718.4336104431377\\t4409.603102327403\\t4652.2422307000925\\t3596.5792866694774\\t2896.0027051681272\\t3098.5744691496534\\t2014.9248065656677\\t1067.143834513478\\t4097.213720246978\\t\\n497.9125700878216\\t2357.6541692406904\\t3480.645826470783\\t2418.2270659592427\\t602.8933368519979\\t1092.766061189389\\t97.81320864536775\\t93.43786550837525\\t3250.440157406873\\t651.2638515014918\\t\\n1657.172488343415\\t599.0807663365532\\t2131.1607723469815\\t761.5954918128479\\t1832.2579012634667\\t2942.2349029938496\\t8.559898234618833\\t461.80220820881976\\t616.6078830296696\\t1488.4451965911899\\t\\n1581.4856546895087\\t2554.1645559533217\\t947.5540811714485\\t2386.8453746453242\\t795.1262303165896\\t2922.108031155489\\t130.14796330912787\\t2595.4528861594163\\t3661.889675115704\\t3216.6976668010457\\t\\n2814.940273347733\\t3822.0530594170364\\t4503.396017626805\\t4721.96190080432\\t1693.2393804141825\\t889.5898434206731\\t3241.5369645925134\\t3495.5509640969185\\t2838.424975868675\\t2945.4738411385597\\t\\n1377.3826619348447\\t507.76759802407923\\t790.251171451919\\t2332.130691288062\\t1466.674196050384\\t1681.4600032080916\\t4500.975805187912\\t4477.259796277481\\t1852.507941838072\\t4013.445130682241\\t\\n3888.910876318751\\t3547.4442215266417\\t3999.7659134656424\\t4015.3999656176197\\t3390.207975077964\\t2717.882452707308\\t4720.805626147543\\t1382.9576292169572\\t1335.8845126522167\\t943.6715831397938\\t\\n3205.8838124144568\\t2432.3951000150705\\t1607.3053740683106\\t3005.566632959113\\t4579.715325790113\\t4257.499120099741\\t1695.8703136432516\\t1815.6235437535092\\t3235.28851680509\\t4561.9109480273755\\t\\n1799.940346902654\\t533.0581506603745\\t1718.120373165158\\t715.1769605229049\\t244.18590808627815\\t1361.9718904073413\\t2983.45603083759\\t4300.876388601489\\t1174.4843532306927\\t166.35340397156057\\t\\n69.68587899277941\\t4465.526708218612\\t2443.6317544884555\\t3773.6179116039966\\t2.1594643177135033\\t539.0913100359573\\t2839.898113515237\\t4395.800424722233\\t2075.0945303269514\\t1542.0909358440558\\t\\n3764.2255660412834\\t2713.6295141759165\\t805.5387340390594\\t4233.790679667749\\t1898.7190349668817\\t2979.8299022239084\\t2931.548996771304\\t3747.9225073376915\\t2376.474854535112\\t2712.30567632877\\t\\n524.2024485141403\\t4362.488806421369\\t898.1405363341464\\t98.12337340372346\\t4283.248744691212\\t3144.435261222978\\t4266.811622911387\\t2082.6102307754686\\t3901.323977067553\\t3217.8386684023576\\t\\n972.5864185808707\\t328.3388508451942\\t4097.962921815523\\t3390.08798959177\\t216.04823611397032\\t2811.3575529851514\\t4731.476755615284\\t2219.401842130879\\t2490.966115591862\\t2902.634280710273\\t\\n4671.302382705889\\t2397.9665366404856\\t1528.6702256729995\\t2490.4673082421064\\t1905.3496968183754\\t4349.717440130277\\t1529.1886026857499\\t817.688609143239\\t615.1970024502763\\t1212.0770297168865\\t\\n1448.0881656322213\\t4019.0211499758398\\t161.3558194563049\\t1253.7492926492928\\t2172.4075812532164\\t1468.8292629209966\\t1772.377938478592\\t449.9170989508177\\t539.2852429899038\\t1215.4758069024695\\t\\n1677.0689350394105\\t2522.033971969714\\t3492.5346232282304\\t4079.911074594831\\t2028.3645195231027\\t203.5924689222381\\t750.7507053443503\\t4446.1864923755065\\t159.62116404618072\\t771.9569140410442\\t\\n3011.5493280596174\\t4031.188723139886\\t1842.8940450572163\\t2109.266189366613\\t2807.5116735318957\\t2652.7106463828904\\t4389.890575722487\\t1863.7975910770717\\t2095.065345105705\\t2616.24914154902\\t\\n688.106394520278\\t3836.875907674528\\t4466.235184799534\\t4447.302733937599\\t4413.386390919326\\t4751.876679557603\\t4096.004854519542\\t738.2326776588847\\t2975.436892563975\\t664.607935901669\\t\\n2945.0073671919786\\t1383.226728423184\\t1143.8336262888029\\t3186.6817342163886\\t128.32883354891882\\t2601.4036189864987\\t2923.2898296051326\\t3573.444765937377\\t2729.1757216664887\\t1371.1566196574122\\t\\n2587.1474865364075\\t2113.1561061920156\\t1252.3817022954047\\t1264.6751912009015\\t3513.133495471929\\t1242.0712078585693\\t3090.4255403996713\\t4643.805155762017\\t3607.199269302628\\t4610.084348549073\\t\\n115.3240468698191\\t2482.83925131688\\t3871.6430699771\\t4592.7667924101315\\t307.3956435922487\\t718.9300086974799\\t2237.1779370841095\\t772.2672228630883\\t1901.397525210667\\t3282.5684476880933\\t\\n2115.425846544038\\t1411.5684959250618\\t995.662736130502\\t1043.5808104972755\\t71.69588919656927\\t2172.567919851941\\t1633.881890480403\\t3904.7611798898\\t1861.7996776648633\\t3921.7122606201374\\t\\n3666.584168505602\\t3861.820624529071\\t3604.812948751946\\t1609.9109415192218\\t3097.9897309509684\\t748.2473590753457\\t3688.935554634307\\t2681.3838782445523\\t2081.4456721882607\\t4041.292880339541\\t\\n3264.8187578631128\\t3960.7970048929715\\t6.4019735674429255\\t4838.547357353847\\t2663.19519886898\\t2890.999804938654\\t1412.9849714899192\\t1747.6987135705085\\t1885.8175006841386\\t1717.6624169622326\\t\\n3780.7390006853093\\t1463.5990358980205\\t672.0968538469721\\t1554.7860762595794\\t1600.3429754327742\\t3451.2216851039175\\t1072.4142582409115\\t3432.364121189537\\t3899.839614796229\\t574.6345782236057\\t\\n3997.4265924969523\\t692.7269893810403\\t2697.837035505925\\t3055.4448989818766\\t438.9543459863423\\t2488.1685493207237\\t3836.3082467248737\\t3057.0592002981725\\t3011.0723781484044\\t2048.853844309681\\t\\n1260.213906491656\\t3311.1452014612037\\t1995.021596081052\\t4761.737734578904\\t4632.532303126638\\t1512.888073721731\\t4433.4606413522915\\t662.6214346387166\\t4613.885598170811\\t4401.73364210283\\t\\n3481.874799279597\\t4261.453576100291\\t295.0220222411196\\t3632.0190074280486\\t2274.149149909677\\t3927.6270981255316\\t2815.815097047279\\t2580.201803498597\\t1700.8732091082236\\t11.456008476904815\\t\\n3028.7058887705025\\t4196.324779967694\\t1176.962970086445\\t3221.2148305710157\\t4174.301785408223\\t391.0442182273311\\t3266.3013052568285\\t217.44247646331863\\t1618.1181690342876\\t4890.468601978432\\t\\n1435.0960964181327\\t678.0957307129536\\t1182.6733134112847\\t3313.227100372887\\t4653.372803258317\\t4701.027056851355\\t3390.3314360164786\\t1551.8469029252485\\t294.3373417662838\\t4224.4325032614\\t\\n3112.409713898884\\t1502.461378618593\\t321.4700853901138\\t2660.5312785741185\\t957.5906831780173\\t4905.157467942973\\t1509.0338558033197\\t2061.719859821726\\t2240.5820032984193\\t1520.0538292422061\\t\\n2043.508918051374\\t1169.1136393483866\\t1733.8335486612261\\t3440.837077565015\\t4764.940362134816\\t4166.235935264889\\t190.77749795824258\\t318.6809615973897\\t407.19244528668145\\t4356.9320647624245\\t\\n1244.6641318690924\\t4750.162826628163\\t598.3026526393297\\t2305.3370477825306\\t728.4554613831832\\t4480.937234067974\\t2970.566328989053\\t499.2789285077316\\t2658.031233592914\\t1253.1669744102576\\t\\n1143.2683629038365\\t3308.77580742648\\t1898.6010613957149\\t4773.168386392533\\t1469.1807303365015\\t3395.0136500449744\\t197.0452900972882\\t4939.519516626766\\t4894.205531347542\\t2366.766314419296\\t\\n2584.4924826141673\\t2998.40853311504\\t4279.876949960838\\t4640.983156929484\\t4796.61949726843\\t2151.5603741440987\\t2179.2631491679845\\t4342.732912249531\\t2709.7862041351723\\t1954.9593593828174\\t\\n2886.320839892447\\t2084.259981916782\\t1472.6190759432588\\t1739.654312152243\\t3234.353558419335\\t3911.827358801066\\t3707.0958778198165\\t245.8860498715449\\t465.5301412875307\\t375.3609083590822\\t\\n3401.0896133733077\\t4053.307435554077\\t3737.414248089352\\t821.1896076165436\\t4440.809773808695\\t2212.669926493271\\t4883.961693189001\\t4792.189589345809\\t3697.442269420383\\t1952.0876539740484\\t\\n1503.9579213118607\\t672.4206223072242\\t4180.00164716606\\t4114.501868715482\\t1793.2701125749243\\t3333.6274756972325\\t1672.6448661099296\\t3917.393496832567\\t4957.966903987623\\t222.3717081687565\\t\\n2915.855388271286\\t157.9723177519404\\t3215.768451782652\\t4998.209296025678\\t623.8614336105411\\t1739.555424134393\\t1254.7268002253318\\t2708.407777214143\\t1278.5484791503645\\t391.1856474524333\\t\\n872.8735383381161\\t2451.463670771666\\t3973.9785896389963\\t2589.8963205079986\\t4135.484595339414\\t3658.190186528863\\t2381.206024753343\\t3633.296245155654\\t268.5874193030781\\t1023.0218941639117\\t\\n3945.1872101629137\\t4825.059474320092\\t1101.7564804730785\\t4718.214349232326\\t4884.138746587167\\t4082.1064605079805\\t651.2460839945338\\t60.03238379483197\\t1598.2616793903471\\t4677.638335294926\\t\\n14.219666048447097\\t1625.974171923721\\t1107.4220241755615\\t67.77424833220034\\t2020.8223212626517\\t1690.3330047164857\\t2707.1080734592215\\t754.7310852806334\\t4252.239457166559\\t4729.144923705942\\t\\n3081.777797247797\\t1607.1739114588852\\t681.4901294246007\\t4737.185511535717\\t1093.9024773456063\\t922.9134277388849\\t3810.478112681549\\t2936.5283098305936\\t2784.0666548978647\\t3327.6171784160933\\t\\n2862.7420157857423\\t1882.2010066174646\\t679.926376675533\\t5060.849683426744\\t3464.477385985409\\t3416.963025006052\\t1557.5484090328434\\t5047.188368669587\\t496.49926921416596\\t1566.8578026513885\\t\\n1074.2239554083476\\t1374.9252675379892\\t871.4284886657737\\t2458.455523387119\\t224.45918772144387\\t1902.3407750286553\\t529.6195508991179\\t4096.599346190711\\t141.11518993499305\\t4729.124343048434\\t\\n2162.4982677037146\\t966.2757193367087\\t3801.0404135331105\\t4473.814941897542\\t2486.7558496335046\\t4388.92734742781\\t2019.5228674817831\\t648.4052156609782\\t2397.657521755993\\t4590.351881775982\\t\\n4029.611818745208\\t3010.218280592048\\t428.187415460004\\t3512.0606478635013\\t553.5460935669098\\t1875.8601879334628\\t118.96115427378591\\t4978.31286816313\\t3554.182672614355\\t2947.567937330744\\t\\n2038.1237446086354\\t2121.2561547433415\\t4574.471622457313\\t935.6003894445172\\t3234.2956919781213\\t2647.4000189674694\\t203.05205234709123\\t4280.335700289575\\t1581.8327248868807\\t3994.713631815832\\t\\n3020.0329247949558\\t1066.2363366925574\\t954.5614473210237\\t1652.223897290253\\t3900.840846206946\\t170.8914420864169\\t3535.9453032437727\\t2109.2408248362544\\t4332.748744821723\\t5171.136589174517\\t\\n391.6025833331142\\t3933.2784404188214\\t1328.159001188243\\t1494.128270714144\\t373.37048060688517\\t3260.2789094868162\\t654.5117743660802\\t2622.0000845372006\\t1405.2227009466344\\t4495.619001817032\\t\\n4741.666274411678\\t2620.318298092054\\t4820.2722217677965\\t4038.754548936449\\t1184.5783012345341\\t1266.9984301322334\\t4813.947161901941\\t684.0100018302651\\t2001.1857757437256\\t1985.2349988603307\\t\\n731.4114924607351\\t2231.4256839473333\\t1527.413875611104\\t3540.313760762389\\t513.0966451038792\\t4654.47934890793\\t3663.1564577094787\\t4495.65434064562\\t2897.5763316998436\\t423.40236980605874\\t\\n3566.9414794701174\\t4072.8650781265087\\t599.9660128995619\\t112.04284083568052\\t1205.3172131956082\\t5026.724971931792\\t312.3838571254459\\t3043.2621302520593\\t402.2348983027171\\t4480.729012688645\\t\\n1630.3634173665168\\t3420.477902243286\\t3242.1564074600587\\t4933.930454145019\\t4184.293313352039\\t1908.6787561423412\\t1911.8057183625847\\t570.5525375860336\\t354.34400345055167\\t3224.2473854339614\\t\\n5080.393422050829\\t1875.798711366503\\t449.69651555034943\\t4449.092357962851\\t4036.961227207258\\t1802.3526274052342\\t5088.417260511188\\t3873.2183937359064\\t3045.733919951009\\t3856.4441990448167\\t\\n4618.9148498573295\\t1984.2948016283585\\t4927.186690713659\\t4425.759200538796\\t5041.595453337034\\t2345.9794439878547\\t2708.8280517624803\\t1633.6778695835837\\t4516.943232857967\\t0.5925759299859334\\t\\n3876.283053730456\\t527.8732936796172\\t2208.9653845217326\\t4308.058802326208\\t2107.1267578115708\\t2715.1940366061076\\t4775.441043885628\\t1873.5056652350022\\t4450.973376478555\\t1218.485937268587\\t\\n4536.789121198538\\t3783.5008116377185\\t3718.295997379848\\t141.98220708244475\\t1813.9988441943829\\t2034.0844311855606\\t3975.623974368153\\t2967.833401110737\\t3396.206082196739\\t4824.578468412569\\t\\n2823.647327070832\\t1495.7789889371036\\t1782.1741181880966\\t2545.603184302193\\t4663.417903386023\\t996.141297511856\\t4874.353437047493\\t1554.61290664863\\t922.2702309027301\\t242.16315962368122\\t\\n919.2181723332036\\t1712.0142326709777\\t2148.675570388133\\t2847.45852489785\\t2062.4810701337965\\t5198.554604458633\\t60.77353924662156\\t566.6726830739891\\t4312.902484801756\\t2960.9659226244626\\t\\n64.07923630601084\\t4681.942118939767\\t222.450543730462\\t4171.825405468337\\t542.8497588423716\\t2517.910260060982\\t4051.653662170394\\t5123.815052131324\\t2443.994080737059\\t2505.483332038438\\t\\n4004.7527908525085\\t3317.813819834924\\t4987.826728844511\\t1041.4896018861625\\t3014.454900582606\\t2236.4983435770437\\t1954.5930793844593\\t2110.1955689932747\\t4343.032149957586\\t2266.487642299407\\t\\n1727.3770079163244\\t4982.021138987184\\t2875.190910999235\\t4113.806771485923\\t4628.942972195282\\t4068.4149985905074\\t3286.7583543791766\\t2326.2168912034417\\t1050.682619718339\\t548.1731610854221\\t\\n1847.6628642542707\\t2808.508896769229\\t214.6716486005524\\t4098.487009422422\\t1781.9257629963308\\t710.791890185771\\t4656.791960330274\\t3671.570411247921\\t677.1922517893586\\t889.9885973420203\\t\\n3124.822839849711\\t2203.9902171390872\\t4024.2743385169447\\t130.10326150474236\\t1701.5059940994622\\t2587.1544426983965\\t3300.4905336867805\\t4724.416892013364\\t827.9998886775229\\t1073.396308470345\\t\\n2348.4238478303782\\t433.5626595138664\\t5004.705428885418\\t3705.0128067131177\\t2028.190690101717\\t3726.508147662353\\t4791.123012363917\\t4794.102660598957\\t1660.2655146543937\\t1804.0207140323275\\t\\n3925.9948398752163\\t3168.777710229954\\t618.8285720257095\\t5310.0647852368\\t1193.9526603447837\\t2691.2283278136083\\t5185.718880052027\\t2888.3840512450874\\t2753.6604950074006\\t5066.442543283401\\t\\n268.1659942259047\\t1253.2418923361365\\t338.43356995144876\\t613.5543197860019\\t1875.4136679492972\\t890.8633530817332\\t3290.976478353959\\t3185.960964170209\\t1438.7798803190287\\t1985.1394053570598\\t\\n330.0555313384272\\t4148.460591756265\\t592.2630402957496\\t3542.5112600092734\\t1552.40230073771\\t3188.0691075085792\\t232.41946918634082\\t4432.805189763915\\t1084.4479402139518\\t242.53859669961076\\t\\n463.40409812362867\\t3672.692917596031\\t731.9695089569564\\t3403.371355524689\\t2821.1710161812266\\t5111.349767906668\\t3263.196253572316\\t904.0726700310482\\t1650.5193113621897\\t3671.8610371734326\\t\\n153.78964689369607\\t2540.818106270043\\t260.53698139407106\\t2333.249991906292\\t1953.575179229857\\t5177.591776458868\\t1294.676033037915\\t668.5820665419636\\t3498.673456353333\\t420.4474498388252\\t\\n5324.227404857175\\t2137.4921227895447\\t1880.26681435238\\t469.73875959480995\\t2164.267678908645\\t178.26773985672784\\t225.3047891239917\\t1223.3551197512045\\t3561.951144487532\\t5321.071017087003\\t\\n2804.0955880560246\\t645.2985647160291\\t4385.9008828427\\t2043.8348647004923\\t4779.032069852446\\t4039.543589980981\\t3463.8963450300516\\t1934.5793661777464\\t4155.78614673108\\t3757.67639837431\\t\\n1025.4349466827343\\t4671.378567153767\\t5404.869220527513\\t4777.757171178089\\t2334.45560321693\\t5381.166819786916\\t3336.4567267996263\\t3108.603599359761\\t572.8446609155176\\t2784.9909825463847\\t\\n299.19482465077624\\t582.5560046662325\\t2674.234134621471\\t3192.0345479247258\\t4649.380938241666\\t1232.51645197255\\t3120.9755431003373\\t955.4295586438418\\t930.4406579044971\\t1955.1501772095287\\t\\n5195.371276808032\\t4510.914923933565\\t1041.5061364690466\\t5111.330911687351\\t4213.056184831264\\t1211.1793549051542\\t2181.1550955447915\\t1652.5008320485833\\t2280.5080898341657\\t1050.4585226152635\\t\\n5329.671274194046\\t276.5765261010991\\t520.9777781656181\\t3223.9162594230597\\t4724.116418158559\\t1040.464973920477\\t4831.023376838738\\t2516.396822116351\\t5068.0099747111235\\t4292.578303564883\\t\\n5187.048560783164\\t3441.0955310868826\\t3094.539853465374\\t2731.934593627179\\t2597.2422389601234\\t4147.966769320396\\t2493.2499083471826\\t663.9476594717925\\t205.00358058808163\\t3851.692108558228\\t\\n5312.109943346565\\t456.6866608007363\\t3504.6533162946735\\t4204.423250181339\\t1479.2820572728315\\t698.492750438936\\t1862.8659188331944\\t600.7490682616\\t5303.465286820035\\t2519.2318606225663\\t\\n3373.3376204547426\\t2426.880875655475\\t5390.433774572457\\t2628.327137238029\\t488.5604870544261\\t3037.0829344908675\\t5150.4492834072\\t672.3047697563219\\t1560.5102819772635\\t212.11929212321286\\t\\n2903.4488050195864\\t883.6708613417735\\t1942.095233718109\\t2002.5343651333228\\t3125.541762573087\\t1994.5630384733345\\t954.0963290419919\\t956.3485938953987\\t3759.595606628411\\t4773.644107662307\\t\\n504.2010636677196\\t3937.6027311074417\\t5008.744582898351\\t737.2821404181059\\t4695.302705806362\\t3416.7993569113482\\t2023.6597363673586\\t924.9491636716269\\t1148.3775132722617\\t5056.368573319228\\t\\n1278.5965487712613\\t2518.647436094361\\t3220.8249570363655\\t2305.320748005912\\t1382.9002937465875\\t2320.423233732711\\t1444.9988786427216\\t3651.090841533462\\t4774.015204872699\\t1363.5056274492197\\t\\n4647.417845971406\\t4121.237968524778\\t789.5556952336706\\t2533.2837715304586\\t740.8719639940255\\t5050.876472112644\\t853.1366783930357\\t3593.455591459632\\t2419.9833332313347\\t3608.7823570657747\\t\\n4597.493138505868\\t5423.087073585777\\t224.53718833018593\\t4548.237764803102\\t2789.4936438147583\\t2633.4444636712506\\t887.0432074166092\\t418.7234260929637\\t1417.8852851996285\\t3349.179133967202\\t\\n3502.0056109535008\\t1855.5731518917992\\t1631.9459675649496\\t604.6458202001365\\t4326.635578762472\\t5062.59650217909\\t4981.184949378383\\t3782.6939120217157\\t403.500637391909\\t5391.727944244235\\t\\n4892.180857691311\\t4279.899154996541\\t3915.323454534307\\t3296.5620546431574\\t5222.406844551203\\t1423.6235483599744\\t2346.381976433735\\t3668.3153207582536\\t4694.252388246159\\t5337.227215404976\\t\\n1994.5345513455281\\t2909.2949519885624\\t3488.015333333553\\t4545.580446785302\\t4317.777826724503\\t4244.500976896467\\t3746.0789645301898\\t1980.1039914690402\\t4486.1421540387\\t338.04226087372206\\t\\n1119.8164098588022\\t3025.183182659474\\t3987.5626091005574\\t5266.819939997451\\t41.696102084325396\\t210.9052083037176\\t974.1443637102312\\t5282.79490416524\\t4357.259709726567\\t2714.3008441540214\\t\\n3465.3337642683814\\t727.5577665467981\\t5548.597673831379\\t2569.2440378055394\\t617.6727515412805\\t4691.711540371668\\t3821.0943707407546\\t4952.805481603974\\t1955.752500508618\\t992.897011679762\\t\\n3597.0426765459692\\t3414.6705944240794\\t1223.8341850113177\\t1034.532179741314\\t2569.875156825552\\t4702.642324601549\\t1812.4896822478531\\t2637.608067303378\\t5534.738147554207\\t1762.8204049450744\\t\\n1125.6042673282077\\t3859.7852254892864\\t5010.684283249786\\t4412.7673394625135\\t274.8375743111179\\t5180.747217469318\\t908.4200945717776\\t4165.606361981188\\t469.74195141113046\\t3894.0258368646564\\t\\n3859.0896980449793\\t1555.727620516461\\t1082.5797898873407\\t4796.1576184836495\\t1589.2856889045365\\t3325.9663328540414\\t1742.5873920368995\\t4251.035812152647\\t5113.215277814482\\t3018.5099154296554\\t\\n3445.3004232448925\\t5136.816380741407\\t2273.9840323911753\\t2088.60303932262\\t2479.303146995954\\t1772.9077629854432\\t3285.320341616576\\t1034.16523073135\\t509.7816547019064\\t2246.671199264767\\t\\n2169.999634683777\\t592.8066546201326\\t3745.2147831741713\\t1139.9843177746006\\t582.6686319754785\\t2999.2875517571706\\t3825.289385909382\\t5599.9484004134365\\t4933.183064476342\\t4028.0977422846713\\t\\n482.278707500445\\t1421.7468657290362\\t978.8228995413303\\t5160.896116052781\\t5470.699705108297\\t5182.830864720043\\t304.9247091446254\\t1042.3303471230058\\t4996.64788395812\\t223.58113160700245\\t\\n4537.676818816172\\t4247.57436409322\\t5408.292461254773\\t3938.2759720165363\\t5097.114940002725\\t4801.246415595424\\t5112.799774128697\\t4937.654688490881\\t3553.0671647827685\\t1021.4043070923072\\t\\n31.447856395128216\\t1871.721727443188\\t4643.949272652939\\t1715.105946402369\\t589.5743279756715\\t4239.126468683133\\t3889.053222530591\\t1341.6962918795448\\t1172.2785190455088\\t935.0739087210609\\t\\n2766.897684107209\\t2990.2877157581643\\t1637.9043155726047\\t2710.8413244792764\\t3363.837769694745\\t3444.8182356535845\\t1117.42870208668\\t1819.9250092336201\\t3087.1245801547466\\t256.3245287261779\\t\\n4996.749943197581\\t4886.568825468205\\t2806.9903567504803\\t1059.6904465257653\\t1509.893724328693\\t4049.3333178854527\\t2766.4552250201396\\t173.3520313685515\\t2635.7705571975903\\t2515.1105140461295\\t\\n17.578860615685567\\t2927.9730604543806\\t2425.852687936108\\t3840.6610370190706\\t2457.7950745159155\\t1713.4967452200437\\t4932.551525320943\\t1823.6454708576834\\t5254.153112326798\\t2800.7503260869075\\t\\n5094.42419986653\\t2444.0667356037593\\t1103.969303191331\\t5585.890542544581\\t4814.45837568174\\t1350.1915650243711\\t261.18583080031107\\t691.4215610601887\\t3781.689903094386\\t342.79561250941384\\t\\n3295.5563770774147\\t4963.760014655115\\t4603.728043399644\\t685.778571525553\\t3857.8177112974863\\t5142.4073037925955\\t1871.0426741706606\\t3824.1832168953856\\t5096.749863081202\\t5064.0068346787375\\t\\n2369.305667458766\\t3977.679249057871\\t3578.0816735583076\\t5546.310850830911\\t2388.0288462609196\\t4314.561500350159\\t4110.8027965416195\\t4653.982981269864\\t1812.450077496887\\t3664.574620027737\\t\\n4826.999083373949\\t420.40734543473735\\t3604.2520034516942\\t3668.196567739473\\t705.4872640118675\\t287.4115775058081\\t3012.2061603630727\\t985.1983424319812\\t1480.9015634060224\\t5328.611555241865\\t\\n1470.7503789639363\\t3135.9412721098643\\t1807.903532904488\\t2862.7008766559884\\t2599.6896752107023\\t5741.021716187085\\t4489.299282046596\\t3193.4103268150457\\t2489.470252241655\\t5055.707554348413\\t\\n3468.4264405314984\\t3714.8383542061442\\t843.2273411910039\\t477.182828386357\\t699.3675093136666\\t3826.219161309552\\t4726.904605220003\\t88.47858238911745\\t2325.959801561944\\t1582.8419670039423\\t\\n1015.0607536443661\\t2843.6904745887396\\t3935.47733362355\\t337.5924862662683\\t510.58486610376235\\t3081.167078443513\\t1638.9653415323303\\t2970.511731503753\\t2991.1585073744927\\t4513.689032818527\\t\\n4135.090611979072\\t2171.8867507606437\\t2083.041083633046\\t1634.5851858823887\\t2170.899011969701\\t1112.716386733265\\t3932.568042460874\\t1982.689320259639\\t3220.357201838287\\t1533.3320729003956\\t\\n4592.494943531079\\t772.7862640918898\\t1743.091188095086\\t3191.4798918728234\\t137.4945943808387\\t3604.769201901165\\t1700.1307622815675\\t159.84587880806205\\t2708.95564711846\\t4268.702955071082\\t\\n2215.439372445693\\t2844.642427579097\\t2189.1871999216346\\t3186.398016111503\\t4868.248621554047\\t2970.446414105425\\t4204.2317758377185\\t5383.049301857502\\t859.2606157573398\\t2096.7996494965623\\t\\n2601.960678468454\\t2624.062777458081\\t1519.5928058658153\\t3628.0513662131475\\t4584.606195097833\\t5253.17411522073\\t835.1303704346501\\t3435.0544514481453\\t3094.1209226848955\\t758.3130747116874\\t\\n2704.7617182992844\\t895.3806353592367\\t2122.2957928487185\\t5538.344526488761\\t4329.37524838178\\t3863.078681113362\\t2114.797798958332\\t1963.847359681282\\t3944.945521235923\\t5690.968082349514\\t\\n3996.644387390762\\t1209.3255668014865\\t3019.401304680952\\t5790.702294823276\\t4052.0584319712607\\t4479.7380026493565\\t1597.4321476299358\\t4789.125772407009\\t962.3510709331706\\t982.8335921234369\\t\\n3551.937335301964\\t3684.7312792064745\\t3972.7845871086784\\t2783.3143307569344\\t793.8218067818125\\t704.7402773828109\\t2076.2522161037764\\t1302.528489561293\\t4177.073686644703\\t1926.97836497927\\t\\n1085.7820667716405\\t1906.8663771511187\\t4668.711937919523\\t2143.139780138992\\t669.3096762177258\\t1766.062061710516\\t758.7441171320679\\t4640.142709437439\\t1232.4112003026505\\t806.9044423952915\\t\\n2360.6566528411204\\t2397.6369845583513\\t4734.867717529795\\t4404.8932947162075\\t544.7910353185241\\t4121.160572739848\\t2881.3890084088243\\t369.63470931582054\\t4345.607237723728\\t2268.228353682386\\t\\n3032.5760630354375\\t2711.978702960852\\t5843.858961970058\\t3466.8691516307567\\t5827.668188173333\\t3100.9041605090006\\t3368.7114809192412\\t2968.382695329721\\t2447.460071327406\\t5702.162877254034\\t\\n5019.159628319798\\t2071.784082066515\\t5458.625307195524\\t2872.2311084492767\\t733.4458707761389\\t4518.557195574069\\t44.710392942678155\\t157.11163736321203\\t3257.7732833322\\t1080.5863953824733\\t\\n4056.5089412636357\\t2385.318131727713\\t2379.5272718662486\\t5305.584262787286\\t2174.1755586518448\\t677.9711224156802\\t113.43552393172217\\t3553.484041071052\\t399.52876264452067\\t5866.76054358438\\t\\n183.76154175166366\\t3012.503637070972\\t2650.1570283682613\\t2041.0891914396886\\t983.4662260559787\\t5438.663344813299\\t1899.8515819093068\\t1704.6687984278658\\t3904.4113294479666\\t1109.700702150878\\t\\n5751.6110215712215\\t1316.793585868109\\t5454.961885365128\\t2740.604406539636\\t2654.016285294331\\t2743.316394879564\\t870.0948052175698\\t3687.435202699888\\t1017.6681059270526\\t5622.52510679986\\t\\n5084.174998483877\\t5255.826864048389\\t933.8255032167351\\t406.3637908045761\\t2604.374651019727\\t2542.4580700356273\\t1712.114943570611\\t5344.330047107007\\t263.0592707046393\\t5488.76081547083\\t\\n2561.4678245170744\\t324.5268896159732\\t5301.624220194889\\t2187.697994364398\\t4822.673278456731\\t4669.233682596766\\t3012.76204447171\\t3795.708705203028\\t4836.897920041761\\t3951.77578466459\\t\\n5727.676356247624\\t497.91276215781704\\t4419.157610094795\\t745.2921548900165\\t1589.500734242615\\t491.13240710818417\\t1157.6359462916207\\t3593.3895611714483\\t1560.5761557854817\\t4049.0124197764567\\t\\n2670.9648131388894\\t2575.602640136272\\t4586.148166152297\\t3601.126586875509\\t3697.392746828314\\t2373.3618198115096\\t4084.3438532784257\\t1195.777939922615\\t2143.4591525273427\\t4172.284030501258\\t\\n3187.2220810284102\\t2241.173851432559\\t3792.1610629082306\\t1997.4101154597847\\t1604.421189230149\\t3647.3909917731535\\t3176.9415713128083\\t367.59964302476413\\t2441.799690751541\\t4438.0473628217915\\t\\n5738.770341058891\\t4887.006750955119\\t5761.409014852915\\t4993.731318444611\\t4873.99015463006\\t779.4479911405707\\t5220.856009714436\\t4428.0435169206385\\t2783.61862083127\\t88.46865122984939\\t\\n2934.0839148909586\\t468.7748775721572\\t2937.5946400468742\\t4959.45818331529\\t1616.8937322049153\\t4220.11032682515\\t3891.49588425584\\t1527.6026620049545\\t2702.245830877753\\t684.6571935353658\\t\\n2538.7877289286816\\t3797.71237310494\\t1413.152752066624\\t875.3166569912946\\t4354.483127940885\\t4468.699291011454\\t2624.55646103055\\t2679.177193047844\\t1080.0485511089996\\t2116.614787792851\\t\\n1583.0996324097875\\t1580.7093340552785\\t2041.1293288591694\\t5420.293124852187\\t2707.2692869959787\\t1547.5349548389622\\t576.2832559074128\\t4221.338599198865\\t1159.6461238279842\\t4054.466783621561\\t\\n3514.136495681798\\t64.64860813428189\\t483.0850427595275\\t1688.3626109771574\\t77.098336717952\\t1212.0158707752687\\t1784.5673915983857\\t727.1072514360454\\t162.24221985880138\\t5681.297631164251\\t\\n2100.220889154641\\t3780.1777756556703\\t5307.892538817679\\t2387.5149831999684\\t461.5025704889697\\t2181.252309458552\\t3480.6681974192634\\t4967.170475099771\\t2984.35273778749\\t5817.2949692903585\\t\\n4597.99750942861\\t4711.384998191219\\t4006.660263126272\\t2938.0175960294523\\t904.3742355660958\\t5279.683403609406\\t1953.355599641911\\t4340.242380758668\\t901.1570446358821\\t5450.187421945286\\t\\n3394.689842011913\\t1801.8202318845647\\t5300.472820952258\\t3391.5450952060814\\t971.6734912653003\\t3938.0255264498333\\t236.55363745915545\\t5672.114179992792\\t1920.4397004631317\\t1898.9959002823732\\t\\n1858.46420732992\\t4337.596436532461\\t4713.112739986713\\t2627.799267122867\\t3337.059477641697\\t3492.473846099453\\t3790.5994417911334\\t3289.3618335151555\\t96.05042765948005\\t391.98901885778366\\t\\n4823.209138851231\\t1311.4416954990793\\t2390.9006268430776\\t2309.291900907802\\t2560.431824364858\\t3499.0438907865314\\t4854.011623043517\\t50.896801751193685\\t2272.0801503946554\\t5121.679288342969\\t\\n281.1464878892784\\t5886.98495598907\\t2322.6153032711773\\t2660.040981349917\\t1787.232659380147\\t5231.483584399044\\t422.0487487283221\\t3027.021918990938\\t3567.5521785597916\\t4771.380992056085\\t\\n190.48979067579853\\t2570.964163386675\\t1155.7135519744513\\t5258.370854076928\\t4952.43681954051\\t5454.897381377353\\t3693.4707540624368\\t5973.035022293876\\t4643.674911984503\\t854.2486780416999\\t\\n5977.907315435758\\t1588.986636143061\\t5127.101751489279\\t1927.7801767321275\\t6062.078741231121\\t844.6118865844695\\t1880.1972709338097\\t5033.0831491292965\\t1768.5005522035774\\t1361.8632877333393\\t\\n23.230447133286418\\t877.938509436222\\t3803.8076344623732\\t4229.078534251446\\t5487.78956516769\\t41.71028149540251\\t3757.4958527531817\\t4363.043475578974\\t1901.2760528865351\\t1130.6019411058348\\t\\n2515.6981496814024\\t4722.108951707409\\t1225.7422086226957\\t4222.888364808844\\t4428.762295342862\\t4584.369627444538\\t867.8989981689429\\t1222.0955357119417\\t3422.264650818783\\t5133.833930336466\\t\\n789.655581585134\\t1997.7817616512812\\t803.9074425618473\\t171.64207380432288\\t5833.226836183476\\t1250.23202018311\\t1577.1967168620833\\t5917.804532950837\\t1466.8861773597548\\t4417.879769047518\\t\\n660.4450634513063\\t4101.548101385811\\t3675.0301366993335\\t3903.951398743736\\t154.413107155847\\t1572.099794698438\\t2241.567754759811\\t5979.819417873389\\t5489.898538955076\\t2274.0407007216577\\t\\n5159.400889146843\\t1193.8274372851463\\t5491.769225441152\\t601.738741872276\\t2840.2803924410405\\t54.88486804985929\\t3000.135379448833\\t4904.8211016318655\\t5441.618130725128\\t73.93532735956103\\t\\n1019.0603811148762\\t358.14627127838685\\t3781.4102370529317\\t550.494505272278\\t1208.5168875205616\\t769.6867422021134\\t3449.1502014714406\\t947.6106278995419\\t1374.754915140316\\t930.6094134171277\\t\\n1374.3026642900275\\t2373.3206499870944\\t14.070335746922543\\t2216.4881717464577\\t1034.8874694768401\\t1676.1617989440044\\t2323.981809218189\\t4771.220083994681\\t1663.9313685333666\\t473.395483096058\\t\\n5652.260274007086\\t30.836591649913906\\t2985.064557482476\\t235.33460485683773\\t868.9690083083381\\t4147.876573707973\\t4793.532132509601\\t4967.569880014233\\t3064.04017083947\\t1265.271888660515\\t\\n3943.0331829256756\\t845.2883741387973\\t3291.4846882529823\\t421.88737325140664\\t1408.7381057368277\\t1275.1238787676784\\t4742.445834587169\\t1373.9849012222644\\t5851.620529023752\\t1665.7351962936364\\t\\n3591.349560514418\\t353.49773084541243\\t4457.649004132654\\t276.0541294081603\\t4652.707296524295\\t5650.461319081644\\t560.4206639602761\\t2437.246594361836\\t1691.944599494443\\t1425.9098623620187\\t\\n1400.7489268908068\\t857.0541704325381\\t2582.5916684134027\\t3973.822041852101\\t3173.892884445469\\t3656.7893621613134\\t3353.08007843336\\t4318.140996375578\\t3928.648442042987\\t1233.358608427912\\t\\n3947.9998402300994\\t2661.5780873466924\\t6018.7168746077305\\t1041.9766591391276\\t2837.971379508727\\t4319.135776023424\\t3788.28845158459\\t4330.841013944282\\t2055.5223305481786\\t3119.3407304889347\\t\\n327.4485283863077\\t2741.4098194759345\\t1778.2724167973656\\t3219.6212402384044\\t4009.92651351232\\t6209.56183434575\\t1298.569860422638\\t3413.3134832209016\\t2005.045011900223\\t1000.2741733337797\\t\\n4803.601734288254\\t4290.685937458553\\t1033.3007399572246\\t6172.741068300486\\t1411.705903381676\\t4507.012080055204\\t3489.823089075616\\t4518.21168326571\\t4686.552990880878\\t5769.816679662828\\t\\n3105.049149101885\\t1598.5428633460804\\t3476.738055157761\\t4982.090980352548\\t3571.791810774001\\t4706.044449008124\\t3132.326876701627\\t3542.6063842347753\\t4610.488319327548\\t1828.5961869169973\\t\\n5792.563896505678\\t3590.3050920273213\\t246.36369391539628\\t2722.663965496344\\t3104.6099870652297\\t5693.824311129696\\t2886.5982199718806\\t328.5465511459289\\t2286.5530271877874\\t4845.5595857455855\\t\\n5170.15239727208\\t3458.543884266779\\t2808.942750746201\\t1953.542308003062\\t603.720334568657\\t3477.447396990447\\t5041.949569686368\\t997.2879204974561\\t4318.621126394345\\t6254.171236903677\\t\\n1163.5002691917011\\t4582.03730146802\\t5228.8215387794\\t4086.172878031383\\t4833.209386216648\\t4701.208785695244\\t1990.5375830684784\\t49.25778646512855\\t2065.0597952720705\\t1684.4766789960363\\t\\n2316.981885744112\\t5368.680287364846\\t2511.8022850223897\\t672.0210268998911\\t1821.7701567228535\\t1820.2069228653895\\t45.97991546798554\\t3518.1464184786955\\t1348.2826642665736\\t3956.714665717505\\t\\n1577.0063959887366\\t2851.1163774656447\\t3446.0441072719896\\t5500.251671027475\\t6136.915102087256\\t967.4401793575391\\t2621.49651710991\\t720.138518909096\\t3062.9164198200824\\t2186.3652772841274\\t\\n2353.3496907436547\\t85.63893379446871\\t5785.985491422979\\t3454.566053318606\\t285.4049180192217\\t871.7699045021078\\t2776.377274105529\\t868.9350057266479\\t1836.962530157949\\t2485.6938309109387\\t\\n285.56554018634114\\t1974.8555412601875\\t2138.712378570929\\t950.3341347553614\\t1192.568939706587\\t4845.893064871457\\t3103.040316823348\\t3416.72806953491\\t3741.4724851697492\\t3631.146736584382\\t\\n1339.8090014105264\\t1179.0068086927101\\t3167.574354210859\\t111.154765054202\\t2384.8960239510834\\t4511.648477088903\\t1900.7777607474823\\t4066.423349740672\\t124.49697394844684\\t4906.883140988969\\t\\n3560.1888561283063\\t4642.602928319446\\t788.1189072361681\\t3338.0972560341343\\t3183.883388954273\\t6088.166234930222\\t3258.9553921788865\\t181.70064659129056\\t2507.080581992193\\t5307.721357972283\\t\\n1607.2734616569126\\t471.7624690261657\\t2160.9956240005095\\t1848.4679572231353\\t1731.9893496397758\\t5227.014201351973\\t4476.764302929346\\t2005.468782851967\\t331.2154387290792\\t5800.309816057005\\t\\n5588.323581626145\\t1710.8257995794095\\t1342.1252853695569\\t5239.933891892891\\t5296.032613957423\\t4479.406720706704\\t2805.460557132598\\t3225.593456000612\\t4303.679559405368\\t875.735447447314\\t\\n2285.6283848468006\\t197.13475439686422\\t4814.745692156297\\t2825.2461573585574\\t440.2992658635917\\t2747.4513799425763\\t2510.7561808434457\\t1042.7284059515616\\t360.807429633942\\t560.9441639045887\\t\\n4907.351491402741\\t2010.5123366945359\\t1017.5137328777239\\t3415.6693782644616\\t1666.8761449519152\\t1858.4477778344553\\t1150.1531397391543\\t2166.8443370465047\\t1193.5549418567834\\t5799.927736377153\\t\\n102.83837837916343\\t2301.6296582761265\\t320.6089969230048\\t954.7698148420772\\t492.045386003677\\t5602.387067937652\\t2675.450165570591\\t2773.7678066833496\\t1536.3825686070202\\t365.55258248956034\\t\\n1005.3165589187037\\t1420.667740133466\\t3398.307078666904\\t2542.443399910871\\t3249.0485010181274\\t1001.3554106577626\\t3130.48271723065\\t2564.2602519207853\\t204.5293237991643\\t3720.2920734132085\\t\\n3458.2502414054425\\t5443.495697809497\\t6113.044641015156\\t4310.3639414987965\\t4792.1786125816825\\t5358.883985596193\\t2460.24134430926\\t374.5577044118586\\t5226.668948801542\\t5223.378249066058\\t\\n1234.5024512692996\\t4664.948430526183\\t193.46393801836663\\t399.9918118445925\\t2952.8634389457316\\t690.3078504135312\\t1928.8752030900425\\t3476.587869566347\\t2654.557973154863\\t4998.4344679338565\\t\\n555.8535732664549\\t4962.966704807824\\t3582.772106310928\\t2986.0786937298944\\t934.6679325272653\\t2677.3969501315996\\t1964.3069338211324\\t522.307890452241\\t148.34920412449637\\t581.0171347186138\\t\\n6195.350703784207\\t5130.890970912579\\t83.60706309238067\\t1253.114516625611\\t6376.733171374883\\t5172.0121320791395\\t3920.4604830481894\\t2111.283695580368\\t678.329369379327\\t4189.3752136033545\\t\\n1948.4771879913867\\t4724.889975715287\\t6079.742163980259\\t1979.9842673414225\\t5432.665977198505\\t2857.4294928526087\\t5391.193393899122\\t5696.077800016739\\t4125.541428115114\\t5004.695260322056\\t\\n5436.933810839856\\t5787.055996793988\\t3264.9141510048007\\t3098.1922284833513\\t3717.390454227081\\t2281.2100193151277\\t3519.142677838815\\t559.0904436481462\\t571.0093444165199\\t1312.2691130378305\\t\\n2255.7584079253115\\t3849.0153926298794\\t4720.7369156788\\t6305.646235354122\\t1392.9769157110613\\t6059.403272085997\\t1968.1651703125249\\t4467.596109471445\\t4118.950297787115\\t198.5223108529644\\t\\n2939.078132928829\\t4596.44377177348\\t3425.818068973017\\t3795.0479946955684\\t5874.511003665815\\t4555.748085818054\\t1231.1489195183315\\t404.2071049282284\\t2798.933837441017\\t1953.2073206741907\\t\\n2542.0683708029333\\t1640.3159632129002\\t856.1014681132881\\t1266.5958544696084\\t5399.9465713592635\\t4276.2274500846825\\t1532.0968517006227\\t5787.028486704822\\t3770.803241080907\\t2729.913824414546\\t\\n1389.4400984479878\\t5944.329303731008\\t6068.227491384225\\t747.3171948666551\\t3722.0319837810393\\t726.1912881831554\\t5362.059639709539\\t5136.356991186324\\t4562.81883416985\\t1170.1774509933557\\t\\n6351.761948450513\\t1125.246855633006\\t5906.426699755108\\t693.8762217382299\\t280.88348821965013\\t1052.5531619297496\\t257.3563512982446\\t4965.659165932189\\t6231.935480888695\\t2004.9873752783244\\t\\n3751.7146760538385\\t979.2184955286426\\t5669.403697829086\\t2053.4167609737365\\t5629.623493848147\\t4082.5053218389953\\t2633.48564259309\\t3936.4143208118517\\t1124.0401798872529\\t3247.0136197291763\\t\\n5523.506599002421\\t2796.6989553936223\\t2591.8361397934286\\t6061.240592676703\\t3325.458687694008\\t162.96789201572918\\t5404.385378752295\\t159.81263582549047\\t2926.00524312009\\t3407.600232973606\\t\\n3278.4483142294257\\t5561.182721870665\\t1087.89295085293\\t6136.306598771469\\t2467.4300869661224\\t3165.874133149516\\t6439.101535385104\\t2616.606824866769\\t5398.296133521764\\t2611.606303396291\\t\\n5856.839852366472\\t1851.3136300223032\\t2704.753769451091\\t5633.046793955703\\t1404.8949334556896\\t3241.830545542836\\t2134.2720165310425\\t6533.4973594348985\\t3424.7621617804384\\t6215.9161214059195\\t\\n5052.376772037263\\t2509.0489008139084\\t5769.942754018755\\t2295.855003317805\\t373.33033397135284\\t3976.9224500961623\\t5895.142658819165\\t6100.10317150346\\t3899.9433352841825\\t4570.194918369332\\t\\n4718.336457369357\\t618.6171395114957\\t5924.660304812338\\t3370.6499964541667\\t3262.7944583896383\\t349.788850721055\\t2125.292512239449\\t4419.8938007343395\\t162.90437551168134\\t1381.6018542503643\\t\\n2147.5090912670703\\t1350.794627326757\\t4285.0065203268205\\t5010.386924794\\t37.70981687683437\\t2641.0909502874474\\t1385.3913282994233\\t4569.587827938264\\t2399.675087259168\\t1830.8366715635732\\t\\n4534.282536929945\\t1336.2488144247982\\t1462.527483124944\\t2461.5882703824955\\t1508.4646563927786\\t1976.9752435247049\\t6221.652377109758\\t6368.410213194854\\t2543.35212846168\\t2056.636110615425\\t\\n1830.7215151767207\\t5157.195833995021\\t2546.6759056339197\\t4416.402460653421\\t2287.9356553003745\\t2097.091585823132\\t4796.055918848417\\t1697.8251258343867\\t5040.123691583543\\t4827.8708342402715\\t\\n5894.132885419058\\t3640.4367078809605\\t5314.49041376302\\t1254.230446849473\\t6332.781794656321\\t5391.383585749251\\t388.6836938645175\\t2473.0638710390713\\t4469.883532556691\\t2858.03399563875\\t\\n2180.9913822554586\\t6275.521424170395\\t1955.289041997555\\t1230.8373346836\\t4793.256260830159\\t91.60941168522413\\t6022.429853433266\\t1119.7655966430327\\t963.2961384746109\\t2680.2183384030227\\t\\n2739.2382074106004\\t906.5564115388383\\t4088.8577016896425\\t4553.785313717775\\t3639.8902197425227\\t456.7881626549189\\t290.7923739479875\\t4910.383420709889\\t28.8120704251083\\t752.9057853699687\\t\\n4094.0712770004866\\t3081.3024126775917\\t3722.0213908011096\\t6084.824119388821\\t6214.245499715561\\t1289.5402810357782\\t4442.147513033933\\t5767.176202100076\\t5535.123410420057\\t4108.308085084603\\t\\n5554.078096044172\\t5798.658762529828\\t4284.529428504709\\t3748.7007285475\\t4363.823446490192\\t346.1648968692635\\t324.79781900712857\\t161.11116482219114\\t2761.3644634267825\\t4543.169550137302\\t\\n637.2821231378201\\t2857.9650835261978\\t2794.043403328631\\t2126.2998707298916\\t6094.552393306541\\t3550.2045657140743\\t1002.3939111680959\\t3482.219936223752\\t2500.3660408311116\\t1230.6911478324628\\t\\n2842.207756705371\\t1476.134020945019\\t6279.7553794331325\\t2682.2396338037615\\t4937.094011756547\\t3558.302606440633\\t6481.085287295469\\t925.3359468506396\\t2166.8734777614113\\t342.5112395948416\\t\\n4703.831089720545\\t3461.531580319484\\t2402.763064498241\\t5860.749216411257\\t2914.951886004046\\t3960.1936693624834\\t2978.947183575514\\t5124.777650673201\\t727.6261490342168\\t4457.759667934917\\t\\n3447.188077374914\\t3145.825507832377\\t1310.2157004099824\\t1932.0221004503715\\t2520.540340945587\\t3011.428650886274\\t1580.0618706433543\\t3962.168841320093\\t2386.3749855555343\\t1191.8872495786518\\t\\n4423.2166666002295\\t3036.569951816321\\t457.1284323099541\\t3156.1382109335905\\t1119.2043835971797\\t2117.647088293705\\t6187.032903028514\\t2687.443397908873\\t4586.896935781344\\t963.1062317374286\\t\\n3466.0230869917973\\t5095.277246934088\\t1842.6400240627352\\t5054.94611642792\\t4755.107833525834\\t972.0487289818946\\t1573.016456290092\\t2932.6046002234175\\t572.4112114197953\\t1195.2989943858279\\t\\n6516.445704650914\\t2017.2483295315726\\t5495.514470188849\\t4435.294060556069\\t6513.050727837806\\t6589.636552758645\\t5415.525066571102\\t1878.89943818298\\t4662.793820441129\\t6591.471520908216\\t\\n4770.515521560778\\t755.6301510057333\\t5035.09716489835\\t4755.305326986616\\t2773.7944739927448\\t723.1001089354572\\t3945.8236015556695\\t5212.533145828472\\t4536.4502113835815\\t3749.7718809404046\\t\\n3901.765768454299\\t68.9636697882446\\t1642.4218437764139\\t1008.9904035879684\\t5810.49411845356\\t2842.6177092575485\\t4888.151498365367\\t2909.7397315526528\\t5504.006231958836\\t3894.8739934747036\\t\\n4978.183143264978\\t3803.0604912612557\\t3850.455231827093\\t2176.8106920580913\\t4589.353862088804\\t4171.979095651926\\t3188.282551197319\\t3694.2190836065383\\t170.6769531277309\\t1205.0064422202952\\t\\n270.466246202899\\t297.3916875849631\\t662.8870469212475\\t438.2105278848649\\t5990.667425253255\\t4604.610657328905\\t3617.348415870464\\t3524.0892651816803\\t160.0257719664039\\t3218.512939316264\\t\\n3809.6359796304546\\t3166.077814500639\\t1355.7138502212356\\t3026.228861199977\\t4661.792886327701\\t4686.290107877924\\t3651.083854596425\\t499.1304954510012\\t393.0777592534206\\t5547.155602072414\\t\\n1993.0397822766486\\t4970.419470819759\\t6213.740811498594\\t3215.339339820614\\t3778.7877168873497\\t2822.9441785391027\\t5364.093525815144\\t4145.986378869671\\t2893.368943133557\\t4745.112201731951\\t\\n3734.1483362204094\\t454.9955446620818\\t5906.098408681796\\t4982.4220080098185\\t6266.22431958369\\t2243.977220327758\\t4436.143660581078\\t1677.2232147495004\\t2694.3830302889423\\t1108.6019681543808\\t\\n2363.1493678577517\\t3362.5824203911034\\t4465.9837400866245\\t3153.5230320785263\\t6505.376132963176\\t5340.593472044571\\t34.025899481742364\\t3782.582709130725\\t5488.382570732037\\t5781.638685385252\\t\\n1105.913395886207\\t6106.892941132264\\t3837.7391960355867\\t3765.8401729595525\\t2316.5647337011324\\t4952.367478286075\\t5640.938036303271\\t5131.417490174152\\t1219.8755507455955\\t5190.45922750783\\t\\n6108.820763580184\\t3004.1514230034536\\t5891.391422601877\\t5661.910081493294\\t6491.543991174649\\t3898.6758376203065\\t3420.1968080621114\\t428.46276230448973\\t4321.24933004127\\t1886.3761718348846\\t\\n2300.4840838031287\\t1713.9420591069527\\t3163.3199300244655\\t6653.669620250918\\t5281.472774005759\\t5397.10814684538\\t2148.455643031938\\t4480.404003756616\\t2830.6441834881275\\t5745.749556828729\\t\\n3400.1284825378466\\t2546.7568616452418\\t1736.266158122454\\t2318.1792077974305\\t2329.06805593891\\t1491.1442410365814\\t2681.9308336104955\\t4475.268709377564\\t2995.162280603557\\t5787.737802510051\\t\\n4715.415840794958\\t811.8251205202073\\t323.0953626592897\\t1601.3726585458355\\t1667.2231066244249\\t1655.706083001489\\t896.2866533448617\\t3963.03531008617\\t4452.466038265256\\t1138.8721475267675\\t\\n677.285017386286\\t5620.775232941029\\t3730.388280393661\\t6664.299004072582\\t3060.156980261813\\t1520.1660513598918\\t2279.8471744554445\\t5923.549319818458\\t6365.86465931158\\t3057.4863371878223\\t\\n4079.596154100108\\t2768.280739811399\\t5629.240607517002\\t4625.909562812751\\t674.0943358692111\\t681.6800560941217\\t4415.039547943958\\t6584.533011837644\\t5950.532917381927\\t4676.5424651034045\\t\\n6520.042037998466\\t1008.2478371947751\\t3111.3003322308778\\t5043.638233055232\\t572.4296550874021\\t2090.620436150054\\t3772.0732657554736\\t214.69691031520514\\t2095.500574982201\\t4645.306582303185\\t\\n4882.047766636939\\t2929.676865125793\\t3096.398714796018\\t4683.253750640686\\t5760.243367079037\\t3674.0884877898047\\t3281.396814526319\\t723.0073781323933\\t4619.611655647667\\t5712.273170123571\\t\\n5112.682100325723\\t2762.642380666687\\t5625.567883384842\\t2968.6735461557764\\t1438.869191021289\\t2799.810366542369\\t4736.167016030295\\t3993.1148569303\\t4817.4591284313055\\t6336.715844866164\\t\\n2282.155340955639\\t2750.037538304353\\t5197.733723815053\\t3892.3427285786433\\t295.4683144014659\\t1588.6980057647747\\t4983.477308279239\\t4243.16072166518\\t6659.89295864924\\t2723.762684010208\\t\\n2191.3443952311804\\t5361.3637254207415\\t4597.0757155178635\\t3129.8281372036067\\t1846.7908278931452\\t2505.4075741289926\\t2451.6979185494656\\t5536.387128377154\\t4623.863787255017\\t5319.94229922218\\t\\n73.3203572846271\\t1211.8871713612275\\t6206.420682374611\\t5764.082368180954\\t1826.314663584931\\t245.90463690109155\\t4375.920487947246\\t529.9135499047918\\t4053.063137867247\\t1721.958777616751\\t\\n2118.8400564313024\\t5295.097707359903\\t2952.3753771749057\\t2932.29606178693\\t6579.766173935224\\t349.1003782776447\\t800.4917192350175\\t2967.1007613812944\\t6316.813029236717\\t2285.9163003485996\\t\\n2980.5402520079015\\t3737.867691718262\\t3229.1068111089858\\t3718.2279419222805\\t1711.7714629937773\\t1828.9830859937917\\t4921.838592760762\\t866.5870616446225\\t1751.5451933218906\\t1477.6680763405805\\t\\n4921.938405788306\\t6503.423041605607\\t5029.714560740382\\t2366.7902687986048\\t5861.177261568877\\t2409.926441791634\\t934.4078901378418\\t6157.472854942854\\t3134.747173068228\\t1616.9563324755304\\t\\n1960.0988807007152\\t6255.020581415289\\t3312.054201276405\\t5761.322089288047\\t560.5342786821817\\t6013.4902315001555\\t6284.687681789248\\t3072.478993941652\\t5225.25497277513\\t2171.947047792724\\t\\n3031.5505371653176\\t805.5603599688162\\t2353.713096538641\\t4576.3905793972035\\t3453.9125921017285\\t2231.7401108257623\\t6878.713440041152\\t3982.9567152104296\\t4387.652758220354\\t4764.274074414832\\t\\n6209.149779876707\\t666.539781919708\\t1037.1996941955888\\t6107.520752122214\\t2365.690810588115\\t2034.4483603130186\\t4343.95271686065\\t6017.621942300335\\t3087.957233338127\\t6477.15544655677\\t\\n2295.233855208281\\t2906.6645526696934\\t4538.203939521101\\t3520.439477241933\\t6473.308439868473\\t2692.075148375199\\t629.6555875524533\\t2612.2303402339494\\t2594.28209292297\\t2348.0152141494464\\t\\n5146.6979054870335\\t1757.7537313705802\\t1635.1152619227785\\t4035.603085568873\\t3282.2736051404554\\t3902.769823524472\\t3875.8260043406976\\t1027.3847622588185\\t2662.237589069651\\t6057.952595261103\\t\\n2583.4315049799998\\t910.2587340809711\\t2213.19599430982\\t6804.450183985899\\t3973.2058720216405\\t3903.544111452833\\t1918.8525541115455\\t1186.963384640807\\t3242.260578648213\\t1321.7894594847396\\t\\n3855.7514679455467\\t5239.831746239425\\t6450.982774780995\\t189.7330398967586\\t1859.4821393281863\\t3517.1372514429936\\t1842.950333767756\\t6752.469529782407\\t4238.422521050407\\t3618.623095747387\\t\\n5035.506626582522\\t2499.1518863502324\\t4362.302013869385\\t3349.666316628382\\t5514.902371695472\\t948.5953031760522\\t5217.577278093211\\t2410.278927716876\\t6743.446566314261\\t3329.5235493079454\\t\\n4405.132892881932\\t2305.303027597434\\t2176.4917928890827\\t652.8291617989635\\t5191.6929780666\\t1380.5863178704851\\t6703.281051423452\\t6006.901786902718\\t3369.5680219218584\\t1540.2000594256692\\t\\n6209.139912457367\\t4887.16011577879\\t6148.366831479149\\t1215.2935020543027\\t2438.6225856451033\\t2880.469731844399\\t2055.5041680920376\\t1999.8486868109148\\t6757.963768087359\\t2324.4870389391267\\t\\n1640.2230270300968\\t4381.5760923562275\\t635.8887444676888\\t4882.763587510645\\t1007.8070206670315\\t4765.057099214474\\t3595.721556231619\\t4502.807038259788\\t1848.4682223627728\\t2480.8500617865243\\t\\n2685.320827245367\\t2479.867887419277\\t5580.273790464547\\t4888.847580524761\\t6804.2534684071\\t5330.782522501083\\t6210.723012958614\\t3444.19259735469\\t4122.296754431309\\t1449.7528343011127\\t\\n1790.3927222031575\\t5431.605925236633\\t6921.9939629729715\\t6672.369549410079\\t3558.8646595070086\\t2955.051242403133\\t1941.851629593121\\t5126.325435571041\\t2091.7103578511205\\t658.4201610634004\\t\\n3844.13678236878\\t4457.815472303646\\t1827.7382260406139\\t6049.165860418422\\t458.9172783218294\\t6816.475386595428\\t1574.606976173455\\t3334.0483337762466\\t4058.3435854930985\\t4132.646749312848\\t\\n1915.0365619181755\\t5032.636451269473\\t2039.1106401559837\\t2473.8619825465553\\t863.1685408510599\\t4342.858195914139\\t4813.466540297835\\t5281.010957026036\\t4562.772847055542\\t621.2934868064784\\t\\n7037.406106112927\\t530.2388830336026\\t4634.463896185725\\t5659.9621777009625\\t5947.206442496129\\t5650.738099541321\\t5011.741844766369\\t1237.802169390315\\t3924.858493603673\\t1832.047167300548\\t\\n4995.922710637425\\t2011.2996099390953\\t1229.8003848209137\\t4470.52881971376\\t6650.671788305318\\t4085.543994143868\\t3302.8305861118547\\t6893.398672005505\\t2653.562352069048\\t805.8327588444785\\t\\n3731.181985501683\\t4740.23261887135\\t2695.5397074716743\\t5517.61934992625\\t5246.983726593326\\t4931.442779519633\\t6680.226728708067\\t3241.748485545841\\t1314.1256236910217\\t4258.503952617025\\t\\n1787.2876427493982\\t3566.623823836014\\t3362.0402602474855\\t5335.767499612361\\t228.4446397926449\\t1465.6179222851686\\t2322.095088187972\\t1829.5516179383792\\t505.3789361103865\\t4711.185434412048\\t\\n64.49818773937989\\t2995.0755707946373\\t1269.0173292860545\\t4354.290554205568\\t2533.174977320312\\t7060.763798224629\\t2482.9404230084165\\t5018.316747518466\\t2644.3447409473656\\t6105.699493183744\\t\\n1221.6513239609903\\t3492.4765250929004\\t3030.560277940944\\t4342.559063387057\\t849.397503652496\\t6530.183549132132\\t5957.19382155676\\t634.6413744909031\\t750.7371406198292\\t7025.282043075186\\t\\n192.3647412001756\\t6032.851511854314\\t2518.3970938031807\\t3566.708157071659\\t2657.092674611744\\t6410.649199055866\\t6641.840181998801\\t6907.196118083073\\t342.27799757167736\\t615.0942334620825\\t\\n96.30045624901128\\t4669.978872333666\\t2533.125626918523\\t6708.232634274889\\t2906.568726233802\\t6555.285127189489\\t6037.797310550051\\t5714.204333719705\\t5913.316996234646\\t5636.504001350509\\t\\n5936.565991653947\\t3877.6593872914596\\t1266.4066855545104\\t126.85111806482583\\t6811.477642045838\\t6867.8396191965285\\t1670.9737851535206\\t1503.746854713872\\t1087.1120035855558\\t882.3873195530084\\t\\n5978.035930502701\\t4542.099262360937\\t141.31502385573694\\t4219.038670745295\\t2153.325353539779\\t1548.9539821138594\\t3300.1542998888995\\t4223.76805254865\\t4183.271600500305\\t6155.727019869402\\t\\n1399.5576693486619\\t5501.342551270636\\t452.87230189068686\\t774.4896315887609\\t753.1663515360098\\t6218.236056640811\\t3724.0995142080965\\t3801.276532326644\\t6225.501656343384\\t5524.543247724946\\t\\n1140.4836323335817\\t1419.6225611174116\\t4955.501754502694\\t3668.522302251042\\t1584.7710039600634\\t1464.7852286555617\\t263.26246078272504\\t3473.264375700992\\t3413.5029137493325\\t5612.7048496201805\\t\\n22.928717898592122\\t804.9883568442988\\t2899.3892114316423\\t1484.8232134107895\\t4541.9578572831215\\t7017.496176141037\\t1111.8950741869203\\t4138.521468335347\\t587.0545960966584\\t1535.5082982585302\\t\\n6296.630356259543\\t5121.214417776408\\t5790.317688536174\\t2616.0627642612762\\t3879.5474592906144\\t6121.280115663748\\t1444.083537474805\\t1530.234912879363\\t5548.339480286998\\t3121.519518409108\\t\\n442.81336992105355\\t27.62790933621924\\t930.0009563438264\\t2950.1471773713674\\t4414.272062141653\\t1665.0594547398985\\t3202.4376769904698\\t5835.880434718733\\t456.01954668848515\\t5983.690105887875\\t\\n4083.588702199769\\t4622.320408164975\\t991.2146679489765\\t1739.0800636611275\\t3752.3326262013416\\t4070.683130048562\\t2803.4836175927976\\t579.5553395183846\\t757.5747848489626\\t3372.1190156790512\\t\\n842.3429640407103\\t2984.0567735299837\\t2566.577280412728\\t6154.350348535215\\t1396.2493598675335\\t1354.841151911176\\t2597.576370997152\\t4468.410423007595\\t4585.802024846957\\t6981.812427252369\\t\\n38.569072850039724\\t2656.8720878998824\\t3776.021863528861\\t6257.8959143781885\\t6719.505930300394\\t5572.5991823259055\\t4843.262712879093\\t6465.0802830777\\t231.11405824978172\\t4421.3393103002545\\t\\n4163.635792781421\\t4485.14385707801\\t6107.87184675054\\t3866.8954319104487\\t6850.0261088965535\\t7202.454057325789\\t2397.5113020977597\\t2350.0448031106403\\t3435.618763932953\\t6120.144410471805\\t\\n6603.96010149358\\t4722.8844853159035\\t4574.567207993832\\t3515.6302006497895\\t176.38782310329793\\t4316.0379633106095\\t173.99308100579765\\t4641.104551259943\\t338.31270246399845\\t1095.4414008195045\\t\\n3678.2177888255196\\t840.3772903333968\\t1502.8813799595807\\t4311.874370236286\\t1541.3241558357033\\t633.3224896202629\\t2716.3598709389084\\t3241.8575389698008\\t838.0911144963877\\t3555.5614181290466\\t\\n831.9191123305234\\t6219.3470764840295\\t350.86623830550866\\t1505.3999138033753\\t74.29843032924336\\t4039.9984740284967\\t3747.1935940120015\\t432.80562388986385\\t7098.5436831030775\\t4346.307304408249\\t\\n3794.2485939586118\\t1411.210907537403\\t3214.822266831825\\t5027.188505107418\\t298.83590131854766\\t774.814573834709\\t5770.740897398819\\t3503.7493998218893\\t4252.222983860167\\t239.57517199249065\\t\\n1738.5817179193953\\t2979.6395729955025\\t1420.1983754906228\\t3502.5810883590125\\t5140.048866248405\\t6534.149844624639\\t6499.847208054875\\t3649.503216840852\\t3391.874348311316\\t1516.0075000738234\\t\\n3300.509616091089\\t4744.237421689581\\t2093.975036603563\\t4563.859608347104\\t4265.417223102734\\t4675.522179436895\\t2403.037770837193\\t6822.549736729553\\t6842.060518260352\\t6299.218684932365\\t\\n3316.0327190132266\\t4278.614190597715\\t2674.029883542451\\t5825.895502921059\\t3946.5923930844465\\t3718.5787980076243\\t6755.101099351609\\t6335.070696748125\\t3969.4272008924645\\t935.8768597146196\\t\\n1101.248949557285\\t5203.173163483057\\t5874.144821346251\\t7197.891322562719\\t5873.926492453828\\t5077.206428304174\\t3025.3825174734648\\t567.1113817780622\\t786.1241582378447\\t2412.0570216906867\\t\\n6585.614495693831\\t789.0728621019941\\t2075.0962061086693\\t3696.728611752472\\t2401.954474096624\\t1766.0873798027892\\t1675.8221489547605\\t3421.9235817264803\\t3638.7273407431035\\t4195.344912348246\\t\\n6390.694661829344\\t540.0010520384816\\t4712.758364820627\\t2994.6266776996713\\t803.4243228927711\\t4647.966017097611\\t5180.166350100826\\t2683.4611606781714\\t5663.0363630147995\\t429.5301966517199\\t\\n1443.9782677432233\\t611.5619134277348\\t2094.1683542748265\\t58.139283599817645\\t3157.7574778839\\t3728.066210426615\\t5671.287542961588\\t6909.670405346155\\t6097.3721833258\\t5724.497421708402\\t\\n2748.8735026310437\\t234.4234088631353\\t965.1074721728725\\t14.009687534221614\\t5477.0317427154105\\t5581.599874564217\\t27.378938131956936\\t5120.80258263244\\t1276.98824185509\\t7295.08507063598\\t\\n378.9252473851014\\t7143.784692548516\\t1528.4295206709564\\t4743.4934185904895\\t7259.508859215206\\t4652.042525903649\\t5569.7123527327185\\t3410.701352452042\\t2601.0392806956215\\t2658.2722014524443\\t\\n2446.736104038555\\t5008.7412825783385\\t7051.945277876591\\t3931.6994301936884\\t645.5551634649989\\t2119.4293319645153\\t6183.466999866734\\t4735.436898020986\\t1481.444783863271\\t4571.551350940188\\t\\n4547.1633864299365\\t6224.991585170142\\t3784.439518810181\\t4875.117209228866\\t2494.3504452743205\\t6048.531681185387\\t1300.437884858148\\t3591.796845814332\\t5436.32331042278\\t6798.362781791156\\t\\n4870.86750620941\\t118.10920604887352\\t5734.618675392124\\t1907.5387250746346\\t2589.5165917653085\\t1706.2899964364444\\t3447.956560802144\\t2608.0845320866597\\t4086.5024028073467\\t1589.4226564084704\\t\\n6061.8069066693615\\t5817.911233758988\\t883.2945036128281\\t6084.072215712315\\t6605.437068904364\\t4660.403345534081\\t2022.0306552349862\\t1380.0343092972435\\t4785.532858852624\\t5519.249046437473\\t\\n2398.118645295442\\t2442.118518570976\\t7233.785299654164\\t2823.001216102025\\t5328.390446225112\\t3669.0634632057736\\t4297.561369950651\\t5236.502703376341\\t657.9471689689198\\t1641.5846912076279\\t\\n5877.336460116543\\t6831.049470770091\\t4474.954203337884\\t1621.4611797108726\\t4294.732361177401\\t5784.966062505208\\t2094.724287405297\\t5016.480905792938\\t1722.2522452452583\\t1255.1460679234171\\t\\n3016.3386404114653\\t7306.043171790922\\t634.8857662473663\\t6302.5107075126325\\t6240.219820852844\\t5694.311341789659\\t7395.788830554756\\t5933.494981227743\\t5270.325763144366\\t2850.5137208122687\\t\\n2541.1683058655103\\t6125.983150118823\\t1867.0087017784447\\t5528.6832068033955\\t6384.973322319937\\t3853.2617818743747\\t1397.284242093117\\t2251.6064083253323\\t4877.276307164995\\t5271.985801161844\\t\\n3735.276897297092\\t2896.179593223531\\t7036.730548078764\\t4989.107318205443\\t2239.9692418858194\\t3370.8937801651873\\t6075.56962967973\\t1310.5169881613015\\t4527.690707436404\\t1600.3936013599355\\t\\n6126.022951135774\\t6963.972562197964\\t7319.8901767227435\\t1372.5752148329748\\t1059.26716686141\\t2796.870513863169\\t2947.5393625971374\\t3494.986748942597\\t4419.756758514915\\t4968.008733220193\\t\\n7456.450036025649\\t1544.4019917531537\\t3810.9019204424976\\t4242.247680314823\\t4074.3627672293705\\t6716.565442621138\\t430.35101043801694\\t634.4154651995973\\t2027.1211368944926\\t7381.519250777446\\t\\n5649.994824907998\\t3546.5725074621655\\t6055.303274621525\\t489.13636245914813\\t5915.5167664528735\\t380.2467864486482\\t780.7499878959535\\t2015.8486033051088\\t3190.8573053037394\\t4616.518042140551\\t\\n350.1458455696689\\t691.8914935714564\\t1680.0597046353037\\t3384.845600550404\\t570.2314066697757\\t5251.775247345768\\t6674.715327630576\\t6049.73130677024\\t1733.8373577016926\\t2991.4235329084327\\t\\n5687.432917154817\\t1801.3207289706509\\t5853.441784783948\\t612.9686825989643\\t2064.04544459385\\t5047.385741863992\\t452.03749970048557\\t5729.628930014006\\t4041.948952774765\\t5610.444562754062\\t\\n5569.145772655503\\t3721.9030749198337\\t853.4220116839884\\t4481.92829449237\\t2581.324350522125\\t4419.743492642704\\t3382.8160216916067\\t5651.921231107298\\t261.5580055258108\\t1747.6588378027323\\t\\n3235.2671021851133\\t2573.217149112794\\t6784.839315169054\\t4619.992911145126\\t6037.651313094666\\t2984.976520509582\\t5920.84080459074\\t5790.643763669509\\t1638.806961991277\\t6317.109848370267\\t\\n6323.192248352767\\t3933.4287798001446\\t5810.166989336126\\t743.7719133836418\\t3116.061808733601\\t4886.506054893304\\t331.0601004234631\\t293.7770247616465\\t6109.3227924063685\\t2971.0745652236474\\t\\n251.51982090265116\\t4845.5775308027305\\t4404.984183121462\\t7548.140014890893\\t4978.993724327989\\t2684.791689646576\\t5826.0374827024525\\t1803.8639615783181\\t1674.6689419747179\\t6046.101452009438\\t\\n3564.519227472021\\t3878.161334441676\\t1653.849801536979\\t6288.454144253698\\t1527.2972616383738\\t2016.0609913258927\\t4800.152093450808\\t6300.5799065537885\\t4507.410911910489\\t5407.091143560504\\t\\n2640.1893517454478\\t6016.1644792717\\t4366.6689390923075\\t5610.536520760912\\t1944.8139064484292\\t1049.4132504119254\\t6591.0966489691955\\t2888.8609382119225\\t6362.002343889078\\t856.0478458701839\\t\\n3695.2389289607468\\t2247.941728791958\\t1512.4909118309924\\t791.1478109539925\\t3488.2728976097005\\t7008.900934942626\\t3322.432946068586\\t6716.677174844623\\t6071.7645038118535\\t2077.195226263025\\t\\n3617.9738970815183\\t3761.034507361267\\t4126.819954611356\\t6242.673356417637\\t5117.630426936571\\t2470.771654489426\\t6136.024059653773\\t5249.319323449213\\t1957.577419430817\\t3699.6427415698304\\t\\n4585.441712278429\\t1355.6410870347231\\t5050.444748582168\\t3179.2990758478327\\t1307.2505760136657\\t6004.899075089859\\t4689.789377277451\\t3403.8282816135197\\t3056.575201220597\\t2261.797824696674\\t\\n7377.61517899418\\t6038.517860650684\\t652.08393099142\\t2355.929899017702\\t1098.7579376896604\\t3202.200869656347\\t110.45394118298795\\t406.53963134519677\\t2896.7087276512725\\t3464.652932997448\\t\\n6442.442656248248\\t2179.1781994936864\\t3940.330078335703\\t870.379678133056\\t1596.58992815087\\t5278.71660155452\\t5559.135766824673\\t2615.7694664580276\\t4253.677451836905\\t6751.266576683187\\t\\n6004.758779300696\\t6153.405721797349\\t953.3211062506465\\t7509.991743288913\\t7265.521308236988\\t7355.133505072146\\t7514.9349784478845\\t3255.0278350955264\\t7101.434684942208\\t3836.22605748566\\t\\n2989.8383395945307\\t4837.626709025513\\t221.74113564913958\\t1443.830811086385\\t5627.006282008631\\t4915.536887913426\\t3327.955119264252\\t2361.4737632000156\\t6886.424624423452\\t5282.960298843061\\t\\n5086.984899263909\\t5377.711264197227\\t7086.763793860502\\t4160.1393413636915\\t2711.8275244670294\\t1771.0395318385858\\t4114.929149770754\\t2305.6202884110307\\t2814.6438218054946\\t6546.696904702685\\t\\n3291.940048534567\\t6008.286030639013\\t3130.8728365801753\\t4072.3711807358773\\t6509.498747083397\\t3704.7389068065922\\t6630.446013373615\\t1690.0601180596072\\t3383.4948343889705\\t2758.7214336650572\\t\\n5050.701728732459\\t4136.5593301827175\\t1360.3316519566406\\t5860.070311780642\\t2138.912914645576\\t2472.160488478937\\t5229.020448053108\\t6493.077434447557\\t7603.322214265329\\t6955.200545469475\\t\\n4945.3971496815775\\t5694.642681779054\\t2202.5998982115425\\t2570.919374147559\\t1047.6853739904182\\t4049.6813330664345\\t6576.283905732585\\t1746.2851946788423\\t1378.2599800974504\\t3480.2795940557753\\t\\n2246.6248757062976\\t3102.382952275506\\t1704.61940295348\\t5693.315849258867\\t847.1868633324301\\t5274.153637941203\\t4152.438933262548\\t2478.0624928497673\\t4005.838276253132\\t5971.908870167138\\t\\n3367.273759794517\\t243.81056962694709\\t1339.6764243497034\\t1528.5118239013375\\t4118.391289223823\\t1221.1094771877076\\t7632.3010313871955\\t5148.258525980902\\t7613.804670182616\\t473.05735297233275\\t\\n5713.3744425011255\\t3932.1836953668167\\t2622.2396784447337\\t5537.266696018246\\t5207.162477732321\\t6838.480960097098\\t5934.018131089845\\t4080.2095117240237\\t5440.475046728477\\t1030.2201991455788\\t\\n3898.720741060077\\t2273.561511791783\\t6711.961904369333\\t2122.2192185979907\\t3147.6164086707777\\t5143.695895453244\\t2259.3703173599674\\t4891.990670621612\\t2715.0433294837408\\t1573.2190907686154\\t\\n1292.5055147140313\\t835.8946338057738\\t6513.149555757405\\t1939.91260311235\\t525.6482211909278\\t2435.6354919075397\\t6731.855810253291\\t1402.3875929511005\\t2048.6672997604\\t1174.384822418531\\t\\n4633.78882245055\\t5106.96851618237\\t1898.6044851649376\\t4606.99636043761\\t932.7965077545969\\t6835.011230607756\\t1452.9078224235643\\t2444.724414185026\\t2252.25065524017\\t5822.671306182719\\t\\n6494.299647347471\\t3224.444361448366\\t2894.0222882371213\\t6441.9777051134315\\t4427.7367417523155\\t4650.043072737506\\t7105.4596243211245\\t7403.8172947242165\\t7124.184208925783\\t743.1763792629511\\t\\n5598.932132485467\\t3798.2562775342058\\t378.18154811169876\\t5489.317845559703\\t6140.019791840473\\t6646.151444406975\\t1755.3753219940347\\t2918.319277653004\\t3675.8032864631195\\t3648.6321936051\\t\\n4330.432455369141\\t1837.4626672026125\\t6566.175117607664\\t2601.1193226497257\\t2758.584872573363\\t1608.0570046748985\\t6282.640901158956\\t6786.040580814583\\t6450.362552258623\\t5436.972320141619\\t\\n904.8004144144943\\t2977.6588145319847\\t5297.18550160564\\t762.4316442191097\\t3294.749378784738\\t7299.4957411144715\\t6953.821179501263\\t6161.7995050208665\\t3576.6537335211447\\t1120.499695596565\\t\\n3452.5081543124757\\t3427.6614055223044\\t2522.566939859709\\t3815.278031865639\\t4961.7949757301585\\t3929.0005718205794\\t5680.690832140563\\t3515.0547644239596\\t2829.3693329700563\\t1869.6769675746116\\t\\n3052.6029250830993\\t708.1888258340107\\t3133.505290918188\\t4021.00182013608\\t6735.649369912645\\t7157.4091467073595\\t1660.8486646650201\\t2107.673794772219\\t1881.0926176805729\\t217.06574266240005\\t\\n4667.634850745151\\t2285.871804624367\\t4263.390871000548\\t2805.1841559110285\\t6352.0433292160915\\t7129.192117551813\\t4940.169576181203\\t2591.5509045863687\\t4553.225552178164\\t2939.575477347458\\t\\n3918.793392115911\\t3581.7514467428614\\t4515.406979060746\\t2459.7597113190272\\t7513.379098641497\\t4757.915476709097\\t4671.525083657558\\t6951.922460559213\\t1599.0284992020054\\t1858.5753790649908\\t\\n5638.288367416773\\t3932.3555876182886\\t834.5070779547733\\t761.4684611603293\\t3037.3878732461512\\t2935.9154127956863\\t571.7159532131362\\t202.3720963228025\\t389.8867695300032\\t3552.938079601027\\t\\n3624.7915038848637\\t2884.1375418030007\\t3505.7166731470907\\t1630.9934661707314\\t5447.6891935140875\\t2376.1370326084084\\t1669.2137746617418\\t4975.984292730782\\t7509.296792404371\\t2881.444688213331\\t\\n1714.6107364161458\\t7542.886666725767\\t3081.356815755634\\t2522.1306485203786\\t6870.219408121786\\t2969.811809430835\\t3557.9669963117426\\t2278.5486622298413\\t5421.530814506623\\t6842.065128701304\\t\\n50.7871503110486\\t2855.9716421168687\\t2325.8841708473924\\t7173.243625561129\\t4476.550660744527\\t3579.994211062449\\t4207.134595933871\\t5651.283142703585\\t6110.898399105987\\t4432.90459763467\\t\\n1497.7473415411962\\t7762.2494811499955\\t5923.573784853781\\t379.65469262264736\\t6535.544206310214\\t1867.0122307566232\\t2622.946073846614\\t6566.328174543611\\t5905.21102504133\\t5171.993475445478\\t\\n3305.8304604275745\\t4297.385526833193\\t1514.1741195844459\\t1010.554674382215\\t1151.4684808454244\\t1991.7385242969106\\t3860.748033258136\\t658.1713309694819\\t5660.20010391419\\t7237.17408487074\\t\\n3103.836861726548\\t3416.322464247833\\t7467.997129563777\\t659.3400480706302\\t7749.80167685996\\t502.0218468570936\\t7244.159673265684\\t3543.171645794386\\t1738.97716543933\\t4212.323545159415\\t\\n6661.2222451277385\\t7183.3003108506855\\t7440.752741125681\\t4508.867791611363\\t5164.05548167077\\t838.0003242733137\\t1190.1298899262208\\t7194.033967820558\\t7036.056718044037\\t130.98614192131024\\t\\n3627.534140474018\\t5477.804179922452\\t2206.4219881565778\\t825.4742481483585\\t7947.489797349203\\t324.60877460342505\\t3227.8787924563717\\t2187.837880506053\\t4795.225282598624\\t4031.478547260039\\t\\n5044.899420478977\\t6994.167890367203\\t739.7410099655182\\t7028.070064606928\\t2889.2856303399203\\t3230.1836119693126\\t1000.2065081128227\\t1202.9570094544908\\t191.6617953227101\\t1880.4642290275485\\t\\n3308.975148145854\\t7441.7430139255985\\t142.06532943729925\\t3083.5254613759616\\t2281.3594560927454\\t2267.0338367613813\\t3503.6752504270853\\t3415.0640001424385\\t3745.74911611544\\t1958.3579695928154\\t\\n4965.708804903614\\t4053.151568978748\\t157.51128588221576\\t1680.6844944763836\\t7436.528181672025\\t5565.374148150927\\t5280.3825994935005\\t3484.094903555044\\t1983.3649313592027\\t6906.89741440447\\t\\n174.0257727663203\\t3748.4069671962316\\t6740.118733544215\\t4833.126859502517\\t2358.4834505671975\\t6409.477045883876\\t3753.451968899863\\t5167.503176915617\\t2935.2934173353356\\t4477.02473946408\\t\\n3260.6160617314404\\t1978.674381580155\\t7915.684238344831\\t3197.4689661797474\\t7128.7502314534295\\t1566.8665880991007\\t1900.9202127406138\\t4917.673242230817\\t7557.203450381879\\t899.8127115947398\\t\\n4787.209701532767\\t5069.764181266269\\t6351.3662139839225\\t102.10013136613406\\t341.88730918076516\\t4014.8858057445386\\t6686.351966566891\\t4685.610128729386\\t842.1878739578927\\t5639.098128089285\\t\\n1283.5877378451996\\t7078.5356688079955\\t35.94283059695913\\t6178.078462679303\\t5442.716531711814\\t6431.922557550901\\t811.9017703253955\\t6123.707343429917\\t709.1185768641383\\t7197.297860197053\\t\\n4518.058371541297\\t6838.252740398081\\t377.54643768026364\\t7510.0597187941585\\t7971.750276265543\\t7727.89597962503\\t5070.531082648198\\t3288.530814630792\\t6792.461630665252\\t6144.269332814481\\t\\n6656.693853095056\\t6086.934478042114\\t158.43015263254432\\t7863.43237986892\\t564.6524840017288\\t4461.518816835457\\t2841.9251872439595\\t2432.009210683086\\t3594.6507973298076\\t5294.090256505478\\t\\n1174.8473017498686\\t7928.512932025391\\t6910.14867549459\\t4366.328892907853\\t3537.8857719033554\\t2610.8853291722285\\t7583.727463156923\\t5957.772977502997\\t2164.379389020357\\t5517.537989943547\\t\\n1583.9797234285393\\t2063.5172434211804\\t1686.9678802974247\\t1811.530906355494\\t5347.732716904078\\t129.30398661796144\\t2118.311696648624\\t3914.8275913151647\\t4915.331210205444\\t4258.427275980091\\t\\n3007.532334869933\\t6616.882769025443\\t2297.9150333618604\\t5181.475706553655\\t6754.274302310889\\t7119.697936799413\\t7069.363122989818\\t5170.56894330585\\t7737.6611648128755\\t7070.475430837892\\t\\n2492.2292353460725\\t506.10912565581407\\t5113.781688512085\\t6849.498293532347\\t1655.5175543307103\\t6019.922883557361\\t4070.8258531045794\\t7851.673514258802\\t101.09513235262672\\t3917.284018604542\\t\\n943.4126807634743\\t6909.216367575741\\t4641.4874601652\\t4572.553630299202\\t2887.4877348162727\\t3211.576733787585\\t6268.753467319461\\t7739.753705615907\\t4892.884717948771\\t4677.276165433978\\t\\n2978.353535572995\\t1914.4972087792526\\t5127.737448703337\\t5612.65522998466\\t7376.60778779828\\t1745.3395302726744\\t5418.833362203247\\t2037.501707911135\\t5571.142439577704\\t3420.09486102033\\t\\n45.981142113145125\\t690.0881856076159\\t335.1036924722667\\t4879.192782286961\\t6096.958081954594\\t1454.950578793607\\t480.14997937444247\\t780.4994791389087\\t4603.3144629219505\\t2061.8798825817566\\t\\n2461.0706798436872\\t2910.3354605027785\\t3806.991102345623\\t7937.110134850996\\t3384.745031422379\\t4480.2386474960695\\t3481.374614950264\\t4604.7355836043425\\t210.8028448703188\\t7757.750710446184\\t\\n2737.9636449575023\\t6080.058266700766\\t6605.457772234555\\t7568.261437304166\\t3900.655124049544\\t7363.4576405391335\\t1031.7615649955605\\t5470.309384096511\\t1356.8699007788575\\t7687.021631845419\\t\\n6178.880463071312\\t2018.8155789467323\\t5505.850416305847\\t7947.673649065888\\t6819.374436251553\\t6607.47910984341\\t7899.10805697396\\t349.3943751040598\\t4958.963845005915\\t2426.963663336505\\t\\n1182.5164049486873\\t446.52875777772596\\t280.72072181459754\\t2815.2623030057102\\t1658.6641048979254\\t1797.9030358176678\\t3369.5886435587518\\t3034.639595952754\\t6605.905334066464\\t5037.7984835337975\\t\\n7210.347299402409\\t6467.336811231318\\t7827.585126242109\\t4738.3762364915665\\t1984.8817997728272\\t146.04376859209748\\t5847.839689256151\\t2615.355473769135\\t2293.519842462573\\t5514.505085844308\\t\\n8046.269687742942\\t5396.555933432002\\t5641.900607588214\\t7797.333971301543\\t52.21319184076548\\t1801.890578815536\\t6140.673716541385\\t5538.473925373801\\t1493.5408467933746\\t5603.015168724631\\t\\n3841.859352698796\\t2849.34308124063\\t4151.053670159259\\t1063.0525335376508\\t2850.0488569515237\\t7699.237957696875\\t5991.812033376345\\t5872.925627029777\\t2949.116366126653\\t3484.1725608562233\\t\\n1995.9550798158814\\t4407.223901831769\\t3075.1668925311874\\t1390.2926577123344\\t184.81265696466417\\t5936.568450692957\\t4325.194656740494\\t6295.641980508329\\t5888.824966551669\\t5806.9929529488845\\t\\n8173.721028841512\\t6699.198846238366\\t8127.998771396516\\t951.3802112921423\\t7006.315307426992\\t5418.696701301991\\t7413.633552789768\\t4079.3409531836796\\t2122.0335922607496\\t6750.903101423618\\t\\n6983.471593839812\\t1002.7326027510105\\t8069.047885371786\\t2517.9313546434078\\t6103.869582597551\\t6663.475909716754\\t4362.005639632233\\t142.39024313871874\\t533.9469561007695\\t269.1008869346971\\t\\n4688.649752826406\\t989.8203937003099\\t2742.6260647385384\\t4365.378978930841\\t6533.947557952762\\t4491.301719334282\\t3200.7539523351415\\t3639.911335944025\\t6615.570204804976\\t4587.009406312\\t\\n2554.4337512285542\\t6735.150717145851\\t8112.04324189803\\t3094.979153008896\\t5422.967924899734\\t428.96534165032824\\t6354.88789892264\\t4499.963011051415\\t3228.2806653610714\\t176.18656422117937\\t\\n3173.1758462281664\\t8053.7814834759965\\t5446.298486554389\\t1089.8009766907962\\t195.58708836602966\\t1492.0890005999754\\t3725.1994863113114\\t1966.7299978334954\\t5933.1123856833465\\t1975.652902887756\\t\\n585.3153601918052\\t6587.26451680706\\t5488.646514698412\\t7599.4796065493665\\t4520.328076470993\\t3596.7293118457474\\t360.82577639603136\\t6682.9703043312975\\t1016.1998991679478\\t506.13993196892426\\t\\n1540.5328612590722\\t5643.661182920545\\t1258.220768236235\\t1179.8866097829484\\t6001.319618828631\\t4584.51293411798\\t6735.201020695325\\t3396.4323686127454\\t3169.8861443585083\\t7269.04152743201\\t\\n3748.200829699804\\t1029.0891634946956\\t5716.383129292646\\t1893.0559562280991\\t3066.3090340406043\\t2576.0977182636534\\t3352.1004981045285\\t3246.4234756614646\\t4251.361225101699\\t6543.373775506002\\t\\n1259.763127591524\\t5261.371690676888\\t4618.560600761213\\t6492.99609231417\\t6003.9712176038975\\t1330.048301938881\\t8088.17329902894\\t1000.8404960844695\\t6019.398625436242\\t3297.7292285994963\\t\\n4995.709982053579\\t770.4334138870254\\t5011.549486795818\\t6928.529230927177\\t5954.714483593791\\t2237.8350955521714\\t1203.2393288097003\\t7282.810445149033\\t5835.926211274362\\t6994.29628355521\\t\\n561.4011410854073\\t7742.830559382583\\t1615.8407563980745\\t8249.7137614546\\t5419.693322708546\\t5442.894283293711\\t4225.817960428634\\t2908.7795040693272\\t5236.022471673585\\t2969.088424004767\\t\\n1989.3485005266534\\t7884.20894760154\\t637.1989663693113\\t3582.841961511186\\t6465.421977814698\\t2798.72716996198\\t5853.198828479216\\t7010.834823309228\\t7972.588297088291\\t3217.395505088973\\t\\n1295.3011660591133\\t865.3808555282166\\t1740.656010636542\\t1836.0422588616152\\t1659.4085999588299\\t2957.944733348102\\t480.5716736568394\\t3677.82701385089\\t2285.065721229779\\t160.2132283516817\\t\\n3668.7992411925557\\t5870.47438969857\\t4877.4544051847315\\t8196.941440369192\\t1315.2060488314805\\t7125.8899179343625\\t79.06597550209383\\t5288.176040458525\\t2705.0804428408223\\t6683.205549615459\\t\\n7069.492724072832\\t4763.472357202836\\t2023.867727712511\\t4607.520987437872\\t8223.257716644723\\t2087.857661207224\\t3790.8529273203853\\t6746.478686335917\\t3488.8118258593695\\t1622.1585640134144\\t\\n5854.344899846601\\t6465.407580848309\\t5668.986435479356\\t5144.258580701786\\t668.796787111431\\t7104.090018848795\\t421.10454973150314\\t4879.635498504249\\t771.7155731194279\\t7152.848982082455\\t\\n3835.2205441294586\\t1110.803893342824\\t7402.5509610144845\\t5457.368098959748\\t3836.4144738209216\\t6001.088955244325\\t2958.6645643695792\\t2710.272832863025\\t1589.4510075823725\\t2057.318560177937\\t\\n3202.6089997141603\\t3477.1181425262757\\t2928.126192539316\\t2470.2033598410503\\t4850.322235033646\\t8226.32862664519\\t3812.133301670144\\t4553.770476305013\\t5600.060827795468\\t5580.757949064542\\t\\n5326.364950262817\\t2479.3145440308635\\t6577.8373570605945\\t2583.597383908478\\t4102.149313812491\\t1515.8539693763882\\t3632.8292940653732\\t7935.941853983277\\t4234.272855981036\\t7344.705961498451\\t\\n3985.295478647315\\t3944.8169941470765\\t247.79146380583353\\t6926.322019232277\\t8210.732126227165\\t7530.579449428066\\t5966.24095623234\\t7679.332535115123\\t2470.4110903250125\\t2352.6860346295057\\t\\n488.13200606265974\\t5673.423513715133\\t8303.804073581516\\t5447.583210702367\\t5591.287302726111\\t3567.8079778252745\\t4150.066682802565\\t459.17209625520826\\t5686.139043292013\\t5976.132711377548\\t\\n1257.3566513974401\\t7099.33863330404\\t5016.8281610100385\\t1021.404864432954\\t4894.506609928271\\t6589.971302772114\\t4567.538019046819\\t4980.243606689018\\t434.28762116984745\\t1677.493478073387\\t\\n6651.710963683053\\t3280.5175069363486\\t1021.0824118134306\\t63.384978368439\\t792.2361748690577\\t3256.5360500198017\\t7272.348817759993\\t7726.020575640622\\t2224.5494635029836\\t3392.151067750559\\t\\n1033.9992841203186\\t8096.71730994386\\t2830.808440785079\\t8433.856806891316\\t1774.8073931377226\\t3503.8733849295973\\t1383.112255610186\\t1058.876779649552\\t1735.806878953798\\t130.83165353809184\\t\\n6064.689247423185\\t4341.834652034496\\t2314.7283280930747\\t410.69477193086254\\t3274.0246790680853\\t4993.726604926719\\t8192.191313647427\\t3107.4894527861343\\t5228.821651072503\\t5924.713183894049\\t\\n3282.1155474579596\\t3725.4502804333015\\t3640.1611166668317\\t7039.462153287335\\t906.2879019968168\\t1879.097025936519\\t8274.877214163027\\t5600.390589425783\\t7861.866016322789\\t1307.4324202404707\\t\\n7087.028815166069\\t2212.311452416664\\t6056.491835300432\\t3264.5652986124246\\t7489.952487474516\\t1415.6011271390148\\t6373.496628931475\\t6215.156357332046\\t342.16911037327657\\t4552.759967318841\\t\\n3962.0500909614116\\t2764.2949814408244\\t2477.487906884693\\t7101.646218138894\\t3158.947168189659\\t1057.3673415750006\\t5970.756193052017\\t3597.1904486481694\\t299.4120710441485\\t5750.092697502397\\t\\n4553.838315150182\\t242.7049640310882\\t295.5627221764519\\t7085.021308467358\\t4919.42088103385\\t3587.8409465239474\\t6329.703422790946\\t4551.795347179566\\t7022.167021910524\\t7820.491084473043\\t\\n599.8720851584587\\t8276.234842185218\\t7654.5288027408105\\t1899.0305787678967\\t2629.028533236436\\t451.82785221268205\\t958.2414007158101\\t1268.6102778208324\\t1764.6416148621424\\t4790.976290033847\\t\\n2682.198463388484\\t6748.192191425428\\t1636.7998785702773\\t5611.174427634634\\t1720.7198692183317\\t4130.543125816275\\t2734.4380828916246\\t2985.971129523652\\t6585.454484647085\\t8114.126560891002\\t\\n4234.648164542261\\t8378.402129768941\\t1302.4373248683114\\t513.4055658524384\\t4032.6718064920938\\t1215.0313602503652\\t7625.694285553076\\t6376.859365509477\\t2555.716539927277\\t3470.6626534568263\\t\\n1284.7325707269215\\t3244.1375652504544\\t5067.026137135167\\t822.3764164599288\\t6457.418128892171\\t3330.976649805597\\t213.75002981182055\\t3425.4683244838166\\t6715.364438496733\\t1768.2444585176859\\t\\n6728.456721648508\\t6398.846639861509\\t4475.006330602213\\t7538.90033791043\\t6925.293773985894\\t1318.310090734075\\t1823.4723964382729\\t779.5530371611646\\t3757.3773614417455\\t1952.5189553923187\\t\\n2483.543861872604\\t5504.523207427342\\t1948.8858469356428\\t1498.383466990906\\t6614.981418414385\\t4763.75189832569\\t7465.675675142983\\t7172.682334651847\\t5739.547695226508\\t7013.163629270359\\t\\n5256.651445484505\\t6587.3270797727955\\t166.9845614356004\\t5075.993428343368\\t5383.492168109488\\t8068.942517734304\\t2481.3312945860675\\t1498.414609188705\\t7019.004267452878\\t6756.486671681788\\t\\n7371.985165136105\\t5667.551594083259\\t4251.963470713182\\t4669.577052815721\\t7852.69218170064\\t2024.7032766310767\\t6450.125803334049\\t2411.3688860089133\\t4540.604075006813\\t8462.400467224657\\t\\n8492.15880325012\\t7015.979086822024\\t3395.4662753546318\\t3968.3142450383616\\t7452.71803738252\\t1577.1847740027667\\t5398.030865602113\\t5496.238438230861\\t2288.1116692481996\\t5263.519107921982\\t\\n4141.625637557873\\t3853.270066209421\\t4761.037907479086\\t6697.88419645588\\t3296.8331343688233\\t3915.77230768792\\t2190.4087636956783\\t4492.002111069313\\t7568.924991700544\\t7118.99197319666\\t\\n3625.188476178761\\t4656.13534790047\\t7052.984337407188\\t3145.1397209261695\\t3681.1365837827957\\t83.65066325181739\\t3837.46008296967\\t3666.52257973091\\t7469.472361726117\\t2661.986971622351\\t\\n718.4991913555034\\t3320.905859766369\\t8047.84501827439\\t7009.787785335909\\t7371.010554411902\\t7802.325439429938\\t3044.314694456661\\t1494.8553660219022\\t6386.93799166842\\t6823.609554179595\\t\\n4229.721623115708\\t4592.554062036056\\t6484.12515411436\\t2491.3491176670727\\t7338.468061827257\\t5815.2334322449915\\t6192.855023524398\\t8558.784649748584\\t582.8229118713615\\t7952.293217856438\\t\\n2512.6462438893977\\t6149.169824125884\\t7119.601430321683\\t5594.601427761709\\t5085.587491795857\\t5097.161230146934\\t7162.2216546021\\t4614.435259727513\\t5484.02991600816\\t2141.89891346656\\t\\n5377.59141321939\\t2833.8381305734397\\t4428.7922043759545\\t6551.442362283132\\t3494.8266386736655\\t314.86909712964416\\t2885.2172959982327\\t8024.514189385146\\t954.4475219328316\\t2796.6322789716432\\t\\n1768.475034170945\\t207.02420963093007\\t6612.958862801069\\t5161.150137541475\\t5108.543369192115\\t5113.251339148628\\t2377.6156393700967\\t2648.499218602986\\t8434.099323446477\\t4824.860966046283\\t\\n5129.863985017502\\t6927.385970003589\\t7715.70221113918\\t6050.230752181771\\t2175.8599853419996\\t7854.521752628542\\t4927.009997447189\\t2922.3211394125137\\t3715.5702593338806\\t7342.16165238024\\t\\n7830.356350539161\\t5296.962387783604\\t3083.1574980122177\\t979.5439400035792\\t1828.7646498484505\\t6068.498158566965\\t564.310064836482\\t4407.922084550354\\t666.3569521651583\\t5530.703179452937\\t\\n5201.819983114594\\t3784.250923075561\\t2057.1024004247734\\t6049.307876761901\\t7880.913473931293\\t1936.7065696965094\\t3743.1198544109798\\t2487.4556841169474\\t2002.279195067476\\t2292.354475318524\\t\\n5687.8672770149215\\t2836.908675654524\\t434.956902060891\\t7110.178746096773\\t1165.7609937887983\\t5283.532511164651\\t5173.698676482727\\t5017.3575714758435\\t8098.409675455985\\t4420.738836368913\\t\\n2262.8389643207615\\t1047.0126763354917\\t1178.519696409814\\t3562.474979194087\\t919.075182656673\\t6118.885691324447\\t2549.7365510646755\\t5888.1654977554\\t2651.1218091473265\\t6807.350792141131\\t\\n6985.157626882923\\t4808.911551628575\\t4485.076110944686\\t6765.8342400091415\\t521.6906397989296\\t4266.864504549838\\t6358.847547712459\\t6117.070837947279\\t2446.410961496683\\t5094.261820490775\\t\\n8600.884950103158\\t3665.9552030474856\\t7749.962875311271\\t7485.832354116224\\t7966.764625165958\\t7771.459492684318\\t1097.473086584725\\t5931.399918564291\\t2812.6878657936018\\t5391.809965164905\\t\\n943.2042787885629\\t6652.765883882713\\t6872.635450562255\\t1005.1176141894003\\t2241.8795596046807\\t2460.463967126727\\t6037.972920081829\\t574.25897259087\\t5044.947254371663\\t3755.7934267318615\\t\\n964.367378395467\\t866.9828459713074\\t5521.347047048951\\t2914.8573395158446\\t7277.187288574541\\t4367.664512454522\\t3094.034501933394\\t6539.404322696927\\t3671.4242272943334\\t3508.6729745453154\\t\\n2519.2336745019306\\t403.8346059845536\\t2408.9978272826565\\t4650.098048806932\\t32.40634177186486\\t4291.073984524808\\t1054.0925173102717\\t3052.6156397977115\\t8502.580898093918\\t4786.602671005555\\t\\n328.9461199739747\\t7041.484041471968\\t3074.2155480320966\\t5439.445301641882\\t1534.2690709174005\\t5919.600533970187\\t5722.627254697197\\t8471.993988673325\\t3492.6372799429587\\t1816.7901360194558\\t\\n7452.834143979728\\t5685.51637928428\\t1277.9885343139385\\t7771.917130908667\\t6546.457998291916\\t8498.398990657148\\t4508.888866022467\\t4013.1108310690593\\t6423.894465970527\\t1956.7074260154632\\t\\n2213.625877616393\\t4758.390789149221\\t1083.16062549167\\t1007.08193770726\\t96.30302704877327\\t7910.479421645172\\t5694.116088512767\\t7977.246235363827\\t6973.102991676819\\t5532.251184531442\\t\\n3404.687708802129\\t7777.580415145248\\t4695.427167886505\\t2668.0081634533813\\t2964.79134168964\\t1624.9478420749394\\t7670.3167045052105\\t1927.9386602850445\\t7067.014398544864\\t8650.104005906682\\t\\n3344.448412144718\\t2941.9483059729655\\t2630.5139564908754\\t3099.1265169620947\\t6162.923927925959\\t3139.66352683728\\t875.1327373704889\\t8223.00219848022\\t3990.136384923192\\t3284.9925350017447\\t\\n6909.791497058683\\t2787.9586828557003\\t5881.248044825479\\t4093.074166160017\\t1512.5921081516908\\t3991.644606141324\\t8256.33735400274\\t5300.1655585332455\\t3129.481515332142\\t4676.286048813448\\t\\n1648.845225255901\\t2203.1617386495896\\t4244.859970324017\\t8758.520859813885\\t7425.989459306485\\t742.354069826409\\t3716.3347311991142\\t3625.8969862293793\\t2259.296368301088\\t3421.6766642978855\\t\\n1792.2882817130908\\t6013.18596248043\\t8129.1381056339815\\t2994.1358877741704\\t77.13935008479415\\t5513.052142408988\\t7002.2081716984285\\t3432.374466387007\\t6631.645010582043\\t6837.47001382181\\t\\n3527.996860651615\\t2934.7656708005647\\t3516.6210181099714\\t7327.870826449766\\t7404.719399941022\\t7608.775547251052\\t5860.799616945211\\t6059.940029167164\\t2274.1261049573095\\t4723.775251210901\\t\\n372.1384228317856\\t3672.303879857098\\t2505.620752097716\\t668.9816881672039\\t1762.5881540436035\\t7193.137356705337\\t5280.962990026677\\t452.36383537179483\\t428.65837334287954\\t5613.745330533413\\t\\n1087.7827357998551\\t2925.4247927402\\t1864.307854107262\\t1748.7507272475289\\t1780.519171701161\\t2966.868950487195\\t3654.102562160596\\t2419.7665536904688\\t1701.427087967295\\t5679.408989541953\\t\\n160.45009788372326\\t3471.480875565917\\t7070.629813025612\\t5929.990942370032\\t3741.8136431968155\\t4988.607929198919\\t4384.453171958322\\t5161.709410867519\\t3596.9816140552625\\t5520.997534844646\\t\\n1040.9670889999056\\t2978.791247535085\\t6904.89188203406\\t552.9008147839394\\t2313.7430341116947\\t6076.088257058145\\t2420.5826369277247\\t8296.483071987741\\t5179.752170460861\\t2141.5273886821406\\t\\n7112.919655859919\\t7746.495344801415\\t1230.4969815756847\\t5619.160001255225\\t5429.191406484055\\t3879.96154609139\\t3648.628530569981\\t2340.7557037649767\\t6601.782198603214\\t5136.023077848736\\t\\n5839.566265519251\\t3175.9926521642005\\t8786.02979965197\\t829.2417430126798\\t2206.0443919916174\\t336.38404453586577\\t7297.910456807557\\t7553.494454039923\\t1524.8896362706325\\t1994.8796129198217\\t\\n5805.967955576869\\t6096.913951627269\\t5016.608317992322\\t6317.645316725884\\t8881.594008324439\\t3599.38540049427\\t2324.6792794309895\\t8544.316447278852\\t7610.211683583824\\t1851.6668808723355\\t\\n2659.3005597599795\\t5709.480996602601\\t836.3496382853681\\t2671.790968035537\\t7903.856298908298\\t2209.850459922481\\t3437.5451447472315\\t4402.565512685187\\t4683.502200471551\\t3027.6692963178443\\t\\n2888.502535776192\\t7042.381334925379\\t5019.042535887379\\t3363.134437781898\\t5325.015114772514\\t7247.069566365368\\t4322.03761196417\\t6837.362619268049\\t7208.104919076697\\t1675.4653436220797\\t\\n4392.747767939852\\t42.46596121832395\\t4269.5119159859605\\t4740.530634134897\\t7695.355383476516\\t7304.789925312917\\t7141.632637207003\\t45.85239431509328\\t4033.7114855311283\\t1774.1485717947653\\t\\n4926.569542232655\\t2497.8131305528123\\t42.553758369256165\\t826.0329203263639\\t6953.305779190565\\t7656.790075961344\\t4394.389244911667\\t7015.455746268332\\t4923.614806000224\\t3718.533852666848\\t\\n3577.4599814148623\\t5785.09165743806\\t5130.442246310336\\t5542.987873098288\\t71.51033867801353\\t6872.579156954158\\t3685.652312124172\\t2194.5517340477563\\t3398.91729144298\\t7565.407033234347\\t\\n8526.603156204637\\t242.46477917053406\\t4327.446814605967\\t551.862838186578\\t7029.610376550907\\t6831.708581502428\\t2326.241423504515\\t1535.4182640534923\\t1271.3247716541891\\t5479.525006784064\\t\\n5595.149180461212\\t967.744823778255\\t7234.166620021855\\t1225.2697604458535\\t8841.916117732804\\t2495.1552893728194\\t1164.8467998942244\\t8067.603793065987\\t7657.781435492504\\t5651.594848773672\\t\\n4596.952170760047\\t1268.1098102015621\\t1346.630454797727\\t3516.897542311146\\t8406.6631976746\\t2784.2766474103096\\t306.108689291683\\t5876.765728886627\\t2018.167213821068\\t6660.0314158965575\\t\\n2755.180698151675\\t3707.597024734266\\t7108.616812005693\\t3729.724072016631\\t2317.811722871452\\t6602.649578337041\\t6797.358938826588\\t6426.078695247337\\t5182.958302777412\\t2629.075143889057\\t\\n8794.750923985755\\t1116.9542451642644\\t47.87269055026676\\t6230.994039892447\\t2639.6434106920565\\t1519.6019066789456\\t1126.3540093245203\\t6305.553910151292\\t3790.5712824977663\\t3313.483060245459\\t\\n8802.856461569392\\t5888.272761738529\\t8177.479938874401\\t5428.321888766301\\t5763.099752218002\\t2683.4760919594364\\t2127.0226841684125\\t1035.9116662845863\\t4796.740822698011\\t6227.162162272692\\t\\n3042.937196936627\\t4936.253999457423\\t6430.8591672206585\\t3958.727650207319\\t6253.90668420296\\t8036.359898905752\\t939.4589761255091\\t8320.409571729371\\t4495.661340268584\\t5209.206199578395\\t\\n5676.553481242991\\t7479.204983225931\\t1527.1025168032024\\t1886.9422303742922\\t540.3920810266399\\t5102.155299356435\\t8908.237420179952\\t7848.154133634278\\t4386.8627302083605\\t4517.691161944513\\t\\n6176.424600472856\\t4944.766814101189\\t315.61095748832287\\t1612.435444579784\\t172.93165296810537\\t2857.1000870898906\\t4909.735282910267\\t4.7720088681877595\\t6987.896346525272\\t8687.788650482684\\t\\n7749.493420154052\\t7731.120215494361\\t7099.146556621236\\t4825.644563462336\\t9043.633336936009\\t2263.8735102915\\t4587.32689530498\\t5867.643104123625\\t4824.232923933496\\t4741.200916086576\\t\\n6366.774182643734\\t8055.576711619804\\t2232.8159510573223\\t3028.619668244776\\t3610.9147119586546\\t7603.954477982808\\t1646.9408248005395\\t3714.760635505753\\t7323.321965203382\\t2797.231332355004\\t\\n5124.244534632023\\t6899.101125253862\\t5296.569312231203\\t5371.493633416387\\t6243.366897422347\\t1391.872659018644\\t1952.1520091890407\\t853.543619052871\\t6563.563004920064\\t6575.247008237187\\t\\n8882.760403274191\\t1760.6109950875789\\t7745.827610954461\\t3942.6823916975777\\t8259.645539687519\\t493.98906734700216\\t3059.298618643283\\t5815.870136527502\\t789.5439342183455\\t1476.6757956306658\\t\\n4433.511824398962\\t7698.634368176276\\t5469.430512557775\\t6321.519626095641\\t8536.921684642362\\t4003.9831410254956\\t1191.530405424178\\t8181.941731066562\\t637.781973237314\\t5454.53820894926\\t\\n4109.023451726486\\t1119.9919185527963\\t8898.897712272537\\t6326.079908587594\\t7624.656741428137\\t8462.692935326882\\t8017.633188074067\\t2709.331703306057\\t1944.7814168417108\\t4110.458308033865\\t\\n8608.386077087682\\t4952.277271880667\\t7018.042023927422\\t4741.650015417375\\t5626.904118684703\\t5633.191936544315\\t3550.5124582853605\\t7315.434945160921\\t2805.7585319079694\\t5324.477552872167\\t\\n4678.191763099097\\t976.988730408056\\t689.6923802407451\\t2767.326583284672\\t7898.664057112925\\t1632.2594250164673\\t2286.783108407547\\t543.0289837880317\\t3480.663960946562\\t1426.1023069042378\\t\\n4564.136974733558\\t6246.065640834272\\t1393.5592045944757\\t1776.9945853869401\\t3395.104659936821\\t3240.966150292992\\t1158.6057751274327\\t5744.0289759296775\\t1253.381104306793\\t3133.316856483866\\t\\n6323.973520590623\\t1378.850672715988\\t8155.581979692178\\t5283.041757402254\\t3915.411672223452\\t7948.257875419241\\t4141.791001857866\\t1833.358424050603\\t4703.679143898692\\t6532.97431124895\\t\\n3000.316353622062\\t5753.150306274828\\t1065.8637669068999\\t6907.5673282219\\t3660.57158596997\\t2359.453745140331\\t8753.641777557797\\t8128.495917110081\\t8437.093679802349\\t8854.178621266527\\t\\n3510.17411091936\\t9148.961349962927\\t5158.3317716790325\\t1764.6356902799703\\t7991.682096960689\\t3859.4142873295027\\t8468.882353192437\\t1820.830375159171\\t8069.0889742514055\\t1274.232560630782\\t\\n3485.135806626739\\t3949.4592550238217\\t3540.160823876006\\t3299.631130417083\\t5735.186434199556\\t2573.299265183496\\t7729.780724615496\\t3442.545403477296\\t3179.350611664785\\t8650.39842121155\\t\\n5400.295781038762\\t7058.989140840081\\t4227.046796417847\\t1675.1384457062838\\t4548.382273999379\\t7318.64993673068\\t5477.937361088271\\t6742.796715700118\\t6067.107148447006\\t2495.436574179559\\t\\n5713.348193227377\\t3515.4383489502784\\t5038.253537894161\\t1951.821077169715\\t2247.1315009268346\\t8560.576331767865\\t7188.01710525241\\t5731.6545046245365\\t3511.324032442461\\t6782.238156372782\\t\\n7104.577761964436\\t2686.5973908954256\\t4755.110547796901\\t221.52176447271484\\t1814.8986874232144\\t3993.990208000052\\t6889.390515662203\\t3381.162237925766\\t2083.7682975465727\\t7994.845241748671\\t\\n1185.6501604569005\\t4646.770734605577\\t7997.262536314018\\t8413.764511732466\\t8819.515219462717\\t7468.144960596727\\t7809.173074293233\\t2545.9280772068764\\t4162.415648984341\\t2189.6889762481915\\t\\n364.5821232919733\\t2944.1984928547354\\t5996.512716887784\\t2169.7617088303405\\t2365.11111990608\\t8531.389456918389\\t7739.690925019198\\t2480.5182494810724\\t6826.281125146952\\t3958.8328041619234\\t\\n8657.710400518317\\t2235.1622740056705\\t826.6339610106085\\t5476.040023704829\\t5119.502317033958\\t471.3534423345798\\t8275.565342162154\\t4470.086530731411\\t8304.616040814955\\t6270.896251341366\\t\\n3002.7637145271246\\t5026.494134098625\\t8656.753252566832\\t6954.27056372632\\t5928.285561690047\\t5244.7956941029815\\t625.2579623062552\\t8907.958180566884\\t4877.984812173399\\t5118.372298122836\\t\\n3223.189386290614\\t2947.8727186002466\\t6828.849004063009\\t5563.2114654265215\\t4314.989476767304\\t7369.161288193455\\t1114.8852002195651\\t551.9958266569072\\t1099.7357506378164\\t8677.529764278986\\t\\n5557.020294239333\\t4920.752346609038\\t2977.29652779964\\t1583.8612811298226\\t5463.7761215590435\\t7382.771153414295\\t8311.421392083488\\t5029.942748196056\\t792.9185302881325\\t1462.7702229329664\\t\\n6070.236865046799\\t5444.75391377863\\t539.6197233734915\\t3786.8423288724816\\t3803.7999052387977\\t2615.8011047363893\\t445.9873438824714\\t1268.5629252626334\\t6735.443442111422\\t2430.4965116647495\\t\\n4380.988947319228\\t8209.808840490608\\t5427.421825795203\\t4329.062266362169\\t1591.3796685201569\\t1202.2757732492921\\t8160.404495802695\\t3032.312823921608\\t9141.719011442148\\t2624.8316498510926\\t\\n2338.014030346242\\t7300.935146027451\\t5175.682018864875\\t2709.3689213305443\\t1986.2854376164162\\t3534.4259892793953\\t1896.5155686515138\\t4787.019889475177\\t6015.000805893574\\t3662.1720931446475\\t\\n6874.781500814631\\t1286.9730906080779\\t7019.605150697892\\t7830.388555664088\\t8198.424333353614\\t2184.2930436017814\\t1086.5436937632423\\t9112.207708566615\\t4443.226119972106\\t2905.8974533532737\\t\\n5226.556479033129\\t8338.557503229005\\t230.3649823806212\\t3012.4279609536297\\t1340.8309244212137\\t5097.913886228296\\t7280.85740479671\\t2797.4018102490095\\t7357.448131187382\\t8364.60036770353\\t\\n4360.248871751872\\t1803.444689546421\\t7867.659099019028\\t5543.215720785931\\t7235.064258318182\\t3489.1129192230896\\t6044.547008970307\\t2172.6379786078037\\t5996.480491371237\\t9288.556867908845\\t\\n5944.2869201165395\\t1331.7036528372387\\t3328.82930933498\\t5068.800120446398\\t1924.5888460030535\\t2370.083406456721\\t7007.864462325566\\t1598.0972489463034\\t313.93006387430245\\t4920.681746616461\\t\\n5445.459659377369\\t5892.09815892157\\t6263.083472439574\\t871.1408025945072\\t8340.627660767044\\t3728.2319054827312\\t4532.5553346542765\\t7829.20076913958\\t8777.880823638414\\t8319.268670067297\\t\\n5391.811501535444\\t4419.555073918391\\t1066.7694262296275\\t1819.7104528370107\\t8803.682238839128\\t1710.8521561402188\\t294.1562393798123\\t5316.284560658788\\t1750.8350752377467\\t1326.8359465419776\\t\\n7515.38229089223\\t3649.273702465387\\t5006.137283274594\\t6412.577678926799\\t64.86069478806355\\t6422.4716644197015\\t8797.399108313237\\t425.859714405031\\t7925.781661186159\\t2919.1898550652677\\t\\n225.54279788804624\\t141.69845750287638\\t3192.150839137917\\t8403.790848829434\\t8322.696885268271\\t9312.266757125648\\t2078.1234564640613\\t1645.7261696448177\\t2648.837759891404\\t8201.278193272703\\t\\n5925.653721422951\\t4483.668868786961\\t4184.4009557766385\\t533.4553895992971\\t8170.619072111236\\t4805.5375993548705\\t5431.794518184071\\t1159.4165432023392\\t3101.08388465183\\t8839.5004808838\\t\\n5059.251472678087\\t6953.584131147131\\t4406.2294533875565\\t9002.840431343004\\t1102.7157913976293\\t226.95679592458936\\t3192.825974825705\\t4979.880025307013\\t1797.5466629903424\\t3466.0307197943307\\t\\n7400.43421508258\\t1231.8201537678913\\t533.1036410197474\\t4506.043262992544\\t359.0509216065434\\t201.4268524578066\\t4781.268010500173\\t5980.143204610615\\t729.258847034459\\t8703.513278953846\\t\\n3625.4964107964965\\t1905.1387696655036\\t3658.3736844035416\\t4125.369224714713\\t7060.550245021013\\t7509.630490905624\\t379.6284930006207\\t3614.620284115407\\t3795.937580320222\\t4930.715027986946\\t\\n6359.788056729087\\t2620.8681296826658\\t4402.503590613248\\t6322.071416638818\\t7622.300640211238\\t8780.34187812208\\t3746.3656834552407\\t1091.3484062724867\\t8043.21089943432\\t2837.0612950863933\\t\\n3229.9446574392987\\t7773.802164454729\\t7710.694031682874\\t5039.391697671759\\t7936.647270658905\\t6444.332543338945\\t6847.87083654304\\t6587.734649424093\\t3066.089017519471\\t5585.720056179478\\t\\n3982.1558114474733\\t7100.817018254228\\t7698.061057229471\\t5349.887098995871\\t5256.535909720032\\t1741.57801636717\\t1657.1176136577428\\t6239.810881137343\\t7330.898969724183\\t6006.125326319128\\t\\n8286.399223754537\\t5326.2413682734\\t4214.722366890736\\t1133.595749845845\\t1947.0437130139667\\t4522.127019925429\\t902.4693221385057\\t4921.749342090111\\t3860.558379404753\\t6160.171428662\\t\\n2119.4078862884717\\t1170.3479358554644\\t4490.766796173399\\t2503.388268027194\\t6525.2911827820835\\t4659.288990046165\\t4515.631872734845\\t4422.30987661196\\t4441.729841806663\\t7090.096805098294\\t\\n6158.330508182754\\t6055.140429439117\\t8223.246516390016\\t5734.221888633385\\t8114.971156791023\\t4301.830360673129\\t33.99820704206674\\t570.3710908193698\\t3943.4290280837868\\t5531.749770918505\\t\\n3454.9293934957323\\t3685.9930768692843\\t8578.677835695204\\t2124.3014174135865\\t3719.3903190199894\\t8023.793695496068\\t7053.977226852668\\t5031.229006304636\\t4486.510564277684\\t1959.7626791544942\\t\\n6850.461627229574\\t8993.447918691589\\t1092.649586158197\\t6058.18048238744\\t4413.661881835269\\t2795.493961438201\\t2824.9658308116973\\t4227.933107480924\\t1617.924213185011\\t3190.8250523349375\\t\\n4499.931895059878\\t4412.855868177356\\t4273.529953736223\\t9226.917403702462\\t6574.044322104226\\t49.93151109990495\\t8469.795941953955\\t8109.508521545154\\t8632.244818626052\\t8094.500589853584\\t\\n6662.343755792934\\t1577.6885072155744\\t5988.5832067237125\\t595.0164152737062\\t2932.1054233273826\\t2222.9401368355916\\t1705.4072929253718\\t2453.611770733425\\t21.241206886322853\\t4581.1647599029975\\t\\n6080.759170708668\\t2843.8557268143777\\t1819.0527119134242\\t5742.8065204365175\\t6742.216227272965\\t1799.1713467814661\\t2331.177733560932\\t6301.008735353516\\t2558.7748999308346\\t6221.50648106197\\t\\n2514.1027019184153\\t3903.3977353914433\\t4525.2868283653415\\t1884.1165240233233\\t5994.589888726864\\t3561.6141012839003\\t6783.773479520359\\t1649.369417649664\\t4670.002598817271\\t6569.872311415768\\t\\n5084.2622507196265\\t8796.632998333393\\t7297.119412076869\\t7048.021286170187\\t3344.47885808428\\t2009.2051299516793\\t6166.207862477136\\t7269.764463220661\\t7066.985081722965\\t1326.6286486435793\\t\\n5095.091022135715\\t2091.3715275349796\\t4093.9562575626405\\t707.6315245927098\\t1126.1777850847982\\t261.1780554501249\\t6955.649582735324\\t5840.405285217837\\t3053.3084245058344\\t9218.766898203907\\t\\n133.9614272159063\\t8735.953846987963\\t3416.1204940717416\\t5284.1718200282885\\t2552.791047371278\\t8445.050073101946\\t9544.096352651552\\t4098.1979156084235\\t798.3369855312424\\t5084.8235624524405\\t\\n2988.5455773809167\\t5829.801533083992\\t3834.7176531223736\\t8323.748125083212\\t3558.797631437302\\t6958.517051659523\\t6668.420038134551\\t7671.484074474495\\t7448.084649980775\\t3273.0124461063338\\t\\n8063.31768530084\\t3769.017575081083\\t2745.400911868195\\t3569.140652816366\\t4057.4821167538676\\t7665.268688951724\\t2887.207530364718\\t2909.1936361473167\\t47.49496581407334\\t9492.608317410606\\t\\n6693.700457073288\\t9425.246588479837\\t8375.387393599092\\t4470.421431081833\\t5668.141332698933\\t8367.323724215752\\t2284.5358488710554\\t6137.610583756319\\t7967.01732274038\\t256.40454652750645\\t\\n6078.097420610656\\t1252.1695942515967\\t3019.9362147887164\\t620.0301550718402\\t2003.615417443929\\t4321.026734088402\\t8190.5558119299985\\t918.3561932876835\\t4954.683139018337\\t2715.2997086541814\\t\\n822.7327094854729\\t6664.250879876179\\t3313.1718285727593\\t8217.449921928293\\t886.2614487534828\\t7354.3080051613715\\t7182.594153886838\\t6084.987684245637\\t4747.740023935068\\t8094.181449978245\\t\\n1671.0393423735159\\t3715.12377089388\\t4166.118305357163\\t337.82814199051626\\t2232.2458149217823\\t8964.207313982488\\t4040.600663744195\\t46.56208958271493\\t5864.432070869618\\t8283.485183750256\\t\\n6930.027542952509\\t3403.2331221912145\\t5908.778229714348\\t2949.2339281959944\\t8259.176990002772\\t6416.654109585053\\t1686.358543415713\\t6913.758273842862\\t6570.384224496343\\t3177.35223906572\\t\\n6101.723438630449\\t2439.9620243446843\\t1199.2526951976026\\t5880.53516784771\\t4400.437388818629\\t8780.188449111542\\t8064.871281664972\\t6978.535241504214\\t3456.731480474244\\t1687.034122862164\\t\\n2880.8387155925266\\t7832.179059806963\\t8412.925468093492\\t5418.749989276905\\t8125.7001626003375\\t6875.872601890212\\t8178.797150022965\\t713.8650121514452\\t5489.125348236584\\t5578.013831419585\\t\\n5446.071511520734\\t8900.855722338689\\t2231.933257418348\\t2440.1727697087385\\t3142.9786625173188\\t7794.818308198856\\t3369.3507869068253\\t7579.483822222621\\t6836.96906589257\\t4098.422799391886\\t\\n8390.932509009626\\t541.5609214490078\\t3535.180080287494\\t1064.4110043894423\\t2403.8588190992623\\t510.9607218967736\\t5280.084365695771\\t2414.7178946962968\\t6261.091227201794\\t1305.8747377412517\\t\\n5699.251860611222\\t8302.482686418569\\t9586.027291578766\\t5352.235122491088\\t5055.993621987949\\t141.77115593904617\\t1965.8495541480838\\t7077.70432433221\\t1896.1564215504436\\t5959.141269913301\\t\\n5533.111623678762\\t4732.8251925856075\\t5916.711547723285\\t9364.407116008022\\t8441.479068277908\\t8642.131427545637\\t23.431120135969234\\t8069.920286155704\\t6976.935860720004\\t1678.0592052441052\\t\\n7437.780928025583\\t2930.0314592207956\\t3768.3307694653104\\t8956.340732844672\\t7288.488405540224\\t598.4982815827781\\t7806.944723178469\\t4714.863141509909\\t5360.177425175584\\t6711.684572776562\\t\\n6851.395155924287\\t1837.1937817171681\\t1706.0501351879445\\t5383.834701723264\\t4865.9491394966235\\t6355.178653094845\\t4925.7852737624025\\t9004.206863585483\\t7529.169982806781\\t8961.99394602483\\t\\n4754.630876669795\\t9448.465472249372\\t4693.539440343299\\t6490.298866909482\\t2510.586118279071\\t5225.440119067929\\t5577.253637470985\\t5422.897682185287\\t5042.93794326541\\t2389.5868699330526\\t\\n9311.155572265294\\t2738.495005357384\\t7084.865541754839\\t2576.6567540465476\\t1634.6790603472218\\t5770.899659599439\\t8982.725848508535\\t5949.404946523068\\t2026.8421913656287\\t5403.761350784338\\t\\n8337.79074879651\\t7797.084657004066\\t7971.447110853042\\t1986.226974696374\\t4011.256876687616\\t3720.2471514628955\\t5447.53113226506\\t396.0120910121892\\t2181.4498773474743\\t2582.4050676220277\\t\\n6568.151526571179\\t2870.488397744094\\t6772.097704579087\\t5870.72684263215\\t1940.4891510619248\\t3721.311674051345\\t1720.906423935164\\t2626.539876998741\\t7963.332207640494\\t2182.389002287713\\t\\n7365.973654960886\\t328.85288435003184\\t3989.1739929493997\\t7547.138303238777\\t7968.394552868738\\t23.156622519253627\\t1384.3382688012614\\t6717.213344073199\\t6706.885920303086\\t534.4130889039677\\t\\n589.9853944281987\\t8608.255150411213\\t838.3668010927523\\t6918.33300776435\\t369.118718110491\\t8881.192907951723\\t8939.49862343743\\t393.4935745954616\\t1777.7591820249968\\t3028.6813093194214\\t\\n7551.266808572125\\t8385.960802970689\\t9567.327301110136\\t8443.178158189938\\t8831.345356419924\\t2316.64923349364\\t9715.305397302931\\t6307.315829408546\\t5319.036870691104\\t2290.6745808826745\\t\\n1694.718542395657\\t8405.20906924476\\t6030.761532303531\\t5483.375021517013\\t7301.234362343886\\t4492.569099170719\\t138.2040156986879\\t4212.650879603393\\t5469.238176987481\\t8610.727790017627\\t\\n8128.977147062166\\t8187.685200606198\\t6498.331060962548\\t5282.738217644947\\t8095.211212208306\\t4755.752196147004\\t8749.878085322487\\t995.3425859077532\\t51.38603390956584\\t9403.683095157035\\t\\n9401.868148027354\\t8927.92836456384\\t9420.486372119456\\t2384.8069704346763\\t1250.8802787945317\\t8509.95339683723\\t4545.942484963232\\t156.76602347044965\\t3175.521766242321\\t921.1121660681166\\t\\n8652.766414985093\\t5196.2439896588785\\t1551.002400897906\\t3833.5313523089308\\t4841.049288243233\\t4809.633606308287\\t4784.431380458743\\t9116.737004287677\\t6170.472869373582\\t8283.415462310866\\t\\n4533.058023485015\\t9640.511441893263\\t9219.35753830262\\t4742.898462444077\\t2769.887763291793\\t7793.2233342303125\\t5437.667978834853\\t2626.9702106615996\\t4277.513357478835\\t6676.205082201475\\t\\n6753.717607676306\\t4591.233767938048\\t3834.514960753296\\t655.4417077404146\\t2473.7768393670126\\t1442.1783505404542\\t3564.051164202826\\t2403.957397956142\\t8912.202512634283\\t5336.94115213995\\t\\n3117.881524724537\\t4763.932455278419\\t5755.273336760069\\t157.21540190092497\\t5216.615718105638\\t8690.923793213084\\t2897.412238329383\\t7692.836233758077\\t9523.716957595258\\t264.84290097982245\\t\\n3725.3383661755042\\t2603.177952054679\\t3096.4632933384764\\t792.5057655611286\\t6703.056099033697\\t5824.823720404722\\t3114.6148194400153\\t1877.9502810422223\\t16.756610037624018\\t7635.4892007111885\\t\\n1347.8783853156003\\t7476.420952645161\\t6322.775058086755\\t5543.777833794468\\t4161.52491894711\\t2985.539867924569\\t9024.164716562429\\t6533.490433987842\\t8930.512995640574\\t7479.020241115108\\t\\n442.8160455409985\\t8487.819761459494\\t8416.855018195893\\t506.18626997668923\\t9062.26242853329\\t7338.560008845865\\t1434.8491220454382\\t2656.400373614717\\t7937.986362023904\\t7722.1710275457945\\t\\n3725.360474420919\\t1203.447813701739\\t3133.7755927493067\\t4682.543477109971\\t6632.612593973082\\t4601.110978942787\\t2615.3043016843326\\t129.00858752533904\\t7468.744007928607\\t3913.206550486766\\t\\n2122.966257759471\\t2335.3940573408786\\t3189.4428090974193\\t3135.9987969826466\\t4467.7501714582\\t9016.802258142929\\t7861.541964930177\\t4276.230181669314\\t8265.473195138768\\t9603.160680938683\\t\\n6472.576371906481\\t2728.9356773098757\\t6695.867723456533\\t845.3666955392318\\t4847.793806527206\\t4136.328649465169\\t1017.6734436229285\\t6443.492259747054\\t1859.1598170534794\\t2722.927752256963\\t\\n6751.314713861235\\t7939.572960955886\\t5451.730788398065\\t9167.77507770106\\t7178.9327115213555\\t2818.1387612823\\t4958.9498154202465\\t3410.469869406026\\t7557.591041906043\\t8567.311035534362\\t\\n6825.816519468712\\t8479.53252719817\\t5203.048328672589\\t2782.611603789098\\t110.39283076126094\\t6929.338824920962\\t7582.046831762644\\t922.0199824656667\\t1875.4107118828954\\t2499.6833694656334\\t\\n7057.5654362861715\\t13.215667271333471\\t2598.2386259732693\\t1417.3428208725322\\t635.0837191489144\\t3488.0744000951845\\t5401.792690763443\\t5699.738809651098\\t6097.610340299412\\t7558.866319332786\\t\\n9718.46526277273\\t1047.715551885407\\t4617.6914073173175\\t3979.2150052565357\\t4793.814552523856\\t4867.695983688001\\t7962.116320860101\\t1073.4288908958288\\t1207.397910767559\\t3654.8484467781163\\t\\n8233.463024268875\\t7686.123695384159\\t6093.060767912186\\t223.36737403182892\\t6835.884792394951\\t6953.809616159373\\t9212.941668064523\\t5144.491158347687\\t7445.98047910013\\t8036.860992082481\\t\\n9128.235444485397\\t8912.152288786077\\t6772.332713904515\\t3804.0917694639365\\t6642.354974650609\\t5599.116150266393\\t615.5167985671848\\t764.3799970095253\\t9407.171511008371\\t5451.509501630077\\t\\n14.966654530404387\\t6078.475602604463\\t4738.9309583282475\\t6342.343071461721\\t3434.378781213143\\t326.64013432549046\\t1146.8151632822514\\t4802.68927984085\\t6190.443297380815\\t6166.696168126686\\t\\n423.749603905237\\t9779.819419784204\\t8221.58326429271\\t796.6168289173305\\t9233.173332558124\\t5999.056851208405\\t1820.4778682584279\\t9760.799546154312\\t459.4741320495614\\t'"
            ]
          },
          "metadata": {
            "tags": []
          },
          "execution_count": 92
        }
      ]
    },
    {
      "cell_type": "code",
      "metadata": {
        "id": "26rb0nxFokM1"
      },
      "source": [
        "#for next time\n",
        "#function that returns a list\n",
        "#2 one file with the powers of 2 up to 2**100 , tab between numbers, every 10 numbers change line\n",
        "#3 create a function called calc with the basic operations(+,-,*/) . Each operation must be a different function"
      ],
      "execution_count": null,
      "outputs": []
    },
    {
      "cell_type": "code",
      "metadata": {
        "colab": {
          "base_uri": "https://localhost:8080/"
        },
        "id": "k3eGgCn6o0ls",
        "outputId": "d720abb4-8bb9-4b98-b94a-a5468e2e98cc"
      },
      "source": [],
      "execution_count": null,
      "outputs": [
        {
          "output_type": "stream",
          "text": [
            "1267650600228229401496703205376\n"
          ],
          "name": "stdout"
        }
      ]
    },
    {
      "cell_type": "markdown",
      "metadata": {
        "id": "1V7fIcpBS5Xm"
      },
      "source": [
        "# numpy"
      ]
    },
    {
      "cell_type": "code",
      "metadata": {
        "id": "mu4E6wp6zvxt"
      },
      "source": [
        "#arrays\n",
        "import numpy as np\n",
        "\n",
        "a = np.array([[1,2,3],[4,5,6],[7,8,9]])\n",
        "b = np.array([[3,2,1],[6,5,4],[9,8,7]])"
      ],
      "execution_count": null,
      "outputs": []
    },
    {
      "cell_type": "code",
      "metadata": {
        "id": "nGdJXlQsz8iG"
      },
      "source": [
        "print (a)\n",
        "print (b)"
      ],
      "execution_count": null,
      "outputs": []
    },
    {
      "cell_type": "code",
      "metadata": {
        "id": "uiAypNE_z8ky"
      },
      "source": [
        "print ('a + b =\\n', a + b)"
      ],
      "execution_count": null,
      "outputs": []
    },
    {
      "cell_type": "code",
      "metadata": {
        "id": "7rgPtBByz8nV"
      },
      "source": [
        "print ('elementwise: a * b =\\n', a * b) # elementwise\n",
        "print ('matrix multiplication: a * b =\\n', np.dot(a, b))"
      ],
      "execution_count": null,
      "outputs": []
    },
    {
      "cell_type": "markdown",
      "source": [
        "# free space"
      ],
      "metadata": {
        "id": "pTzAYTMGb5tf"
      }
    },
    {
      "cell_type": "code",
      "source": [
        "sum=0\n",
        "howmany=0;\n",
        "x=int(input())\n",
        "while(x!=0):\n",
        "  if x>50:\n",
        "    sum += x\n",
        "    howmany +=1\n",
        "  x=int(input())\n",
        "print(sum,howmany)"
      ],
      "metadata": {
        "colab": {
          "base_uri": "https://localhost:8080/"
        },
        "id": "EL8CIN4fb79i",
        "outputId": "ddf2bb21-367b-48f9-8e2b-ae4454dd8294"
      },
      "execution_count": null,
      "outputs": [
        {
          "output_type": "stream",
          "name": "stdout",
          "text": [
            "12\n",
            "14\n",
            "54\n",
            "0\n",
            "54 1\n"
          ]
        }
      ]
    },
    {
      "cell_type": "code",
      "source": [],
      "metadata": {
        "id": "6m5YwgL9b7mS"
      },
      "execution_count": null,
      "outputs": []
    }
  ]
}